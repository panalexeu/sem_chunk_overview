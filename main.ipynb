{
 "cells": [
  {
   "cell_type": "markdown",
   "id": "4c74e59d-7242-4eee-88b3-bca3406967b6",
   "metadata": {},
   "source": [
    "### semantic chunking experiments"
   ]
  },
  {
   "cell_type": "markdown",
   "id": "a09e5e40-7538-467b-a6cd-75ba03e50c13",
   "metadata": {},
   "source": [
    "Required packages installation"
   ]
  },
  {
   "cell_type": "code",
   "execution_count": 1,
   "id": "19563fbc-d46a-4537-8c8e-144e38651a2b",
   "metadata": {},
   "outputs": [
    {
     "name": "stdout",
     "output_type": "stream",
     "text": [
      "Python 3.12.7\n"
     ]
    }
   ],
   "source": [
    "!python --version"
   ]
  },
  {
   "cell_type": "code",
   "execution_count": 2,
   "id": "362412c0-3109-40a6-b2ca-001991888548",
   "metadata": {
    "scrolled": true
   },
   "outputs": [
    {
     "name": "stdout",
     "output_type": "stream",
     "text": [
      "Requirement already satisfied: sentence-transformers in ./.venv/lib/python3.12/site-packages (3.3.1)\n",
      "Requirement already satisfied: langchain in ./.venv/lib/python3.12/site-packages (0.3.13)\n",
      "Requirement already satisfied: seaborn in ./.venv/lib/python3.12/site-packages (0.13.2)\n",
      "Requirement already satisfied: scikit-learn in ./.venv/lib/python3.12/site-packages (1.6.0)\n",
      "Requirement already satisfied: rich in ./.venv/lib/python3.12/site-packages (13.9.4)\n",
      "Requirement already satisfied: transformers<5.0.0,>=4.41.0 in ./.venv/lib/python3.12/site-packages (from sentence-transformers) (4.47.1)\n",
      "Requirement already satisfied: tqdm in ./.venv/lib/python3.12/site-packages (from sentence-transformers) (4.67.1)\n",
      "Requirement already satisfied: torch>=1.11.0 in ./.venv/lib/python3.12/site-packages (from sentence-transformers) (2.5.1)\n",
      "Requirement already satisfied: scipy in ./.venv/lib/python3.12/site-packages (from sentence-transformers) (1.14.1)\n",
      "Requirement already satisfied: huggingface-hub>=0.20.0 in ./.venv/lib/python3.12/site-packages (from sentence-transformers) (0.27.0)\n",
      "Requirement already satisfied: Pillow in ./.venv/lib/python3.12/site-packages (from sentence-transformers) (11.0.0)\n",
      "Requirement already satisfied: PyYAML>=5.3 in ./.venv/lib/python3.12/site-packages (from langchain) (6.0.2)\n",
      "Requirement already satisfied: SQLAlchemy<3,>=1.4 in ./.venv/lib/python3.12/site-packages (from langchain) (2.0.36)\n",
      "Requirement already satisfied: aiohttp<4.0.0,>=3.8.3 in ./.venv/lib/python3.12/site-packages (from langchain) (3.11.11)\n",
      "Requirement already satisfied: langchain-core<0.4.0,>=0.3.26 in ./.venv/lib/python3.12/site-packages (from langchain) (0.3.28)\n",
      "Requirement already satisfied: langchain-text-splitters<0.4.0,>=0.3.3 in ./.venv/lib/python3.12/site-packages (from langchain) (0.3.4)\n",
      "Requirement already satisfied: langsmith<0.3,>=0.1.17 in ./.venv/lib/python3.12/site-packages (from langchain) (0.2.4)\n",
      "Requirement already satisfied: numpy<3,>=1.26.2 in ./.venv/lib/python3.12/site-packages (from langchain) (2.2.1)\n",
      "Requirement already satisfied: pydantic<3.0.0,>=2.7.4 in ./.venv/lib/python3.12/site-packages (from langchain) (2.10.4)\n",
      "Requirement already satisfied: requests<3,>=2 in ./.venv/lib/python3.12/site-packages (from langchain) (2.32.3)\n",
      "Requirement already satisfied: tenacity!=8.4.0,<10,>=8.1.0 in ./.venv/lib/python3.12/site-packages (from langchain) (9.0.0)\n",
      "Requirement already satisfied: pandas>=1.2 in ./.venv/lib/python3.12/site-packages (from seaborn) (2.2.3)\n",
      "Requirement already satisfied: matplotlib!=3.6.1,>=3.4 in ./.venv/lib/python3.12/site-packages (from seaborn) (3.10.0)\n",
      "Requirement already satisfied: joblib>=1.2.0 in ./.venv/lib/python3.12/site-packages (from scikit-learn) (1.4.2)\n",
      "Requirement already satisfied: threadpoolctl>=3.1.0 in ./.venv/lib/python3.12/site-packages (from scikit-learn) (3.5.0)\n",
      "Requirement already satisfied: markdown-it-py>=2.2.0 in ./.venv/lib/python3.12/site-packages (from rich) (3.0.0)\n",
      "Requirement already satisfied: pygments<3.0.0,>=2.13.0 in ./.venv/lib/python3.12/site-packages (from rich) (2.18.0)\n",
      "Requirement already satisfied: aiohappyeyeballs>=2.3.0 in ./.venv/lib/python3.12/site-packages (from aiohttp<4.0.0,>=3.8.3->langchain) (2.4.4)\n",
      "Requirement already satisfied: aiosignal>=1.1.2 in ./.venv/lib/python3.12/site-packages (from aiohttp<4.0.0,>=3.8.3->langchain) (1.3.2)\n",
      "Requirement already satisfied: attrs>=17.3.0 in ./.venv/lib/python3.12/site-packages (from aiohttp<4.0.0,>=3.8.3->langchain) (24.3.0)\n",
      "Requirement already satisfied: frozenlist>=1.1.1 in ./.venv/lib/python3.12/site-packages (from aiohttp<4.0.0,>=3.8.3->langchain) (1.5.0)\n",
      "Requirement already satisfied: multidict<7.0,>=4.5 in ./.venv/lib/python3.12/site-packages (from aiohttp<4.0.0,>=3.8.3->langchain) (6.1.0)\n",
      "Requirement already satisfied: propcache>=0.2.0 in ./.venv/lib/python3.12/site-packages (from aiohttp<4.0.0,>=3.8.3->langchain) (0.2.1)\n",
      "Requirement already satisfied: yarl<2.0,>=1.17.0 in ./.venv/lib/python3.12/site-packages (from aiohttp<4.0.0,>=3.8.3->langchain) (1.18.3)\n",
      "Requirement already satisfied: filelock in ./.venv/lib/python3.12/site-packages (from huggingface-hub>=0.20.0->sentence-transformers) (3.16.1)\n",
      "Requirement already satisfied: fsspec>=2023.5.0 in ./.venv/lib/python3.12/site-packages (from huggingface-hub>=0.20.0->sentence-transformers) (2024.12.0)\n",
      "Requirement already satisfied: packaging>=20.9 in ./.venv/lib/python3.12/site-packages (from huggingface-hub>=0.20.0->sentence-transformers) (24.2)\n",
      "Requirement already satisfied: typing-extensions>=3.7.4.3 in ./.venv/lib/python3.12/site-packages (from huggingface-hub>=0.20.0->sentence-transformers) (4.12.2)\n",
      "Requirement already satisfied: jsonpatch<2.0,>=1.33 in ./.venv/lib/python3.12/site-packages (from langchain-core<0.4.0,>=0.3.26->langchain) (1.33)\n",
      "Requirement already satisfied: httpx<1,>=0.23.0 in ./.venv/lib/python3.12/site-packages (from langsmith<0.3,>=0.1.17->langchain) (0.28.1)\n",
      "Requirement already satisfied: orjson<4.0.0,>=3.9.14 in ./.venv/lib/python3.12/site-packages (from langsmith<0.3,>=0.1.17->langchain) (3.10.12)\n",
      "Requirement already satisfied: requests-toolbelt<2.0.0,>=1.0.0 in ./.venv/lib/python3.12/site-packages (from langsmith<0.3,>=0.1.17->langchain) (1.0.0)\n",
      "Requirement already satisfied: mdurl~=0.1 in ./.venv/lib/python3.12/site-packages (from markdown-it-py>=2.2.0->rich) (0.1.2)\n",
      "Requirement already satisfied: contourpy>=1.0.1 in ./.venv/lib/python3.12/site-packages (from matplotlib!=3.6.1,>=3.4->seaborn) (1.3.1)\n",
      "Requirement already satisfied: cycler>=0.10 in ./.venv/lib/python3.12/site-packages (from matplotlib!=3.6.1,>=3.4->seaborn) (0.12.1)\n",
      "Requirement already satisfied: fonttools>=4.22.0 in ./.venv/lib/python3.12/site-packages (from matplotlib!=3.6.1,>=3.4->seaborn) (4.55.3)\n",
      "Requirement already satisfied: kiwisolver>=1.3.1 in ./.venv/lib/python3.12/site-packages (from matplotlib!=3.6.1,>=3.4->seaborn) (1.4.7)\n",
      "Requirement already satisfied: pyparsing>=2.3.1 in ./.venv/lib/python3.12/site-packages (from matplotlib!=3.6.1,>=3.4->seaborn) (3.2.0)\n",
      "Requirement already satisfied: python-dateutil>=2.7 in ./.venv/lib/python3.12/site-packages (from matplotlib!=3.6.1,>=3.4->seaborn) (2.9.0.post0)\n",
      "Requirement already satisfied: pytz>=2020.1 in ./.venv/lib/python3.12/site-packages (from pandas>=1.2->seaborn) (2024.2)\n",
      "Requirement already satisfied: tzdata>=2022.7 in ./.venv/lib/python3.12/site-packages (from pandas>=1.2->seaborn) (2024.2)\n",
      "Requirement already satisfied: annotated-types>=0.6.0 in ./.venv/lib/python3.12/site-packages (from pydantic<3.0.0,>=2.7.4->langchain) (0.7.0)\n",
      "Requirement already satisfied: pydantic-core==2.27.2 in ./.venv/lib/python3.12/site-packages (from pydantic<3.0.0,>=2.7.4->langchain) (2.27.2)\n",
      "Requirement already satisfied: charset-normalizer<4,>=2 in ./.venv/lib/python3.12/site-packages (from requests<3,>=2->langchain) (3.4.0)\n",
      "Requirement already satisfied: idna<4,>=2.5 in ./.venv/lib/python3.12/site-packages (from requests<3,>=2->langchain) (3.10)\n",
      "Requirement already satisfied: urllib3<3,>=1.21.1 in ./.venv/lib/python3.12/site-packages (from requests<3,>=2->langchain) (2.3.0)\n",
      "Requirement already satisfied: certifi>=2017.4.17 in ./.venv/lib/python3.12/site-packages (from requests<3,>=2->langchain) (2024.12.14)\n",
      "Requirement already satisfied: greenlet!=0.4.17 in ./.venv/lib/python3.12/site-packages (from SQLAlchemy<3,>=1.4->langchain) (3.1.1)\n",
      "Requirement already satisfied: networkx in ./.venv/lib/python3.12/site-packages (from torch>=1.11.0->sentence-transformers) (3.4.2)\n",
      "Requirement already satisfied: jinja2 in ./.venv/lib/python3.12/site-packages (from torch>=1.11.0->sentence-transformers) (3.1.5)\n",
      "Requirement already satisfied: nvidia-cuda-nvrtc-cu12==12.4.127 in ./.venv/lib/python3.12/site-packages (from torch>=1.11.0->sentence-transformers) (12.4.127)\n",
      "Requirement already satisfied: nvidia-cuda-runtime-cu12==12.4.127 in ./.venv/lib/python3.12/site-packages (from torch>=1.11.0->sentence-transformers) (12.4.127)\n",
      "Requirement already satisfied: nvidia-cuda-cupti-cu12==12.4.127 in ./.venv/lib/python3.12/site-packages (from torch>=1.11.0->sentence-transformers) (12.4.127)\n",
      "Requirement already satisfied: nvidia-cudnn-cu12==9.1.0.70 in ./.venv/lib/python3.12/site-packages (from torch>=1.11.0->sentence-transformers) (9.1.0.70)\n",
      "Requirement already satisfied: nvidia-cublas-cu12==12.4.5.8 in ./.venv/lib/python3.12/site-packages (from torch>=1.11.0->sentence-transformers) (12.4.5.8)\n",
      "Requirement already satisfied: nvidia-cufft-cu12==11.2.1.3 in ./.venv/lib/python3.12/site-packages (from torch>=1.11.0->sentence-transformers) (11.2.1.3)\n",
      "Requirement already satisfied: nvidia-curand-cu12==10.3.5.147 in ./.venv/lib/python3.12/site-packages (from torch>=1.11.0->sentence-transformers) (10.3.5.147)\n",
      "Requirement already satisfied: nvidia-cusolver-cu12==11.6.1.9 in ./.venv/lib/python3.12/site-packages (from torch>=1.11.0->sentence-transformers) (11.6.1.9)\n",
      "Requirement already satisfied: nvidia-cusparse-cu12==12.3.1.170 in ./.venv/lib/python3.12/site-packages (from torch>=1.11.0->sentence-transformers) (12.3.1.170)\n",
      "Requirement already satisfied: nvidia-nccl-cu12==2.21.5 in ./.venv/lib/python3.12/site-packages (from torch>=1.11.0->sentence-transformers) (2.21.5)\n",
      "Requirement already satisfied: nvidia-nvtx-cu12==12.4.127 in ./.venv/lib/python3.12/site-packages (from torch>=1.11.0->sentence-transformers) (12.4.127)\n",
      "Requirement already satisfied: nvidia-nvjitlink-cu12==12.4.127 in ./.venv/lib/python3.12/site-packages (from torch>=1.11.0->sentence-transformers) (12.4.127)\n",
      "Requirement already satisfied: triton==3.1.0 in ./.venv/lib/python3.12/site-packages (from torch>=1.11.0->sentence-transformers) (3.1.0)\n",
      "Requirement already satisfied: setuptools in ./.venv/lib/python3.12/site-packages (from torch>=1.11.0->sentence-transformers) (75.6.0)\n",
      "Requirement already satisfied: sympy==1.13.1 in ./.venv/lib/python3.12/site-packages (from torch>=1.11.0->sentence-transformers) (1.13.1)\n",
      "Requirement already satisfied: mpmath<1.4,>=1.1.0 in ./.venv/lib/python3.12/site-packages (from sympy==1.13.1->torch>=1.11.0->sentence-transformers) (1.3.0)\n",
      "Requirement already satisfied: regex!=2019.12.17 in ./.venv/lib/python3.12/site-packages (from transformers<5.0.0,>=4.41.0->sentence-transformers) (2024.11.6)\n",
      "Requirement already satisfied: tokenizers<0.22,>=0.21 in ./.venv/lib/python3.12/site-packages (from transformers<5.0.0,>=4.41.0->sentence-transformers) (0.21.0)\n",
      "Requirement already satisfied: safetensors>=0.4.1 in ./.venv/lib/python3.12/site-packages (from transformers<5.0.0,>=4.41.0->sentence-transformers) (0.4.5)\n",
      "Requirement already satisfied: anyio in ./.venv/lib/python3.12/site-packages (from httpx<1,>=0.23.0->langsmith<0.3,>=0.1.17->langchain) (4.7.0)\n",
      "Requirement already satisfied: httpcore==1.* in ./.venv/lib/python3.12/site-packages (from httpx<1,>=0.23.0->langsmith<0.3,>=0.1.17->langchain) (1.0.7)\n",
      "Requirement already satisfied: h11<0.15,>=0.13 in ./.venv/lib/python3.12/site-packages (from httpcore==1.*->httpx<1,>=0.23.0->langsmith<0.3,>=0.1.17->langchain) (0.14.0)\n",
      "Requirement already satisfied: jsonpointer>=1.9 in ./.venv/lib/python3.12/site-packages (from jsonpatch<2.0,>=1.33->langchain-core<0.4.0,>=0.3.26->langchain) (3.0.0)\n",
      "Requirement already satisfied: six>=1.5 in ./.venv/lib/python3.12/site-packages (from python-dateutil>=2.7->matplotlib!=3.6.1,>=3.4->seaborn) (1.17.0)\n",
      "Requirement already satisfied: MarkupSafe>=2.0 in ./.venv/lib/python3.12/site-packages (from jinja2->torch>=1.11.0->sentence-transformers) (3.0.2)\n",
      "Requirement already satisfied: sniffio>=1.1 in ./.venv/lib/python3.12/site-packages (from anyio->httpx<1,>=0.23.0->langsmith<0.3,>=0.1.17->langchain) (1.3.1)\n",
      "\n",
      "\u001b[1m[\u001b[0m\u001b[34;49mnotice\u001b[0m\u001b[1;39;49m]\u001b[0m\u001b[39;49m A new release of pip is available: \u001b[0m\u001b[31;49m24.2\u001b[0m\u001b[39;49m -> \u001b[0m\u001b[32;49m24.3.1\u001b[0m\n",
      "\u001b[1m[\u001b[0m\u001b[34;49mnotice\u001b[0m\u001b[1;39;49m]\u001b[0m\u001b[39;49m To update, run: \u001b[0m\u001b[32;49mpip install --upgrade pip\u001b[0m\n"
     ]
    }
   ],
   "source": [
    "!pip install sentence-transformers langchain seaborn scikit-learn rich"
   ]
  },
  {
   "cell_type": "code",
   "execution_count": 3,
   "id": "e68006ff-7345-465d-8378-f7895b32889f",
   "metadata": {
    "scrolled": true
   },
   "outputs": [
    {
     "name": "stdout",
     "output_type": "stream",
     "text": [
      "Package                  Version\n",
      "------------------------ -----------\n",
      "aiohappyeyeballs         2.4.4\n",
      "aiohttp                  3.11.11\n",
      "aiosignal                1.3.2\n",
      "annotated-types          0.7.0\n",
      "anyio                    4.7.0\n",
      "asttokens                3.0.0\n",
      "attrs                    24.3.0\n",
      "certifi                  2024.12.14\n",
      "charset-normalizer       3.4.0\n",
      "comm                     0.2.2\n",
      "contourpy                1.3.1\n",
      "cycler                   0.12.1\n",
      "debugpy                  1.8.11\n",
      "decorator                5.1.1\n",
      "executing                2.1.0\n",
      "filelock                 3.16.1\n",
      "fonttools                4.55.3\n",
      "frozenlist               1.5.0\n",
      "fsspec                   2024.12.0\n",
      "greenlet                 3.1.1\n",
      "h11                      0.14.0\n",
      "httpcore                 1.0.7\n",
      "httpx                    0.28.1\n",
      "huggingface-hub          0.27.0\n",
      "idna                     3.10\n",
      "ipykernel                6.29.5\n",
      "ipython                  8.31.0\n",
      "jedi                     0.19.2\n",
      "Jinja2                   3.1.5\n",
      "joblib                   1.4.2\n",
      "jsonpatch                1.33\n",
      "jsonpointer              3.0.0\n",
      "jupyter_client           8.6.3\n",
      "jupyter_core             5.7.2\n",
      "kiwisolver               1.4.7\n",
      "langchain                0.3.13\n",
      "langchain-core           0.3.28\n",
      "langchain-text-splitters 0.3.4\n",
      "langsmith                0.2.4\n",
      "markdown-it-py           3.0.0\n",
      "MarkupSafe               3.0.2\n",
      "matplotlib               3.10.0\n",
      "matplotlib-inline        0.1.7\n",
      "mdurl                    0.1.2\n",
      "mpmath                   1.3.0\n",
      "multidict                6.1.0\n",
      "nest-asyncio             1.6.0\n",
      "networkx                 3.4.2\n",
      "numpy                    2.2.1\n",
      "nvidia-cublas-cu12       12.4.5.8\n",
      "nvidia-cuda-cupti-cu12   12.4.127\n",
      "nvidia-cuda-nvrtc-cu12   12.4.127\n",
      "nvidia-cuda-runtime-cu12 12.4.127\n",
      "nvidia-cudnn-cu12        9.1.0.70\n",
      "nvidia-cufft-cu12        11.2.1.3\n",
      "nvidia-curand-cu12       10.3.5.147\n",
      "nvidia-cusolver-cu12     11.6.1.9\n",
      "nvidia-cusparse-cu12     12.3.1.170\n",
      "nvidia-nccl-cu12         2.21.5\n",
      "nvidia-nvjitlink-cu12    12.4.127\n",
      "nvidia-nvtx-cu12         12.4.127\n",
      "orjson                   3.10.12\n",
      "packaging                24.2\n",
      "pandas                   2.2.3\n",
      "parso                    0.8.4\n",
      "pexpect                  4.9.0\n",
      "pillow                   11.0.0\n",
      "pip                      24.2\n",
      "platformdirs             4.3.6\n",
      "prompt_toolkit           3.0.48\n",
      "propcache                0.2.1\n",
      "psutil                   6.1.1\n",
      "ptyprocess               0.7.0\n",
      "pure_eval                0.2.3\n",
      "pydantic                 2.10.4\n",
      "pydantic_core            2.27.2\n",
      "Pygments                 2.18.0\n",
      "pyparsing                3.2.0\n",
      "python-dateutil          2.9.0.post0\n",
      "pytz                     2024.2\n",
      "PyYAML                   6.0.2\n",
      "pyzmq                    26.2.0\n",
      "regex                    2024.11.6\n",
      "requests                 2.32.3\n",
      "requests-toolbelt        1.0.0\n",
      "rich                     13.9.4\n",
      "safetensors              0.4.5\n",
      "scikit-learn             1.6.0\n",
      "scipy                    1.14.1\n",
      "seaborn                  0.13.2\n",
      "sentence-transformers    3.3.1\n",
      "setuptools               75.6.0\n",
      "six                      1.17.0\n",
      "sniffio                  1.3.1\n",
      "SQLAlchemy               2.0.36\n",
      "stack-data               0.6.3\n",
      "sympy                    1.13.1\n",
      "tenacity                 9.0.0\n",
      "threadpoolctl            3.5.0\n",
      "tokenizers               0.21.0\n",
      "torch                    2.5.1\n",
      "tornado                  6.4.2\n",
      "tqdm                     4.67.1\n",
      "traitlets                5.14.3\n",
      "transformers             4.47.1\n",
      "triton                   3.1.0\n",
      "typing_extensions        4.12.2\n",
      "tzdata                   2024.2\n",
      "urllib3                  2.3.0\n",
      "wcwidth                  0.2.13\n",
      "yarl                     1.18.3\n"
     ]
    }
   ],
   "source": [
    "!pip list"
   ]
  },
  {
   "cell_type": "markdown",
   "id": "b77bc3d2-f3eb-405d-80ec-e1b475e69e52",
   "metadata": {},
   "source": [
    "Global imports"
   ]
  },
  {
   "cell_type": "code",
   "execution_count": 4,
   "id": "1ecf2baa-a23b-4743-adcf-37b7699735b8",
   "metadata": {},
   "outputs": [],
   "source": [
    "from rich import print"
   ]
  },
  {
   "cell_type": "markdown",
   "id": "6528ceee-b4e3-48a1-b22c-0b7df1b79610",
   "metadata": {},
   "source": [
    "[Documents](https://paulgraham.com/mit.html) (A Student's Guide to Startups, Paul Graham) for chunking evaluation uploading"
   ]
  },
  {
   "cell_type": "code",
   "execution_count": 5,
   "id": "ad6e0754-9b1e-4f1d-b5c7-b80794d3fa0d",
   "metadata": {},
   "outputs": [
    {
     "data": {
      "text/plain": [
       "\"A Student's Guide to Startups\\n\\nWant to start a startup? Get funded by Y Combinator.\\n\\nOctober 2006\\n\\n(This essay is derived from a talk at MIT.)\\n\\nTill recently graduating seniors had two choices: get a job or go to grad school. I think there will increasingl\""
      ]
     },
     "execution_count": 5,
     "metadata": {},
     "output_type": "execute_result"
    }
   ],
   "source": [
    "with open('./paul_graham_essay.txt', 'r') as file:\n",
    "    essay = file.read()\n",
    "\n",
    "essay[:256]"
   ]
  },
  {
   "cell_type": "markdown",
   "id": "6742abf4-9f2c-4777-9395-25ccc9503448",
   "metadata": {},
   "source": [
    "Splitting the uploaded document by sentences (.!?)\\s+"
   ]
  },
  {
   "cell_type": "code",
   "execution_count": 6,
   "id": "d35dd859-f3c8-4dda-adb4-3e667e0d910a",
   "metadata": {},
   "outputs": [
    {
     "data": {
      "text/html": [
       "<pre style=\"white-space:pre;overflow-x:auto;line-height:normal;font-family:Menlo,'DejaVu Sans Mono',consolas,'Courier New',monospace\"><span style=\"color: #008080; text-decoration-color: #008080; font-weight: bold\">385</span>\n",
       "</pre>\n"
      ],
      "text/plain": [
       "\u001b[1;36m385\u001b[0m\n"
      ]
     },
     "metadata": {},
     "output_type": "display_data"
    },
    {
     "data": {
      "text/html": [
       "<pre style=\"white-space:pre;overflow-x:auto;line-height:normal;font-family:Menlo,'DejaVu Sans Mono',consolas,'Courier New',monospace\"><span style=\"font-weight: bold\">[</span>\n",
       "    <span style=\"color: #008000; text-decoration-color: #008000\">\"A Student's Guide to Startups\\n\\nWant to start a startup?\"</span>,\n",
       "    <span style=\"color: #008000; text-decoration-color: #008000\">'Get funded by Y Combinator.'</span>,\n",
       "    <span style=\"color: #008000; text-decoration-color: #008000\">'October 2006\\n\\n(This essay is derived from a talk at MIT.)\\n\\nTill recently graduating seniors had two </span>\n",
       "<span style=\"color: #008000; text-decoration-color: #008000\">choices: get a job or go to grad school.'</span>\n",
       "<span style=\"font-weight: bold\">]</span>\n",
       "</pre>\n"
      ],
      "text/plain": [
       "\u001b[1m[\u001b[0m\n",
       "    \u001b[32m\"A Student's Guide to Startups\\n\\nWant to start a startup?\"\u001b[0m,\n",
       "    \u001b[32m'Get funded by Y Combinator.'\u001b[0m,\n",
       "    \u001b[32m'October 2006\\n\\n\u001b[0m\u001b[32m(\u001b[0m\u001b[32mThis essay is derived from a talk at MIT.\u001b[0m\u001b[32m)\u001b[0m\u001b[32m\\n\\nTill recently graduating seniors had two \u001b[0m\n",
       "\u001b[32mchoices: get a job or go to grad school.'\u001b[0m\n",
       "\u001b[1m]\u001b[0m\n"
      ]
     },
     "metadata": {},
     "output_type": "display_data"
    }
   ],
   "source": [
    "import re\n",
    "\n",
    "split_essay = re.split(r'(?<=[.!?])\\s+', essay)\n",
    "print(len(split_essay))\n",
    "print(split_essay[:3])"
   ]
  },
  {
   "cell_type": "markdown",
   "id": "939021b3-2bf6-44c5-9612-2ac3b7864bcf",
   "metadata": {},
   "source": [
    "### researhing how embeddings behave on the paragraphs"
   ]
  },
  {
   "cell_type": "markdown",
   "id": "8f1b6065-be5b-4269-ad54-eff0a60d15c1",
   "metadata": {},
   "source": [
    "Extracting 4 paragraphs from the splitted sentences: "
   ]
  },
  {
   "cell_type": "code",
   "execution_count": 7,
   "id": "23edea2f-248f-4d75-9184-fb9d39e248b4",
   "metadata": {},
   "outputs": [
    {
     "data": {
      "text/plain": [
       "[\"I'm sure the default will always be to get a job, but starting a startup could well become as popular as grad school.\",\n",
       " \"In the late 90s my professor friends used to complain that they couldn't get grad students, because all the undergrads were going to work for startups.\",\n",
       " \"I wouldn't be surprised if that situation returns, but with one difference: this time they'll be starting their own instead of going to work for other people's.\"]"
      ]
     },
     "execution_count": 7,
     "metadata": {},
     "output_type": "execute_result"
    }
   ],
   "source": [
    "p1 = split_essay[5:8]\n",
    "p1"
   ]
  },
  {
   "cell_type": "code",
   "execution_count": 8,
   "id": "9fa3054c-a144-493f-bd39-32c21c39cf33",
   "metadata": {},
   "outputs": [
    {
     "data": {
      "text/plain": [
       "['The most ambitious students will at this point be asking: Why wait till you graduate?',\n",
       " \"Why not start a startup while you're in college?\",\n",
       " 'In fact, why go to college at all?',\n",
       " 'Why not start a startup instead?']"
      ]
     },
     "execution_count": 8,
     "metadata": {},
     "output_type": "execute_result"
    }
   ],
   "source": [
    "p2 = split_essay[8:12]\n",
    "p2"
   ]
  },
  {
   "cell_type": "code",
   "execution_count": 9,
   "id": "4dcb6857-98ed-4b47-bc2f-4b257c89fdbd",
   "metadata": {},
   "outputs": [
    {
     "data": {
      "text/plain": [
       "['A year and a half ago I gave a talk where I said that the average age of the founders of Yahoo, Google, and Microsoft was 24, and that if grad students could start startups, why not undergrads?',\n",
       " \"I'm glad I phrased that as a question, because now I can pretend it wasn't merely a rhetorical one.\",\n",
       " \"At the time I couldn't imagine why there should be any lower limit for the age of startup founders.\",\n",
       " 'Graduation is a bureaucratic change, not a biological one.',\n",
       " 'And certainly there are undergrads as competent technically as most grad students.',\n",
       " \"So why shouldn't undergrads be able to start startups as well as grad students?\"]"
      ]
     },
     "execution_count": 9,
     "metadata": {},
     "output_type": "execute_result"
    }
   ],
   "source": [
    "p3 = split_essay[12:18]\n",
    "p3"
   ]
  },
  {
   "cell_type": "code",
   "execution_count": 10,
   "id": "db19a15b-ddcd-472f-a1fe-a9221bbbf539",
   "metadata": {},
   "outputs": [
    {
     "data": {
      "text/plain": [
       "['I now realize that something does change at graduation: you lose a huge excuse for failing.',\n",
       " \"Regardless of how complex your life is, you'll find that everyone else, including your family and friends, will discard all the low bits and regard you as having a single occupation at any given time.\",\n",
       " \"If you're in college and have a summer job writing software, you still read as a student.\",\n",
       " \"Whereas if you graduate and get a job programming, you'll be instantly regarded by everyone as a programmer.\"]"
      ]
     },
     "execution_count": 10,
     "metadata": {},
     "output_type": "execute_result"
    }
   ],
   "source": [
    "p4 = split_essay[18:22]\n",
    "p4"
   ]
  },
  {
   "cell_type": "markdown",
   "id": "2844e331-ef10-4242-b450-fde5a098f8cd",
   "metadata": {},
   "source": [
    "Defining sentence transformer model to use. Specifically, all-mpnet-base-v2 (based on the [stats](https://sbert.net/docs/sentence_transformer/pretrained_models.html) it performs the best, from the locally hosted models options)"
   ]
  },
  {
   "cell_type": "code",
   "execution_count": 11,
   "id": "56bc9b9b-f30e-45f6-a9ef-0323ef870900",
   "metadata": {},
   "outputs": [
    {
     "name": "stderr",
     "output_type": "stream",
     "text": [
      "/home/oleksii/python/semantic_chunking/sem_chunk_overview/.venv/lib/python3.12/site-packages/tqdm/auto.py:21: TqdmWarning: IProgress not found. Please update jupyter and ipywidgets. See https://ipywidgets.readthedocs.io/en/stable/user_install.html\n",
      "  from .autonotebook import tqdm as notebook_tqdm\n"
     ]
    }
   ],
   "source": [
    "from sentence_transformers import SentenceTransformer\n",
    "\n",
    "model = SentenceTransformer('sentence-transformers/all-mpnet-base-v2')"
   ]
  },
  {
   "cell_type": "markdown",
   "id": "c85d5a9d-8ec1-446f-9c92-ee1aa82fb4cc",
   "metadata": {},
   "source": [
    "Cosine similarity between embeddings calculation"
   ]
  },
  {
   "cell_type": "code",
   "execution_count": 12,
   "id": "11eb9564-abcc-4575-891f-b97538e658e0",
   "metadata": {},
   "outputs": [
    {
     "data": {
      "text/html": [
       "<pre style=\"white-space:pre;overflow-x:auto;line-height:normal;font-family:Menlo,'DejaVu Sans Mono',consolas,'Courier New',monospace\"><span style=\"font-weight: bold\">[</span>\n",
       "    <span style=\"color: #008000; text-decoration-color: #008000\">\"I'm sure the default will always be to get a job, but starting a startup could well become as popular as grad </span>\n",
       "<span style=\"color: #008000; text-decoration-color: #008000\">school.\"</span>,\n",
       "    <span style=\"color: #008000; text-decoration-color: #008000\">\"In the late 90s my professor friends used to complain that they couldn't get grad students, because all the </span>\n",
       "<span style=\"color: #008000; text-decoration-color: #008000\">undergrads were going to work for startups.\"</span>,\n",
       "    <span style=\"color: #008000; text-decoration-color: #008000\">\"I wouldn't be surprised if that situation returns, but with one difference: this time they'll be starting </span>\n",
       "<span style=\"color: #008000; text-decoration-color: #008000\">their own instead of going to work for other people's.\"</span>\n",
       "<span style=\"font-weight: bold\">]</span>\n",
       "</pre>\n"
      ],
      "text/plain": [
       "\u001b[1m[\u001b[0m\n",
       "    \u001b[32m\"I'm sure the default will always be to get a job, but starting a startup could well become as popular as grad \u001b[0m\n",
       "\u001b[32mschool.\"\u001b[0m,\n",
       "    \u001b[32m\"In the late 90s my professor friends used to complain that they couldn't get grad students, because all the \u001b[0m\n",
       "\u001b[32mundergrads were going to work for startups.\"\u001b[0m,\n",
       "    \u001b[32m\"I wouldn't be surprised if that situation returns, but with one difference: this time they'll be starting \u001b[0m\n",
       "\u001b[32mtheir own instead of going to work for other people's.\"\u001b[0m\n",
       "\u001b[1m]\u001b[0m\n"
      ]
     },
     "metadata": {},
     "output_type": "display_data"
    },
    {
     "data": {
      "text/html": [
       "<pre style=\"white-space:pre;overflow-x:auto;line-height:normal;font-family:Menlo,'DejaVu Sans Mono',consolas,'Courier New',monospace\">cosine\n",
       "</pre>\n"
      ],
      "text/plain": [
       "cosine\n"
      ]
     },
     "metadata": {},
     "output_type": "display_data"
    },
    {
     "data": {
      "text/html": [
       "<pre style=\"white-space:pre;overflow-x:auto;line-height:normal;font-family:Menlo,'DejaVu Sans Mono',consolas,'Courier New',monospace\"><span style=\"color: #800080; text-decoration-color: #800080; font-weight: bold\">tensor</span><span style=\"font-weight: bold\">([[</span><span style=\"color: #008080; text-decoration-color: #008080; font-weight: bold\">1.0000</span>, <span style=\"color: #008080; text-decoration-color: #008080; font-weight: bold\">0.5907</span>, <span style=\"color: #008080; text-decoration-color: #008080; font-weight: bold\">0.3787</span><span style=\"font-weight: bold\">]</span>,\n",
       "        <span style=\"font-weight: bold\">[</span><span style=\"color: #008080; text-decoration-color: #008080; font-weight: bold\">0.5907</span>, <span style=\"color: #008080; text-decoration-color: #008080; font-weight: bold\">1.0000</span>, <span style=\"color: #008080; text-decoration-color: #008080; font-weight: bold\">0.4760</span><span style=\"font-weight: bold\">]</span>,\n",
       "        <span style=\"font-weight: bold\">[</span><span style=\"color: #008080; text-decoration-color: #008080; font-weight: bold\">0.3787</span>, <span style=\"color: #008080; text-decoration-color: #008080; font-weight: bold\">0.4760</span>, <span style=\"color: #008080; text-decoration-color: #008080; font-weight: bold\">1.0000</span><span style=\"font-weight: bold\">]])</span>\n",
       "</pre>\n"
      ],
      "text/plain": [
       "\u001b[1;35mtensor\u001b[0m\u001b[1m(\u001b[0m\u001b[1m[\u001b[0m\u001b[1m[\u001b[0m\u001b[1;36m1.0000\u001b[0m, \u001b[1;36m0.5907\u001b[0m, \u001b[1;36m0.3787\u001b[0m\u001b[1m]\u001b[0m,\n",
       "        \u001b[1m[\u001b[0m\u001b[1;36m0.5907\u001b[0m, \u001b[1;36m1.0000\u001b[0m, \u001b[1;36m0.4760\u001b[0m\u001b[1m]\u001b[0m,\n",
       "        \u001b[1m[\u001b[0m\u001b[1;36m0.3787\u001b[0m, \u001b[1;36m0.4760\u001b[0m, \u001b[1;36m1.0000\u001b[0m\u001b[1m]\u001b[0m\u001b[1m]\u001b[0m\u001b[1m)\u001b[0m\n"
      ]
     },
     "metadata": {},
     "output_type": "display_data"
    }
   ],
   "source": [
    "embeddings = model.encode(p1)\n",
    "model.similarity(embeddings, embeddings)\n",
    "print(p1)\n",
    "print(model.similarity_fn_name)\n",
    "print(model.similarity(embeddings, embeddings))"
   ]
  },
  {
   "cell_type": "markdown",
   "id": "e649c5e3-e49c-490e-a290-4c116d54bd8f",
   "metadata": {},
   "source": [
    "### testing the sliding window approach"
   ]
  },
  {
   "cell_type": "markdown",
   "id": "8ee131a1-dc46-469f-bae3-78e4b2a4bc69",
   "metadata": {},
   "source": [
    "I am trying to form consecutively bigger chunks by adding sentences one-by-one. The biggest chunk will consist of all sentences in the paragraph. In this particular case we form chunks from only one paragraph, then embed them."
   ]
  },
  {
   "cell_type": "code",
   "execution_count": 13,
   "id": "f2618421-884e-4fff-b77e-441a517499ff",
   "metadata": {},
   "outputs": [
    {
     "data": {
      "text/plain": [
       "[\" I'm sure the default will always be to get a job, but starting a startup could well become as popular as grad school.\",\n",
       " \" I'm sure the default will always be to get a job, but starting a startup could well become as popular as grad school. In the late 90s my professor friends used to complain that they couldn't get grad students, because all the undergrads were going to work for startups.\",\n",
       " \" I'm sure the default will always be to get a job, but starting a startup could well become as popular as grad school. In the late 90s my professor friends used to complain that they couldn't get grad students, because all the undergrads were going to work for startups. I wouldn't be surprised if that situation returns, but with one difference: this time they'll be starting their own instead of going to work for other people's.\"]"
      ]
     },
     "execution_count": 13,
     "metadata": {},
     "output_type": "execute_result"
    }
   ],
   "source": [
    "prev = ''\n",
    "chunks = []\n",
    "for sentence in p1:\n",
    "    res = prev + ' ' + sentence\n",
    "    chunks.append(res)\n",
    "    prev = res\n",
    "\n",
    "chunks"
   ]
  },
  {
   "cell_type": "markdown",
   "id": "949cbb88-3f1c-4566-b410-189900625d2f",
   "metadata": {},
   "source": [
    "Let's caclculate the distances between the embedded chunks:"
   ]
  },
  {
   "cell_type": "code",
   "execution_count": 14,
   "id": "fafa6302-ee41-4a5c-9042-291de0c324a2",
   "metadata": {},
   "outputs": [
    {
     "data": {
      "text/plain": [
       "tensor([[1.0000, 0.9266, 0.9116],\n",
       "        [0.9266, 1.0000, 0.9905],\n",
       "        [0.9116, 0.9905, 1.0000]])"
      ]
     },
     "execution_count": 14,
     "metadata": {},
     "output_type": "execute_result"
    }
   ],
   "source": [
    "embeddings = model.encode(chunks)\n",
    "model.similarity(embeddings, embeddings)"
   ]
  },
  {
   "cell_type": "markdown",
   "id": "d75267e5-c382-444b-8d37-e8f61be24526",
   "metadata": {},
   "source": [
    "After the chunks embedding calculation, we see how the distance consecutively and slowly drifts away from the first chunk."
   ]
  },
  {
   "cell_type": "markdown",
   "id": "bebd7f1c-c840-4c7f-87bd-e98e714387ef",
   "metadata": {},
   "source": [
    "Let's mix two paragraphs together. Paragraphs mark that the chunks of text, by the intention of the author, have different semantic meaning."
   ]
  },
  {
   "cell_type": "code",
   "execution_count": 15,
   "id": "6d679007-763d-4f1d-b8b8-a087d51b24b8",
   "metadata": {},
   "outputs": [
    {
     "data": {
      "text/plain": [
       "[\" I'm sure the default will always be to get a job, but starting a startup could well become as popular as grad school.\",\n",
       " \" I'm sure the default will always be to get a job, but starting a startup could well become as popular as grad school. In the late 90s my professor friends used to complain that they couldn't get grad students, because all the undergrads were going to work for startups.\",\n",
       " \" I'm sure the default will always be to get a job, but starting a startup could well become as popular as grad school. In the late 90s my professor friends used to complain that they couldn't get grad students, because all the undergrads were going to work for startups. I wouldn't be surprised if that situation returns, but with one difference: this time they'll be starting their own instead of going to work for other people's.\",\n",
       " \" I'm sure the default will always be to get a job, but starting a startup could well become as popular as grad school. In the late 90s my professor friends used to complain that they couldn't get grad students, because all the undergrads were going to work for startups. I wouldn't be surprised if that situation returns, but with one difference: this time they'll be starting their own instead of going to work for other people's. The most ambitious students will at this point be asking: Why wait till you graduate?\",\n",
       " \" I'm sure the default will always be to get a job, but starting a startup could well become as popular as grad school. In the late 90s my professor friends used to complain that they couldn't get grad students, because all the undergrads were going to work for startups. I wouldn't be surprised if that situation returns, but with one difference: this time they'll be starting their own instead of going to work for other people's. The most ambitious students will at this point be asking: Why wait till you graduate? Why not start a startup while you're in college?\",\n",
       " \" I'm sure the default will always be to get a job, but starting a startup could well become as popular as grad school. In the late 90s my professor friends used to complain that they couldn't get grad students, because all the undergrads were going to work for startups. I wouldn't be surprised if that situation returns, but with one difference: this time they'll be starting their own instead of going to work for other people's. The most ambitious students will at this point be asking: Why wait till you graduate? Why not start a startup while you're in college? In fact, why go to college at all?\",\n",
       " \" I'm sure the default will always be to get a job, but starting a startup could well become as popular as grad school. In the late 90s my professor friends used to complain that they couldn't get grad students, because all the undergrads were going to work for startups. I wouldn't be surprised if that situation returns, but with one difference: this time they'll be starting their own instead of going to work for other people's. The most ambitious students will at this point be asking: Why wait till you graduate? Why not start a startup while you're in college? In fact, why go to college at all? Why not start a startup instead?\"]"
      ]
     },
     "execution_count": 15,
     "metadata": {},
     "output_type": "execute_result"
    }
   ],
   "source": [
    "prev = ''\n",
    "mixed_chunks = []\n",
    "for sentence in [*p1, *p2]:\n",
    "    res = prev + ' ' + sentence\n",
    "    mixed_chunks.append(res)\n",
    "    prev = res\n",
    "\n",
    "mixed_chunks"
   ]
  },
  {
   "cell_type": "markdown",
   "id": "110a25ae-0105-4cfb-803a-279ff87a08de",
   "metadata": {},
   "source": [
    "Let's caclculate the distances between the embedded chunks:"
   ]
  },
  {
   "cell_type": "code",
   "execution_count": 16,
   "id": "0a5106d8-1426-4d46-9103-9fd43d8acba1",
   "metadata": {},
   "outputs": [
    {
     "data": {
      "text/plain": [
       "tensor([[1.0000, 0.9266, 0.9116, 0.8851, 0.8701, 0.8668, 0.8665],\n",
       "        [0.9266, 1.0000, 0.9905, 0.9698, 0.9663, 0.9607, 0.9580],\n",
       "        [0.9116, 0.9905, 1.0000, 0.9805, 0.9725, 0.9661, 0.9638],\n",
       "        [0.8851, 0.9698, 0.9805, 1.0000, 0.9922, 0.9878, 0.9856],\n",
       "        [0.8701, 0.9663, 0.9725, 0.9922, 1.0000, 0.9984, 0.9968],\n",
       "        [0.8668, 0.9607, 0.9661, 0.9878, 0.9984, 1.0000, 0.9991],\n",
       "        [0.8665, 0.9580, 0.9638, 0.9856, 0.9968, 0.9991, 1.0000]])"
      ]
     },
     "execution_count": 16,
     "metadata": {},
     "output_type": "execute_result"
    }
   ],
   "source": [
    "embeddings = model.encode(mixed_chunks)\n",
    "model.similarity(embeddings, embeddings)"
   ]
  },
  {
   "cell_type": "markdown",
   "id": "f04272c6-c31b-4b64-91c0-a6873a2e466e",
   "metadata": {},
   "source": [
    "Once again we see the same pattern. The distance slowly drifts away. The main quesiton arises. How to understand where the edge is? How to find the threshold value to use? Those questions yet to be answered."
   ]
  },
  {
   "cell_type": "markdown",
   "id": "643f5628-c7ac-4a8f-932b-55d129977dbd",
   "metadata": {},
   "source": [
    "### algorithm idea"
   ]
  },
  {
   "cell_type": "markdown",
   "id": "4a102532-3063-4946-8dfc-34a269610e6a",
   "metadata": {},
   "source": [
    "Let's basically formulate the algorithm idea we have for now:\n",
    "1. Set the threshold value, for instance 0.9.\n",
    "2. While the threshold value is not passed:\n",
    "   \n",
    "   2.1 Iteratively take the next sentence and add it to the previous iteration's chunk.\n",
    "   \n",
    "   2.2 Calculate the embedding of the newly created chunk. \n",
    "\n",
    "   2.3 If the value of the distance between the new chunk's embedding and the initial sentence exceeds or equals the threshold => continue.\n",
    "\n",
    "   2.4 Otherwise, stop the iteration.\n",
    "\n",
    "The last chunk before the stop is a formed semantic unit. We further can rerun the algorithm starting from the sentence, which broke the loop."
   ]
  },
  {
   "cell_type": "markdown",
   "id": "055629f0-2522-421f-9bef-60b406ee62b8",
   "metadata": {},
   "source": [
    "### algorithm implemenation"
   ]
  },
  {
   "cell_type": "code",
   "execution_count": 17,
   "id": "9e800986-f330-4795-90fc-3bcd51c0833a",
   "metadata": {},
   "outputs": [
    {
     "data": {
      "text/plain": [
       "np.float32(0.60812265)"
      ]
     },
     "execution_count": 17,
     "metadata": {},
     "output_type": "execute_result"
    }
   ],
   "source": [
    "a = model.encode('dog')\n",
    "b = model.encode('cat')\n",
    "\n",
    "res = model.similarity(a, b)\n",
    "res.numpy()[0][0]"
   ]
  },
  {
   "cell_type": "code",
   "execution_count": 18,
   "id": "4ba87919-0b5f-4bfc-87cd-ddbe359fd1e6",
   "metadata": {},
   "outputs": [],
   "source": [
    "def semantic_chunking(text: list[str], thresh: int = 0.9, verbose: bool = True) -> list[str]:\n",
    "    prev = ''\n",
    "    init = text[0]\n",
    "    chunks = []\n",
    "    \n",
    "    for sentence in text:\n",
    "        res = prev + ' ' + sentence\n",
    "        dist = model.similarity(\n",
    "            model.encode(init),\n",
    "            model.encode(res)\n",
    "        ).numpy()[0][0]  \n",
    "\n",
    "        if dist < thresh:\n",
    "            # logging\n",
    "            if verbose:\n",
    "                print(f'prev: {prev}\\nbreakpoint sentence: {sentence}\\ndist: {dist}\\nchunks count: {len(chunks) + 1}')\n",
    "                print('=' * 25)\n",
    "            \n",
    "            chunks.append(prev)\n",
    "            prev = sentence\n",
    "            init = sentence\n",
    "        else:\n",
    "            prev = res \n",
    "\n",
    "    # edge case handling\n",
    "    if prev not in chunks:\n",
    "        chunks.append(prev)\n",
    "\n",
    "    return chunks\n"
   ]
  },
  {
   "cell_type": "markdown",
   "id": "118b591d-da34-47ab-aa46-8284052bfba4",
   "metadata": {},
   "source": [
    "Testing the algorithm implementation"
   ]
  },
  {
   "cell_type": "code",
   "execution_count": 19,
   "id": "169fa9a9-e43d-4c33-8d07-25d6544b1733",
   "metadata": {},
   "outputs": [
    {
     "data": {
      "text/plain": [
       "[\"I'm sure the default will always be to get a job, but starting a startup could well become as popular as grad school.\",\n",
       " \"In the late 90s my professor friends used to complain that they couldn't get grad students, because all the undergrads were going to work for startups.\",\n",
       " \"I wouldn't be surprised if that situation returns, but with one difference: this time they'll be starting their own instead of going to work for other people's.\",\n",
       " 'The most ambitious students will at this point be asking: Why wait till you graduate?',\n",
       " \"Why not start a startup while you're in college?\",\n",
       " 'In fact, why go to college at all?',\n",
       " 'Why not start a startup instead?',\n",
       " 'A year and a half ago I gave a talk where I said that the average age of the founders of Yahoo, Google, and Microsoft was 24, and that if grad students could start startups, why not undergrads?',\n",
       " \"I'm glad I phrased that as a question, because now I can pretend it wasn't merely a rhetorical one.\",\n",
       " \"At the time I couldn't imagine why there should be any lower limit for the age of startup founders.\",\n",
       " 'Graduation is a bureaucratic change, not a biological one.',\n",
       " 'And certainly there are undergrads as competent technically as most grad students.',\n",
       " \"So why shouldn't undergrads be able to start startups as well as grad students?\",\n",
       " 'I now realize that something does change at graduation: you lose a huge excuse for failing.',\n",
       " \"Regardless of how complex your life is, you'll find that everyone else, including your family and friends, will discard all the low bits and regard you as having a single occupation at any given time.\",\n",
       " \"If you're in college and have a summer job writing software, you still read as a student.\",\n",
       " \"Whereas if you graduate and get a job programming, you'll be instantly regarded by everyone as a programmer.\"]"
      ]
     },
     "execution_count": 19,
     "metadata": {},
     "output_type": "execute_result"
    }
   ],
   "source": [
    "text = split_essay[5:22]\n",
    "text"
   ]
  },
  {
   "cell_type": "code",
   "execution_count": 20,
   "id": "515ddbae-2d23-4548-93b2-20276f9e893a",
   "metadata": {},
   "outputs": [
    {
     "data": {
      "text/html": [
       "<pre style=\"white-space:pre;overflow-x:auto;line-height:normal;font-family:Menlo,'DejaVu Sans Mono',consolas,'Courier New',monospace\">prev:  I'm sure the default will always be to get a job, but starting a startup could well become as popular as \n",
       "grad school. In the late 90s my professor friends used to complain that they couldn't get grad students, because \n",
       "all the undergrads were going to work for startups. I wouldn't be surprised if that situation returns, but with one\n",
       "difference: this time they'll be starting their own instead of going to work for other people's. The most ambitious\n",
       "students will at this point be asking: Why wait till you graduate?\n",
       "breakpoint sentence: Why not start a startup while you're in college?\n",
       "dist: <span style=\"color: #008080; text-decoration-color: #008080; font-weight: bold\">0.8700782656669617</span>\n",
       "chunks count: <span style=\"color: #008080; text-decoration-color: #008080; font-weight: bold\">1</span>\n",
       "</pre>\n"
      ],
      "text/plain": [
       "prev:  I'm sure the default will always be to get a job, but starting a startup could well become as popular as \n",
       "grad school. In the late 90s my professor friends used to complain that they couldn't get grad students, because \n",
       "all the undergrads were going to work for startups. I wouldn't be surprised if that situation returns, but with one\n",
       "difference: this time they'll be starting their own instead of going to work for other people's. The most ambitious\n",
       "students will at this point be asking: Why wait till you graduate?\n",
       "breakpoint sentence: Why not start a startup while you're in college?\n",
       "dist: \u001b[1;36m0.8700782656669617\u001b[0m\n",
       "chunks count: \u001b[1;36m1\u001b[0m\n"
      ]
     },
     "metadata": {},
     "output_type": "display_data"
    },
    {
     "data": {
      "text/html": [
       "<pre style=\"white-space:pre;overflow-x:auto;line-height:normal;font-family:Menlo,'DejaVu Sans Mono',consolas,'Courier New',monospace\">=========================\n",
       "</pre>\n"
      ],
      "text/plain": [
       "=========================\n"
      ]
     },
     "metadata": {},
     "output_type": "display_data"
    },
    {
     "data": {
      "text/html": [
       "<pre style=\"white-space:pre;overflow-x:auto;line-height:normal;font-family:Menlo,'DejaVu Sans Mono',consolas,'Courier New',monospace\">prev: Why not start a startup while you're in college? In fact, why go to college at all? Why not start a startup \n",
       "instead?\n",
       "breakpoint sentence: A year and a half ago I gave a talk where I said that the average age of the founders of \n",
       "Yahoo, Google, and Microsoft was <span style=\"color: #008080; text-decoration-color: #008080; font-weight: bold\">24</span>, and that if grad students could start startups, why not undergrads?\n",
       "dist: <span style=\"color: #008080; text-decoration-color: #008080; font-weight: bold\">0.8480529189109802</span>\n",
       "chunks count: <span style=\"color: #008080; text-decoration-color: #008080; font-weight: bold\">2</span>\n",
       "</pre>\n"
      ],
      "text/plain": [
       "prev: Why not start a startup while you're in college? In fact, why go to college at all? Why not start a startup \n",
       "instead?\n",
       "breakpoint sentence: A year and a half ago I gave a talk where I said that the average age of the founders of \n",
       "Yahoo, Google, and Microsoft was \u001b[1;36m24\u001b[0m, and that if grad students could start startups, why not undergrads?\n",
       "dist: \u001b[1;36m0.8480529189109802\u001b[0m\n",
       "chunks count: \u001b[1;36m2\u001b[0m\n"
      ]
     },
     "metadata": {},
     "output_type": "display_data"
    },
    {
     "data": {
      "text/html": [
       "<pre style=\"white-space:pre;overflow-x:auto;line-height:normal;font-family:Menlo,'DejaVu Sans Mono',consolas,'Courier New',monospace\">=========================\n",
       "</pre>\n"
      ],
      "text/plain": [
       "=========================\n"
      ]
     },
     "metadata": {},
     "output_type": "display_data"
    },
    {
     "data": {
      "text/html": [
       "<pre style=\"white-space:pre;overflow-x:auto;line-height:normal;font-family:Menlo,'DejaVu Sans Mono',consolas,'Courier New',monospace\">prev: A year and a half ago I gave a talk where I said that the average age of the founders of Yahoo, Google, and \n",
       "Microsoft was <span style=\"color: #008080; text-decoration-color: #008080; font-weight: bold\">24</span>, and that if grad students could start startups, why not undergrads?\n",
       "breakpoint sentence: I'm glad I phrased that as a question, because now I can pretend it wasn't merely a rhetorical\n",
       "one.\n",
       "dist: <span style=\"color: #008080; text-decoration-color: #008080; font-weight: bold\">0.8794811964035034</span>\n",
       "chunks count: <span style=\"color: #008080; text-decoration-color: #008080; font-weight: bold\">3</span>\n",
       "</pre>\n"
      ],
      "text/plain": [
       "prev: A year and a half ago I gave a talk where I said that the average age of the founders of Yahoo, Google, and \n",
       "Microsoft was \u001b[1;36m24\u001b[0m, and that if grad students could start startups, why not undergrads?\n",
       "breakpoint sentence: I'm glad I phrased that as a question, because now I can pretend it wasn't merely a rhetorical\n",
       "one.\n",
       "dist: \u001b[1;36m0.8794811964035034\u001b[0m\n",
       "chunks count: \u001b[1;36m3\u001b[0m\n"
      ]
     },
     "metadata": {},
     "output_type": "display_data"
    },
    {
     "data": {
      "text/html": [
       "<pre style=\"white-space:pre;overflow-x:auto;line-height:normal;font-family:Menlo,'DejaVu Sans Mono',consolas,'Courier New',monospace\">=========================\n",
       "</pre>\n"
      ],
      "text/plain": [
       "=========================\n"
      ]
     },
     "metadata": {},
     "output_type": "display_data"
    },
    {
     "data": {
      "text/html": [
       "<pre style=\"white-space:pre;overflow-x:auto;line-height:normal;font-family:Menlo,'DejaVu Sans Mono',consolas,'Courier New',monospace\">prev: I'm glad I phrased that as a question, because now I can pretend it wasn't merely a rhetorical one.\n",
       "breakpoint sentence: At the time I couldn't imagine why there should be any lower limit for the age of startup \n",
       "founders.\n",
       "dist: <span style=\"color: #008080; text-decoration-color: #008080; font-weight: bold\">0.28857335448265076</span>\n",
       "chunks count: <span style=\"color: #008080; text-decoration-color: #008080; font-weight: bold\">4</span>\n",
       "</pre>\n"
      ],
      "text/plain": [
       "prev: I'm glad I phrased that as a question, because now I can pretend it wasn't merely a rhetorical one.\n",
       "breakpoint sentence: At the time I couldn't imagine why there should be any lower limit for the age of startup \n",
       "founders.\n",
       "dist: \u001b[1;36m0.28857335448265076\u001b[0m\n",
       "chunks count: \u001b[1;36m4\u001b[0m\n"
      ]
     },
     "metadata": {},
     "output_type": "display_data"
    },
    {
     "data": {
      "text/html": [
       "<pre style=\"white-space:pre;overflow-x:auto;line-height:normal;font-family:Menlo,'DejaVu Sans Mono',consolas,'Courier New',monospace\">=========================\n",
       "</pre>\n"
      ],
      "text/plain": [
       "=========================\n"
      ]
     },
     "metadata": {},
     "output_type": "display_data"
    },
    {
     "data": {
      "text/html": [
       "<pre style=\"white-space:pre;overflow-x:auto;line-height:normal;font-family:Menlo,'DejaVu Sans Mono',consolas,'Courier New',monospace\">prev: At the time I couldn't imagine why there should be any lower limit for the age of startup founders. \n",
       "Graduation is a bureaucratic change, not a biological one.\n",
       "breakpoint sentence: And certainly there are undergrads as competent technically as most grad students.\n",
       "dist: <span style=\"color: #008080; text-decoration-color: #008080; font-weight: bold\">0.8463297486305237</span>\n",
       "chunks count: <span style=\"color: #008080; text-decoration-color: #008080; font-weight: bold\">5</span>\n",
       "</pre>\n"
      ],
      "text/plain": [
       "prev: At the time I couldn't imagine why there should be any lower limit for the age of startup founders. \n",
       "Graduation is a bureaucratic change, not a biological one.\n",
       "breakpoint sentence: And certainly there are undergrads as competent technically as most grad students.\n",
       "dist: \u001b[1;36m0.8463297486305237\u001b[0m\n",
       "chunks count: \u001b[1;36m5\u001b[0m\n"
      ]
     },
     "metadata": {},
     "output_type": "display_data"
    },
    {
     "data": {
      "text/html": [
       "<pre style=\"white-space:pre;overflow-x:auto;line-height:normal;font-family:Menlo,'DejaVu Sans Mono',consolas,'Courier New',monospace\">=========================\n",
       "</pre>\n"
      ],
      "text/plain": [
       "=========================\n"
      ]
     },
     "metadata": {},
     "output_type": "display_data"
    },
    {
     "data": {
      "text/html": [
       "<pre style=\"white-space:pre;overflow-x:auto;line-height:normal;font-family:Menlo,'DejaVu Sans Mono',consolas,'Courier New',monospace\">prev: And certainly there are undergrads as competent technically as most grad students.\n",
       "breakpoint sentence: So why shouldn't undergrads be able to start startups as well as grad students?\n",
       "dist: <span style=\"color: #008080; text-decoration-color: #008080; font-weight: bold\">0.6114271283149719</span>\n",
       "chunks count: <span style=\"color: #008080; text-decoration-color: #008080; font-weight: bold\">6</span>\n",
       "</pre>\n"
      ],
      "text/plain": [
       "prev: And certainly there are undergrads as competent technically as most grad students.\n",
       "breakpoint sentence: So why shouldn't undergrads be able to start startups as well as grad students?\n",
       "dist: \u001b[1;36m0.6114271283149719\u001b[0m\n",
       "chunks count: \u001b[1;36m6\u001b[0m\n"
      ]
     },
     "metadata": {},
     "output_type": "display_data"
    },
    {
     "data": {
      "text/html": [
       "<pre style=\"white-space:pre;overflow-x:auto;line-height:normal;font-family:Menlo,'DejaVu Sans Mono',consolas,'Courier New',monospace\">=========================\n",
       "</pre>\n"
      ],
      "text/plain": [
       "=========================\n"
      ]
     },
     "metadata": {},
     "output_type": "display_data"
    }
   ],
   "source": [
    "chunks = semantic_chunking(text, thresh=0.88)"
   ]
  },
  {
   "cell_type": "raw",
   "id": "e3034743-3459-41b8-a498-da8f62a2c232",
   "metadata": {},
   "source": [
    "The following chunks were produced."
   ]
  },
  {
   "cell_type": "code",
   "execution_count": 21,
   "id": "d44a6564-9a42-4708-9395-488e55dc4beb",
   "metadata": {},
   "outputs": [
    {
     "data": {
      "text/html": [
       "<pre style=\"white-space:pre;overflow-x:auto;line-height:normal;font-family:Menlo,'DejaVu Sans Mono',consolas,'Courier New',monospace\"><span style=\"color: #008080; text-decoration-color: #008080; font-weight: bold\">7</span>\n",
       "</pre>\n"
      ],
      "text/plain": [
       "\u001b[1;36m7\u001b[0m\n"
      ]
     },
     "metadata": {},
     "output_type": "display_data"
    },
    {
     "data": {
      "text/html": [
       "<pre style=\"white-space:pre;overflow-x:auto;line-height:normal;font-family:Menlo,'DejaVu Sans Mono',consolas,'Courier New',monospace\"><span style=\"font-weight: bold\">[</span>\n",
       "    <span style=\"color: #008000; text-decoration-color: #008000\">\" I'm sure the default will always be to get a job, but starting a startup could well become as popular as grad</span>\n",
       "<span style=\"color: #008000; text-decoration-color: #008000\">school. In the late 90s my professor friends used to complain that they couldn't get grad students, because all the</span>\n",
       "<span style=\"color: #008000; text-decoration-color: #008000\">undergrads were going to work for startups. I wouldn't be surprised if that situation returns, but with one </span>\n",
       "<span style=\"color: #008000; text-decoration-color: #008000\">difference: this time they'll be starting their own instead of going to work for other people's. The most ambitious</span>\n",
       "<span style=\"color: #008000; text-decoration-color: #008000\">students will at this point be asking: Why wait till you graduate?\"</span>,\n",
       "    <span style=\"color: #008000; text-decoration-color: #008000\">\"Why not start a startup while you're in college? In fact, why go to college at all? Why not start a startup </span>\n",
       "<span style=\"color: #008000; text-decoration-color: #008000\">instead?\"</span>,\n",
       "    <span style=\"color: #008000; text-decoration-color: #008000\">'A year and a half ago I gave a talk where I said that the average age of the founders of Yahoo, Google, and </span>\n",
       "<span style=\"color: #008000; text-decoration-color: #008000\">Microsoft was 24, and that if grad students could start startups, why not undergrads?'</span>,\n",
       "    <span style=\"color: #008000; text-decoration-color: #008000\">\"I'm glad I phrased that as a question, because now I can pretend it wasn't merely a rhetorical one.\"</span>,\n",
       "    <span style=\"color: #008000; text-decoration-color: #008000\">\"At the time I couldn't imagine why there should be any lower limit for the age of startup founders. Graduation</span>\n",
       "<span style=\"color: #008000; text-decoration-color: #008000\">is a bureaucratic change, not a biological one.\"</span>,\n",
       "    <span style=\"color: #008000; text-decoration-color: #008000\">'And certainly there are undergrads as competent technically as most grad students.'</span>,\n",
       "    <span style=\"color: #008000; text-decoration-color: #008000\">\"So why shouldn't undergrads be able to start startups as well as grad students? I now realize that something </span>\n",
       "<span style=\"color: #008000; text-decoration-color: #008000\">does change at graduation: you lose a huge excuse for failing. Regardless of how complex your life is, you'll find </span>\n",
       "<span style=\"color: #008000; text-decoration-color: #008000\">that everyone else, including your family and friends, will discard all the low bits and regard you as having a </span>\n",
       "<span style=\"color: #008000; text-decoration-color: #008000\">single occupation at any given time. If you're in college and have a summer job writing software, you still read as</span>\n",
       "<span style=\"color: #008000; text-decoration-color: #008000\">a student. Whereas if you graduate and get a job programming, you'll be instantly regarded by everyone as a </span>\n",
       "<span style=\"color: #008000; text-decoration-color: #008000\">programmer.\"</span>\n",
       "<span style=\"font-weight: bold\">]</span>\n",
       "</pre>\n"
      ],
      "text/plain": [
       "\u001b[1m[\u001b[0m\n",
       "    \u001b[32m\" I'm sure the default will always be to get a job, but starting a startup could well become as popular as grad\u001b[0m\n",
       "\u001b[32mschool. In the late 90s my professor friends used to complain that they couldn't get grad students, because all the\u001b[0m\n",
       "\u001b[32mundergrads were going to work for startups. I wouldn't be surprised if that situation returns, but with one \u001b[0m\n",
       "\u001b[32mdifference: this time they'll be starting their own instead of going to work for other people's. The most ambitious\u001b[0m\n",
       "\u001b[32mstudents will at this point be asking: Why wait till you graduate?\"\u001b[0m,\n",
       "    \u001b[32m\"Why not start a startup while you're in college? In fact, why go to college at all? Why not start a startup \u001b[0m\n",
       "\u001b[32minstead?\"\u001b[0m,\n",
       "    \u001b[32m'A year and a half ago I gave a talk where I said that the average age of the founders of Yahoo, Google, and \u001b[0m\n",
       "\u001b[32mMicrosoft was 24, and that if grad students could start startups, why not undergrads?'\u001b[0m,\n",
       "    \u001b[32m\"I'm glad I phrased that as a question, because now I can pretend it wasn't merely a rhetorical one.\"\u001b[0m,\n",
       "    \u001b[32m\"At the time I couldn't imagine why there should be any lower limit for the age of startup founders. Graduation\u001b[0m\n",
       "\u001b[32mis a bureaucratic change, not a biological one.\"\u001b[0m,\n",
       "    \u001b[32m'And certainly there are undergrads as competent technically as most grad students.'\u001b[0m,\n",
       "    \u001b[32m\"So why shouldn't undergrads be able to start startups as well as grad students? I now realize that something \u001b[0m\n",
       "\u001b[32mdoes change at graduation: you lose a huge excuse for failing. Regardless of how complex your life is, you'll find \u001b[0m\n",
       "\u001b[32mthat everyone else, including your family and friends, will discard all the low bits and regard you as having a \u001b[0m\n",
       "\u001b[32msingle occupation at any given time. If you're in college and have a summer job writing software, you still read as\u001b[0m\n",
       "\u001b[32ma student. Whereas if you graduate and get a job programming, you'll be instantly regarded by everyone as a \u001b[0m\n",
       "\u001b[32mprogrammer.\"\u001b[0m\n",
       "\u001b[1m]\u001b[0m\n"
      ]
     },
     "metadata": {},
     "output_type": "display_data"
    }
   ],
   "source": [
    "print(len(chunks))\n",
    "print(chunks)"
   ]
  },
  {
   "cell_type": "markdown",
   "id": "9bc5f033-5144-4b40-a76f-28838f23d475",
   "metadata": {},
   "source": [
    "### tuning the thersh value"
   ]
  },
  {
   "cell_type": "markdown",
   "id": "10fde98c-f6c9-4403-8174-3848ccb43d86",
   "metadata": {},
   "source": [
    "Since the paragraphs represent semantic units by the author's intentions, theoretically, we could use this information to tune the threshold for the algorithm until we find the threshold value that produces an amount of chunks close to the amount of paragraphs."
   ]
  },
  {
   "cell_type": "markdown",
   "id": "e8142ca4-aff6-44e7-8d62-6d4e1e3bf219",
   "metadata": {},
   "source": [
    "First, let's find out the amount of paragraphs the document has:"
   ]
  },
  {
   "cell_type": "code",
   "execution_count": 22,
   "id": "1a72ef38-929a-4906-bd5f-0cdfe2de5c45",
   "metadata": {},
   "outputs": [
    {
     "data": {
      "text/html": [
       "<pre style=\"white-space:pre;overflow-x:auto;line-height:normal;font-family:Menlo,'DejaVu Sans Mono',consolas,'Courier New',monospace\"><span style=\"color: #008080; text-decoration-color: #008080; font-weight: bold\">87</span>\n",
       "</pre>\n"
      ],
      "text/plain": [
       "\u001b[1;36m87\u001b[0m\n"
      ]
     },
     "metadata": {},
     "output_type": "display_data"
    },
    {
     "data": {
      "text/html": [
       "<pre style=\"white-space:pre;overflow-x:auto;line-height:normal;font-family:Menlo,'DejaVu Sans Mono',consolas,'Courier New',monospace\"><span style=\"font-weight: bold\">[</span>\n",
       "    <span style=\"color: #008000; text-decoration-color: #008000\">\"A Student's Guide to Startups\"</span>,\n",
       "    <span style=\"color: #008000; text-decoration-color: #008000\">'Want to start a startup? Get funded by Y Combinator.'</span>,\n",
       "    <span style=\"color: #008000; text-decoration-color: #008000\">'October 2006'</span>,\n",
       "    <span style=\"color: #008000; text-decoration-color: #008000\">'(This essay is derived from a talk at MIT.)'</span>,\n",
       "    <span style=\"color: #008000; text-decoration-color: #008000\">'Till recently graduating seniors had two choices: get a job or go to grad school. I think there will </span>\n",
       "<span style=\"color: #008000; text-decoration-color: #008000\">increasingly be a third option: to start your own startup. But how common will that be?'</span>\n",
       "<span style=\"font-weight: bold\">]</span>\n",
       "</pre>\n"
      ],
      "text/plain": [
       "\u001b[1m[\u001b[0m\n",
       "    \u001b[32m\"A Student's Guide to Startups\"\u001b[0m,\n",
       "    \u001b[32m'Want to start a startup? Get funded by Y Combinator.'\u001b[0m,\n",
       "    \u001b[32m'October 2006'\u001b[0m,\n",
       "    \u001b[32m'\u001b[0m\u001b[32m(\u001b[0m\u001b[32mThis essay is derived from a talk at MIT.\u001b[0m\u001b[32m)\u001b[0m\u001b[32m'\u001b[0m,\n",
       "    \u001b[32m'Till recently graduating seniors had two choices: get a job or go to grad school. I think there will \u001b[0m\n",
       "\u001b[32mincreasingly be a third option: to start your own startup. But how common will that be?'\u001b[0m\n",
       "\u001b[1m]\u001b[0m\n"
      ]
     },
     "metadata": {},
     "output_type": "display_data"
    }
   ],
   "source": [
    "p_split_essay = essay.split('\\n\\n')\n",
    "print(len(p_split_essay))\n",
    "print(p_split_essay[:5])"
   ]
  },
  {
   "cell_type": "markdown",
   "id": "58ce52d4-f769-4486-a18c-d9ada60cf57d",
   "metadata": {},
   "source": [
    "Let's filter the splitted essay from the empty lines:"
   ]
  },
  {
   "cell_type": "code",
   "execution_count": 23,
   "id": "ada5886b-e9fe-40c6-b81c-5d4a6797da9d",
   "metadata": {},
   "outputs": [
    {
     "data": {
      "text/plain": [
       "87"
      ]
     },
     "execution_count": 23,
     "metadata": {},
     "output_type": "execute_result"
    }
   ],
   "source": [
    "filter_essay = list(filter(lambda p: len(p) > 0, p_split_essay))\n",
    "len(filter_essay)"
   ]
  },
  {
   "cell_type": "markdown",
   "id": "b4b9eebf-bc6a-43d6-924a-800fb776cb28",
   "metadata": {},
   "source": [
    "#### thresh tuning algorithm idea"
   ]
  },
  {
   "cell_type": "markdown",
   "id": "a643e7f4-43d7-479d-94e2-8af93884f0c0",
   "metadata": {},
   "source": [
    "Now, let's formulate the threshold tuning algorithm idea:\n",
    "\n",
    "1. Start from the thresh value of 0.99, since in cosine similarity 1 indicates that two points are identical (realistically, this value should probably be lower, approx. 0.95-0.97).  \n",
    "2. Initialize the previous iteration distance variable and the best threshold variable.  \n",
    "3. While true:  \n",
    "\n",
    "   2.1 Perform the semantic chunking with the provided threshold over text (a bunch of split sentences);  \n",
    "\n",
    "   2.2 Compare the amount of calculated chunks to the actual amount of paragraphs;  \n",
    "\n",
    "   2.3 If the calculated chunks amount is closer to the actual amount of paragraphs than the previous iteration chunks amount variable:  \n",
    "   \n",
    "   2.3.1 Update the thresh variable, lowering it by some step value, e.g., 0.02-0.05;  \n",
    "\n",
    "   2.3.2 Update the best threshold variable;  \n",
    "\n",
    "   2.3.3 Continue.  \n",
    "   \n",
    "   2.4 Otherwise, stop the loop.  \n",
    "\n",
    "In result, we will calculate the best thresh variable that outputs the amount of chunks closest to the actual amount of paragraphs.  "
   ]
  },
  {
   "cell_type": "markdown",
   "id": "490b252d-0276-42fe-a29e-8c0465918645",
   "metadata": {},
   "source": [
    "#### thresh tuning algorithm implementation"
   ]
  },
  {
   "cell_type": "code",
   "execution_count": 24,
   "id": "86219084-b63a-4a6d-9634-496315080018",
   "metadata": {},
   "outputs": [],
   "source": [
    "dist = lambda a, b: abs(a - b)\n",
    "\n",
    "def thresh_tune(\n",
    "    pars: int,  # pars - paragraphs\n",
    "    text: list[str], \n",
    "    thresh: float = 0.97, \n",
    "    step: float = 0.03,\n",
    "    verbose: bool = True \n",
    "):\n",
    "    best_thresh = 0\n",
    "    prev_dist = float('inf') \n",
    "\n",
    "    while True:\n",
    "        chunks = semantic_chunking(text, thresh, verbose=False)\n",
    "        dist_ = dist(pars, len(chunks))\n",
    "        \n",
    "        if dist_ < prev_dist:\n",
    "            # logging \n",
    "            if verbose: \n",
    "                print(f'dist: {dist_}\\nchunks amount: {len(chunks)}\\nthresh: {thresh}')\n",
    "                print('=' * 25)\n",
    "            \n",
    "            prev_dist = dist_\n",
    "            best_thresh = thresh\n",
    "            thresh -= step \n",
    "        else:\n",
    "            break\n",
    "\n",
    "    return best_thresh"
   ]
  },
  {
   "cell_type": "markdown",
   "id": "fb4eebfe-6f3a-4ee6-9a83-9fbd00a96a9d",
   "metadata": {},
   "source": [
    "Let's test the implementation:"
   ]
  },
  {
   "cell_type": "code",
   "execution_count": 25,
   "id": "2f5dfb7d-e213-4c55-9c70-3e624bcadaf6",
   "metadata": {},
   "outputs": [
    {
     "data": {
      "text/html": [
       "<pre style=\"white-space:pre;overflow-x:auto;line-height:normal;font-family:Menlo,'DejaVu Sans Mono',consolas,'Courier New',monospace\">dist: <span style=\"color: #008080; text-decoration-color: #008080; font-weight: bold\">248</span>\n",
       "chunks amount: <span style=\"color: #008080; text-decoration-color: #008080; font-weight: bold\">335</span>\n",
       "thresh: <span style=\"color: #008080; text-decoration-color: #008080; font-weight: bold\">0.94</span>\n",
       "</pre>\n"
      ],
      "text/plain": [
       "dist: \u001b[1;36m248\u001b[0m\n",
       "chunks amount: \u001b[1;36m335\u001b[0m\n",
       "thresh: \u001b[1;36m0.94\u001b[0m\n"
      ]
     },
     "metadata": {},
     "output_type": "display_data"
    },
    {
     "data": {
      "text/html": [
       "<pre style=\"white-space:pre;overflow-x:auto;line-height:normal;font-family:Menlo,'DejaVu Sans Mono',consolas,'Courier New',monospace\">=========================\n",
       "</pre>\n"
      ],
      "text/plain": [
       "=========================\n"
      ]
     },
     "metadata": {},
     "output_type": "display_data"
    },
    {
     "data": {
      "text/html": [
       "<pre style=\"white-space:pre;overflow-x:auto;line-height:normal;font-family:Menlo,'DejaVu Sans Mono',consolas,'Courier New',monospace\">dist: <span style=\"color: #008080; text-decoration-color: #008080; font-weight: bold\">234</span>\n",
       "chunks amount: <span style=\"color: #008080; text-decoration-color: #008080; font-weight: bold\">321</span>\n",
       "thresh: <span style=\"color: #008080; text-decoration-color: #008080; font-weight: bold\">0.9299999999999999</span>\n",
       "</pre>\n"
      ],
      "text/plain": [
       "dist: \u001b[1;36m234\u001b[0m\n",
       "chunks amount: \u001b[1;36m321\u001b[0m\n",
       "thresh: \u001b[1;36m0.9299999999999999\u001b[0m\n"
      ]
     },
     "metadata": {},
     "output_type": "display_data"
    },
    {
     "data": {
      "text/html": [
       "<pre style=\"white-space:pre;overflow-x:auto;line-height:normal;font-family:Menlo,'DejaVu Sans Mono',consolas,'Courier New',monospace\">=========================\n",
       "</pre>\n"
      ],
      "text/plain": [
       "=========================\n"
      ]
     },
     "metadata": {},
     "output_type": "display_data"
    },
    {
     "data": {
      "text/html": [
       "<pre style=\"white-space:pre;overflow-x:auto;line-height:normal;font-family:Menlo,'DejaVu Sans Mono',consolas,'Courier New',monospace\">dist: <span style=\"color: #008080; text-decoration-color: #008080; font-weight: bold\">222</span>\n",
       "chunks amount: <span style=\"color: #008080; text-decoration-color: #008080; font-weight: bold\">309</span>\n",
       "thresh: <span style=\"color: #008080; text-decoration-color: #008080; font-weight: bold\">0.9199999999999999</span>\n",
       "</pre>\n"
      ],
      "text/plain": [
       "dist: \u001b[1;36m222\u001b[0m\n",
       "chunks amount: \u001b[1;36m309\u001b[0m\n",
       "thresh: \u001b[1;36m0.9199999999999999\u001b[0m\n"
      ]
     },
     "metadata": {},
     "output_type": "display_data"
    },
    {
     "data": {
      "text/html": [
       "<pre style=\"white-space:pre;overflow-x:auto;line-height:normal;font-family:Menlo,'DejaVu Sans Mono',consolas,'Courier New',monospace\">=========================\n",
       "</pre>\n"
      ],
      "text/plain": [
       "=========================\n"
      ]
     },
     "metadata": {},
     "output_type": "display_data"
    },
    {
     "data": {
      "text/html": [
       "<pre style=\"white-space:pre;overflow-x:auto;line-height:normal;font-family:Menlo,'DejaVu Sans Mono',consolas,'Courier New',monospace\">dist: <span style=\"color: #008080; text-decoration-color: #008080; font-weight: bold\">207</span>\n",
       "chunks amount: <span style=\"color: #008080; text-decoration-color: #008080; font-weight: bold\">294</span>\n",
       "thresh: <span style=\"color: #008080; text-decoration-color: #008080; font-weight: bold\">0.9099999999999999</span>\n",
       "</pre>\n"
      ],
      "text/plain": [
       "dist: \u001b[1;36m207\u001b[0m\n",
       "chunks amount: \u001b[1;36m294\u001b[0m\n",
       "thresh: \u001b[1;36m0.9099999999999999\u001b[0m\n"
      ]
     },
     "metadata": {},
     "output_type": "display_data"
    },
    {
     "data": {
      "text/html": [
       "<pre style=\"white-space:pre;overflow-x:auto;line-height:normal;font-family:Menlo,'DejaVu Sans Mono',consolas,'Courier New',monospace\">=========================\n",
       "</pre>\n"
      ],
      "text/plain": [
       "=========================\n"
      ]
     },
     "metadata": {},
     "output_type": "display_data"
    },
    {
     "data": {
      "text/html": [
       "<pre style=\"white-space:pre;overflow-x:auto;line-height:normal;font-family:Menlo,'DejaVu Sans Mono',consolas,'Courier New',monospace\">dist: <span style=\"color: #008080; text-decoration-color: #008080; font-weight: bold\">193</span>\n",
       "chunks amount: <span style=\"color: #008080; text-decoration-color: #008080; font-weight: bold\">280</span>\n",
       "thresh: <span style=\"color: #008080; text-decoration-color: #008080; font-weight: bold\">0.8999999999999999</span>\n",
       "</pre>\n"
      ],
      "text/plain": [
       "dist: \u001b[1;36m193\u001b[0m\n",
       "chunks amount: \u001b[1;36m280\u001b[0m\n",
       "thresh: \u001b[1;36m0.8999999999999999\u001b[0m\n"
      ]
     },
     "metadata": {},
     "output_type": "display_data"
    },
    {
     "data": {
      "text/html": [
       "<pre style=\"white-space:pre;overflow-x:auto;line-height:normal;font-family:Menlo,'DejaVu Sans Mono',consolas,'Courier New',monospace\">=========================\n",
       "</pre>\n"
      ],
      "text/plain": [
       "=========================\n"
      ]
     },
     "metadata": {},
     "output_type": "display_data"
    },
    {
     "data": {
      "text/html": [
       "<pre style=\"white-space:pre;overflow-x:auto;line-height:normal;font-family:Menlo,'DejaVu Sans Mono',consolas,'Courier New',monospace\">dist: <span style=\"color: #008080; text-decoration-color: #008080; font-weight: bold\">179</span>\n",
       "chunks amount: <span style=\"color: #008080; text-decoration-color: #008080; font-weight: bold\">266</span>\n",
       "thresh: <span style=\"color: #008080; text-decoration-color: #008080; font-weight: bold\">0.8899999999999999</span>\n",
       "</pre>\n"
      ],
      "text/plain": [
       "dist: \u001b[1;36m179\u001b[0m\n",
       "chunks amount: \u001b[1;36m266\u001b[0m\n",
       "thresh: \u001b[1;36m0.8899999999999999\u001b[0m\n"
      ]
     },
     "metadata": {},
     "output_type": "display_data"
    },
    {
     "data": {
      "text/html": [
       "<pre style=\"white-space:pre;overflow-x:auto;line-height:normal;font-family:Menlo,'DejaVu Sans Mono',consolas,'Courier New',monospace\">=========================\n",
       "</pre>\n"
      ],
      "text/plain": [
       "=========================\n"
      ]
     },
     "metadata": {},
     "output_type": "display_data"
    },
    {
     "data": {
      "text/html": [
       "<pre style=\"white-space:pre;overflow-x:auto;line-height:normal;font-family:Menlo,'DejaVu Sans Mono',consolas,'Courier New',monospace\">dist: <span style=\"color: #008080; text-decoration-color: #008080; font-weight: bold\">151</span>\n",
       "chunks amount: <span style=\"color: #008080; text-decoration-color: #008080; font-weight: bold\">238</span>\n",
       "thresh: <span style=\"color: #008080; text-decoration-color: #008080; font-weight: bold\">0.8799999999999999</span>\n",
       "</pre>\n"
      ],
      "text/plain": [
       "dist: \u001b[1;36m151\u001b[0m\n",
       "chunks amount: \u001b[1;36m238\u001b[0m\n",
       "thresh: \u001b[1;36m0.8799999999999999\u001b[0m\n"
      ]
     },
     "metadata": {},
     "output_type": "display_data"
    },
    {
     "data": {
      "text/html": [
       "<pre style=\"white-space:pre;overflow-x:auto;line-height:normal;font-family:Menlo,'DejaVu Sans Mono',consolas,'Courier New',monospace\">=========================\n",
       "</pre>\n"
      ],
      "text/plain": [
       "=========================\n"
      ]
     },
     "metadata": {},
     "output_type": "display_data"
    },
    {
     "data": {
      "text/html": [
       "<pre style=\"white-space:pre;overflow-x:auto;line-height:normal;font-family:Menlo,'DejaVu Sans Mono',consolas,'Courier New',monospace\">dist: <span style=\"color: #008080; text-decoration-color: #008080; font-weight: bold\">136</span>\n",
       "chunks amount: <span style=\"color: #008080; text-decoration-color: #008080; font-weight: bold\">223</span>\n",
       "thresh: <span style=\"color: #008080; text-decoration-color: #008080; font-weight: bold\">0.8699999999999999</span>\n",
       "</pre>\n"
      ],
      "text/plain": [
       "dist: \u001b[1;36m136\u001b[0m\n",
       "chunks amount: \u001b[1;36m223\u001b[0m\n",
       "thresh: \u001b[1;36m0.8699999999999999\u001b[0m\n"
      ]
     },
     "metadata": {},
     "output_type": "display_data"
    },
    {
     "data": {
      "text/html": [
       "<pre style=\"white-space:pre;overflow-x:auto;line-height:normal;font-family:Menlo,'DejaVu Sans Mono',consolas,'Courier New',monospace\">=========================\n",
       "</pre>\n"
      ],
      "text/plain": [
       "=========================\n"
      ]
     },
     "metadata": {},
     "output_type": "display_data"
    },
    {
     "data": {
      "text/html": [
       "<pre style=\"white-space:pre;overflow-x:auto;line-height:normal;font-family:Menlo,'DejaVu Sans Mono',consolas,'Courier New',monospace\">dist: <span style=\"color: #008080; text-decoration-color: #008080; font-weight: bold\">119</span>\n",
       "chunks amount: <span style=\"color: #008080; text-decoration-color: #008080; font-weight: bold\">206</span>\n",
       "thresh: <span style=\"color: #008080; text-decoration-color: #008080; font-weight: bold\">0.8599999999999999</span>\n",
       "</pre>\n"
      ],
      "text/plain": [
       "dist: \u001b[1;36m119\u001b[0m\n",
       "chunks amount: \u001b[1;36m206\u001b[0m\n",
       "thresh: \u001b[1;36m0.8599999999999999\u001b[0m\n"
      ]
     },
     "metadata": {},
     "output_type": "display_data"
    },
    {
     "data": {
      "text/html": [
       "<pre style=\"white-space:pre;overflow-x:auto;line-height:normal;font-family:Menlo,'DejaVu Sans Mono',consolas,'Courier New',monospace\">=========================\n",
       "</pre>\n"
      ],
      "text/plain": [
       "=========================\n"
      ]
     },
     "metadata": {},
     "output_type": "display_data"
    },
    {
     "data": {
      "text/html": [
       "<pre style=\"white-space:pre;overflow-x:auto;line-height:normal;font-family:Menlo,'DejaVu Sans Mono',consolas,'Courier New',monospace\">dist: <span style=\"color: #008080; text-decoration-color: #008080; font-weight: bold\">85</span>\n",
       "chunks amount: <span style=\"color: #008080; text-decoration-color: #008080; font-weight: bold\">2</span>\n",
       "thresh: <span style=\"color: #008080; text-decoration-color: #008080; font-weight: bold\">0.8499999999999999</span>\n",
       "</pre>\n"
      ],
      "text/plain": [
       "dist: \u001b[1;36m85\u001b[0m\n",
       "chunks amount: \u001b[1;36m2\u001b[0m\n",
       "thresh: \u001b[1;36m0.8499999999999999\u001b[0m\n"
      ]
     },
     "metadata": {},
     "output_type": "display_data"
    },
    {
     "data": {
      "text/html": [
       "<pre style=\"white-space:pre;overflow-x:auto;line-height:normal;font-family:Menlo,'DejaVu Sans Mono',consolas,'Courier New',monospace\">=========================\n",
       "</pre>\n"
      ],
      "text/plain": [
       "=========================\n"
      ]
     },
     "metadata": {},
     "output_type": "display_data"
    },
    {
     "data": {
      "text/html": [
       "<pre style=\"white-space:pre;overflow-x:auto;line-height:normal;font-family:Menlo,'DejaVu Sans Mono',consolas,'Courier New',monospace\">dist: <span style=\"color: #008080; text-decoration-color: #008080; font-weight: bold\">83</span>\n",
       "chunks amount: <span style=\"color: #008080; text-decoration-color: #008080; font-weight: bold\">4</span>\n",
       "thresh: <span style=\"color: #008080; text-decoration-color: #008080; font-weight: bold\">0.8399999999999999</span>\n",
       "</pre>\n"
      ],
      "text/plain": [
       "dist: \u001b[1;36m83\u001b[0m\n",
       "chunks amount: \u001b[1;36m4\u001b[0m\n",
       "thresh: \u001b[1;36m0.8399999999999999\u001b[0m\n"
      ]
     },
     "metadata": {},
     "output_type": "display_data"
    },
    {
     "data": {
      "text/html": [
       "<pre style=\"white-space:pre;overflow-x:auto;line-height:normal;font-family:Menlo,'DejaVu Sans Mono',consolas,'Courier New',monospace\">=========================\n",
       "</pre>\n"
      ],
      "text/plain": [
       "=========================\n"
      ]
     },
     "metadata": {},
     "output_type": "display_data"
    },
    {
     "data": {
      "text/plain": [
       "0.8399999999999999"
      ]
     },
     "execution_count": 25,
     "metadata": {},
     "output_type": "execute_result"
    }
   ],
   "source": [
    "paragraphs = len(filter_essay)\n",
    "best_thresh = thresh_tune(paragraphs, split_essay[5:], thresh=0.94, step=0.01)\n",
    "best_thresh"
   ]
  },
  {
   "cell_type": "code",
   "execution_count": 26,
   "id": "94103d19-5730-4082-a349-4b05ad8e10f0",
   "metadata": {
    "scrolled": true
   },
   "outputs": [
    {
     "data": {
      "text/html": [
       "<pre style=\"white-space:pre;overflow-x:auto;line-height:normal;font-family:Menlo,'DejaVu Sans Mono',consolas,'Courier New',monospace\">prev:  I'm sure the default will always be to get a job, but starting a startup could well become as popular as \n",
       "grad school. In the late 90s my professor friends used to complain that they couldn't get grad students, because \n",
       "all the undergrads were going to work for startups. I wouldn't be surprised if that situation returns, but with one\n",
       "difference: this time they'll be starting their own instead of going to work for other people's. The most ambitious\n",
       "students will at this point be asking: Why wait till you graduate? Why not start a startup while you're in college?\n",
       "In fact, why go to college at all? Why not start a startup instead?\n",
       "breakpoint sentence: A year and a half ago I gave a talk where I said that the average age of the founders of \n",
       "Yahoo, Google, and Microsoft was <span style=\"color: #008080; text-decoration-color: #008080; font-weight: bold\">24</span>, and that if grad students could start startups, why not undergrads?\n",
       "dist: <span style=\"color: #008080; text-decoration-color: #008080; font-weight: bold\">0.8494051098823547</span>\n",
       "chunks count: <span style=\"color: #008080; text-decoration-color: #008080; font-weight: bold\">1</span>\n",
       "</pre>\n"
      ],
      "text/plain": [
       "prev:  I'm sure the default will always be to get a job, but starting a startup could well become as popular as \n",
       "grad school. In the late 90s my professor friends used to complain that they couldn't get grad students, because \n",
       "all the undergrads were going to work for startups. I wouldn't be surprised if that situation returns, but with one\n",
       "difference: this time they'll be starting their own instead of going to work for other people's. The most ambitious\n",
       "students will at this point be asking: Why wait till you graduate? Why not start a startup while you're in college?\n",
       "In fact, why go to college at all? Why not start a startup instead?\n",
       "breakpoint sentence: A year and a half ago I gave a talk where I said that the average age of the founders of \n",
       "Yahoo, Google, and Microsoft was \u001b[1;36m24\u001b[0m, and that if grad students could start startups, why not undergrads?\n",
       "dist: \u001b[1;36m0.8494051098823547\u001b[0m\n",
       "chunks count: \u001b[1;36m1\u001b[0m\n"
      ]
     },
     "metadata": {},
     "output_type": "display_data"
    },
    {
     "data": {
      "text/html": [
       "<pre style=\"white-space:pre;overflow-x:auto;line-height:normal;font-family:Menlo,'DejaVu Sans Mono',consolas,'Courier New',monospace\">=========================\n",
       "</pre>\n"
      ],
      "text/plain": [
       "=========================\n"
      ]
     },
     "metadata": {},
     "output_type": "display_data"
    },
    {
     "data": {
      "text/html": [
       "<pre style=\"white-space:pre;overflow-x:auto;line-height:normal;font-family:Menlo,'DejaVu Sans Mono',consolas,'Courier New',monospace\">prev: A year and a half ago I gave a talk where I said that the average age of the founders of Yahoo, Google, and \n",
       "Microsoft was <span style=\"color: #008080; text-decoration-color: #008080; font-weight: bold\">24</span>, and that if grad students could start startups, why not undergrads? I'm glad I phrased that as a \n",
       "question, because now I can pretend it wasn't merely a rhetorical one. At the time I couldn't imagine why there \n",
       "should be any lower limit for the age of startup founders. Graduation is a bureaucratic change, not a biological \n",
       "one. And certainly there are undergrads as competent technically as most grad students. So why shouldn't undergrads\n",
       "be able to start startups as well as grad students? I now realize that something does change at graduation: you \n",
       "lose a huge excuse for failing. Regardless of how complex your life is, you'll find that everyone else, including \n",
       "your family and friends, will discard all the low bits and regard you as having a single occupation at any given \n",
       "time. If you're in college and have a summer job writing software, you still read as a student. Whereas if you \n",
       "graduate and get a job programming, you'll be instantly regarded by everyone as a programmer. The problem with \n",
       "starting a startup while you're still in school is that there's a built-in escape hatch. If you start a startup in \n",
       "the summer between your junior and senior year, it reads to everyone as a summer job.\n",
       "breakpoint sentence: So if it goes nowhere, big deal; you return to school in the fall with all the other seniors; \n",
       "no one regards you as a failure, because your occupation is student, and you didn't fail at that.\n",
       "dist: <span style=\"color: #008080; text-decoration-color: #008080; font-weight: bold\">0.8587237000465393</span>\n",
       "chunks count: <span style=\"color: #008080; text-decoration-color: #008080; font-weight: bold\">2</span>\n",
       "</pre>\n"
      ],
      "text/plain": [
       "prev: A year and a half ago I gave a talk where I said that the average age of the founders of Yahoo, Google, and \n",
       "Microsoft was \u001b[1;36m24\u001b[0m, and that if grad students could start startups, why not undergrads? I'm glad I phrased that as a \n",
       "question, because now I can pretend it wasn't merely a rhetorical one. At the time I couldn't imagine why there \n",
       "should be any lower limit for the age of startup founders. Graduation is a bureaucratic change, not a biological \n",
       "one. And certainly there are undergrads as competent technically as most grad students. So why shouldn't undergrads\n",
       "be able to start startups as well as grad students? I now realize that something does change at graduation: you \n",
       "lose a huge excuse for failing. Regardless of how complex your life is, you'll find that everyone else, including \n",
       "your family and friends, will discard all the low bits and regard you as having a single occupation at any given \n",
       "time. If you're in college and have a summer job writing software, you still read as a student. Whereas if you \n",
       "graduate and get a job programming, you'll be instantly regarded by everyone as a programmer. The problem with \n",
       "starting a startup while you're still in school is that there's a built-in escape hatch. If you start a startup in \n",
       "the summer between your junior and senior year, it reads to everyone as a summer job.\n",
       "breakpoint sentence: So if it goes nowhere, big deal; you return to school in the fall with all the other seniors; \n",
       "no one regards you as a failure, because your occupation is student, and you didn't fail at that.\n",
       "dist: \u001b[1;36m0.8587237000465393\u001b[0m\n",
       "chunks count: \u001b[1;36m2\u001b[0m\n"
      ]
     },
     "metadata": {},
     "output_type": "display_data"
    },
    {
     "data": {
      "text/html": [
       "<pre style=\"white-space:pre;overflow-x:auto;line-height:normal;font-family:Menlo,'DejaVu Sans Mono',consolas,'Courier New',monospace\">=========================\n",
       "</pre>\n"
      ],
      "text/plain": [
       "=========================\n"
      ]
     },
     "metadata": {},
     "output_type": "display_data"
    },
    {
     "data": {
      "text/html": [
       "<pre style=\"white-space:pre;overflow-x:auto;line-height:normal;font-family:Menlo,'DejaVu Sans Mono',consolas,'Courier New',monospace\">prev: So if it goes nowhere, big deal; you return to school in the fall with all the other seniors; no one regards \n",
       "you as a failure, because your occupation is student, and you didn't fail at that.\n",
       "breakpoint sentence: Whereas if you start a startup just one year later, after you graduate, as long as you're not \n",
       "accepted to grad school in the fall the startup reads to everyone as your occupation.\n",
       "dist: <span style=\"color: #008080; text-decoration-color: #008080; font-weight: bold\">0.6914858222007751</span>\n",
       "chunks count: <span style=\"color: #008080; text-decoration-color: #008080; font-weight: bold\">3</span>\n",
       "</pre>\n"
      ],
      "text/plain": [
       "prev: So if it goes nowhere, big deal; you return to school in the fall with all the other seniors; no one regards \n",
       "you as a failure, because your occupation is student, and you didn't fail at that.\n",
       "breakpoint sentence: Whereas if you start a startup just one year later, after you graduate, as long as you're not \n",
       "accepted to grad school in the fall the startup reads to everyone as your occupation.\n",
       "dist: \u001b[1;36m0.6914858222007751\u001b[0m\n",
       "chunks count: \u001b[1;36m3\u001b[0m\n"
      ]
     },
     "metadata": {},
     "output_type": "display_data"
    },
    {
     "data": {
      "text/html": [
       "<pre style=\"white-space:pre;overflow-x:auto;line-height:normal;font-family:Menlo,'DejaVu Sans Mono',consolas,'Courier New',monospace\">=========================\n",
       "</pre>\n"
      ],
      "text/plain": [
       "=========================\n"
      ]
     },
     "metadata": {},
     "output_type": "display_data"
    },
    {
     "data": {
      "text/html": [
       "<pre style=\"white-space:pre;overflow-x:auto;line-height:normal;font-family:Menlo,'DejaVu Sans Mono',consolas,'Courier New',monospace\">prev: Whereas if you start a startup just one year later, after you graduate, as long as you're not accepted to \n",
       "grad school in the fall the startup reads to everyone as your occupation. You're now a startup founder, so you have\n",
       "to do well at that.\n",
       "breakpoint sentence: For nearly everyone, the opinion of one's peers is the most powerful motivator of all—more \n",
       "powerful even than the nominal goal of most startup founders, getting rich.\n",
       "dist: <span style=\"color: #008080; text-decoration-color: #008080; font-weight: bold\">0.7966844439506531</span>\n",
       "chunks count: <span style=\"color: #008080; text-decoration-color: #008080; font-weight: bold\">4</span>\n",
       "</pre>\n"
      ],
      "text/plain": [
       "prev: Whereas if you start a startup just one year later, after you graduate, as long as you're not accepted to \n",
       "grad school in the fall the startup reads to everyone as your occupation. You're now a startup founder, so you have\n",
       "to do well at that.\n",
       "breakpoint sentence: For nearly everyone, the opinion of one's peers is the most powerful motivator of all—more \n",
       "powerful even than the nominal goal of most startup founders, getting rich.\n",
       "dist: \u001b[1;36m0.7966844439506531\u001b[0m\n",
       "chunks count: \u001b[1;36m4\u001b[0m\n"
      ]
     },
     "metadata": {},
     "output_type": "display_data"
    },
    {
     "data": {
      "text/html": [
       "<pre style=\"white-space:pre;overflow-x:auto;line-height:normal;font-family:Menlo,'DejaVu Sans Mono',consolas,'Courier New',monospace\">=========================\n",
       "</pre>\n"
      ],
      "text/plain": [
       "=========================\n"
      ]
     },
     "metadata": {},
     "output_type": "display_data"
    },
    {
     "data": {
      "text/html": [
       "<pre style=\"white-space:pre;overflow-x:auto;line-height:normal;font-family:Menlo,'DejaVu Sans Mono',consolas,'Courier New',monospace\">prev: For nearly everyone, the opinion of one's peers is the most powerful motivator of all—more powerful even than\n",
       "the nominal goal of most startup founders, getting rich.\n",
       "breakpoint sentence: <span style=\"font-weight: bold\">[</span><span style=\"color: #008080; text-decoration-color: #008080; font-weight: bold\">1</span><span style=\"font-weight: bold\">]</span> About a month into each funding cycle we have an event called Prototype Day where each \n",
       "startup presents to the others what they've got so far.\n",
       "dist: <span style=\"color: #008080; text-decoration-color: #008080; font-weight: bold\">0.7339274287223816</span>\n",
       "chunks count: <span style=\"color: #008080; text-decoration-color: #008080; font-weight: bold\">5</span>\n",
       "</pre>\n"
      ],
      "text/plain": [
       "prev: For nearly everyone, the opinion of one's peers is the most powerful motivator of all—more powerful even than\n",
       "the nominal goal of most startup founders, getting rich.\n",
       "breakpoint sentence: \u001b[1m[\u001b[0m\u001b[1;36m1\u001b[0m\u001b[1m]\u001b[0m About a month into each funding cycle we have an event called Prototype Day where each \n",
       "startup presents to the others what they've got so far.\n",
       "dist: \u001b[1;36m0.7339274287223816\u001b[0m\n",
       "chunks count: \u001b[1;36m5\u001b[0m\n"
      ]
     },
     "metadata": {},
     "output_type": "display_data"
    },
    {
     "data": {
      "text/html": [
       "<pre style=\"white-space:pre;overflow-x:auto;line-height:normal;font-family:Menlo,'DejaVu Sans Mono',consolas,'Courier New',monospace\">=========================\n",
       "</pre>\n"
      ],
      "text/plain": [
       "=========================\n"
      ]
     },
     "metadata": {},
     "output_type": "display_data"
    },
    {
     "data": {
      "text/html": [
       "<pre style=\"white-space:pre;overflow-x:auto;line-height:normal;font-family:Menlo,'DejaVu Sans Mono',consolas,'Courier New',monospace\">prev: <span style=\"font-weight: bold\">[</span><span style=\"color: #008080; text-decoration-color: #008080; font-weight: bold\">1</span><span style=\"font-weight: bold\">]</span> About a month into each funding cycle we have an event called Prototype Day where each startup presents \n",
       "to the others what they've got so far.\n",
       "breakpoint sentence: You might think they wouldn't need any more motivation.\n",
       "dist: <span style=\"color: #008080; text-decoration-color: #008080; font-weight: bold\">0.8514257669448853</span>\n",
       "chunks count: <span style=\"color: #008080; text-decoration-color: #008080; font-weight: bold\">6</span>\n",
       "</pre>\n"
      ],
      "text/plain": [
       "prev: \u001b[1m[\u001b[0m\u001b[1;36m1\u001b[0m\u001b[1m]\u001b[0m About a month into each funding cycle we have an event called Prototype Day where each startup presents \n",
       "to the others what they've got so far.\n",
       "breakpoint sentence: You might think they wouldn't need any more motivation.\n",
       "dist: \u001b[1;36m0.8514257669448853\u001b[0m\n",
       "chunks count: \u001b[1;36m6\u001b[0m\n"
      ]
     },
     "metadata": {},
     "output_type": "display_data"
    },
    {
     "data": {
      "text/html": [
       "<pre style=\"white-space:pre;overflow-x:auto;line-height:normal;font-family:Menlo,'DejaVu Sans Mono',consolas,'Courier New',monospace\">=========================\n",
       "</pre>\n"
      ],
      "text/plain": [
       "=========================\n"
      ]
     },
     "metadata": {},
     "output_type": "display_data"
    },
    {
     "data": {
      "text/html": [
       "<pre style=\"white-space:pre;overflow-x:auto;line-height:normal;font-family:Menlo,'DejaVu Sans Mono',consolas,'Courier New',monospace\">prev: You might think they wouldn't need any more motivation.\n",
       "breakpoint sentence: They're working on their cool new idea; they have funding for the immediate future; and \n",
       "they're playing a game with only two outcomes: wealth or failure.\n",
       "dist: <span style=\"color: #008080; text-decoration-color: #008080; font-weight: bold\">0.7141410112380981</span>\n",
       "chunks count: <span style=\"color: #008080; text-decoration-color: #008080; font-weight: bold\">7</span>\n",
       "</pre>\n"
      ],
      "text/plain": [
       "prev: You might think they wouldn't need any more motivation.\n",
       "breakpoint sentence: They're working on their cool new idea; they have funding for the immediate future; and \n",
       "they're playing a game with only two outcomes: wealth or failure.\n",
       "dist: \u001b[1;36m0.7141410112380981\u001b[0m\n",
       "chunks count: \u001b[1;36m7\u001b[0m\n"
      ]
     },
     "metadata": {},
     "output_type": "display_data"
    },
    {
     "data": {
      "text/html": [
       "<pre style=\"white-space:pre;overflow-x:auto;line-height:normal;font-family:Menlo,'DejaVu Sans Mono',consolas,'Courier New',monospace\">=========================\n",
       "</pre>\n"
      ],
      "text/plain": [
       "=========================\n"
      ]
     },
     "metadata": {},
     "output_type": "display_data"
    },
    {
     "data": {
      "text/html": [
       "<pre style=\"white-space:pre;overflow-x:auto;line-height:normal;font-family:Menlo,'DejaVu Sans Mono',consolas,'Courier New',monospace\">prev: They're working on their cool new idea; they have funding for the immediate future; and they're playing a \n",
       "game with only two outcomes: wealth or failure. You'd think that would be motivation enough.\n",
       "breakpoint sentence: And yet the prospect of a demo pushes most of them into a rush of activity.\n",
       "dist: <span style=\"color: #008080; text-decoration-color: #008080; font-weight: bold\">0.6995887756347656</span>\n",
       "chunks count: <span style=\"color: #008080; text-decoration-color: #008080; font-weight: bold\">8</span>\n",
       "</pre>\n"
      ],
      "text/plain": [
       "prev: They're working on their cool new idea; they have funding for the immediate future; and they're playing a \n",
       "game with only two outcomes: wealth or failure. You'd think that would be motivation enough.\n",
       "breakpoint sentence: And yet the prospect of a demo pushes most of them into a rush of activity.\n",
       "dist: \u001b[1;36m0.6995887756347656\u001b[0m\n",
       "chunks count: \u001b[1;36m8\u001b[0m\n"
      ]
     },
     "metadata": {},
     "output_type": "display_data"
    },
    {
     "data": {
      "text/html": [
       "<pre style=\"white-space:pre;overflow-x:auto;line-height:normal;font-family:Menlo,'DejaVu Sans Mono',consolas,'Courier New',monospace\">=========================\n",
       "</pre>\n"
      ],
      "text/plain": [
       "=========================\n"
      ]
     },
     "metadata": {},
     "output_type": "display_data"
    },
    {
     "data": {
      "text/html": [
       "<pre style=\"white-space:pre;overflow-x:auto;line-height:normal;font-family:Menlo,'DejaVu Sans Mono',consolas,'Courier New',monospace\">prev: And yet the prospect of a demo pushes most of them into a rush of activity.\n",
       "breakpoint sentence: Even if you start a startup explicitly to get rich, the money you might get seems pretty \n",
       "theoretical most of the time.\n",
       "dist: <span style=\"color: #008080; text-decoration-color: #008080; font-weight: bold\">0.5668565630912781</span>\n",
       "chunks count: <span style=\"color: #008080; text-decoration-color: #008080; font-weight: bold\">9</span>\n",
       "</pre>\n"
      ],
      "text/plain": [
       "prev: And yet the prospect of a demo pushes most of them into a rush of activity.\n",
       "breakpoint sentence: Even if you start a startup explicitly to get rich, the money you might get seems pretty \n",
       "theoretical most of the time.\n",
       "dist: \u001b[1;36m0.5668565630912781\u001b[0m\n",
       "chunks count: \u001b[1;36m9\u001b[0m\n"
      ]
     },
     "metadata": {},
     "output_type": "display_data"
    },
    {
     "data": {
      "text/html": [
       "<pre style=\"white-space:pre;overflow-x:auto;line-height:normal;font-family:Menlo,'DejaVu Sans Mono',consolas,'Courier New',monospace\">=========================\n",
       "</pre>\n"
      ],
      "text/plain": [
       "=========================\n"
      ]
     },
     "metadata": {},
     "output_type": "display_data"
    },
    {
     "data": {
      "text/html": [
       "<pre style=\"white-space:pre;overflow-x:auto;line-height:normal;font-family:Menlo,'DejaVu Sans Mono',consolas,'Courier New',monospace\">prev: Even if you start a startup explicitly to get rich, the money you might get seems pretty theoretical most of \n",
       "the time.\n",
       "breakpoint sentence: What drives you day to day is not wanting to look bad.\n",
       "dist: <span style=\"color: #008080; text-decoration-color: #008080; font-weight: bold\">0.8001149892807007</span>\n",
       "chunks count: <span style=\"color: #008080; text-decoration-color: #008080; font-weight: bold\">10</span>\n",
       "</pre>\n"
      ],
      "text/plain": [
       "prev: Even if you start a startup explicitly to get rich, the money you might get seems pretty theoretical most of \n",
       "the time.\n",
       "breakpoint sentence: What drives you day to day is not wanting to look bad.\n",
       "dist: \u001b[1;36m0.8001149892807007\u001b[0m\n",
       "chunks count: \u001b[1;36m10\u001b[0m\n"
      ]
     },
     "metadata": {},
     "output_type": "display_data"
    },
    {
     "data": {
      "text/html": [
       "<pre style=\"white-space:pre;overflow-x:auto;line-height:normal;font-family:Menlo,'DejaVu Sans Mono',consolas,'Courier New',monospace\">=========================\n",
       "</pre>\n"
      ],
      "text/plain": [
       "=========================\n"
      ]
     },
     "metadata": {},
     "output_type": "display_data"
    },
    {
     "data": {
      "text/html": [
       "<pre style=\"white-space:pre;overflow-x:auto;line-height:normal;font-family:Menlo,'DejaVu Sans Mono',consolas,'Courier New',monospace\">prev: What drives you day to day is not wanting to look bad. You probably can't change that.\n",
       "breakpoint sentence: Even if you could, I don't think you'd want to; someone who really, truly doesn't care what \n",
       "his peers think of him is probably a psychopath.\n",
       "dist: <span style=\"color: #008080; text-decoration-color: #008080; font-weight: bold\">0.6196656227111816</span>\n",
       "chunks count: <span style=\"color: #008080; text-decoration-color: #008080; font-weight: bold\">11</span>\n",
       "</pre>\n"
      ],
      "text/plain": [
       "prev: What drives you day to day is not wanting to look bad. You probably can't change that.\n",
       "breakpoint sentence: Even if you could, I don't think you'd want to; someone who really, truly doesn't care what \n",
       "his peers think of him is probably a psychopath.\n",
       "dist: \u001b[1;36m0.6196656227111816\u001b[0m\n",
       "chunks count: \u001b[1;36m11\u001b[0m\n"
      ]
     },
     "metadata": {},
     "output_type": "display_data"
    },
    {
     "data": {
      "text/html": [
       "<pre style=\"white-space:pre;overflow-x:auto;line-height:normal;font-family:Menlo,'DejaVu Sans Mono',consolas,'Courier New',monospace\">=========================\n",
       "</pre>\n"
      ],
      "text/plain": [
       "=========================\n"
      ]
     },
     "metadata": {},
     "output_type": "display_data"
    },
    {
     "data": {
      "text/html": [
       "<pre style=\"white-space:pre;overflow-x:auto;line-height:normal;font-family:Menlo,'DejaVu Sans Mono',consolas,'Courier New',monospace\">prev: Even if you could, I don't think you'd want to; someone who really, truly doesn't care what his peers think \n",
       "of him is probably a psychopath.\n",
       "breakpoint sentence: So the best you can do is consider this force like a wind, and set up your boat accordingly.\n",
       "dist: <span style=\"color: #008080; text-decoration-color: #008080; font-weight: bold\">0.8210265636444092</span>\n",
       "chunks count: <span style=\"color: #008080; text-decoration-color: #008080; font-weight: bold\">12</span>\n",
       "</pre>\n"
      ],
      "text/plain": [
       "prev: Even if you could, I don't think you'd want to; someone who really, truly doesn't care what his peers think \n",
       "of him is probably a psychopath.\n",
       "breakpoint sentence: So the best you can do is consider this force like a wind, and set up your boat accordingly.\n",
       "dist: \u001b[1;36m0.8210265636444092\u001b[0m\n",
       "chunks count: \u001b[1;36m12\u001b[0m\n"
      ]
     },
     "metadata": {},
     "output_type": "display_data"
    },
    {
     "data": {
      "text/html": [
       "<pre style=\"white-space:pre;overflow-x:auto;line-height:normal;font-family:Menlo,'DejaVu Sans Mono',consolas,'Courier New',monospace\">=========================\n",
       "</pre>\n"
      ],
      "text/plain": [
       "=========================\n"
      ]
     },
     "metadata": {},
     "output_type": "display_data"
    },
    {
     "data": {
      "text/html": [
       "<pre style=\"white-space:pre;overflow-x:auto;line-height:normal;font-family:Menlo,'DejaVu Sans Mono',consolas,'Courier New',monospace\">prev: So the best you can do is consider this force like a wind, and set up your boat accordingly.\n",
       "breakpoint sentence: If you know your peers are going to push you in some direction, choose good peers, and \n",
       "position yourself so they push you in a direction you like.\n",
       "dist: <span style=\"color: #008080; text-decoration-color: #008080; font-weight: bold\">0.7668416500091553</span>\n",
       "chunks count: <span style=\"color: #008080; text-decoration-color: #008080; font-weight: bold\">13</span>\n",
       "</pre>\n"
      ],
      "text/plain": [
       "prev: So the best you can do is consider this force like a wind, and set up your boat accordingly.\n",
       "breakpoint sentence: If you know your peers are going to push you in some direction, choose good peers, and \n",
       "position yourself so they push you in a direction you like.\n",
       "dist: \u001b[1;36m0.7668416500091553\u001b[0m\n",
       "chunks count: \u001b[1;36m13\u001b[0m\n"
      ]
     },
     "metadata": {},
     "output_type": "display_data"
    },
    {
     "data": {
      "text/html": [
       "<pre style=\"white-space:pre;overflow-x:auto;line-height:normal;font-family:Menlo,'DejaVu Sans Mono',consolas,'Courier New',monospace\">=========================\n",
       "</pre>\n"
      ],
      "text/plain": [
       "=========================\n"
      ]
     },
     "metadata": {},
     "output_type": "display_data"
    },
    {
     "data": {
      "text/html": [
       "<pre style=\"white-space:pre;overflow-x:auto;line-height:normal;font-family:Menlo,'DejaVu Sans Mono',consolas,'Courier New',monospace\">prev: If you know your peers are going to push you in some direction, choose good peers, and position yourself so \n",
       "they push you in a direction you like.\n",
       "breakpoint sentence: Graduation changes the prevailing winds, and those make a difference.\n",
       "dist: <span style=\"color: #008080; text-decoration-color: #008080; font-weight: bold\">0.7778142690658569</span>\n",
       "chunks count: <span style=\"color: #008080; text-decoration-color: #008080; font-weight: bold\">14</span>\n",
       "</pre>\n"
      ],
      "text/plain": [
       "prev: If you know your peers are going to push you in some direction, choose good peers, and position yourself so \n",
       "they push you in a direction you like.\n",
       "breakpoint sentence: Graduation changes the prevailing winds, and those make a difference.\n",
       "dist: \u001b[1;36m0.7778142690658569\u001b[0m\n",
       "chunks count: \u001b[1;36m14\u001b[0m\n"
      ]
     },
     "metadata": {},
     "output_type": "display_data"
    },
    {
     "data": {
      "text/html": [
       "<pre style=\"white-space:pre;overflow-x:auto;line-height:normal;font-family:Menlo,'DejaVu Sans Mono',consolas,'Courier New',monospace\">=========================\n",
       "</pre>\n"
      ],
      "text/plain": [
       "=========================\n"
      ]
     },
     "metadata": {},
     "output_type": "display_data"
    },
    {
     "data": {
      "text/html": [
       "<pre style=\"white-space:pre;overflow-x:auto;line-height:normal;font-family:Menlo,'DejaVu Sans Mono',consolas,'Courier New',monospace\">prev: Graduation changes the prevailing winds, and those make a difference.\n",
       "breakpoint sentence: Starting a startup is so hard that it's a close call even for the ones that succeed.\n",
       "dist: <span style=\"color: #008080; text-decoration-color: #008080; font-weight: bold\">0.653009831905365</span>\n",
       "chunks count: <span style=\"color: #008080; text-decoration-color: #008080; font-weight: bold\">15</span>\n",
       "</pre>\n"
      ],
      "text/plain": [
       "prev: Graduation changes the prevailing winds, and those make a difference.\n",
       "breakpoint sentence: Starting a startup is so hard that it's a close call even for the ones that succeed.\n",
       "dist: \u001b[1;36m0.653009831905365\u001b[0m\n",
       "chunks count: \u001b[1;36m15\u001b[0m\n"
      ]
     },
     "metadata": {},
     "output_type": "display_data"
    },
    {
     "data": {
      "text/html": [
       "<pre style=\"white-space:pre;overflow-x:auto;line-height:normal;font-family:Menlo,'DejaVu Sans Mono',consolas,'Courier New',monospace\">=========================\n",
       "</pre>\n"
      ],
      "text/plain": [
       "=========================\n"
      ]
     },
     "metadata": {},
     "output_type": "display_data"
    },
    {
     "data": {
      "text/html": [
       "<pre style=\"white-space:pre;overflow-x:auto;line-height:normal;font-family:Menlo,'DejaVu Sans Mono',consolas,'Courier New',monospace\">prev: Starting a startup is so hard that it's a close call even for the ones that succeed.\n",
       "breakpoint sentence: However high a startup may be flying now, it probably has a few leaves stuck in the landing \n",
       "gear from those trees it barely cleared at the end of the runway.\n",
       "dist: <span style=\"color: #008080; text-decoration-color: #008080; font-weight: bold\">0.7244086265563965</span>\n",
       "chunks count: <span style=\"color: #008080; text-decoration-color: #008080; font-weight: bold\">16</span>\n",
       "</pre>\n"
      ],
      "text/plain": [
       "prev: Starting a startup is so hard that it's a close call even for the ones that succeed.\n",
       "breakpoint sentence: However high a startup may be flying now, it probably has a few leaves stuck in the landing \n",
       "gear from those trees it barely cleared at the end of the runway.\n",
       "dist: \u001b[1;36m0.7244086265563965\u001b[0m\n",
       "chunks count: \u001b[1;36m16\u001b[0m\n"
      ]
     },
     "metadata": {},
     "output_type": "display_data"
    },
    {
     "data": {
      "text/html": [
       "<pre style=\"white-space:pre;overflow-x:auto;line-height:normal;font-family:Menlo,'DejaVu Sans Mono',consolas,'Courier New',monospace\">=========================\n",
       "</pre>\n"
      ],
      "text/plain": [
       "=========================\n"
      ]
     },
     "metadata": {},
     "output_type": "display_data"
    },
    {
     "data": {
      "text/html": [
       "<pre style=\"white-space:pre;overflow-x:auto;line-height:normal;font-family:Menlo,'DejaVu Sans Mono',consolas,'Courier New',monospace\">prev: However high a startup may be flying now, it probably has a few leaves stuck in the landing gear from those \n",
       "trees it barely cleared at the end of the runway.\n",
       "breakpoint sentence: In such a close game, the smallest increase in the forces against you can be enough to flick \n",
       "you over the edge into failure.\n",
       "dist: <span style=\"color: #008080; text-decoration-color: #008080; font-weight: bold\">0.8236750364303589</span>\n",
       "chunks count: <span style=\"color: #008080; text-decoration-color: #008080; font-weight: bold\">17</span>\n",
       "</pre>\n"
      ],
      "text/plain": [
       "prev: However high a startup may be flying now, it probably has a few leaves stuck in the landing gear from those \n",
       "trees it barely cleared at the end of the runway.\n",
       "breakpoint sentence: In such a close game, the smallest increase in the forces against you can be enough to flick \n",
       "you over the edge into failure.\n",
       "dist: \u001b[1;36m0.8236750364303589\u001b[0m\n",
       "chunks count: \u001b[1;36m17\u001b[0m\n"
      ]
     },
     "metadata": {},
     "output_type": "display_data"
    },
    {
     "data": {
      "text/html": [
       "<pre style=\"white-space:pre;overflow-x:auto;line-height:normal;font-family:Menlo,'DejaVu Sans Mono',consolas,'Courier New',monospace\">=========================\n",
       "</pre>\n"
      ],
      "text/plain": [
       "=========================\n"
      ]
     },
     "metadata": {},
     "output_type": "display_data"
    },
    {
     "data": {
      "text/html": [
       "<pre style=\"white-space:pre;overflow-x:auto;line-height:normal;font-family:Menlo,'DejaVu Sans Mono',consolas,'Courier New',monospace\">prev: In such a close game, the smallest increase in the forces against you can be enough to flick you over the \n",
       "edge into failure.\n",
       "breakpoint sentence: When we first started Y Combinator we encouraged people to start startups while they were \n",
       "still in college.\n",
       "dist: <span style=\"color: #008080; text-decoration-color: #008080; font-weight: bold\">0.49091920256614685</span>\n",
       "chunks count: <span style=\"color: #008080; text-decoration-color: #008080; font-weight: bold\">18</span>\n",
       "</pre>\n"
      ],
      "text/plain": [
       "prev: In such a close game, the smallest increase in the forces against you can be enough to flick you over the \n",
       "edge into failure.\n",
       "breakpoint sentence: When we first started Y Combinator we encouraged people to start startups while they were \n",
       "still in college.\n",
       "dist: \u001b[1;36m0.49091920256614685\u001b[0m\n",
       "chunks count: \u001b[1;36m18\u001b[0m\n"
      ]
     },
     "metadata": {},
     "output_type": "display_data"
    },
    {
     "data": {
      "text/html": [
       "<pre style=\"white-space:pre;overflow-x:auto;line-height:normal;font-family:Menlo,'DejaVu Sans Mono',consolas,'Courier New',monospace\">=========================\n",
       "</pre>\n"
      ],
      "text/plain": [
       "=========================\n"
      ]
     },
     "metadata": {},
     "output_type": "display_data"
    },
    {
     "data": {
      "text/html": [
       "<pre style=\"white-space:pre;overflow-x:auto;line-height:normal;font-family:Menlo,'DejaVu Sans Mono',consolas,'Courier New',monospace\">prev: When we first started Y Combinator we encouraged people to start startups while they were still in college. \n",
       "That's partly because Y Combinator began as a kind of summer program. We've kept the program shape—all of us having\n",
       "dinner together once a week turns out to be a good idea—but we've decided now that the party line should be to tell\n",
       "people to wait till they graduate.\n",
       "breakpoint sentence: Does that mean you can't start a startup in college?\n",
       "dist: <span style=\"color: #008080; text-decoration-color: #008080; font-weight: bold\">0.761128842830658</span>\n",
       "chunks count: <span style=\"color: #008080; text-decoration-color: #008080; font-weight: bold\">19</span>\n",
       "</pre>\n"
      ],
      "text/plain": [
       "prev: When we first started Y Combinator we encouraged people to start startups while they were still in college. \n",
       "That's partly because Y Combinator began as a kind of summer program. We've kept the program shape—all of us having\n",
       "dinner together once a week turns out to be a good idea—but we've decided now that the party line should be to tell\n",
       "people to wait till they graduate.\n",
       "breakpoint sentence: Does that mean you can't start a startup in college?\n",
       "dist: \u001b[1;36m0.761128842830658\u001b[0m\n",
       "chunks count: \u001b[1;36m19\u001b[0m\n"
      ]
     },
     "metadata": {},
     "output_type": "display_data"
    },
    {
     "data": {
      "text/html": [
       "<pre style=\"white-space:pre;overflow-x:auto;line-height:normal;font-family:Menlo,'DejaVu Sans Mono',consolas,'Courier New',monospace\">=========================\n",
       "</pre>\n"
      ],
      "text/plain": [
       "=========================\n"
      ]
     },
     "metadata": {},
     "output_type": "display_data"
    },
    {
     "data": {
      "text/html": [
       "<pre style=\"white-space:pre;overflow-x:auto;line-height:normal;font-family:Menlo,'DejaVu Sans Mono',consolas,'Courier New',monospace\">prev: Does that mean you can't start a startup in college? Not at all.\n",
       "breakpoint sentence: Sam Altman, the co-founder of Loopt, had just finished his sophomore year when we funded them,\n",
       "and Loopt is probably the most promising of all the startups we've funded so far.\n",
       "dist: <span style=\"color: #008080; text-decoration-color: #008080; font-weight: bold\">0.7532610297203064</span>\n",
       "chunks count: <span style=\"color: #008080; text-decoration-color: #008080; font-weight: bold\">20</span>\n",
       "</pre>\n"
      ],
      "text/plain": [
       "prev: Does that mean you can't start a startup in college? Not at all.\n",
       "breakpoint sentence: Sam Altman, the co-founder of Loopt, had just finished his sophomore year when we funded them,\n",
       "and Loopt is probably the most promising of all the startups we've funded so far.\n",
       "dist: \u001b[1;36m0.7532610297203064\u001b[0m\n",
       "chunks count: \u001b[1;36m20\u001b[0m\n"
      ]
     },
     "metadata": {},
     "output_type": "display_data"
    },
    {
     "data": {
      "text/html": [
       "<pre style=\"white-space:pre;overflow-x:auto;line-height:normal;font-family:Menlo,'DejaVu Sans Mono',consolas,'Courier New',monospace\">=========================\n",
       "</pre>\n"
      ],
      "text/plain": [
       "=========================\n"
      ]
     },
     "metadata": {},
     "output_type": "display_data"
    },
    {
     "data": {
      "text/html": [
       "<pre style=\"white-space:pre;overflow-x:auto;line-height:normal;font-family:Menlo,'DejaVu Sans Mono',consolas,'Courier New',monospace\">prev: Sam Altman, the co-founder of Loopt, had just finished his sophomore year when we funded them, and Loopt is \n",
       "probably the most promising of all the startups we've funded so far. But Sam Altman is a very unusual guy.\n",
       "breakpoint sentence: Within about three minutes of meeting him, I remember thinking <span style=\"color: #008000; text-decoration-color: #008000\">\"Ah, so this is what Bill Gates</span>\n",
       "<span style=\"color: #008000; text-decoration-color: #008000\">must have been like when he was 19.\"</span>\n",
       "\n",
       "If it can work to start a startup during college, why do we tell people not to?\n",
       "dist: <span style=\"color: #008080; text-decoration-color: #008080; font-weight: bold\">0.638606071472168</span>\n",
       "chunks count: <span style=\"color: #008080; text-decoration-color: #008080; font-weight: bold\">21</span>\n",
       "</pre>\n"
      ],
      "text/plain": [
       "prev: Sam Altman, the co-founder of Loopt, had just finished his sophomore year when we funded them, and Loopt is \n",
       "probably the most promising of all the startups we've funded so far. But Sam Altman is a very unusual guy.\n",
       "breakpoint sentence: Within about three minutes of meeting him, I remember thinking \u001b[32m\"Ah, so this is what Bill Gates\u001b[0m\n",
       "\u001b[32mmust have been like when he was 19.\"\u001b[0m\n",
       "\n",
       "If it can work to start a startup during college, why do we tell people not to?\n",
       "dist: \u001b[1;36m0.638606071472168\u001b[0m\n",
       "chunks count: \u001b[1;36m21\u001b[0m\n"
      ]
     },
     "metadata": {},
     "output_type": "display_data"
    },
    {
     "data": {
      "text/html": [
       "<pre style=\"white-space:pre;overflow-x:auto;line-height:normal;font-family:Menlo,'DejaVu Sans Mono',consolas,'Courier New',monospace\">=========================\n",
       "</pre>\n"
      ],
      "text/plain": [
       "=========================\n"
      ]
     },
     "metadata": {},
     "output_type": "display_data"
    },
    {
     "data": {
      "text/html": [
       "<pre style=\"white-space:pre;overflow-x:auto;line-height:normal;font-family:Menlo,'DejaVu Sans Mono',consolas,'Courier New',monospace\">prev: Within about three minutes of meeting him, I remember thinking <span style=\"color: #008000; text-decoration-color: #008000\">\"Ah, so this is what Bill Gates must have been</span>\n",
       "<span style=\"color: #008000; text-decoration-color: #008000\">like when he was 19.\"</span>\n",
       "\n",
       "If it can work to start a startup during college, why do we tell people not to? For the same reason that the \n",
       "probably apocryphal violinist, whenever he was asked to judge someone's playing, would always say they didn't have \n",
       "enough talent to make it as a pro. Succeeding as a musician takes determination as well as talent, so this answer \n",
       "works out to be the right advice for everyone. The ones who are uncertain believe it and give up, and the ones who \n",
       "are sufficiently determined think <span style=\"color: #008000; text-decoration-color: #008000\">\"screw that, I'll succeed anyway.\"</span>\n",
       "\n",
       "So our official policy now is only to fund undergrads we can't talk out of it.\n",
       "breakpoint sentence: And frankly, if you're not certain, you should wait.\n",
       "dist: <span style=\"color: #008080; text-decoration-color: #008080; font-weight: bold\">0.8427528142929077</span>\n",
       "chunks count: <span style=\"color: #008080; text-decoration-color: #008080; font-weight: bold\">22</span>\n",
       "</pre>\n"
      ],
      "text/plain": [
       "prev: Within about three minutes of meeting him, I remember thinking \u001b[32m\"Ah, so this is what Bill Gates must have been\u001b[0m\n",
       "\u001b[32mlike when he was 19.\"\u001b[0m\n",
       "\n",
       "If it can work to start a startup during college, why do we tell people not to? For the same reason that the \n",
       "probably apocryphal violinist, whenever he was asked to judge someone's playing, would always say they didn't have \n",
       "enough talent to make it as a pro. Succeeding as a musician takes determination as well as talent, so this answer \n",
       "works out to be the right advice for everyone. The ones who are uncertain believe it and give up, and the ones who \n",
       "are sufficiently determined think \u001b[32m\"screw that, I'll succeed anyway.\"\u001b[0m\n",
       "\n",
       "So our official policy now is only to fund undergrads we can't talk out of it.\n",
       "breakpoint sentence: And frankly, if you're not certain, you should wait.\n",
       "dist: \u001b[1;36m0.8427528142929077\u001b[0m\n",
       "chunks count: \u001b[1;36m22\u001b[0m\n"
      ]
     },
     "metadata": {},
     "output_type": "display_data"
    },
    {
     "data": {
      "text/html": [
       "<pre style=\"white-space:pre;overflow-x:auto;line-height:normal;font-family:Menlo,'DejaVu Sans Mono',consolas,'Courier New',monospace\">=========================\n",
       "</pre>\n"
      ],
      "text/plain": [
       "=========================\n"
      ]
     },
     "metadata": {},
     "output_type": "display_data"
    },
    {
     "data": {
      "text/html": [
       "<pre style=\"white-space:pre;overflow-x:auto;line-height:normal;font-family:Menlo,'DejaVu Sans Mono',consolas,'Courier New',monospace\">prev: And frankly, if you're not certain, you should wait.\n",
       "breakpoint sentence: It's not as if all the opportunities to start companies are going to be gone if you don't do \n",
       "it now.\n",
       "dist: <span style=\"color: #008080; text-decoration-color: #008080; font-weight: bold\">0.5154452919960022</span>\n",
       "chunks count: <span style=\"color: #008080; text-decoration-color: #008080; font-weight: bold\">23</span>\n",
       "</pre>\n"
      ],
      "text/plain": [
       "prev: And frankly, if you're not certain, you should wait.\n",
       "breakpoint sentence: It's not as if all the opportunities to start companies are going to be gone if you don't do \n",
       "it now.\n",
       "dist: \u001b[1;36m0.5154452919960022\u001b[0m\n",
       "chunks count: \u001b[1;36m23\u001b[0m\n"
      ]
     },
     "metadata": {},
     "output_type": "display_data"
    },
    {
     "data": {
      "text/html": [
       "<pre style=\"white-space:pre;overflow-x:auto;line-height:normal;font-family:Menlo,'DejaVu Sans Mono',consolas,'Courier New',monospace\">=========================\n",
       "</pre>\n"
      ],
      "text/plain": [
       "=========================\n"
      ]
     },
     "metadata": {},
     "output_type": "display_data"
    },
    {
     "data": {
      "text/html": [
       "<pre style=\"white-space:pre;overflow-x:auto;line-height:normal;font-family:Menlo,'DejaVu Sans Mono',consolas,'Courier New',monospace\">prev: It's not as if all the opportunities to start companies are going to be gone if you don't do it now. Maybe \n",
       "the window will close on some idea you're working on, but that won't be the last idea you'll have.\n",
       "breakpoint sentence: For every idea that times out, new ones become feasible.\n",
       "dist: <span style=\"color: #008080; text-decoration-color: #008080; font-weight: bold\">0.8525390028953552</span>\n",
       "chunks count: <span style=\"color: #008080; text-decoration-color: #008080; font-weight: bold\">24</span>\n",
       "</pre>\n"
      ],
      "text/plain": [
       "prev: It's not as if all the opportunities to start companies are going to be gone if you don't do it now. Maybe \n",
       "the window will close on some idea you're working on, but that won't be the last idea you'll have.\n",
       "breakpoint sentence: For every idea that times out, new ones become feasible.\n",
       "dist: \u001b[1;36m0.8525390028953552\u001b[0m\n",
       "chunks count: \u001b[1;36m24\u001b[0m\n"
      ]
     },
     "metadata": {},
     "output_type": "display_data"
    },
    {
     "data": {
      "text/html": [
       "<pre style=\"white-space:pre;overflow-x:auto;line-height:normal;font-family:Menlo,'DejaVu Sans Mono',consolas,'Courier New',monospace\">=========================\n",
       "</pre>\n"
      ],
      "text/plain": [
       "=========================\n"
      ]
     },
     "metadata": {},
     "output_type": "display_data"
    },
    {
     "data": {
      "text/html": [
       "<pre style=\"white-space:pre;overflow-x:auto;line-height:normal;font-family:Menlo,'DejaVu Sans Mono',consolas,'Courier New',monospace\">prev: For every idea that times out, new ones become feasible.\n",
       "breakpoint sentence: Historically the opportunities to start startups have only increased with time.\n",
       "dist: <span style=\"color: #008080; text-decoration-color: #008080; font-weight: bold\">0.6029224395751953</span>\n",
       "chunks count: <span style=\"color: #008080; text-decoration-color: #008080; font-weight: bold\">25</span>\n",
       "</pre>\n"
      ],
      "text/plain": [
       "prev: For every idea that times out, new ones become feasible.\n",
       "breakpoint sentence: Historically the opportunities to start startups have only increased with time.\n",
       "dist: \u001b[1;36m0.6029224395751953\u001b[0m\n",
       "chunks count: \u001b[1;36m25\u001b[0m\n"
      ]
     },
     "metadata": {},
     "output_type": "display_data"
    },
    {
     "data": {
      "text/html": [
       "<pre style=\"white-space:pre;overflow-x:auto;line-height:normal;font-family:Menlo,'DejaVu Sans Mono',consolas,'Courier New',monospace\">=========================\n",
       "</pre>\n"
      ],
      "text/plain": [
       "=========================\n"
      ]
     },
     "metadata": {},
     "output_type": "display_data"
    },
    {
     "data": {
      "text/html": [
       "<pre style=\"white-space:pre;overflow-x:auto;line-height:normal;font-family:Menlo,'DejaVu Sans Mono',consolas,'Courier New',monospace\">prev: Historically the opportunities to start startups have only increased with time.\n",
       "breakpoint sentence: In that case, you might ask, why not wait longer?\n",
       "dist: <span style=\"color: #008080; text-decoration-color: #008080; font-weight: bold\">0.7362432479858398</span>\n",
       "chunks count: <span style=\"color: #008080; text-decoration-color: #008080; font-weight: bold\">26</span>\n",
       "</pre>\n"
      ],
      "text/plain": [
       "prev: Historically the opportunities to start startups have only increased with time.\n",
       "breakpoint sentence: In that case, you might ask, why not wait longer?\n",
       "dist: \u001b[1;36m0.7362432479858398\u001b[0m\n",
       "chunks count: \u001b[1;36m26\u001b[0m\n"
      ]
     },
     "metadata": {},
     "output_type": "display_data"
    },
    {
     "data": {
      "text/html": [
       "<pre style=\"white-space:pre;overflow-x:auto;line-height:normal;font-family:Menlo,'DejaVu Sans Mono',consolas,'Courier New',monospace\">=========================\n",
       "</pre>\n"
      ],
      "text/plain": [
       "=========================\n"
      ]
     },
     "metadata": {},
     "output_type": "display_data"
    },
    {
     "data": {
      "text/html": [
       "<pre style=\"white-space:pre;overflow-x:auto;line-height:normal;font-family:Menlo,'DejaVu Sans Mono',consolas,'Courier New',monospace\">prev: In that case, you might ask, why not wait longer?\n",
       "breakpoint sentence: Why not go work for a while, or go to grad school, and then start a startup?\n",
       "dist: <span style=\"color: #008080; text-decoration-color: #008080; font-weight: bold\">0.5726818442344666</span>\n",
       "chunks count: <span style=\"color: #008080; text-decoration-color: #008080; font-weight: bold\">27</span>\n",
       "</pre>\n"
      ],
      "text/plain": [
       "prev: In that case, you might ask, why not wait longer?\n",
       "breakpoint sentence: Why not go work for a while, or go to grad school, and then start a startup?\n",
       "dist: \u001b[1;36m0.5726818442344666\u001b[0m\n",
       "chunks count: \u001b[1;36m27\u001b[0m\n"
      ]
     },
     "metadata": {},
     "output_type": "display_data"
    },
    {
     "data": {
      "text/html": [
       "<pre style=\"white-space:pre;overflow-x:auto;line-height:normal;font-family:Menlo,'DejaVu Sans Mono',consolas,'Courier New',monospace\">=========================\n",
       "</pre>\n"
      ],
      "text/plain": [
       "=========================\n"
      ]
     },
     "metadata": {},
     "output_type": "display_data"
    },
    {
     "data": {
      "text/html": [
       "<pre style=\"white-space:pre;overflow-x:auto;line-height:normal;font-family:Menlo,'DejaVu Sans Mono',consolas,'Courier New',monospace\">prev: Why not go work for a while, or go to grad school, and then start a startup? And indeed, that might be a good\n",
       "idea.\n",
       "breakpoint sentence: If I had to pick the sweet spot for startup founders, based on who we're most excited to see \n",
       "applications from, I'd say it's probably the mid-twenties.\n",
       "dist: <span style=\"color: #008080; text-decoration-color: #008080; font-weight: bold\">0.7820552587509155</span>\n",
       "chunks count: <span style=\"color: #008080; text-decoration-color: #008080; font-weight: bold\">28</span>\n",
       "</pre>\n"
      ],
      "text/plain": [
       "prev: Why not go work for a while, or go to grad school, and then start a startup? And indeed, that might be a good\n",
       "idea.\n",
       "breakpoint sentence: If I had to pick the sweet spot for startup founders, based on who we're most excited to see \n",
       "applications from, I'd say it's probably the mid-twenties.\n",
       "dist: \u001b[1;36m0.7820552587509155\u001b[0m\n",
       "chunks count: \u001b[1;36m28\u001b[0m\n"
      ]
     },
     "metadata": {},
     "output_type": "display_data"
    },
    {
     "data": {
      "text/html": [
       "<pre style=\"white-space:pre;overflow-x:auto;line-height:normal;font-family:Menlo,'DejaVu Sans Mono',consolas,'Courier New',monospace\">=========================\n",
       "</pre>\n"
      ],
      "text/plain": [
       "=========================\n"
      ]
     },
     "metadata": {},
     "output_type": "display_data"
    },
    {
     "data": {
      "text/html": [
       "<pre style=\"white-space:pre;overflow-x:auto;line-height:normal;font-family:Menlo,'DejaVu Sans Mono',consolas,'Courier New',monospace\">prev: If I had to pick the sweet spot for startup founders, based on who we're most excited to see applications \n",
       "from, I'd say it's probably the mid-twenties. Why? What advantages does someone in their mid-twenties have over \n",
       "someone who's <span style=\"color: #008080; text-decoration-color: #008080; font-weight: bold\">21</span>? And why isn't it older? What can <span style=\"color: #008080; text-decoration-color: #008080; font-weight: bold\">25</span> year olds do that <span style=\"color: #008080; text-decoration-color: #008080; font-weight: bold\">32</span> year olds can't? Those turn out to be \n",
       "questions worth examining. Plus\n",
       "\n",
       "If you start a startup soon after college, you'll be a young founder by present standards, so you should know what \n",
       "the relative advantages of young founders are. They're not what you might think. As a young founder your strengths \n",
       "are: stamina, poverty, rootlessness, colleagues, and ignorance. The importance of stamina shouldn't be surprising. \n",
       "If you've heard anything about startups you've probably heard about the long hours. As far as I can tell these are \n",
       "universal. I can't think of any successful startups whose founders worked <span style=\"color: #008080; text-decoration-color: #008080; font-weight: bold\">9</span> to <span style=\"color: #008080; text-decoration-color: #008080; font-weight: bold\">5</span>. And it's particularly necessary \n",
       "for younger founders to work long hours because they're probably not as efficient as they'll be later. Your second \n",
       "advantage, poverty, might not sound like an advantage, but it is a huge one. Poverty implies you can live cheaply, \n",
       "and this is critically important for startups. Nearly every startup that fails, fails by running out of money. It's\n",
       "a little misleading to put it this way, because there's usually some other underlying cause.\n",
       "breakpoint sentence: But regardless of the source of your problems, a low burn rate gives you more opportunity to \n",
       "recover from them.\n",
       "dist: <span style=\"color: #008080; text-decoration-color: #008080; font-weight: bold\">0.8448764085769653</span>\n",
       "chunks count: <span style=\"color: #008080; text-decoration-color: #008080; font-weight: bold\">29</span>\n",
       "</pre>\n"
      ],
      "text/plain": [
       "prev: If I had to pick the sweet spot for startup founders, based on who we're most excited to see applications \n",
       "from, I'd say it's probably the mid-twenties. Why? What advantages does someone in their mid-twenties have over \n",
       "someone who's \u001b[1;36m21\u001b[0m? And why isn't it older? What can \u001b[1;36m25\u001b[0m year olds do that \u001b[1;36m32\u001b[0m year olds can't? Those turn out to be \n",
       "questions worth examining. Plus\n",
       "\n",
       "If you start a startup soon after college, you'll be a young founder by present standards, so you should know what \n",
       "the relative advantages of young founders are. They're not what you might think. As a young founder your strengths \n",
       "are: stamina, poverty, rootlessness, colleagues, and ignorance. The importance of stamina shouldn't be surprising. \n",
       "If you've heard anything about startups you've probably heard about the long hours. As far as I can tell these are \n",
       "universal. I can't think of any successful startups whose founders worked \u001b[1;36m9\u001b[0m to \u001b[1;36m5\u001b[0m. And it's particularly necessary \n",
       "for younger founders to work long hours because they're probably not as efficient as they'll be later. Your second \n",
       "advantage, poverty, might not sound like an advantage, but it is a huge one. Poverty implies you can live cheaply, \n",
       "and this is critically important for startups. Nearly every startup that fails, fails by running out of money. It's\n",
       "a little misleading to put it this way, because there's usually some other underlying cause.\n",
       "breakpoint sentence: But regardless of the source of your problems, a low burn rate gives you more opportunity to \n",
       "recover from them.\n",
       "dist: \u001b[1;36m0.8448764085769653\u001b[0m\n",
       "chunks count: \u001b[1;36m29\u001b[0m\n"
      ]
     },
     "metadata": {},
     "output_type": "display_data"
    },
    {
     "data": {
      "text/html": [
       "<pre style=\"white-space:pre;overflow-x:auto;line-height:normal;font-family:Menlo,'DejaVu Sans Mono',consolas,'Courier New',monospace\">=========================\n",
       "</pre>\n"
      ],
      "text/plain": [
       "=========================\n"
      ]
     },
     "metadata": {},
     "output_type": "display_data"
    },
    {
     "data": {
      "text/html": [
       "<pre style=\"white-space:pre;overflow-x:auto;line-height:normal;font-family:Menlo,'DejaVu Sans Mono',consolas,'Courier New',monospace\">prev: But regardless of the source of your problems, a low burn rate gives you more opportunity to recover from \n",
       "them.\n",
       "breakpoint sentence: And since most startups make all kinds of mistakes at first, room to recover from mistakes is \n",
       "a valuable thing to have.\n",
       "dist: <span style=\"color: #008080; text-decoration-color: #008080; font-weight: bold\">0.7854439616203308</span>\n",
       "chunks count: <span style=\"color: #008080; text-decoration-color: #008080; font-weight: bold\">30</span>\n",
       "</pre>\n"
      ],
      "text/plain": [
       "prev: But regardless of the source of your problems, a low burn rate gives you more opportunity to recover from \n",
       "them.\n",
       "breakpoint sentence: And since most startups make all kinds of mistakes at first, room to recover from mistakes is \n",
       "a valuable thing to have.\n",
       "dist: \u001b[1;36m0.7854439616203308\u001b[0m\n",
       "chunks count: \u001b[1;36m30\u001b[0m\n"
      ]
     },
     "metadata": {},
     "output_type": "display_data"
    },
    {
     "data": {
      "text/html": [
       "<pre style=\"white-space:pre;overflow-x:auto;line-height:normal;font-family:Menlo,'DejaVu Sans Mono',consolas,'Courier New',monospace\">=========================\n",
       "</pre>\n"
      ],
      "text/plain": [
       "=========================\n"
      ]
     },
     "metadata": {},
     "output_type": "display_data"
    },
    {
     "data": {
      "text/html": [
       "<pre style=\"white-space:pre;overflow-x:auto;line-height:normal;font-family:Menlo,'DejaVu Sans Mono',consolas,'Courier New',monospace\">prev: And since most startups make all kinds of mistakes at first, room to recover from mistakes is a valuable \n",
       "thing to have. Most startups end up doing something different than they planned. The way the successful ones find \n",
       "something that works is by trying things that don't.\n",
       "breakpoint sentence: So the worst thing you can do in a startup is to have a rigid, pre-ordained plan and then \n",
       "start spending a lot of money to implement it.\n",
       "dist: <span style=\"color: #008080; text-decoration-color: #008080; font-weight: bold\">0.8168845176696777</span>\n",
       "chunks count: <span style=\"color: #008080; text-decoration-color: #008080; font-weight: bold\">31</span>\n",
       "</pre>\n"
      ],
      "text/plain": [
       "prev: And since most startups make all kinds of mistakes at first, room to recover from mistakes is a valuable \n",
       "thing to have. Most startups end up doing something different than they planned. The way the successful ones find \n",
       "something that works is by trying things that don't.\n",
       "breakpoint sentence: So the worst thing you can do in a startup is to have a rigid, pre-ordained plan and then \n",
       "start spending a lot of money to implement it.\n",
       "dist: \u001b[1;36m0.8168845176696777\u001b[0m\n",
       "chunks count: \u001b[1;36m31\u001b[0m\n"
      ]
     },
     "metadata": {},
     "output_type": "display_data"
    },
    {
     "data": {
      "text/html": [
       "<pre style=\"white-space:pre;overflow-x:auto;line-height:normal;font-family:Menlo,'DejaVu Sans Mono',consolas,'Courier New',monospace\">=========================\n",
       "</pre>\n"
      ],
      "text/plain": [
       "=========================\n"
      ]
     },
     "metadata": {},
     "output_type": "display_data"
    },
    {
     "data": {
      "text/html": [
       "<pre style=\"white-space:pre;overflow-x:auto;line-height:normal;font-family:Menlo,'DejaVu Sans Mono',consolas,'Courier New',monospace\">prev: So the worst thing you can do in a startup is to have a rigid, pre-ordained plan and then start spending a \n",
       "lot of money to implement it. Better to operate cheaply and give your ideas time to evolve.\n",
       "breakpoint sentence: Recent grads can live on practically nothing, and this gives you an edge over older founders, \n",
       "because the main cost in software startups is people.\n",
       "dist: <span style=\"color: #008080; text-decoration-color: #008080; font-weight: bold\">0.7599326968193054</span>\n",
       "chunks count: <span style=\"color: #008080; text-decoration-color: #008080; font-weight: bold\">32</span>\n",
       "</pre>\n"
      ],
      "text/plain": [
       "prev: So the worst thing you can do in a startup is to have a rigid, pre-ordained plan and then start spending a \n",
       "lot of money to implement it. Better to operate cheaply and give your ideas time to evolve.\n",
       "breakpoint sentence: Recent grads can live on practically nothing, and this gives you an edge over older founders, \n",
       "because the main cost in software startups is people.\n",
       "dist: \u001b[1;36m0.7599326968193054\u001b[0m\n",
       "chunks count: \u001b[1;36m32\u001b[0m\n"
      ]
     },
     "metadata": {},
     "output_type": "display_data"
    },
    {
     "data": {
      "text/html": [
       "<pre style=\"white-space:pre;overflow-x:auto;line-height:normal;font-family:Menlo,'DejaVu Sans Mono',consolas,'Courier New',monospace\">=========================\n",
       "</pre>\n"
      ],
      "text/plain": [
       "=========================\n"
      ]
     },
     "metadata": {},
     "output_type": "display_data"
    },
    {
     "data": {
      "text/html": [
       "<pre style=\"white-space:pre;overflow-x:auto;line-height:normal;font-family:Menlo,'DejaVu Sans Mono',consolas,'Courier New',monospace\">prev: Recent grads can live on practically nothing, and this gives you an edge over older founders, because the \n",
       "main cost in software startups is people. The guys with kids and mortgages are at a real disadvantage.\n",
       "breakpoint sentence: This is one reason I'd bet on the <span style=\"color: #008080; text-decoration-color: #008080; font-weight: bold\">25</span> year old over the <span style=\"color: #008080; text-decoration-color: #008080; font-weight: bold\">32</span> year old.\n",
       "dist: <span style=\"color: #008080; text-decoration-color: #008080; font-weight: bold\">0.7873042821884155</span>\n",
       "chunks count: <span style=\"color: #008080; text-decoration-color: #008080; font-weight: bold\">33</span>\n",
       "</pre>\n"
      ],
      "text/plain": [
       "prev: Recent grads can live on practically nothing, and this gives you an edge over older founders, because the \n",
       "main cost in software startups is people. The guys with kids and mortgages are at a real disadvantage.\n",
       "breakpoint sentence: This is one reason I'd bet on the \u001b[1;36m25\u001b[0m year old over the \u001b[1;36m32\u001b[0m year old.\n",
       "dist: \u001b[1;36m0.7873042821884155\u001b[0m\n",
       "chunks count: \u001b[1;36m33\u001b[0m\n"
      ]
     },
     "metadata": {},
     "output_type": "display_data"
    },
    {
     "data": {
      "text/html": [
       "<pre style=\"white-space:pre;overflow-x:auto;line-height:normal;font-family:Menlo,'DejaVu Sans Mono',consolas,'Courier New',monospace\">=========================\n",
       "</pre>\n"
      ],
      "text/plain": [
       "=========================\n"
      ]
     },
     "metadata": {},
     "output_type": "display_data"
    },
    {
     "data": {
      "text/html": [
       "<pre style=\"white-space:pre;overflow-x:auto;line-height:normal;font-family:Menlo,'DejaVu Sans Mono',consolas,'Courier New',monospace\">prev: This is one reason I'd bet on the <span style=\"color: #008080; text-decoration-color: #008080; font-weight: bold\">25</span> year old over the <span style=\"color: #008080; text-decoration-color: #008080; font-weight: bold\">32</span> year old.\n",
       "breakpoint sentence: The <span style=\"color: #008080; text-decoration-color: #008080; font-weight: bold\">32</span> year old probably is a better programmer, but probably also has a much more expensive \n",
       "life.\n",
       "dist: <span style=\"color: #008080; text-decoration-color: #008080; font-weight: bold\">0.7092940807342529</span>\n",
       "chunks count: <span style=\"color: #008080; text-decoration-color: #008080; font-weight: bold\">34</span>\n",
       "</pre>\n"
      ],
      "text/plain": [
       "prev: This is one reason I'd bet on the \u001b[1;36m25\u001b[0m year old over the \u001b[1;36m32\u001b[0m year old.\n",
       "breakpoint sentence: The \u001b[1;36m32\u001b[0m year old probably is a better programmer, but probably also has a much more expensive \n",
       "life.\n",
       "dist: \u001b[1;36m0.7092940807342529\u001b[0m\n",
       "chunks count: \u001b[1;36m34\u001b[0m\n"
      ]
     },
     "metadata": {},
     "output_type": "display_data"
    },
    {
     "data": {
      "text/html": [
       "<pre style=\"white-space:pre;overflow-x:auto;line-height:normal;font-family:Menlo,'DejaVu Sans Mono',consolas,'Courier New',monospace\">=========================\n",
       "</pre>\n"
      ],
      "text/plain": [
       "=========================\n"
      ]
     },
     "metadata": {},
     "output_type": "display_data"
    },
    {
     "data": {
      "text/html": [
       "<pre style=\"white-space:pre;overflow-x:auto;line-height:normal;font-family:Menlo,'DejaVu Sans Mono',consolas,'Courier New',monospace\">prev: The <span style=\"color: #008080; text-decoration-color: #008080; font-weight: bold\">32</span> year old probably is a better programmer, but probably also has a much more expensive life. Whereas a \n",
       "<span style=\"color: #008080; text-decoration-color: #008080; font-weight: bold\">25</span> year old has some work experience <span style=\"font-weight: bold\">(</span>more on that later<span style=\"font-weight: bold\">)</span> but can live as cheaply as an undergrad.\n",
       "breakpoint sentence: Robert Morris and I were <span style=\"color: #008080; text-decoration-color: #008080; font-weight: bold\">29</span> and <span style=\"color: #008080; text-decoration-color: #008080; font-weight: bold\">30</span> respectively when we started Viaweb, but fortunately we \n",
       "still lived like <span style=\"color: #008080; text-decoration-color: #008080; font-weight: bold\">23</span> year olds.\n",
       "dist: <span style=\"color: #008080; text-decoration-color: #008080; font-weight: bold\">0.8203621506690979</span>\n",
       "chunks count: <span style=\"color: #008080; text-decoration-color: #008080; font-weight: bold\">35</span>\n",
       "</pre>\n"
      ],
      "text/plain": [
       "prev: The \u001b[1;36m32\u001b[0m year old probably is a better programmer, but probably also has a much more expensive life. Whereas a \n",
       "\u001b[1;36m25\u001b[0m year old has some work experience \u001b[1m(\u001b[0mmore on that later\u001b[1m)\u001b[0m but can live as cheaply as an undergrad.\n",
       "breakpoint sentence: Robert Morris and I were \u001b[1;36m29\u001b[0m and \u001b[1;36m30\u001b[0m respectively when we started Viaweb, but fortunately we \n",
       "still lived like \u001b[1;36m23\u001b[0m year olds.\n",
       "dist: \u001b[1;36m0.8203621506690979\u001b[0m\n",
       "chunks count: \u001b[1;36m35\u001b[0m\n"
      ]
     },
     "metadata": {},
     "output_type": "display_data"
    },
    {
     "data": {
      "text/html": [
       "<pre style=\"white-space:pre;overflow-x:auto;line-height:normal;font-family:Menlo,'DejaVu Sans Mono',consolas,'Courier New',monospace\">=========================\n",
       "</pre>\n"
      ],
      "text/plain": [
       "=========================\n"
      ]
     },
     "metadata": {},
     "output_type": "display_data"
    },
    {
     "data": {
      "text/html": [
       "<pre style=\"white-space:pre;overflow-x:auto;line-height:normal;font-family:Menlo,'DejaVu Sans Mono',consolas,'Courier New',monospace\">prev: Robert Morris and I were <span style=\"color: #008080; text-decoration-color: #008080; font-weight: bold\">29</span> and <span style=\"color: #008080; text-decoration-color: #008080; font-weight: bold\">30</span> respectively when we started Viaweb, but fortunately we still lived like \n",
       "<span style=\"color: #008080; text-decoration-color: #008080; font-weight: bold\">23</span> year olds. We both had roughly zero assets.\n",
       "breakpoint sentence: I would have loved to have a mortgage, since that would have meant I had a house.\n",
       "dist: <span style=\"color: #008080; text-decoration-color: #008080; font-weight: bold\">0.702256977558136</span>\n",
       "chunks count: <span style=\"color: #008080; text-decoration-color: #008080; font-weight: bold\">36</span>\n",
       "</pre>\n"
      ],
      "text/plain": [
       "prev: Robert Morris and I were \u001b[1;36m29\u001b[0m and \u001b[1;36m30\u001b[0m respectively when we started Viaweb, but fortunately we still lived like \n",
       "\u001b[1;36m23\u001b[0m year olds. We both had roughly zero assets.\n",
       "breakpoint sentence: I would have loved to have a mortgage, since that would have meant I had a house.\n",
       "dist: \u001b[1;36m0.702256977558136\u001b[0m\n",
       "chunks count: \u001b[1;36m36\u001b[0m\n"
      ]
     },
     "metadata": {},
     "output_type": "display_data"
    },
    {
     "data": {
      "text/html": [
       "<pre style=\"white-space:pre;overflow-x:auto;line-height:normal;font-family:Menlo,'DejaVu Sans Mono',consolas,'Courier New',monospace\">=========================\n",
       "</pre>\n"
      ],
      "text/plain": [
       "=========================\n"
      ]
     },
     "metadata": {},
     "output_type": "display_data"
    },
    {
     "data": {
      "text/html": [
       "<pre style=\"white-space:pre;overflow-x:auto;line-height:normal;font-family:Menlo,'DejaVu Sans Mono',consolas,'Courier New',monospace\">prev: I would have loved to have a mortgage, since that would have meant I had a house. But in retrospect having \n",
       "nothing turned out to be convenient. I wasn't tied down and I was used to living cheaply.\n",
       "breakpoint sentence: Even more important than living cheaply, though, is thinking cheaply.\n",
       "dist: <span style=\"color: #008080; text-decoration-color: #008080; font-weight: bold\">0.8482381105422974</span>\n",
       "chunks count: <span style=\"color: #008080; text-decoration-color: #008080; font-weight: bold\">37</span>\n",
       "</pre>\n"
      ],
      "text/plain": [
       "prev: I would have loved to have a mortgage, since that would have meant I had a house. But in retrospect having \n",
       "nothing turned out to be convenient. I wasn't tied down and I was used to living cheaply.\n",
       "breakpoint sentence: Even more important than living cheaply, though, is thinking cheaply.\n",
       "dist: \u001b[1;36m0.8482381105422974\u001b[0m\n",
       "chunks count: \u001b[1;36m37\u001b[0m\n"
      ]
     },
     "metadata": {},
     "output_type": "display_data"
    },
    {
     "data": {
      "text/html": [
       "<pre style=\"white-space:pre;overflow-x:auto;line-height:normal;font-family:Menlo,'DejaVu Sans Mono',consolas,'Courier New',monospace\">=========================\n",
       "</pre>\n"
      ],
      "text/plain": [
       "=========================\n"
      ]
     },
     "metadata": {},
     "output_type": "display_data"
    },
    {
     "data": {
      "text/html": [
       "<pre style=\"white-space:pre;overflow-x:auto;line-height:normal;font-family:Menlo,'DejaVu Sans Mono',consolas,'Courier New',monospace\">prev: Even more important than living cheaply, though, is thinking cheaply.\n",
       "breakpoint sentence: One reason the Apple II was so popular was that it was cheap.\n",
       "dist: <span style=\"color: #008080; text-decoration-color: #008080; font-weight: bold\">0.7738364338874817</span>\n",
       "chunks count: <span style=\"color: #008080; text-decoration-color: #008080; font-weight: bold\">38</span>\n",
       "</pre>\n"
      ],
      "text/plain": [
       "prev: Even more important than living cheaply, though, is thinking cheaply.\n",
       "breakpoint sentence: One reason the Apple II was so popular was that it was cheap.\n",
       "dist: \u001b[1;36m0.7738364338874817\u001b[0m\n",
       "chunks count: \u001b[1;36m38\u001b[0m\n"
      ]
     },
     "metadata": {},
     "output_type": "display_data"
    },
    {
     "data": {
      "text/html": [
       "<pre style=\"white-space:pre;overflow-x:auto;line-height:normal;font-family:Menlo,'DejaVu Sans Mono',consolas,'Courier New',monospace\">=========================\n",
       "</pre>\n"
      ],
      "text/plain": [
       "=========================\n"
      ]
     },
     "metadata": {},
     "output_type": "display_data"
    },
    {
     "data": {
      "text/html": [
       "<pre style=\"white-space:pre;overflow-x:auto;line-height:normal;font-family:Menlo,'DejaVu Sans Mono',consolas,'Courier New',monospace\">prev: One reason the Apple II was so popular was that it was cheap. The computer itself was cheap, and it used \n",
       "cheap, off-the-shelf peripherals like a cassette tape recorder for data storage and a TV as a monitor. And you know\n",
       "why?\n",
       "breakpoint sentence: Because Woz designed this computer for himself, and he couldn't afford anything more.\n",
       "dist: <span style=\"color: #008080; text-decoration-color: #008080; font-weight: bold\">0.8427222967147827</span>\n",
       "chunks count: <span style=\"color: #008080; text-decoration-color: #008080; font-weight: bold\">39</span>\n",
       "</pre>\n"
      ],
      "text/plain": [
       "prev: One reason the Apple II was so popular was that it was cheap. The computer itself was cheap, and it used \n",
       "cheap, off-the-shelf peripherals like a cassette tape recorder for data storage and a TV as a monitor. And you know\n",
       "why?\n",
       "breakpoint sentence: Because Woz designed this computer for himself, and he couldn't afford anything more.\n",
       "dist: \u001b[1;36m0.8427222967147827\u001b[0m\n",
       "chunks count: \u001b[1;36m39\u001b[0m\n"
      ]
     },
     "metadata": {},
     "output_type": "display_data"
    },
    {
     "data": {
      "text/html": [
       "<pre style=\"white-space:pre;overflow-x:auto;line-height:normal;font-family:Menlo,'DejaVu Sans Mono',consolas,'Courier New',monospace\">=========================\n",
       "</pre>\n"
      ],
      "text/plain": [
       "=========================\n"
      ]
     },
     "metadata": {},
     "output_type": "display_data"
    },
    {
     "data": {
      "text/html": [
       "<pre style=\"white-space:pre;overflow-x:auto;line-height:normal;font-family:Menlo,'DejaVu Sans Mono',consolas,'Courier New',monospace\">prev: Because Woz designed this computer for himself, and he couldn't afford anything more. We benefitted from the \n",
       "same phenomenon. Our prices were daringly low for the time.\n",
       "breakpoint sentence: The top level of service was $<span style=\"color: #008080; text-decoration-color: #008080; font-weight: bold\">300</span> a month, which was an order of magnitude below the norm.\n",
       "dist: <span style=\"color: #008080; text-decoration-color: #008080; font-weight: bold\">0.8269579410552979</span>\n",
       "chunks count: <span style=\"color: #008080; text-decoration-color: #008080; font-weight: bold\">40</span>\n",
       "</pre>\n"
      ],
      "text/plain": [
       "prev: Because Woz designed this computer for himself, and he couldn't afford anything more. We benefitted from the \n",
       "same phenomenon. Our prices were daringly low for the time.\n",
       "breakpoint sentence: The top level of service was $\u001b[1;36m300\u001b[0m a month, which was an order of magnitude below the norm.\n",
       "dist: \u001b[1;36m0.8269579410552979\u001b[0m\n",
       "chunks count: \u001b[1;36m40\u001b[0m\n"
      ]
     },
     "metadata": {},
     "output_type": "display_data"
    },
    {
     "data": {
      "text/html": [
       "<pre style=\"white-space:pre;overflow-x:auto;line-height:normal;font-family:Menlo,'DejaVu Sans Mono',consolas,'Courier New',monospace\">=========================\n",
       "</pre>\n"
      ],
      "text/plain": [
       "=========================\n"
      ]
     },
     "metadata": {},
     "output_type": "display_data"
    },
    {
     "data": {
      "text/html": [
       "<pre style=\"white-space:pre;overflow-x:auto;line-height:normal;font-family:Menlo,'DejaVu Sans Mono',consolas,'Courier New',monospace\">prev: The top level of service was $<span style=\"color: #008080; text-decoration-color: #008080; font-weight: bold\">300</span> a month, which was an order of magnitude below the norm.\n",
       "breakpoint sentence: In retrospect this was a smart move, but we didn't do it because we were smart.\n",
       "dist: <span style=\"color: #008080; text-decoration-color: #008080; font-weight: bold\">0.8392148017883301</span>\n",
       "chunks count: <span style=\"color: #008080; text-decoration-color: #008080; font-weight: bold\">41</span>\n",
       "</pre>\n"
      ],
      "text/plain": [
       "prev: The top level of service was $\u001b[1;36m300\u001b[0m a month, which was an order of magnitude below the norm.\n",
       "breakpoint sentence: In retrospect this was a smart move, but we didn't do it because we were smart.\n",
       "dist: \u001b[1;36m0.8392148017883301\u001b[0m\n",
       "chunks count: \u001b[1;36m41\u001b[0m\n"
      ]
     },
     "metadata": {},
     "output_type": "display_data"
    },
    {
     "data": {
      "text/html": [
       "<pre style=\"white-space:pre;overflow-x:auto;line-height:normal;font-family:Menlo,'DejaVu Sans Mono',consolas,'Courier New',monospace\">=========================\n",
       "</pre>\n"
      ],
      "text/plain": [
       "=========================\n"
      ]
     },
     "metadata": {},
     "output_type": "display_data"
    },
    {
     "data": {
      "text/html": [
       "<pre style=\"white-space:pre;overflow-x:auto;line-height:normal;font-family:Menlo,'DejaVu Sans Mono',consolas,'Courier New',monospace\">prev: In retrospect this was a smart move, but we didn't do it because we were smart.\n",
       "breakpoint sentence: $<span style=\"color: #008080; text-decoration-color: #008080; font-weight: bold\">300</span> a month seemed like a lot of money to us.\n",
       "dist: <span style=\"color: #008080; text-decoration-color: #008080; font-weight: bold\">0.4034620225429535</span>\n",
       "chunks count: <span style=\"color: #008080; text-decoration-color: #008080; font-weight: bold\">42</span>\n",
       "</pre>\n"
      ],
      "text/plain": [
       "prev: In retrospect this was a smart move, but we didn't do it because we were smart.\n",
       "breakpoint sentence: $\u001b[1;36m300\u001b[0m a month seemed like a lot of money to us.\n",
       "dist: \u001b[1;36m0.4034620225429535\u001b[0m\n",
       "chunks count: \u001b[1;36m42\u001b[0m\n"
      ]
     },
     "metadata": {},
     "output_type": "display_data"
    },
    {
     "data": {
      "text/html": [
       "<pre style=\"white-space:pre;overflow-x:auto;line-height:normal;font-family:Menlo,'DejaVu Sans Mono',consolas,'Courier New',monospace\">=========================\n",
       "</pre>\n"
      ],
      "text/plain": [
       "=========================\n"
      ]
     },
     "metadata": {},
     "output_type": "display_data"
    },
    {
     "data": {
      "text/html": [
       "<pre style=\"white-space:pre;overflow-x:auto;line-height:normal;font-family:Menlo,'DejaVu Sans Mono',consolas,'Courier New',monospace\">prev: $<span style=\"color: #008080; text-decoration-color: #008080; font-weight: bold\">300</span> a month seemed like a lot of money to us.\n",
       "breakpoint sentence: Like Apple, we created something inexpensive, and therefore popular, simply because we were \n",
       "poor.\n",
       "dist: <span style=\"color: #008080; text-decoration-color: #008080; font-weight: bold\">0.6353442072868347</span>\n",
       "chunks count: <span style=\"color: #008080; text-decoration-color: #008080; font-weight: bold\">43</span>\n",
       "</pre>\n"
      ],
      "text/plain": [
       "prev: $\u001b[1;36m300\u001b[0m a month seemed like a lot of money to us.\n",
       "breakpoint sentence: Like Apple, we created something inexpensive, and therefore popular, simply because we were \n",
       "poor.\n",
       "dist: \u001b[1;36m0.6353442072868347\u001b[0m\n",
       "chunks count: \u001b[1;36m43\u001b[0m\n"
      ]
     },
     "metadata": {},
     "output_type": "display_data"
    },
    {
     "data": {
      "text/html": [
       "<pre style=\"white-space:pre;overflow-x:auto;line-height:normal;font-family:Menlo,'DejaVu Sans Mono',consolas,'Courier New',monospace\">=========================\n",
       "</pre>\n"
      ],
      "text/plain": [
       "=========================\n"
      ]
     },
     "metadata": {},
     "output_type": "display_data"
    },
    {
     "data": {
      "text/html": [
       "<pre style=\"white-space:pre;overflow-x:auto;line-height:normal;font-family:Menlo,'DejaVu Sans Mono',consolas,'Courier New',monospace\">prev: Like Apple, we created something inexpensive, and therefore popular, simply because we were poor.\n",
       "breakpoint sentence: A lot of startups have that form: someone comes along and makes something for a tenth or a \n",
       "hundredth of what it used to cost, and the existing players can't follow because they don't even want to think \n",
       "about a world in which that's possible.\n",
       "dist: <span style=\"color: #008080; text-decoration-color: #008080; font-weight: bold\">0.7556449174880981</span>\n",
       "chunks count: <span style=\"color: #008080; text-decoration-color: #008080; font-weight: bold\">44</span>\n",
       "</pre>\n"
      ],
      "text/plain": [
       "prev: Like Apple, we created something inexpensive, and therefore popular, simply because we were poor.\n",
       "breakpoint sentence: A lot of startups have that form: someone comes along and makes something for a tenth or a \n",
       "hundredth of what it used to cost, and the existing players can't follow because they don't even want to think \n",
       "about a world in which that's possible.\n",
       "dist: \u001b[1;36m0.7556449174880981\u001b[0m\n",
       "chunks count: \u001b[1;36m44\u001b[0m\n"
      ]
     },
     "metadata": {},
     "output_type": "display_data"
    },
    {
     "data": {
      "text/html": [
       "<pre style=\"white-space:pre;overflow-x:auto;line-height:normal;font-family:Menlo,'DejaVu Sans Mono',consolas,'Courier New',monospace\">=========================\n",
       "</pre>\n"
      ],
      "text/plain": [
       "=========================\n"
      ]
     },
     "metadata": {},
     "output_type": "display_data"
    },
    {
     "data": {
      "text/html": [
       "<pre style=\"white-space:pre;overflow-x:auto;line-height:normal;font-family:Menlo,'DejaVu Sans Mono',consolas,'Courier New',monospace\">prev: A lot of startups have that form: someone comes along and makes something for a tenth or a hundredth of what \n",
       "it used to cost, and the existing players can't follow because they don't even want to think about a world in which\n",
       "that's possible. Traditional long distance carriers, for example, didn't even want to think about VoIP.\n",
       "breakpoint sentence: <span style=\"font-weight: bold\">(</span>It was coming, all the same.<span style=\"font-weight: bold\">)</span> Being poor helps in this game, because your own personal bias \n",
       "points in the same direction technology evolves in.\n",
       "dist: <span style=\"color: #008080; text-decoration-color: #008080; font-weight: bold\">0.7279173731803894</span>\n",
       "chunks count: <span style=\"color: #008080; text-decoration-color: #008080; font-weight: bold\">45</span>\n",
       "</pre>\n"
      ],
      "text/plain": [
       "prev: A lot of startups have that form: someone comes along and makes something for a tenth or a hundredth of what \n",
       "it used to cost, and the existing players can't follow because they don't even want to think about a world in which\n",
       "that's possible. Traditional long distance carriers, for example, didn't even want to think about VoIP.\n",
       "breakpoint sentence: \u001b[1m(\u001b[0mIt was coming, all the same.\u001b[1m)\u001b[0m Being poor helps in this game, because your own personal bias \n",
       "points in the same direction technology evolves in.\n",
       "dist: \u001b[1;36m0.7279173731803894\u001b[0m\n",
       "chunks count: \u001b[1;36m45\u001b[0m\n"
      ]
     },
     "metadata": {},
     "output_type": "display_data"
    },
    {
     "data": {
      "text/html": [
       "<pre style=\"white-space:pre;overflow-x:auto;line-height:normal;font-family:Menlo,'DejaVu Sans Mono',consolas,'Courier New',monospace\">=========================\n",
       "</pre>\n"
      ],
      "text/plain": [
       "=========================\n"
      ]
     },
     "metadata": {},
     "output_type": "display_data"
    },
    {
     "data": {
      "text/html": [
       "<pre style=\"white-space:pre;overflow-x:auto;line-height:normal;font-family:Menlo,'DejaVu Sans Mono',consolas,'Courier New',monospace\">prev: <span style=\"font-weight: bold\">(</span>It was coming, all the same.<span style=\"font-weight: bold\">)</span> Being poor helps in this game, because your own personal bias points in the \n",
       "same direction technology evolves in.\n",
       "breakpoint sentence: The advantages of rootlessness are similar to those of poverty.\n",
       "dist: <span style=\"color: #008080; text-decoration-color: #008080; font-weight: bold\">0.8244155645370483</span>\n",
       "chunks count: <span style=\"color: #008080; text-decoration-color: #008080; font-weight: bold\">46</span>\n",
       "</pre>\n"
      ],
      "text/plain": [
       "prev: \u001b[1m(\u001b[0mIt was coming, all the same.\u001b[1m)\u001b[0m Being poor helps in this game, because your own personal bias points in the \n",
       "same direction technology evolves in.\n",
       "breakpoint sentence: The advantages of rootlessness are similar to those of poverty.\n",
       "dist: \u001b[1;36m0.8244155645370483\u001b[0m\n",
       "chunks count: \u001b[1;36m46\u001b[0m\n"
      ]
     },
     "metadata": {},
     "output_type": "display_data"
    },
    {
     "data": {
      "text/html": [
       "<pre style=\"white-space:pre;overflow-x:auto;line-height:normal;font-family:Menlo,'DejaVu Sans Mono',consolas,'Courier New',monospace\">=========================\n",
       "</pre>\n"
      ],
      "text/plain": [
       "=========================\n"
      ]
     },
     "metadata": {},
     "output_type": "display_data"
    },
    {
     "data": {
      "text/html": [
       "<pre style=\"white-space:pre;overflow-x:auto;line-height:normal;font-family:Menlo,'DejaVu Sans Mono',consolas,'Courier New',monospace\">prev: The advantages of rootlessness are similar to those of poverty.\n",
       "breakpoint sentence: When you're young you're more mobile—not just because you don't have a house or much stuff, \n",
       "but also because you're less likely to have serious relationships.\n",
       "dist: <span style=\"color: #008080; text-decoration-color: #008080; font-weight: bold\">0.8011060357093811</span>\n",
       "chunks count: <span style=\"color: #008080; text-decoration-color: #008080; font-weight: bold\">47</span>\n",
       "</pre>\n"
      ],
      "text/plain": [
       "prev: The advantages of rootlessness are similar to those of poverty.\n",
       "breakpoint sentence: When you're young you're more mobile—not just because you don't have a house or much stuff, \n",
       "but also because you're less likely to have serious relationships.\n",
       "dist: \u001b[1;36m0.8011060357093811\u001b[0m\n",
       "chunks count: \u001b[1;36m47\u001b[0m\n"
      ]
     },
     "metadata": {},
     "output_type": "display_data"
    },
    {
     "data": {
      "text/html": [
       "<pre style=\"white-space:pre;overflow-x:auto;line-height:normal;font-family:Menlo,'DejaVu Sans Mono',consolas,'Courier New',monospace\">=========================\n",
       "</pre>\n"
      ],
      "text/plain": [
       "=========================\n"
      ]
     },
     "metadata": {},
     "output_type": "display_data"
    },
    {
     "data": {
      "text/html": [
       "<pre style=\"white-space:pre;overflow-x:auto;line-height:normal;font-family:Menlo,'DejaVu Sans Mono',consolas,'Courier New',monospace\">prev: When you're young you're more mobile—not just because you don't have a house or much stuff, but also because \n",
       "you're less likely to have serious relationships.\n",
       "breakpoint sentence: This turns out to be important, because a lot of startups involve someone moving.\n",
       "dist: <span style=\"color: #008080; text-decoration-color: #008080; font-weight: bold\">0.7464027404785156</span>\n",
       "chunks count: <span style=\"color: #008080; text-decoration-color: #008080; font-weight: bold\">48</span>\n",
       "</pre>\n"
      ],
      "text/plain": [
       "prev: When you're young you're more mobile—not just because you don't have a house or much stuff, but also because \n",
       "you're less likely to have serious relationships.\n",
       "breakpoint sentence: This turns out to be important, because a lot of startups involve someone moving.\n",
       "dist: \u001b[1;36m0.7464027404785156\u001b[0m\n",
       "chunks count: \u001b[1;36m48\u001b[0m\n"
      ]
     },
     "metadata": {},
     "output_type": "display_data"
    },
    {
     "data": {
      "text/html": [
       "<pre style=\"white-space:pre;overflow-x:auto;line-height:normal;font-family:Menlo,'DejaVu Sans Mono',consolas,'Courier New',monospace\">=========================\n",
       "</pre>\n"
      ],
      "text/plain": [
       "=========================\n"
      ]
     },
     "metadata": {},
     "output_type": "display_data"
    },
    {
     "data": {
      "text/html": [
       "<pre style=\"white-space:pre;overflow-x:auto;line-height:normal;font-family:Menlo,'DejaVu Sans Mono',consolas,'Courier New',monospace\">prev: This turns out to be important, because a lot of startups involve someone moving.\n",
       "breakpoint sentence: The founders of Kiko, for example, are now en route to the Bay Area to start their next \n",
       "startup.\n",
       "dist: <span style=\"color: #008080; text-decoration-color: #008080; font-weight: bold\">0.8243690729141235</span>\n",
       "chunks count: <span style=\"color: #008080; text-decoration-color: #008080; font-weight: bold\">49</span>\n",
       "</pre>\n"
      ],
      "text/plain": [
       "prev: This turns out to be important, because a lot of startups involve someone moving.\n",
       "breakpoint sentence: The founders of Kiko, for example, are now en route to the Bay Area to start their next \n",
       "startup.\n",
       "dist: \u001b[1;36m0.8243690729141235\u001b[0m\n",
       "chunks count: \u001b[1;36m49\u001b[0m\n"
      ]
     },
     "metadata": {},
     "output_type": "display_data"
    },
    {
     "data": {
      "text/html": [
       "<pre style=\"white-space:pre;overflow-x:auto;line-height:normal;font-family:Menlo,'DejaVu Sans Mono',consolas,'Courier New',monospace\">=========================\n",
       "</pre>\n"
      ],
      "text/plain": [
       "=========================\n"
      ]
     },
     "metadata": {},
     "output_type": "display_data"
    },
    {
     "data": {
      "text/html": [
       "<pre style=\"white-space:pre;overflow-x:auto;line-height:normal;font-family:Menlo,'DejaVu Sans Mono',consolas,'Courier New',monospace\">prev: The founders of Kiko, for example, are now en route to the Bay Area to start their next startup. It's a \n",
       "better place for what they want to do.\n",
       "breakpoint sentence: And it was easy for them to decide to go, because neither as far as I know has a serious \n",
       "girlfriend, and everything they own will fit in one car—or more precisely, will either fit in one car or is crappy \n",
       "enough that they don't mind leaving it behind.\n",
       "dist: <span style=\"color: #008080; text-decoration-color: #008080; font-weight: bold\">0.7091106176376343</span>\n",
       "chunks count: <span style=\"color: #008080; text-decoration-color: #008080; font-weight: bold\">50</span>\n",
       "</pre>\n"
      ],
      "text/plain": [
       "prev: The founders of Kiko, for example, are now en route to the Bay Area to start their next startup. It's a \n",
       "better place for what they want to do.\n",
       "breakpoint sentence: And it was easy for them to decide to go, because neither as far as I know has a serious \n",
       "girlfriend, and everything they own will fit in one car—or more precisely, will either fit in one car or is crappy \n",
       "enough that they don't mind leaving it behind.\n",
       "dist: \u001b[1;36m0.7091106176376343\u001b[0m\n",
       "chunks count: \u001b[1;36m50\u001b[0m\n"
      ]
     },
     "metadata": {},
     "output_type": "display_data"
    },
    {
     "data": {
      "text/html": [
       "<pre style=\"white-space:pre;overflow-x:auto;line-height:normal;font-family:Menlo,'DejaVu Sans Mono',consolas,'Courier New',monospace\">=========================\n",
       "</pre>\n"
      ],
      "text/plain": [
       "=========================\n"
      ]
     },
     "metadata": {},
     "output_type": "display_data"
    },
    {
     "data": {
      "text/html": [
       "<pre style=\"white-space:pre;overflow-x:auto;line-height:normal;font-family:Menlo,'DejaVu Sans Mono',consolas,'Courier New',monospace\">prev: And it was easy for them to decide to go, because neither as far as I know has a serious girlfriend, and \n",
       "everything they own will fit in one car—or more precisely, will either fit in one car or is crappy enough that they\n",
       "don't mind leaving it behind. They at least were in Boston.\n",
       "breakpoint sentence: What if they'd been in Nebraska, like Evan Williams was at their age?\n",
       "dist: <span style=\"color: #008080; text-decoration-color: #008080; font-weight: bold\">0.7366582155227661</span>\n",
       "chunks count: <span style=\"color: #008080; text-decoration-color: #008080; font-weight: bold\">51</span>\n",
       "</pre>\n"
      ],
      "text/plain": [
       "prev: And it was easy for them to decide to go, because neither as far as I know has a serious girlfriend, and \n",
       "everything they own will fit in one car—or more precisely, will either fit in one car or is crappy enough that they\n",
       "don't mind leaving it behind. They at least were in Boston.\n",
       "breakpoint sentence: What if they'd been in Nebraska, like Evan Williams was at their age?\n",
       "dist: \u001b[1;36m0.7366582155227661\u001b[0m\n",
       "chunks count: \u001b[1;36m51\u001b[0m\n"
      ]
     },
     "metadata": {},
     "output_type": "display_data"
    },
    {
     "data": {
      "text/html": [
       "<pre style=\"white-space:pre;overflow-x:auto;line-height:normal;font-family:Menlo,'DejaVu Sans Mono',consolas,'Courier New',monospace\">=========================\n",
       "</pre>\n"
      ],
      "text/plain": [
       "=========================\n"
      ]
     },
     "metadata": {},
     "output_type": "display_data"
    },
    {
     "data": {
      "text/html": [
       "<pre style=\"white-space:pre;overflow-x:auto;line-height:normal;font-family:Menlo,'DejaVu Sans Mono',consolas,'Courier New',monospace\">prev: What if they'd been in Nebraska, like Evan Williams was at their age?\n",
       "breakpoint sentence: Someone wrote recently that the drawback of Y Combinator was that you had to move to \n",
       "participate.\n",
       "dist: <span style=\"color: #008080; text-decoration-color: #008080; font-weight: bold\">0.6832879185676575</span>\n",
       "chunks count: <span style=\"color: #008080; text-decoration-color: #008080; font-weight: bold\">52</span>\n",
       "</pre>\n"
      ],
      "text/plain": [
       "prev: What if they'd been in Nebraska, like Evan Williams was at their age?\n",
       "breakpoint sentence: Someone wrote recently that the drawback of Y Combinator was that you had to move to \n",
       "participate.\n",
       "dist: \u001b[1;36m0.6832879185676575\u001b[0m\n",
       "chunks count: \u001b[1;36m52\u001b[0m\n"
      ]
     },
     "metadata": {},
     "output_type": "display_data"
    },
    {
     "data": {
      "text/html": [
       "<pre style=\"white-space:pre;overflow-x:auto;line-height:normal;font-family:Menlo,'DejaVu Sans Mono',consolas,'Courier New',monospace\">=========================\n",
       "</pre>\n"
      ],
      "text/plain": [
       "=========================\n"
      ]
     },
     "metadata": {},
     "output_type": "display_data"
    },
    {
     "data": {
      "text/html": [
       "<pre style=\"white-space:pre;overflow-x:auto;line-height:normal;font-family:Menlo,'DejaVu Sans Mono',consolas,'Courier New',monospace\">prev: Someone wrote recently that the drawback of Y Combinator was that you had to move to participate. It couldn't\n",
       "be any other way.\n",
       "breakpoint sentence: The kind of conversations we have with founders, we have to have in person.\n",
       "dist: <span style=\"color: #008080; text-decoration-color: #008080; font-weight: bold\">0.6969098448753357</span>\n",
       "chunks count: <span style=\"color: #008080; text-decoration-color: #008080; font-weight: bold\">53</span>\n",
       "</pre>\n"
      ],
      "text/plain": [
       "prev: Someone wrote recently that the drawback of Y Combinator was that you had to move to participate. It couldn't\n",
       "be any other way.\n",
       "breakpoint sentence: The kind of conversations we have with founders, we have to have in person.\n",
       "dist: \u001b[1;36m0.6969098448753357\u001b[0m\n",
       "chunks count: \u001b[1;36m53\u001b[0m\n"
      ]
     },
     "metadata": {},
     "output_type": "display_data"
    },
    {
     "data": {
      "text/html": [
       "<pre style=\"white-space:pre;overflow-x:auto;line-height:normal;font-family:Menlo,'DejaVu Sans Mono',consolas,'Courier New',monospace\">=========================\n",
       "</pre>\n"
      ],
      "text/plain": [
       "=========================\n"
      ]
     },
     "metadata": {},
     "output_type": "display_data"
    },
    {
     "data": {
      "text/html": [
       "<pre style=\"white-space:pre;overflow-x:auto;line-height:normal;font-family:Menlo,'DejaVu Sans Mono',consolas,'Courier New',monospace\">prev: The kind of conversations we have with founders, we have to have in person.\n",
       "breakpoint sentence: We fund a dozen startups at a time, and we can't be in a dozen places at once.\n",
       "dist: <span style=\"color: #008080; text-decoration-color: #008080; font-weight: bold\">0.8036439418792725</span>\n",
       "chunks count: <span style=\"color: #008080; text-decoration-color: #008080; font-weight: bold\">54</span>\n",
       "</pre>\n"
      ],
      "text/plain": [
       "prev: The kind of conversations we have with founders, we have to have in person.\n",
       "breakpoint sentence: We fund a dozen startups at a time, and we can't be in a dozen places at once.\n",
       "dist: \u001b[1;36m0.8036439418792725\u001b[0m\n",
       "chunks count: \u001b[1;36m54\u001b[0m\n"
      ]
     },
     "metadata": {},
     "output_type": "display_data"
    },
    {
     "data": {
      "text/html": [
       "<pre style=\"white-space:pre;overflow-x:auto;line-height:normal;font-family:Menlo,'DejaVu Sans Mono',consolas,'Courier New',monospace\">=========================\n",
       "</pre>\n"
      ],
      "text/plain": [
       "=========================\n"
      ]
     },
     "metadata": {},
     "output_type": "display_data"
    },
    {
     "data": {
      "text/html": [
       "<pre style=\"white-space:pre;overflow-x:auto;line-height:normal;font-family:Menlo,'DejaVu Sans Mono',consolas,'Courier New',monospace\">prev: We fund a dozen startups at a time, and we can't be in a dozen places at once.\n",
       "breakpoint sentence: But even if we could somehow magically save people from moving, we wouldn't.\n",
       "dist: <span style=\"color: #008080; text-decoration-color: #008080; font-weight: bold\">0.8582592010498047</span>\n",
       "chunks count: <span style=\"color: #008080; text-decoration-color: #008080; font-weight: bold\">55</span>\n",
       "</pre>\n"
      ],
      "text/plain": [
       "prev: We fund a dozen startups at a time, and we can't be in a dozen places at once.\n",
       "breakpoint sentence: But even if we could somehow magically save people from moving, we wouldn't.\n",
       "dist: \u001b[1;36m0.8582592010498047\u001b[0m\n",
       "chunks count: \u001b[1;36m55\u001b[0m\n"
      ]
     },
     "metadata": {},
     "output_type": "display_data"
    },
    {
     "data": {
      "text/html": [
       "<pre style=\"white-space:pre;overflow-x:auto;line-height:normal;font-family:Menlo,'DejaVu Sans Mono',consolas,'Courier New',monospace\">=========================\n",
       "</pre>\n"
      ],
      "text/plain": [
       "=========================\n"
      ]
     },
     "metadata": {},
     "output_type": "display_data"
    },
    {
     "data": {
      "text/html": [
       "<pre style=\"white-space:pre;overflow-x:auto;line-height:normal;font-family:Menlo,'DejaVu Sans Mono',consolas,'Courier New',monospace\">prev: But even if we could somehow magically save people from moving, we wouldn't.\n",
       "breakpoint sentence: We wouldn't be doing founders a favor by letting them stay in Nebraska.\n",
       "dist: <span style=\"color: #008080; text-decoration-color: #008080; font-weight: bold\">0.6773157119750977</span>\n",
       "chunks count: <span style=\"color: #008080; text-decoration-color: #008080; font-weight: bold\">56</span>\n",
       "</pre>\n"
      ],
      "text/plain": [
       "prev: But even if we could somehow magically save people from moving, we wouldn't.\n",
       "breakpoint sentence: We wouldn't be doing founders a favor by letting them stay in Nebraska.\n",
       "dist: \u001b[1;36m0.6773157119750977\u001b[0m\n",
       "chunks count: \u001b[1;36m56\u001b[0m\n"
      ]
     },
     "metadata": {},
     "output_type": "display_data"
    },
    {
     "data": {
      "text/html": [
       "<pre style=\"white-space:pre;overflow-x:auto;line-height:normal;font-family:Menlo,'DejaVu Sans Mono',consolas,'Courier New',monospace\">=========================\n",
       "</pre>\n"
      ],
      "text/plain": [
       "=========================\n"
      ]
     },
     "metadata": {},
     "output_type": "display_data"
    },
    {
     "data": {
      "text/html": [
       "<pre style=\"white-space:pre;overflow-x:auto;line-height:normal;font-family:Menlo,'DejaVu Sans Mono',consolas,'Courier New',monospace\">prev: We wouldn't be doing founders a favor by letting them stay in Nebraska.\n",
       "breakpoint sentence: Places that aren't startup hubs are toxic to startups.\n",
       "dist: <span style=\"color: #008080; text-decoration-color: #008080; font-weight: bold\">0.7990992665290833</span>\n",
       "chunks count: <span style=\"color: #008080; text-decoration-color: #008080; font-weight: bold\">57</span>\n",
       "</pre>\n"
      ],
      "text/plain": [
       "prev: We wouldn't be doing founders a favor by letting them stay in Nebraska.\n",
       "breakpoint sentence: Places that aren't startup hubs are toxic to startups.\n",
       "dist: \u001b[1;36m0.7990992665290833\u001b[0m\n",
       "chunks count: \u001b[1;36m57\u001b[0m\n"
      ]
     },
     "metadata": {},
     "output_type": "display_data"
    },
    {
     "data": {
      "text/html": [
       "<pre style=\"white-space:pre;overflow-x:auto;line-height:normal;font-family:Menlo,'DejaVu Sans Mono',consolas,'Courier New',monospace\">=========================\n",
       "</pre>\n"
      ],
      "text/plain": [
       "=========================\n"
      ]
     },
     "metadata": {},
     "output_type": "display_data"
    },
    {
     "data": {
      "text/html": [
       "<pre style=\"white-space:pre;overflow-x:auto;line-height:normal;font-family:Menlo,'DejaVu Sans Mono',consolas,'Courier New',monospace\">prev: Places that aren't startup hubs are toxic to startups. You can tell that from indirect evidence.\n",
       "breakpoint sentence: You can tell how hard it must be to start a startup in Houston or Chicago or Miami from the \n",
       "microscopically small number, per capita, that succeed there.\n",
       "dist: <span style=\"color: #008080; text-decoration-color: #008080; font-weight: bold\">0.847402036190033</span>\n",
       "chunks count: <span style=\"color: #008080; text-decoration-color: #008080; font-weight: bold\">58</span>\n",
       "</pre>\n"
      ],
      "text/plain": [
       "prev: Places that aren't startup hubs are toxic to startups. You can tell that from indirect evidence.\n",
       "breakpoint sentence: You can tell how hard it must be to start a startup in Houston or Chicago or Miami from the \n",
       "microscopically small number, per capita, that succeed there.\n",
       "dist: \u001b[1;36m0.847402036190033\u001b[0m\n",
       "chunks count: \u001b[1;36m58\u001b[0m\n"
      ]
     },
     "metadata": {},
     "output_type": "display_data"
    },
    {
     "data": {
      "text/html": [
       "<pre style=\"white-space:pre;overflow-x:auto;line-height:normal;font-family:Menlo,'DejaVu Sans Mono',consolas,'Courier New',monospace\">=========================\n",
       "</pre>\n"
      ],
      "text/plain": [
       "=========================\n"
      ]
     },
     "metadata": {},
     "output_type": "display_data"
    },
    {
     "data": {
      "text/html": [
       "<pre style=\"white-space:pre;overflow-x:auto;line-height:normal;font-family:Menlo,'DejaVu Sans Mono',consolas,'Courier New',monospace\">prev: You can tell how hard it must be to start a startup in Houston or Chicago or Miami from the microscopically \n",
       "small number, per capita, that succeed there.\n",
       "breakpoint sentence: I don't know exactly what's suppressing all the startups in these towns—probably a hundred \n",
       "subtle little things—but something must be.\n",
       "dist: <span style=\"color: #008080; text-decoration-color: #008080; font-weight: bold\">0.8447185754776001</span>\n",
       "chunks count: <span style=\"color: #008080; text-decoration-color: #008080; font-weight: bold\">59</span>\n",
       "</pre>\n"
      ],
      "text/plain": [
       "prev: You can tell how hard it must be to start a startup in Houston or Chicago or Miami from the microscopically \n",
       "small number, per capita, that succeed there.\n",
       "breakpoint sentence: I don't know exactly what's suppressing all the startups in these towns—probably a hundred \n",
       "subtle little things—but something must be.\n",
       "dist: \u001b[1;36m0.8447185754776001\u001b[0m\n",
       "chunks count: \u001b[1;36m59\u001b[0m\n"
      ]
     },
     "metadata": {},
     "output_type": "display_data"
    },
    {
     "data": {
      "text/html": [
       "<pre style=\"white-space:pre;overflow-x:auto;line-height:normal;font-family:Menlo,'DejaVu Sans Mono',consolas,'Courier New',monospace\">=========================\n",
       "</pre>\n"
      ],
      "text/plain": [
       "=========================\n"
      ]
     },
     "metadata": {},
     "output_type": "display_data"
    },
    {
     "data": {
      "text/html": [
       "<pre style=\"white-space:pre;overflow-x:auto;line-height:normal;font-family:Menlo,'DejaVu Sans Mono',consolas,'Courier New',monospace\">prev: I don't know exactly what's suppressing all the startups in these towns—probably a hundred subtle little \n",
       "things—but something must be. <span style=\"font-weight: bold\">[</span><span style=\"color: #008080; text-decoration-color: #008080; font-weight: bold\">2</span><span style=\"font-weight: bold\">]</span>\n",
       "\n",
       "Maybe this will change.\n",
       "breakpoint sentence: Maybe the increasing cheapness of startups will mean they'll be able to survive anywhere, \n",
       "instead of only in the most hospitable environments.\n",
       "dist: <span style=\"color: #008080; text-decoration-color: #008080; font-weight: bold\">0.8304181098937988</span>\n",
       "chunks count: <span style=\"color: #008080; text-decoration-color: #008080; font-weight: bold\">60</span>\n",
       "</pre>\n"
      ],
      "text/plain": [
       "prev: I don't know exactly what's suppressing all the startups in these towns—probably a hundred subtle little \n",
       "things—but something must be. \u001b[1m[\u001b[0m\u001b[1;36m2\u001b[0m\u001b[1m]\u001b[0m\n",
       "\n",
       "Maybe this will change.\n",
       "breakpoint sentence: Maybe the increasing cheapness of startups will mean they'll be able to survive anywhere, \n",
       "instead of only in the most hospitable environments.\n",
       "dist: \u001b[1;36m0.8304181098937988\u001b[0m\n",
       "chunks count: \u001b[1;36m60\u001b[0m\n"
      ]
     },
     "metadata": {},
     "output_type": "display_data"
    },
    {
     "data": {
      "text/html": [
       "<pre style=\"white-space:pre;overflow-x:auto;line-height:normal;font-family:Menlo,'DejaVu Sans Mono',consolas,'Courier New',monospace\">=========================\n",
       "</pre>\n"
      ],
      "text/plain": [
       "=========================\n"
      ]
     },
     "metadata": {},
     "output_type": "display_data"
    },
    {
     "data": {
      "text/html": [
       "<pre style=\"white-space:pre;overflow-x:auto;line-height:normal;font-family:Menlo,'DejaVu Sans Mono',consolas,'Courier New',monospace\">prev: Maybe the increasing cheapness of startups will mean they'll be able to survive anywhere, instead of only in \n",
       "the most hospitable environments.\n",
       "breakpoint sentence: Maybe 37signals is the pattern for the future.\n",
       "dist: <span style=\"color: #008080; text-decoration-color: #008080; font-weight: bold\">0.8169488310813904</span>\n",
       "chunks count: <span style=\"color: #008080; text-decoration-color: #008080; font-weight: bold\">61</span>\n",
       "</pre>\n"
      ],
      "text/plain": [
       "prev: Maybe the increasing cheapness of startups will mean they'll be able to survive anywhere, instead of only in \n",
       "the most hospitable environments.\n",
       "breakpoint sentence: Maybe 37signals is the pattern for the future.\n",
       "dist: \u001b[1;36m0.8169488310813904\u001b[0m\n",
       "chunks count: \u001b[1;36m61\u001b[0m\n"
      ]
     },
     "metadata": {},
     "output_type": "display_data"
    },
    {
     "data": {
      "text/html": [
       "<pre style=\"white-space:pre;overflow-x:auto;line-height:normal;font-family:Menlo,'DejaVu Sans Mono',consolas,'Courier New',monospace\">=========================\n",
       "</pre>\n"
      ],
      "text/plain": [
       "=========================\n"
      ]
     },
     "metadata": {},
     "output_type": "display_data"
    },
    {
     "data": {
      "text/html": [
       "<pre style=\"white-space:pre;overflow-x:auto;line-height:normal;font-family:Menlo,'DejaVu Sans Mono',consolas,'Courier New',monospace\">prev: Maybe 37signals is the pattern for the future. But maybe not.\n",
       "breakpoint sentence: Historically there have always been certain towns that were centers for certain industries, \n",
       "and if you weren't in one of them you were at a disadvantage.\n",
       "dist: <span style=\"color: #008080; text-decoration-color: #008080; font-weight: bold\">0.6213900446891785</span>\n",
       "chunks count: <span style=\"color: #008080; text-decoration-color: #008080; font-weight: bold\">62</span>\n",
       "</pre>\n"
      ],
      "text/plain": [
       "prev: Maybe 37signals is the pattern for the future. But maybe not.\n",
       "breakpoint sentence: Historically there have always been certain towns that were centers for certain industries, \n",
       "and if you weren't in one of them you were at a disadvantage.\n",
       "dist: \u001b[1;36m0.6213900446891785\u001b[0m\n",
       "chunks count: \u001b[1;36m62\u001b[0m\n"
      ]
     },
     "metadata": {},
     "output_type": "display_data"
    },
    {
     "data": {
      "text/html": [
       "<pre style=\"white-space:pre;overflow-x:auto;line-height:normal;font-family:Menlo,'DejaVu Sans Mono',consolas,'Courier New',monospace\">=========================\n",
       "</pre>\n"
      ],
      "text/plain": [
       "=========================\n"
      ]
     },
     "metadata": {},
     "output_type": "display_data"
    },
    {
     "data": {
      "text/html": [
       "<pre style=\"white-space:pre;overflow-x:auto;line-height:normal;font-family:Menlo,'DejaVu Sans Mono',consolas,'Courier New',monospace\">prev: Historically there have always been certain towns that were centers for certain industries, and if you \n",
       "weren't in one of them you were at a disadvantage.\n",
       "breakpoint sentence: So my guess is that 37signals is an anomaly.\n",
       "dist: <span style=\"color: #008080; text-decoration-color: #008080; font-weight: bold\">0.75223708152771</span>\n",
       "chunks count: <span style=\"color: #008080; text-decoration-color: #008080; font-weight: bold\">63</span>\n",
       "</pre>\n"
      ],
      "text/plain": [
       "prev: Historically there have always been certain towns that were centers for certain industries, and if you \n",
       "weren't in one of them you were at a disadvantage.\n",
       "breakpoint sentence: So my guess is that 37signals is an anomaly.\n",
       "dist: \u001b[1;36m0.75223708152771\u001b[0m\n",
       "chunks count: \u001b[1;36m63\u001b[0m\n"
      ]
     },
     "metadata": {},
     "output_type": "display_data"
    },
    {
     "data": {
      "text/html": [
       "<pre style=\"white-space:pre;overflow-x:auto;line-height:normal;font-family:Menlo,'DejaVu Sans Mono',consolas,'Courier New',monospace\">=========================\n",
       "</pre>\n"
      ],
      "text/plain": [
       "=========================\n"
      ]
     },
     "metadata": {},
     "output_type": "display_data"
    },
    {
     "data": {
      "text/html": [
       "<pre style=\"white-space:pre;overflow-x:auto;line-height:normal;font-family:Menlo,'DejaVu Sans Mono',consolas,'Courier New',monospace\">prev: So my guess is that 37signals is an anomaly.\n",
       "breakpoint sentence: We're looking at a pattern much older than <span style=\"color: #008000; text-decoration-color: #008000\">\"Web 2.0\"</span> here.\n",
       "dist: <span style=\"color: #008080; text-decoration-color: #008080; font-weight: bold\">0.6433585286140442</span>\n",
       "chunks count: <span style=\"color: #008080; text-decoration-color: #008080; font-weight: bold\">64</span>\n",
       "</pre>\n"
      ],
      "text/plain": [
       "prev: So my guess is that 37signals is an anomaly.\n",
       "breakpoint sentence: We're looking at a pattern much older than \u001b[32m\"Web 2.0\"\u001b[0m here.\n",
       "dist: \u001b[1;36m0.6433585286140442\u001b[0m\n",
       "chunks count: \u001b[1;36m64\u001b[0m\n"
      ]
     },
     "metadata": {},
     "output_type": "display_data"
    },
    {
     "data": {
      "text/html": [
       "<pre style=\"white-space:pre;overflow-x:auto;line-height:normal;font-family:Menlo,'DejaVu Sans Mono',consolas,'Courier New',monospace\">=========================\n",
       "</pre>\n"
      ],
      "text/plain": [
       "=========================\n"
      ]
     },
     "metadata": {},
     "output_type": "display_data"
    },
    {
     "data": {
      "text/html": [
       "<pre style=\"white-space:pre;overflow-x:auto;line-height:normal;font-family:Menlo,'DejaVu Sans Mono',consolas,'Courier New',monospace\">prev: We're looking at a pattern much older than <span style=\"color: #008000; text-decoration-color: #008000\">\"Web 2.0\"</span> here.\n",
       "breakpoint sentence: Perhaps the reason more startups per capita happen in the Bay Area than Miami is simply that \n",
       "there are more founder-type people there.\n",
       "dist: <span style=\"color: #008080; text-decoration-color: #008080; font-weight: bold\">0.5081013441085815</span>\n",
       "chunks count: <span style=\"color: #008080; text-decoration-color: #008080; font-weight: bold\">65</span>\n",
       "</pre>\n"
      ],
      "text/plain": [
       "prev: We're looking at a pattern much older than \u001b[32m\"Web 2.0\"\u001b[0m here.\n",
       "breakpoint sentence: Perhaps the reason more startups per capita happen in the Bay Area than Miami is simply that \n",
       "there are more founder-type people there.\n",
       "dist: \u001b[1;36m0.5081013441085815\u001b[0m\n",
       "chunks count: \u001b[1;36m65\u001b[0m\n"
      ]
     },
     "metadata": {},
     "output_type": "display_data"
    },
    {
     "data": {
      "text/html": [
       "<pre style=\"white-space:pre;overflow-x:auto;line-height:normal;font-family:Menlo,'DejaVu Sans Mono',consolas,'Courier New',monospace\">=========================\n",
       "</pre>\n"
      ],
      "text/plain": [
       "=========================\n"
      ]
     },
     "metadata": {},
     "output_type": "display_data"
    },
    {
     "data": {
      "text/html": [
       "<pre style=\"white-space:pre;overflow-x:auto;line-height:normal;font-family:Menlo,'DejaVu Sans Mono',consolas,'Courier New',monospace\">prev: Perhaps the reason more startups per capita happen in the Bay Area than Miami is simply that there are more \n",
       "founder-type people there. Successful startups are almost never started by one person. Usually they begin with a \n",
       "conversation in which someone mentions that something would be a good idea for a company, and his friend says, \n",
       "<span style=\"color: #008000; text-decoration-color: #008000\">\"Yeah, that is a good idea, let's try it.\"</span> If you're missing that second person who says <span style=\"color: #008000; text-decoration-color: #008000\">\"let's try it,\"</span> the \n",
       "startup never happens.\n",
       "breakpoint sentence: And that is another area where undergrads have an edge.\n",
       "dist: <span style=\"color: #008080; text-decoration-color: #008080; font-weight: bold\">0.8049784898757935</span>\n",
       "chunks count: <span style=\"color: #008080; text-decoration-color: #008080; font-weight: bold\">66</span>\n",
       "</pre>\n"
      ],
      "text/plain": [
       "prev: Perhaps the reason more startups per capita happen in the Bay Area than Miami is simply that there are more \n",
       "founder-type people there. Successful startups are almost never started by one person. Usually they begin with a \n",
       "conversation in which someone mentions that something would be a good idea for a company, and his friend says, \n",
       "\u001b[32m\"Yeah, that is a good idea, let's try it.\"\u001b[0m If you're missing that second person who says \u001b[32m\"let's try it,\"\u001b[0m the \n",
       "startup never happens.\n",
       "breakpoint sentence: And that is another area where undergrads have an edge.\n",
       "dist: \u001b[1;36m0.8049784898757935\u001b[0m\n",
       "chunks count: \u001b[1;36m66\u001b[0m\n"
      ]
     },
     "metadata": {},
     "output_type": "display_data"
    },
    {
     "data": {
      "text/html": [
       "<pre style=\"white-space:pre;overflow-x:auto;line-height:normal;font-family:Menlo,'DejaVu Sans Mono',consolas,'Courier New',monospace\">=========================\n",
       "</pre>\n"
      ],
      "text/plain": [
       "=========================\n"
      ]
     },
     "metadata": {},
     "output_type": "display_data"
    },
    {
     "data": {
      "text/html": [
       "<pre style=\"white-space:pre;overflow-x:auto;line-height:normal;font-family:Menlo,'DejaVu Sans Mono',consolas,'Courier New',monospace\">prev: And that is another area where undergrads have an edge.\n",
       "breakpoint sentence: They're surrounded by people willing to say that.\n",
       "dist: <span style=\"color: #008080; text-decoration-color: #008080; font-weight: bold\">0.8122689127922058</span>\n",
       "chunks count: <span style=\"color: #008080; text-decoration-color: #008080; font-weight: bold\">67</span>\n",
       "</pre>\n"
      ],
      "text/plain": [
       "prev: And that is another area where undergrads have an edge.\n",
       "breakpoint sentence: They're surrounded by people willing to say that.\n",
       "dist: \u001b[1;36m0.8122689127922058\u001b[0m\n",
       "chunks count: \u001b[1;36m67\u001b[0m\n"
      ]
     },
     "metadata": {},
     "output_type": "display_data"
    },
    {
     "data": {
      "text/html": [
       "<pre style=\"white-space:pre;overflow-x:auto;line-height:normal;font-family:Menlo,'DejaVu Sans Mono',consolas,'Courier New',monospace\">=========================\n",
       "</pre>\n"
      ],
      "text/plain": [
       "=========================\n"
      ]
     },
     "metadata": {},
     "output_type": "display_data"
    },
    {
     "data": {
      "text/html": [
       "<pre style=\"white-space:pre;overflow-x:auto;line-height:normal;font-family:Menlo,'DejaVu Sans Mono',consolas,'Courier New',monospace\">prev: They're surrounded by people willing to say that.\n",
       "breakpoint sentence: At a good college you're concentrated together with a lot of other ambitious and technically \n",
       "minded people—probably more concentrated than you'll ever be again.\n",
       "dist: <span style=\"color: #008080; text-decoration-color: #008080; font-weight: bold\">0.5321819186210632</span>\n",
       "chunks count: <span style=\"color: #008080; text-decoration-color: #008080; font-weight: bold\">68</span>\n",
       "</pre>\n"
      ],
      "text/plain": [
       "prev: They're surrounded by people willing to say that.\n",
       "breakpoint sentence: At a good college you're concentrated together with a lot of other ambitious and technically \n",
       "minded people—probably more concentrated than you'll ever be again.\n",
       "dist: \u001b[1;36m0.5321819186210632\u001b[0m\n",
       "chunks count: \u001b[1;36m68\u001b[0m\n"
      ]
     },
     "metadata": {},
     "output_type": "display_data"
    },
    {
     "data": {
      "text/html": [
       "<pre style=\"white-space:pre;overflow-x:auto;line-height:normal;font-family:Menlo,'DejaVu Sans Mono',consolas,'Courier New',monospace\">=========================\n",
       "</pre>\n"
      ],
      "text/plain": [
       "=========================\n"
      ]
     },
     "metadata": {},
     "output_type": "display_data"
    },
    {
     "data": {
      "text/html": [
       "<pre style=\"white-space:pre;overflow-x:auto;line-height:normal;font-family:Menlo,'DejaVu Sans Mono',consolas,'Courier New',monospace\">prev: At a good college you're concentrated together with a lot of other ambitious and technically minded \n",
       "people—probably more concentrated than you'll ever be again.\n",
       "breakpoint sentence: If your nucleus spits out a neutron, there's a good chance it will hit another nucleus.\n",
       "dist: <span style=\"color: #008080; text-decoration-color: #008080; font-weight: bold\">0.5973114967346191</span>\n",
       "chunks count: <span style=\"color: #008080; text-decoration-color: #008080; font-weight: bold\">69</span>\n",
       "</pre>\n"
      ],
      "text/plain": [
       "prev: At a good college you're concentrated together with a lot of other ambitious and technically minded \n",
       "people—probably more concentrated than you'll ever be again.\n",
       "breakpoint sentence: If your nucleus spits out a neutron, there's a good chance it will hit another nucleus.\n",
       "dist: \u001b[1;36m0.5973114967346191\u001b[0m\n",
       "chunks count: \u001b[1;36m69\u001b[0m\n"
      ]
     },
     "metadata": {},
     "output_type": "display_data"
    },
    {
     "data": {
      "text/html": [
       "<pre style=\"white-space:pre;overflow-x:auto;line-height:normal;font-family:Menlo,'DejaVu Sans Mono',consolas,'Courier New',monospace\">=========================\n",
       "</pre>\n"
      ],
      "text/plain": [
       "=========================\n"
      ]
     },
     "metadata": {},
     "output_type": "display_data"
    },
    {
     "data": {
      "text/html": [
       "<pre style=\"white-space:pre;overflow-x:auto;line-height:normal;font-family:Menlo,'DejaVu Sans Mono',consolas,'Courier New',monospace\">prev: If your nucleus spits out a neutron, there's a good chance it will hit another nucleus.\n",
       "breakpoint sentence: The number one question people ask us at Y Combinator is: Where can I find a co-founder?\n",
       "dist: <span style=\"color: #008080; text-decoration-color: #008080; font-weight: bold\">0.7945252656936646</span>\n",
       "chunks count: <span style=\"color: #008080; text-decoration-color: #008080; font-weight: bold\">70</span>\n",
       "</pre>\n"
      ],
      "text/plain": [
       "prev: If your nucleus spits out a neutron, there's a good chance it will hit another nucleus.\n",
       "breakpoint sentence: The number one question people ask us at Y Combinator is: Where can I find a co-founder?\n",
       "dist: \u001b[1;36m0.7945252656936646\u001b[0m\n",
       "chunks count: \u001b[1;36m70\u001b[0m\n"
      ]
     },
     "metadata": {},
     "output_type": "display_data"
    },
    {
     "data": {
      "text/html": [
       "<pre style=\"white-space:pre;overflow-x:auto;line-height:normal;font-family:Menlo,'DejaVu Sans Mono',consolas,'Courier New',monospace\">=========================\n",
       "</pre>\n"
      ],
      "text/plain": [
       "=========================\n"
      ]
     },
     "metadata": {},
     "output_type": "display_data"
    },
    {
     "data": {
      "text/html": [
       "<pre style=\"white-space:pre;overflow-x:auto;line-height:normal;font-family:Menlo,'DejaVu Sans Mono',consolas,'Courier New',monospace\">prev: The number one question people ask us at Y Combinator is: Where can I find a co-founder?\n",
       "breakpoint sentence: That's the biggest problem for someone starting a startup at <span style=\"color: #008080; text-decoration-color: #008080; font-weight: bold\">30</span>.\n",
       "dist: <span style=\"color: #008080; text-decoration-color: #008080; font-weight: bold\">0.7292771339416504</span>\n",
       "chunks count: <span style=\"color: #008080; text-decoration-color: #008080; font-weight: bold\">71</span>\n",
       "</pre>\n"
      ],
      "text/plain": [
       "prev: The number one question people ask us at Y Combinator is: Where can I find a co-founder?\n",
       "breakpoint sentence: That's the biggest problem for someone starting a startup at \u001b[1;36m30\u001b[0m.\n",
       "dist: \u001b[1;36m0.7292771339416504\u001b[0m\n",
       "chunks count: \u001b[1;36m71\u001b[0m\n"
      ]
     },
     "metadata": {},
     "output_type": "display_data"
    },
    {
     "data": {
      "text/html": [
       "<pre style=\"white-space:pre;overflow-x:auto;line-height:normal;font-family:Menlo,'DejaVu Sans Mono',consolas,'Courier New',monospace\">=========================\n",
       "</pre>\n"
      ],
      "text/plain": [
       "=========================\n"
      ]
     },
     "metadata": {},
     "output_type": "display_data"
    },
    {
     "data": {
      "text/html": [
       "<pre style=\"white-space:pre;overflow-x:auto;line-height:normal;font-family:Menlo,'DejaVu Sans Mono',consolas,'Courier New',monospace\">prev: That's the biggest problem for someone starting a startup at <span style=\"color: #008080; text-decoration-color: #008080; font-weight: bold\">30</span>.\n",
       "breakpoint sentence: When they were in school they knew a lot of good co-founders, but by <span style=\"color: #008080; text-decoration-color: #008080; font-weight: bold\">30</span> they've either lost \n",
       "touch with them or these people are tied down by jobs they don't want to leave.\n",
       "dist: <span style=\"color: #008080; text-decoration-color: #008080; font-weight: bold\">0.6974751353263855</span>\n",
       "chunks count: <span style=\"color: #008080; text-decoration-color: #008080; font-weight: bold\">72</span>\n",
       "</pre>\n"
      ],
      "text/plain": [
       "prev: That's the biggest problem for someone starting a startup at \u001b[1;36m30\u001b[0m.\n",
       "breakpoint sentence: When they were in school they knew a lot of good co-founders, but by \u001b[1;36m30\u001b[0m they've either lost \n",
       "touch with them or these people are tied down by jobs they don't want to leave.\n",
       "dist: \u001b[1;36m0.6974751353263855\u001b[0m\n",
       "chunks count: \u001b[1;36m72\u001b[0m\n"
      ]
     },
     "metadata": {},
     "output_type": "display_data"
    },
    {
     "data": {
      "text/html": [
       "<pre style=\"white-space:pre;overflow-x:auto;line-height:normal;font-family:Menlo,'DejaVu Sans Mono',consolas,'Courier New',monospace\">=========================\n",
       "</pre>\n"
      ],
      "text/plain": [
       "=========================\n"
      ]
     },
     "metadata": {},
     "output_type": "display_data"
    },
    {
     "data": {
      "text/html": [
       "<pre style=\"white-space:pre;overflow-x:auto;line-height:normal;font-family:Menlo,'DejaVu Sans Mono',consolas,'Courier New',monospace\">prev: When they were in school they knew a lot of good co-founders, but by <span style=\"color: #008080; text-decoration-color: #008080; font-weight: bold\">30</span> they've either lost touch with them \n",
       "or these people are tied down by jobs they don't want to leave. Viaweb was an anomaly in this respect too. Though \n",
       "we were comparatively old, we weren't tied down by impressive jobs. I was trying to be an artist, which is not very\n",
       "constraining, and Robert, though <span style=\"color: #008080; text-decoration-color: #008080; font-weight: bold\">29</span>, was still in grad school due to a little interruption in his academic career \n",
       "back in <span style=\"color: #008080; text-decoration-color: #008080; font-weight: bold\">1988</span>.\n",
       "breakpoint sentence: So arguably the Worm made Viaweb possible.\n",
       "dist: <span style=\"color: #008080; text-decoration-color: #008080; font-weight: bold\">0.7195724248886108</span>\n",
       "chunks count: <span style=\"color: #008080; text-decoration-color: #008080; font-weight: bold\">73</span>\n",
       "</pre>\n"
      ],
      "text/plain": [
       "prev: When they were in school they knew a lot of good co-founders, but by \u001b[1;36m30\u001b[0m they've either lost touch with them \n",
       "or these people are tied down by jobs they don't want to leave. Viaweb was an anomaly in this respect too. Though \n",
       "we were comparatively old, we weren't tied down by impressive jobs. I was trying to be an artist, which is not very\n",
       "constraining, and Robert, though \u001b[1;36m29\u001b[0m, was still in grad school due to a little interruption in his academic career \n",
       "back in \u001b[1;36m1988\u001b[0m.\n",
       "breakpoint sentence: So arguably the Worm made Viaweb possible.\n",
       "dist: \u001b[1;36m0.7195724248886108\u001b[0m\n",
       "chunks count: \u001b[1;36m73\u001b[0m\n"
      ]
     },
     "metadata": {},
     "output_type": "display_data"
    },
    {
     "data": {
      "text/html": [
       "<pre style=\"white-space:pre;overflow-x:auto;line-height:normal;font-family:Menlo,'DejaVu Sans Mono',consolas,'Courier New',monospace\">=========================\n",
       "</pre>\n"
      ],
      "text/plain": [
       "=========================\n"
      ]
     },
     "metadata": {},
     "output_type": "display_data"
    },
    {
     "data": {
      "text/html": [
       "<pre style=\"white-space:pre;overflow-x:auto;line-height:normal;font-family:Menlo,'DejaVu Sans Mono',consolas,'Courier New',monospace\">prev: So arguably the Worm made Viaweb possible.\n",
       "breakpoint sentence: Otherwise Robert would have been a junior professor at that age, and he wouldn't have had time\n",
       "to work on crazy speculative projects with me.\n",
       "dist: <span style=\"color: #008080; text-decoration-color: #008080; font-weight: bold\">0.8470292091369629</span>\n",
       "chunks count: <span style=\"color: #008080; text-decoration-color: #008080; font-weight: bold\">74</span>\n",
       "</pre>\n"
      ],
      "text/plain": [
       "prev: So arguably the Worm made Viaweb possible.\n",
       "breakpoint sentence: Otherwise Robert would have been a junior professor at that age, and he wouldn't have had time\n",
       "to work on crazy speculative projects with me.\n",
       "dist: \u001b[1;36m0.8470292091369629\u001b[0m\n",
       "chunks count: \u001b[1;36m74\u001b[0m\n"
      ]
     },
     "metadata": {},
     "output_type": "display_data"
    },
    {
     "data": {
      "text/html": [
       "<pre style=\"white-space:pre;overflow-x:auto;line-height:normal;font-family:Menlo,'DejaVu Sans Mono',consolas,'Courier New',monospace\">=========================\n",
       "</pre>\n"
      ],
      "text/plain": [
       "=========================\n"
      ]
     },
     "metadata": {},
     "output_type": "display_data"
    },
    {
     "data": {
      "text/html": [
       "<pre style=\"white-space:pre;overflow-x:auto;line-height:normal;font-family:Menlo,'DejaVu Sans Mono',consolas,'Courier New',monospace\">prev: Otherwise Robert would have been a junior professor at that age, and he wouldn't have had time to work on \n",
       "crazy speculative projects with me.\n",
       "breakpoint sentence: Most of the questions people ask Y Combinator we have some kind of answer for, but not the \n",
       "co-founder question.\n",
       "dist: <span style=\"color: #008080; text-decoration-color: #008080; font-weight: bold\">0.6388044953346252</span>\n",
       "chunks count: <span style=\"color: #008080; text-decoration-color: #008080; font-weight: bold\">75</span>\n",
       "</pre>\n"
      ],
      "text/plain": [
       "prev: Otherwise Robert would have been a junior professor at that age, and he wouldn't have had time to work on \n",
       "crazy speculative projects with me.\n",
       "breakpoint sentence: Most of the questions people ask Y Combinator we have some kind of answer for, but not the \n",
       "co-founder question.\n",
       "dist: \u001b[1;36m0.6388044953346252\u001b[0m\n",
       "chunks count: \u001b[1;36m75\u001b[0m\n"
      ]
     },
     "metadata": {},
     "output_type": "display_data"
    },
    {
     "data": {
      "text/html": [
       "<pre style=\"white-space:pre;overflow-x:auto;line-height:normal;font-family:Menlo,'DejaVu Sans Mono',consolas,'Courier New',monospace\">=========================\n",
       "</pre>\n"
      ],
      "text/plain": [
       "=========================\n"
      ]
     },
     "metadata": {},
     "output_type": "display_data"
    },
    {
     "data": {
      "text/html": [
       "<pre style=\"white-space:pre;overflow-x:auto;line-height:normal;font-family:Menlo,'DejaVu Sans Mono',consolas,'Courier New',monospace\">prev: Most of the questions people ask Y Combinator we have some kind of answer for, but not the co-founder \n",
       "question. There is no good answer. Co-founders really should be people you already know.\n",
       "breakpoint sentence: And by far the best place to meet them is school.\n",
       "dist: <span style=\"color: #008080; text-decoration-color: #008080; font-weight: bold\">0.7817345857620239</span>\n",
       "chunks count: <span style=\"color: #008080; text-decoration-color: #008080; font-weight: bold\">76</span>\n",
       "</pre>\n"
      ],
      "text/plain": [
       "prev: Most of the questions people ask Y Combinator we have some kind of answer for, but not the co-founder \n",
       "question. There is no good answer. Co-founders really should be people you already know.\n",
       "breakpoint sentence: And by far the best place to meet them is school.\n",
       "dist: \u001b[1;36m0.7817345857620239\u001b[0m\n",
       "chunks count: \u001b[1;36m76\u001b[0m\n"
      ]
     },
     "metadata": {},
     "output_type": "display_data"
    },
    {
     "data": {
      "text/html": [
       "<pre style=\"white-space:pre;overflow-x:auto;line-height:normal;font-family:Menlo,'DejaVu Sans Mono',consolas,'Courier New',monospace\">=========================\n",
       "</pre>\n"
      ],
      "text/plain": [
       "=========================\n"
      ]
     },
     "metadata": {},
     "output_type": "display_data"
    },
    {
     "data": {
      "text/html": [
       "<pre style=\"white-space:pre;overflow-x:auto;line-height:normal;font-family:Menlo,'DejaVu Sans Mono',consolas,'Courier New',monospace\">prev: And by far the best place to meet them is school.\n",
       "breakpoint sentence: You have a large sample of smart people; you get to compare how they all perform on identical \n",
       "tasks; and everyone's life is pretty fluid.\n",
       "dist: <span style=\"color: #008080; text-decoration-color: #008080; font-weight: bold\">0.7421122193336487</span>\n",
       "chunks count: <span style=\"color: #008080; text-decoration-color: #008080; font-weight: bold\">77</span>\n",
       "</pre>\n"
      ],
      "text/plain": [
       "prev: And by far the best place to meet them is school.\n",
       "breakpoint sentence: You have a large sample of smart people; you get to compare how they all perform on identical \n",
       "tasks; and everyone's life is pretty fluid.\n",
       "dist: \u001b[1;36m0.7421122193336487\u001b[0m\n",
       "chunks count: \u001b[1;36m77\u001b[0m\n"
      ]
     },
     "metadata": {},
     "output_type": "display_data"
    },
    {
     "data": {
      "text/html": [
       "<pre style=\"white-space:pre;overflow-x:auto;line-height:normal;font-family:Menlo,'DejaVu Sans Mono',consolas,'Courier New',monospace\">=========================\n",
       "</pre>\n"
      ],
      "text/plain": [
       "=========================\n"
      ]
     },
     "metadata": {},
     "output_type": "display_data"
    },
    {
     "data": {
      "text/html": [
       "<pre style=\"white-space:pre;overflow-x:auto;line-height:normal;font-family:Menlo,'DejaVu Sans Mono',consolas,'Courier New',monospace\">prev: You have a large sample of smart people; you get to compare how they all perform on identical tasks; and \n",
       "everyone's life is pretty fluid.\n",
       "breakpoint sentence: A lot of startups grow out of schools for this reason.\n",
       "dist: <span style=\"color: #008080; text-decoration-color: #008080; font-weight: bold\">0.8592275381088257</span>\n",
       "chunks count: <span style=\"color: #008080; text-decoration-color: #008080; font-weight: bold\">78</span>\n",
       "</pre>\n"
      ],
      "text/plain": [
       "prev: You have a large sample of smart people; you get to compare how they all perform on identical tasks; and \n",
       "everyone's life is pretty fluid.\n",
       "breakpoint sentence: A lot of startups grow out of schools for this reason.\n",
       "dist: \u001b[1;36m0.8592275381088257\u001b[0m\n",
       "chunks count: \u001b[1;36m78\u001b[0m\n"
      ]
     },
     "metadata": {},
     "output_type": "display_data"
    },
    {
     "data": {
      "text/html": [
       "<pre style=\"white-space:pre;overflow-x:auto;line-height:normal;font-family:Menlo,'DejaVu Sans Mono',consolas,'Courier New',monospace\">=========================\n",
       "</pre>\n"
      ],
      "text/plain": [
       "=========================\n"
      ]
     },
     "metadata": {},
     "output_type": "display_data"
    },
    {
     "data": {
      "text/html": [
       "<pre style=\"white-space:pre;overflow-x:auto;line-height:normal;font-family:Menlo,'DejaVu Sans Mono',consolas,'Courier New',monospace\">prev: A lot of startups grow out of schools for this reason. Google, Yahoo, and Microsoft, among others, were all \n",
       "founded by people who met in school.\n",
       "breakpoint sentence: <span style=\"font-weight: bold\">(</span>In Microsoft's case, it was high school.<span style=\"font-weight: bold\">)</span>\n",
       "\n",
       "Many students feel they should wait and get a little more experience before they start a company.\n",
       "dist: <span style=\"color: #008080; text-decoration-color: #008080; font-weight: bold\">0.8150519728660583</span>\n",
       "chunks count: <span style=\"color: #008080; text-decoration-color: #008080; font-weight: bold\">79</span>\n",
       "</pre>\n"
      ],
      "text/plain": [
       "prev: A lot of startups grow out of schools for this reason. Google, Yahoo, and Microsoft, among others, were all \n",
       "founded by people who met in school.\n",
       "breakpoint sentence: \u001b[1m(\u001b[0mIn Microsoft's case, it was high school.\u001b[1m)\u001b[0m\n",
       "\n",
       "Many students feel they should wait and get a little more experience before they start a company.\n",
       "dist: \u001b[1;36m0.8150519728660583\u001b[0m\n",
       "chunks count: \u001b[1;36m79\u001b[0m\n"
      ]
     },
     "metadata": {},
     "output_type": "display_data"
    },
    {
     "data": {
      "text/html": [
       "<pre style=\"white-space:pre;overflow-x:auto;line-height:normal;font-family:Menlo,'DejaVu Sans Mono',consolas,'Courier New',monospace\">=========================\n",
       "</pre>\n"
      ],
      "text/plain": [
       "=========================\n"
      ]
     },
     "metadata": {},
     "output_type": "display_data"
    },
    {
     "data": {
      "text/html": [
       "<pre style=\"white-space:pre;overflow-x:auto;line-height:normal;font-family:Menlo,'DejaVu Sans Mono',consolas,'Courier New',monospace\">prev: <span style=\"font-weight: bold\">(</span>In Microsoft's case, it was high school.<span style=\"font-weight: bold\">)</span>\n",
       "\n",
       "Many students feel they should wait and get a little more experience before they start a company. All other things \n",
       "being equal, they should. But all other things are not quite as equal as they look. Most students don't realize how\n",
       "rich they are in the scarcest ingredient in startups, co-founders. If you wait too long, you may find that your \n",
       "friends are now involved in some project they don't want to abandon. The better they are, the more likely this is \n",
       "to happen.\n",
       "breakpoint sentence: One way to mitigate this problem might be to actively plan your startup while you're getting \n",
       "those n years of experience.\n",
       "dist: <span style=\"color: #008080; text-decoration-color: #008080; font-weight: bold\">0.8455514311790466</span>\n",
       "chunks count: <span style=\"color: #008080; text-decoration-color: #008080; font-weight: bold\">80</span>\n",
       "</pre>\n"
      ],
      "text/plain": [
       "prev: \u001b[1m(\u001b[0mIn Microsoft's case, it was high school.\u001b[1m)\u001b[0m\n",
       "\n",
       "Many students feel they should wait and get a little more experience before they start a company. All other things \n",
       "being equal, they should. But all other things are not quite as equal as they look. Most students don't realize how\n",
       "rich they are in the scarcest ingredient in startups, co-founders. If you wait too long, you may find that your \n",
       "friends are now involved in some project they don't want to abandon. The better they are, the more likely this is \n",
       "to happen.\n",
       "breakpoint sentence: One way to mitigate this problem might be to actively plan your startup while you're getting \n",
       "those n years of experience.\n",
       "dist: \u001b[1;36m0.8455514311790466\u001b[0m\n",
       "chunks count: \u001b[1;36m80\u001b[0m\n"
      ]
     },
     "metadata": {},
     "output_type": "display_data"
    },
    {
     "data": {
      "text/html": [
       "<pre style=\"white-space:pre;overflow-x:auto;line-height:normal;font-family:Menlo,'DejaVu Sans Mono',consolas,'Courier New',monospace\">=========================\n",
       "</pre>\n"
      ],
      "text/plain": [
       "=========================\n"
      ]
     },
     "metadata": {},
     "output_type": "display_data"
    },
    {
     "data": {
      "text/html": [
       "<pre style=\"white-space:pre;overflow-x:auto;line-height:normal;font-family:Menlo,'DejaVu Sans Mono',consolas,'Courier New',monospace\">prev: One way to mitigate this problem might be to actively plan your startup while you're getting those n years of\n",
       "experience.\n",
       "breakpoint sentence: Sure, go off and get jobs or go to grad school or whatever, but get together regularly to \n",
       "scheme, so the idea of starting a startup stays alive in everyone's brain.\n",
       "dist: <span style=\"color: #008080; text-decoration-color: #008080; font-weight: bold\">0.8564801812171936</span>\n",
       "chunks count: <span style=\"color: #008080; text-decoration-color: #008080; font-weight: bold\">81</span>\n",
       "</pre>\n"
      ],
      "text/plain": [
       "prev: One way to mitigate this problem might be to actively plan your startup while you're getting those n years of\n",
       "experience.\n",
       "breakpoint sentence: Sure, go off and get jobs or go to grad school or whatever, but get together regularly to \n",
       "scheme, so the idea of starting a startup stays alive in everyone's brain.\n",
       "dist: \u001b[1;36m0.8564801812171936\u001b[0m\n",
       "chunks count: \u001b[1;36m81\u001b[0m\n"
      ]
     },
     "metadata": {},
     "output_type": "display_data"
    },
    {
     "data": {
      "text/html": [
       "<pre style=\"white-space:pre;overflow-x:auto;line-height:normal;font-family:Menlo,'DejaVu Sans Mono',consolas,'Courier New',monospace\">=========================\n",
       "</pre>\n"
      ],
      "text/plain": [
       "=========================\n"
      ]
     },
     "metadata": {},
     "output_type": "display_data"
    },
    {
     "data": {
      "text/html": [
       "<pre style=\"white-space:pre;overflow-x:auto;line-height:normal;font-family:Menlo,'DejaVu Sans Mono',consolas,'Courier New',monospace\">prev: Sure, go off and get jobs or go to grad school or whatever, but get together regularly to scheme, so the idea\n",
       "of starting a startup stays alive in everyone's brain. I don't know if this works, but it can't hurt to try. It \n",
       "would be helpful just to realize what an advantage you have as students.\n",
       "breakpoint sentence: Some of your classmates are probably going to be successful startup founders; at a great \n",
       "technical university, that is a near certainty.\n",
       "dist: <span style=\"color: #008080; text-decoration-color: #008080; font-weight: bold\">0.8203848600387573</span>\n",
       "chunks count: <span style=\"color: #008080; text-decoration-color: #008080; font-weight: bold\">82</span>\n",
       "</pre>\n"
      ],
      "text/plain": [
       "prev: Sure, go off and get jobs or go to grad school or whatever, but get together regularly to scheme, so the idea\n",
       "of starting a startup stays alive in everyone's brain. I don't know if this works, but it can't hurt to try. It \n",
       "would be helpful just to realize what an advantage you have as students.\n",
       "breakpoint sentence: Some of your classmates are probably going to be successful startup founders; at a great \n",
       "technical university, that is a near certainty.\n",
       "dist: \u001b[1;36m0.8203848600387573\u001b[0m\n",
       "chunks count: \u001b[1;36m82\u001b[0m\n"
      ]
     },
     "metadata": {},
     "output_type": "display_data"
    },
    {
     "data": {
      "text/html": [
       "<pre style=\"white-space:pre;overflow-x:auto;line-height:normal;font-family:Menlo,'DejaVu Sans Mono',consolas,'Courier New',monospace\">=========================\n",
       "</pre>\n"
      ],
      "text/plain": [
       "=========================\n"
      ]
     },
     "metadata": {},
     "output_type": "display_data"
    },
    {
     "data": {
      "text/html": [
       "<pre style=\"white-space:pre;overflow-x:auto;line-height:normal;font-family:Menlo,'DejaVu Sans Mono',consolas,'Courier New',monospace\">prev: Some of your classmates are probably going to be successful startup founders; at a great technical \n",
       "university, that is a near certainty. So which ones?\n",
       "breakpoint sentence: If I were you I'd look for the people who are not just smart, but incurable builders.\n",
       "dist: <span style=\"color: #008080; text-decoration-color: #008080; font-weight: bold\">0.8514091968536377</span>\n",
       "chunks count: <span style=\"color: #008080; text-decoration-color: #008080; font-weight: bold\">83</span>\n",
       "</pre>\n"
      ],
      "text/plain": [
       "prev: Some of your classmates are probably going to be successful startup founders; at a great technical \n",
       "university, that is a near certainty. So which ones?\n",
       "breakpoint sentence: If I were you I'd look for the people who are not just smart, but incurable builders.\n",
       "dist: \u001b[1;36m0.8514091968536377\u001b[0m\n",
       "chunks count: \u001b[1;36m83\u001b[0m\n"
      ]
     },
     "metadata": {},
     "output_type": "display_data"
    },
    {
     "data": {
      "text/html": [
       "<pre style=\"white-space:pre;overflow-x:auto;line-height:normal;font-family:Menlo,'DejaVu Sans Mono',consolas,'Courier New',monospace\">=========================\n",
       "</pre>\n"
      ],
      "text/plain": [
       "=========================\n"
      ]
     },
     "metadata": {},
     "output_type": "display_data"
    },
    {
     "data": {
      "text/html": [
       "<pre style=\"white-space:pre;overflow-x:auto;line-height:normal;font-family:Menlo,'DejaVu Sans Mono',consolas,'Courier New',monospace\">prev: If I were you I'd look for the people who are not just smart, but incurable builders. Look for the people who\n",
       "keep starting projects, and finish at least some of them. That's what we look for.\n",
       "breakpoint sentence: Above all else, above academic credentials and even the idea you apply with, we look for \n",
       "people who build things.\n",
       "dist: <span style=\"color: #008080; text-decoration-color: #008080; font-weight: bold\">0.6644952893257141</span>\n",
       "chunks count: <span style=\"color: #008080; text-decoration-color: #008080; font-weight: bold\">84</span>\n",
       "</pre>\n"
      ],
      "text/plain": [
       "prev: If I were you I'd look for the people who are not just smart, but incurable builders. Look for the people who\n",
       "keep starting projects, and finish at least some of them. That's what we look for.\n",
       "breakpoint sentence: Above all else, above academic credentials and even the idea you apply with, we look for \n",
       "people who build things.\n",
       "dist: \u001b[1;36m0.6644952893257141\u001b[0m\n",
       "chunks count: \u001b[1;36m84\u001b[0m\n"
      ]
     },
     "metadata": {},
     "output_type": "display_data"
    },
    {
     "data": {
      "text/html": [
       "<pre style=\"white-space:pre;overflow-x:auto;line-height:normal;font-family:Menlo,'DejaVu Sans Mono',consolas,'Courier New',monospace\">=========================\n",
       "</pre>\n"
      ],
      "text/plain": [
       "=========================\n"
      ]
     },
     "metadata": {},
     "output_type": "display_data"
    },
    {
     "data": {
      "text/html": [
       "<pre style=\"white-space:pre;overflow-x:auto;line-height:normal;font-family:Menlo,'DejaVu Sans Mono',consolas,'Courier New',monospace\">prev: Above all else, above academic credentials and even the idea you apply with, we look for people who build \n",
       "things.\n",
       "breakpoint sentence: The other place co-founders meet is at work.\n",
       "dist: <span style=\"color: #008080; text-decoration-color: #008080; font-weight: bold\">0.792753279209137</span>\n",
       "chunks count: <span style=\"color: #008080; text-decoration-color: #008080; font-weight: bold\">85</span>\n",
       "</pre>\n"
      ],
      "text/plain": [
       "prev: Above all else, above academic credentials and even the idea you apply with, we look for people who build \n",
       "things.\n",
       "breakpoint sentence: The other place co-founders meet is at work.\n",
       "dist: \u001b[1;36m0.792753279209137\u001b[0m\n",
       "chunks count: \u001b[1;36m85\u001b[0m\n"
      ]
     },
     "metadata": {},
     "output_type": "display_data"
    },
    {
     "data": {
      "text/html": [
       "<pre style=\"white-space:pre;overflow-x:auto;line-height:normal;font-family:Menlo,'DejaVu Sans Mono',consolas,'Courier New',monospace\">=========================\n",
       "</pre>\n"
      ],
      "text/plain": [
       "=========================\n"
      ]
     },
     "metadata": {},
     "output_type": "display_data"
    },
    {
     "data": {
      "text/html": [
       "<pre style=\"white-space:pre;overflow-x:auto;line-height:normal;font-family:Menlo,'DejaVu Sans Mono',consolas,'Courier New',monospace\">prev: The other place co-founders meet is at work.\n",
       "breakpoint sentence: Fewer do than at school, but there are things you can do to improve the odds.\n",
       "dist: <span style=\"color: #008080; text-decoration-color: #008080; font-weight: bold\">0.7792816162109375</span>\n",
       "chunks count: <span style=\"color: #008080; text-decoration-color: #008080; font-weight: bold\">86</span>\n",
       "</pre>\n"
      ],
      "text/plain": [
       "prev: The other place co-founders meet is at work.\n",
       "breakpoint sentence: Fewer do than at school, but there are things you can do to improve the odds.\n",
       "dist: \u001b[1;36m0.7792816162109375\u001b[0m\n",
       "chunks count: \u001b[1;36m86\u001b[0m\n"
      ]
     },
     "metadata": {},
     "output_type": "display_data"
    },
    {
     "data": {
      "text/html": [
       "<pre style=\"white-space:pre;overflow-x:auto;line-height:normal;font-family:Menlo,'DejaVu Sans Mono',consolas,'Courier New',monospace\">=========================\n",
       "</pre>\n"
      ],
      "text/plain": [
       "=========================\n"
      ]
     },
     "metadata": {},
     "output_type": "display_data"
    },
    {
     "data": {
      "text/html": [
       "<pre style=\"white-space:pre;overflow-x:auto;line-height:normal;font-family:Menlo,'DejaVu Sans Mono',consolas,'Courier New',monospace\">prev: Fewer do than at school, but there are things you can do to improve the odds.\n",
       "breakpoint sentence: The most important, obviously, is to work somewhere that has a lot of smart, young people.\n",
       "dist: <span style=\"color: #008080; text-decoration-color: #008080; font-weight: bold\">0.8282087445259094</span>\n",
       "chunks count: <span style=\"color: #008080; text-decoration-color: #008080; font-weight: bold\">87</span>\n",
       "</pre>\n"
      ],
      "text/plain": [
       "prev: Fewer do than at school, but there are things you can do to improve the odds.\n",
       "breakpoint sentence: The most important, obviously, is to work somewhere that has a lot of smart, young people.\n",
       "dist: \u001b[1;36m0.8282087445259094\u001b[0m\n",
       "chunks count: \u001b[1;36m87\u001b[0m\n"
      ]
     },
     "metadata": {},
     "output_type": "display_data"
    },
    {
     "data": {
      "text/html": [
       "<pre style=\"white-space:pre;overflow-x:auto;line-height:normal;font-family:Menlo,'DejaVu Sans Mono',consolas,'Courier New',monospace\">=========================\n",
       "</pre>\n"
      ],
      "text/plain": [
       "=========================\n"
      ]
     },
     "metadata": {},
     "output_type": "display_data"
    },
    {
     "data": {
      "text/html": [
       "<pre style=\"white-space:pre;overflow-x:auto;line-height:normal;font-family:Menlo,'DejaVu Sans Mono',consolas,'Courier New',monospace\">prev: The most important, obviously, is to work somewhere that has a lot of smart, young people. Another is to work\n",
       "for a company located in a startup hub.\n",
       "breakpoint sentence: It will be easier to talk a co-worker into quitting with you in a place where startups are \n",
       "happening all around you.\n",
       "dist: <span style=\"color: #008080; text-decoration-color: #008080; font-weight: bold\">0.5582178831100464</span>\n",
       "chunks count: <span style=\"color: #008080; text-decoration-color: #008080; font-weight: bold\">88</span>\n",
       "</pre>\n"
      ],
      "text/plain": [
       "prev: The most important, obviously, is to work somewhere that has a lot of smart, young people. Another is to work\n",
       "for a company located in a startup hub.\n",
       "breakpoint sentence: It will be easier to talk a co-worker into quitting with you in a place where startups are \n",
       "happening all around you.\n",
       "dist: \u001b[1;36m0.5582178831100464\u001b[0m\n",
       "chunks count: \u001b[1;36m88\u001b[0m\n"
      ]
     },
     "metadata": {},
     "output_type": "display_data"
    },
    {
     "data": {
      "text/html": [
       "<pre style=\"white-space:pre;overflow-x:auto;line-height:normal;font-family:Menlo,'DejaVu Sans Mono',consolas,'Courier New',monospace\">=========================\n",
       "</pre>\n"
      ],
      "text/plain": [
       "=========================\n"
      ]
     },
     "metadata": {},
     "output_type": "display_data"
    },
    {
     "data": {
      "text/html": [
       "<pre style=\"white-space:pre;overflow-x:auto;line-height:normal;font-family:Menlo,'DejaVu Sans Mono',consolas,'Courier New',monospace\">prev: It will be easier to talk a co-worker into quitting with you in a place where startups are happening all \n",
       "around you. You might also want to look at the employment agreement you sign when you get hired.\n",
       "breakpoint sentence: Most will say that any ideas you think of while you're employed by the company belong to them.\n",
       "dist: <span style=\"color: #008080; text-decoration-color: #008080; font-weight: bold\">0.8100161552429199</span>\n",
       "chunks count: <span style=\"color: #008080; text-decoration-color: #008080; font-weight: bold\">89</span>\n",
       "</pre>\n"
      ],
      "text/plain": [
       "prev: It will be easier to talk a co-worker into quitting with you in a place where startups are happening all \n",
       "around you. You might also want to look at the employment agreement you sign when you get hired.\n",
       "breakpoint sentence: Most will say that any ideas you think of while you're employed by the company belong to them.\n",
       "dist: \u001b[1;36m0.8100161552429199\u001b[0m\n",
       "chunks count: \u001b[1;36m89\u001b[0m\n"
      ]
     },
     "metadata": {},
     "output_type": "display_data"
    },
    {
     "data": {
      "text/html": [
       "<pre style=\"white-space:pre;overflow-x:auto;line-height:normal;font-family:Menlo,'DejaVu Sans Mono',consolas,'Courier New',monospace\">=========================\n",
       "</pre>\n"
      ],
      "text/plain": [
       "=========================\n"
      ]
     },
     "metadata": {},
     "output_type": "display_data"
    },
    {
     "data": {
      "text/html": [
       "<pre style=\"white-space:pre;overflow-x:auto;line-height:normal;font-family:Menlo,'DejaVu Sans Mono',consolas,'Courier New',monospace\">prev: Most will say that any ideas you think of while you're employed by the company belong to them.\n",
       "breakpoint sentence: In practice it's hard for anyone to prove what ideas you had when, so the line gets drawn at \n",
       "code.\n",
       "dist: <span style=\"color: #008080; text-decoration-color: #008080; font-weight: bold\">0.851718008518219</span>\n",
       "chunks count: <span style=\"color: #008080; text-decoration-color: #008080; font-weight: bold\">90</span>\n",
       "</pre>\n"
      ],
      "text/plain": [
       "prev: Most will say that any ideas you think of while you're employed by the company belong to them.\n",
       "breakpoint sentence: In practice it's hard for anyone to prove what ideas you had when, so the line gets drawn at \n",
       "code.\n",
       "dist: \u001b[1;36m0.851718008518219\u001b[0m\n",
       "chunks count: \u001b[1;36m90\u001b[0m\n"
      ]
     },
     "metadata": {},
     "output_type": "display_data"
    },
    {
     "data": {
      "text/html": [
       "<pre style=\"white-space:pre;overflow-x:auto;line-height:normal;font-family:Menlo,'DejaVu Sans Mono',consolas,'Courier New',monospace\">=========================\n",
       "</pre>\n"
      ],
      "text/plain": [
       "=========================\n"
      ]
     },
     "metadata": {},
     "output_type": "display_data"
    },
    {
     "data": {
      "text/html": [
       "<pre style=\"white-space:pre;overflow-x:auto;line-height:normal;font-family:Menlo,'DejaVu Sans Mono',consolas,'Courier New',monospace\">prev: In practice it's hard for anyone to prove what ideas you had when, so the line gets drawn at code.\n",
       "breakpoint sentence: If you're going to start a startup, don't write any of the code while you're still employed.\n",
       "dist: <span style=\"color: #008080; text-decoration-color: #008080; font-weight: bold\">0.6623473763465881</span>\n",
       "chunks count: <span style=\"color: #008080; text-decoration-color: #008080; font-weight: bold\">91</span>\n",
       "</pre>\n"
      ],
      "text/plain": [
       "prev: In practice it's hard for anyone to prove what ideas you had when, so the line gets drawn at code.\n",
       "breakpoint sentence: If you're going to start a startup, don't write any of the code while you're still employed.\n",
       "dist: \u001b[1;36m0.6623473763465881\u001b[0m\n",
       "chunks count: \u001b[1;36m91\u001b[0m\n"
      ]
     },
     "metadata": {},
     "output_type": "display_data"
    },
    {
     "data": {
      "text/html": [
       "<pre style=\"white-space:pre;overflow-x:auto;line-height:normal;font-family:Menlo,'DejaVu Sans Mono',consolas,'Courier New',monospace\">=========================\n",
       "</pre>\n"
      ],
      "text/plain": [
       "=========================\n"
      ]
     },
     "metadata": {},
     "output_type": "display_data"
    },
    {
     "data": {
      "text/html": [
       "<pre style=\"white-space:pre;overflow-x:auto;line-height:normal;font-family:Menlo,'DejaVu Sans Mono',consolas,'Courier New',monospace\">prev: If you're going to start a startup, don't write any of the code while you're still employed. Or at least \n",
       "discard any code you wrote while still employed and start over.\n",
       "breakpoint sentence: It's not so much that your employer will find out and sue you.\n",
       "dist: <span style=\"color: #008080; text-decoration-color: #008080; font-weight: bold\">0.8469420671463013</span>\n",
       "chunks count: <span style=\"color: #008080; text-decoration-color: #008080; font-weight: bold\">92</span>\n",
       "</pre>\n"
      ],
      "text/plain": [
       "prev: If you're going to start a startup, don't write any of the code while you're still employed. Or at least \n",
       "discard any code you wrote while still employed and start over.\n",
       "breakpoint sentence: It's not so much that your employer will find out and sue you.\n",
       "dist: \u001b[1;36m0.8469420671463013\u001b[0m\n",
       "chunks count: \u001b[1;36m92\u001b[0m\n"
      ]
     },
     "metadata": {},
     "output_type": "display_data"
    },
    {
     "data": {
      "text/html": [
       "<pre style=\"white-space:pre;overflow-x:auto;line-height:normal;font-family:Menlo,'DejaVu Sans Mono',consolas,'Courier New',monospace\">=========================\n",
       "</pre>\n"
      ],
      "text/plain": [
       "=========================\n"
      ]
     },
     "metadata": {},
     "output_type": "display_data"
    },
    {
     "data": {
      "text/html": [
       "<pre style=\"white-space:pre;overflow-x:auto;line-height:normal;font-family:Menlo,'DejaVu Sans Mono',consolas,'Courier New',monospace\">prev: It's not so much that your employer will find out and sue you.\n",
       "breakpoint sentence: It won't come to that; investors or acquirers or <span style=\"font-weight: bold\">(</span>if you're so lucky<span style=\"font-weight: bold\">)</span> underwriters will nail \n",
       "you first.\n",
       "dist: <span style=\"color: #008080; text-decoration-color: #008080; font-weight: bold\">0.6706778407096863</span>\n",
       "chunks count: <span style=\"color: #008080; text-decoration-color: #008080; font-weight: bold\">93</span>\n",
       "</pre>\n"
      ],
      "text/plain": [
       "prev: It's not so much that your employer will find out and sue you.\n",
       "breakpoint sentence: It won't come to that; investors or acquirers or \u001b[1m(\u001b[0mif you're so lucky\u001b[1m)\u001b[0m underwriters will nail \n",
       "you first.\n",
       "dist: \u001b[1;36m0.6706778407096863\u001b[0m\n",
       "chunks count: \u001b[1;36m93\u001b[0m\n"
      ]
     },
     "metadata": {},
     "output_type": "display_data"
    },
    {
     "data": {
      "text/html": [
       "<pre style=\"white-space:pre;overflow-x:auto;line-height:normal;font-family:Menlo,'DejaVu Sans Mono',consolas,'Courier New',monospace\">=========================\n",
       "</pre>\n"
      ],
      "text/plain": [
       "=========================\n"
      ]
     },
     "metadata": {},
     "output_type": "display_data"
    },
    {
     "data": {
      "text/html": [
       "<pre style=\"white-space:pre;overflow-x:auto;line-height:normal;font-family:Menlo,'DejaVu Sans Mono',consolas,'Courier New',monospace\">prev: It won't come to that; investors or acquirers or <span style=\"font-weight: bold\">(</span>if you're so lucky<span style=\"font-weight: bold\">)</span> underwriters will nail you first.\n",
       "breakpoint sentence: Between t = <span style=\"color: #008080; text-decoration-color: #008080; font-weight: bold\">0</span> and when you buy that yacht, someone is going to ask if any of your code legally\n",
       "belongs to anyone else, and you need to be able to say no.\n",
       "dist: <span style=\"color: #008080; text-decoration-color: #008080; font-weight: bold\">0.6664178967475891</span>\n",
       "chunks count: <span style=\"color: #008080; text-decoration-color: #008080; font-weight: bold\">94</span>\n",
       "</pre>\n"
      ],
      "text/plain": [
       "prev: It won't come to that; investors or acquirers or \u001b[1m(\u001b[0mif you're so lucky\u001b[1m)\u001b[0m underwriters will nail you first.\n",
       "breakpoint sentence: Between t = \u001b[1;36m0\u001b[0m and when you buy that yacht, someone is going to ask if any of your code legally\n",
       "belongs to anyone else, and you need to be able to say no.\n",
       "dist: \u001b[1;36m0.6664178967475891\u001b[0m\n",
       "chunks count: \u001b[1;36m94\u001b[0m\n"
      ]
     },
     "metadata": {},
     "output_type": "display_data"
    },
    {
     "data": {
      "text/html": [
       "<pre style=\"white-space:pre;overflow-x:auto;line-height:normal;font-family:Menlo,'DejaVu Sans Mono',consolas,'Courier New',monospace\">=========================\n",
       "</pre>\n"
      ],
      "text/plain": [
       "=========================\n"
      ]
     },
     "metadata": {},
     "output_type": "display_data"
    },
    {
     "data": {
      "text/html": [
       "<pre style=\"white-space:pre;overflow-x:auto;line-height:normal;font-family:Menlo,'DejaVu Sans Mono',consolas,'Courier New',monospace\">prev: Between t = <span style=\"color: #008080; text-decoration-color: #008080; font-weight: bold\">0</span> and when you buy that yacht, someone is going to ask if any of your code legally belongs to \n",
       "anyone else, and you need to be able to say no.\n",
       "breakpoint sentence: <span style=\"font-weight: bold\">[</span><span style=\"color: #008080; text-decoration-color: #008080; font-weight: bold\">3</span><span style=\"font-weight: bold\">]</span>\n",
       "\n",
       "The most overreaching employee agreement I've seen so far is Amazon's.\n",
       "dist: <span style=\"color: #008080; text-decoration-color: #008080; font-weight: bold\">0.700927197933197</span>\n",
       "chunks count: <span style=\"color: #008080; text-decoration-color: #008080; font-weight: bold\">95</span>\n",
       "</pre>\n"
      ],
      "text/plain": [
       "prev: Between t = \u001b[1;36m0\u001b[0m and when you buy that yacht, someone is going to ask if any of your code legally belongs to \n",
       "anyone else, and you need to be able to say no.\n",
       "breakpoint sentence: \u001b[1m[\u001b[0m\u001b[1;36m3\u001b[0m\u001b[1m]\u001b[0m\n",
       "\n",
       "The most overreaching employee agreement I've seen so far is Amazon's.\n",
       "dist: \u001b[1;36m0.700927197933197\u001b[0m\n",
       "chunks count: \u001b[1;36m95\u001b[0m\n"
      ]
     },
     "metadata": {},
     "output_type": "display_data"
    },
    {
     "data": {
      "text/html": [
       "<pre style=\"white-space:pre;overflow-x:auto;line-height:normal;font-family:Menlo,'DejaVu Sans Mono',consolas,'Courier New',monospace\">=========================\n",
       "</pre>\n"
      ],
      "text/plain": [
       "=========================\n"
      ]
     },
     "metadata": {},
     "output_type": "display_data"
    },
    {
     "data": {
      "text/html": [
       "<pre style=\"white-space:pre;overflow-x:auto;line-height:normal;font-family:Menlo,'DejaVu Sans Mono',consolas,'Courier New',monospace\">prev: <span style=\"font-weight: bold\">[</span><span style=\"color: #008080; text-decoration-color: #008080; font-weight: bold\">3</span><span style=\"font-weight: bold\">]</span>\n",
       "\n",
       "The most overreaching employee agreement I've seen so far is Amazon's.\n",
       "breakpoint sentence: In addition to the usual clauses about owning your ideas, you also can't be a founder of a \n",
       "startup that has another founder who worked at Amazon—even if you didn't know them or even work there at the same \n",
       "time.\n",
       "dist: <span style=\"color: #008080; text-decoration-color: #008080; font-weight: bold\">0.7694344520568848</span>\n",
       "chunks count: <span style=\"color: #008080; text-decoration-color: #008080; font-weight: bold\">96</span>\n",
       "</pre>\n"
      ],
      "text/plain": [
       "prev: \u001b[1m[\u001b[0m\u001b[1;36m3\u001b[0m\u001b[1m]\u001b[0m\n",
       "\n",
       "The most overreaching employee agreement I've seen so far is Amazon's.\n",
       "breakpoint sentence: In addition to the usual clauses about owning your ideas, you also can't be a founder of a \n",
       "startup that has another founder who worked at Amazon—even if you didn't know them or even work there at the same \n",
       "time.\n",
       "dist: \u001b[1;36m0.7694344520568848\u001b[0m\n",
       "chunks count: \u001b[1;36m96\u001b[0m\n"
      ]
     },
     "metadata": {},
     "output_type": "display_data"
    },
    {
     "data": {
      "text/html": [
       "<pre style=\"white-space:pre;overflow-x:auto;line-height:normal;font-family:Menlo,'DejaVu Sans Mono',consolas,'Courier New',monospace\">=========================\n",
       "</pre>\n"
      ],
      "text/plain": [
       "=========================\n"
      ]
     },
     "metadata": {},
     "output_type": "display_data"
    },
    {
     "data": {
      "text/html": [
       "<pre style=\"white-space:pre;overflow-x:auto;line-height:normal;font-family:Menlo,'DejaVu Sans Mono',consolas,'Courier New',monospace\">prev: In addition to the usual clauses about owning your ideas, you also can't be a founder of a startup that has \n",
       "another founder who worked at Amazon—even if you didn't know them or even work there at the same time. I suspect \n",
       "they'd have a hard time enforcing this, but it's a bad sign they even try. There are plenty of other places to \n",
       "work; you may as well choose one that keeps more of your options open. Speaking of cool places to work, there is of\n",
       "course Google. But I notice something slightly frightening about Google: zero startups come out of there.\n",
       "breakpoint sentence: In that respect it's a black hole.\n",
       "dist: <span style=\"color: #008080; text-decoration-color: #008080; font-weight: bold\">0.8519765138626099</span>\n",
       "chunks count: <span style=\"color: #008080; text-decoration-color: #008080; font-weight: bold\">97</span>\n",
       "</pre>\n"
      ],
      "text/plain": [
       "prev: In addition to the usual clauses about owning your ideas, you also can't be a founder of a startup that has \n",
       "another founder who worked at Amazon—even if you didn't know them or even work there at the same time. I suspect \n",
       "they'd have a hard time enforcing this, but it's a bad sign they even try. There are plenty of other places to \n",
       "work; you may as well choose one that keeps more of your options open. Speaking of cool places to work, there is of\n",
       "course Google. But I notice something slightly frightening about Google: zero startups come out of there.\n",
       "breakpoint sentence: In that respect it's a black hole.\n",
       "dist: \u001b[1;36m0.8519765138626099\u001b[0m\n",
       "chunks count: \u001b[1;36m97\u001b[0m\n"
      ]
     },
     "metadata": {},
     "output_type": "display_data"
    },
    {
     "data": {
      "text/html": [
       "<pre style=\"white-space:pre;overflow-x:auto;line-height:normal;font-family:Menlo,'DejaVu Sans Mono',consolas,'Courier New',monospace\">=========================\n",
       "</pre>\n"
      ],
      "text/plain": [
       "=========================\n"
      ]
     },
     "metadata": {},
     "output_type": "display_data"
    },
    {
     "data": {
      "text/html": [
       "<pre style=\"white-space:pre;overflow-x:auto;line-height:normal;font-family:Menlo,'DejaVu Sans Mono',consolas,'Courier New',monospace\">prev: In that respect it's a black hole.\n",
       "breakpoint sentence: People seem to like working at Google too much to leave.\n",
       "dist: <span style=\"color: #008080; text-decoration-color: #008080; font-weight: bold\">0.43721890449523926</span>\n",
       "chunks count: <span style=\"color: #008080; text-decoration-color: #008080; font-weight: bold\">98</span>\n",
       "</pre>\n"
      ],
      "text/plain": [
       "prev: In that respect it's a black hole.\n",
       "breakpoint sentence: People seem to like working at Google too much to leave.\n",
       "dist: \u001b[1;36m0.43721890449523926\u001b[0m\n",
       "chunks count: \u001b[1;36m98\u001b[0m\n"
      ]
     },
     "metadata": {},
     "output_type": "display_data"
    },
    {
     "data": {
      "text/html": [
       "<pre style=\"white-space:pre;overflow-x:auto;line-height:normal;font-family:Menlo,'DejaVu Sans Mono',consolas,'Courier New',monospace\">=========================\n",
       "</pre>\n"
      ],
      "text/plain": [
       "=========================\n"
      ]
     },
     "metadata": {},
     "output_type": "display_data"
    },
    {
     "data": {
      "text/html": [
       "<pre style=\"white-space:pre;overflow-x:auto;line-height:normal;font-family:Menlo,'DejaVu Sans Mono',consolas,'Courier New',monospace\">prev: People seem to like working at Google too much to leave.\n",
       "breakpoint sentence: So if you hope to start a startup one day, the evidence so far suggests you shouldn't work \n",
       "there.\n",
       "dist: <span style=\"color: #008080; text-decoration-color: #008080; font-weight: bold\">0.7705278992652893</span>\n",
       "chunks count: <span style=\"color: #008080; text-decoration-color: #008080; font-weight: bold\">99</span>\n",
       "</pre>\n"
      ],
      "text/plain": [
       "prev: People seem to like working at Google too much to leave.\n",
       "breakpoint sentence: So if you hope to start a startup one day, the evidence so far suggests you shouldn't work \n",
       "there.\n",
       "dist: \u001b[1;36m0.7705278992652893\u001b[0m\n",
       "chunks count: \u001b[1;36m99\u001b[0m\n"
      ]
     },
     "metadata": {},
     "output_type": "display_data"
    },
    {
     "data": {
      "text/html": [
       "<pre style=\"white-space:pre;overflow-x:auto;line-height:normal;font-family:Menlo,'DejaVu Sans Mono',consolas,'Courier New',monospace\">=========================\n",
       "</pre>\n"
      ],
      "text/plain": [
       "=========================\n"
      ]
     },
     "metadata": {},
     "output_type": "display_data"
    },
    {
     "data": {
      "text/html": [
       "<pre style=\"white-space:pre;overflow-x:auto;line-height:normal;font-family:Menlo,'DejaVu Sans Mono',consolas,'Courier New',monospace\">prev: So if you hope to start a startup one day, the evidence so far suggests you shouldn't work there. I realize \n",
       "this seems odd advice.\n",
       "breakpoint sentence: If they make your life so good that you don't want to leave, why not work there?\n",
       "dist: <span style=\"color: #008080; text-decoration-color: #008080; font-weight: bold\">0.8107392191886902</span>\n",
       "chunks count: <span style=\"color: #008080; text-decoration-color: #008080; font-weight: bold\">100</span>\n",
       "</pre>\n"
      ],
      "text/plain": [
       "prev: So if you hope to start a startup one day, the evidence so far suggests you shouldn't work there. I realize \n",
       "this seems odd advice.\n",
       "breakpoint sentence: If they make your life so good that you don't want to leave, why not work there?\n",
       "dist: \u001b[1;36m0.8107392191886902\u001b[0m\n",
       "chunks count: \u001b[1;36m100\u001b[0m\n"
      ]
     },
     "metadata": {},
     "output_type": "display_data"
    },
    {
     "data": {
      "text/html": [
       "<pre style=\"white-space:pre;overflow-x:auto;line-height:normal;font-family:Menlo,'DejaVu Sans Mono',consolas,'Courier New',monospace\">=========================\n",
       "</pre>\n"
      ],
      "text/plain": [
       "=========================\n"
      ]
     },
     "metadata": {},
     "output_type": "display_data"
    },
    {
     "data": {
      "text/html": [
       "<pre style=\"white-space:pre;overflow-x:auto;line-height:normal;font-family:Menlo,'DejaVu Sans Mono',consolas,'Courier New',monospace\">prev: If they make your life so good that you don't want to leave, why not work there?\n",
       "breakpoint sentence: Because, in effect, you're probably getting a local maximum.\n",
       "dist: <span style=\"color: #008080; text-decoration-color: #008080; font-weight: bold\">0.8591011166572571</span>\n",
       "chunks count: <span style=\"color: #008080; text-decoration-color: #008080; font-weight: bold\">101</span>\n",
       "</pre>\n"
      ],
      "text/plain": [
       "prev: If they make your life so good that you don't want to leave, why not work there?\n",
       "breakpoint sentence: Because, in effect, you're probably getting a local maximum.\n",
       "dist: \u001b[1;36m0.8591011166572571\u001b[0m\n",
       "chunks count: \u001b[1;36m101\u001b[0m\n"
      ]
     },
     "metadata": {},
     "output_type": "display_data"
    },
    {
     "data": {
      "text/html": [
       "<pre style=\"white-space:pre;overflow-x:auto;line-height:normal;font-family:Menlo,'DejaVu Sans Mono',consolas,'Courier New',monospace\">=========================\n",
       "</pre>\n"
      ],
      "text/plain": [
       "=========================\n"
      ]
     },
     "metadata": {},
     "output_type": "display_data"
    },
    {
     "data": {
      "text/html": [
       "<pre style=\"white-space:pre;overflow-x:auto;line-height:normal;font-family:Menlo,'DejaVu Sans Mono',consolas,'Courier New',monospace\">prev: Because, in effect, you're probably getting a local maximum.\n",
       "breakpoint sentence: You need a certain activation energy to start a startup.\n",
       "dist: <span style=\"color: #008080; text-decoration-color: #008080; font-weight: bold\">0.5847971439361572</span>\n",
       "chunks count: <span style=\"color: #008080; text-decoration-color: #008080; font-weight: bold\">102</span>\n",
       "</pre>\n"
      ],
      "text/plain": [
       "prev: Because, in effect, you're probably getting a local maximum.\n",
       "breakpoint sentence: You need a certain activation energy to start a startup.\n",
       "dist: \u001b[1;36m0.5847971439361572\u001b[0m\n",
       "chunks count: \u001b[1;36m102\u001b[0m\n"
      ]
     },
     "metadata": {},
     "output_type": "display_data"
    },
    {
     "data": {
      "text/html": [
       "<pre style=\"white-space:pre;overflow-x:auto;line-height:normal;font-family:Menlo,'DejaVu Sans Mono',consolas,'Courier New',monospace\">=========================\n",
       "</pre>\n"
      ],
      "text/plain": [
       "=========================\n"
      ]
     },
     "metadata": {},
     "output_type": "display_data"
    },
    {
     "data": {
      "text/html": [
       "<pre style=\"white-space:pre;overflow-x:auto;line-height:normal;font-family:Menlo,'DejaVu Sans Mono',consolas,'Courier New',monospace\">prev: You need a certain activation energy to start a startup.\n",
       "breakpoint sentence: So an employer who's fairly pleasant to work for can lull you into staying indefinitely, even \n",
       "if it would be a net win for you to leave.\n",
       "dist: <span style=\"color: #008080; text-decoration-color: #008080; font-weight: bold\">0.5718870759010315</span>\n",
       "chunks count: <span style=\"color: #008080; text-decoration-color: #008080; font-weight: bold\">103</span>\n",
       "</pre>\n"
      ],
      "text/plain": [
       "prev: You need a certain activation energy to start a startup.\n",
       "breakpoint sentence: So an employer who's fairly pleasant to work for can lull you into staying indefinitely, even \n",
       "if it would be a net win for you to leave.\n",
       "dist: \u001b[1;36m0.5718870759010315\u001b[0m\n",
       "chunks count: \u001b[1;36m103\u001b[0m\n"
      ]
     },
     "metadata": {},
     "output_type": "display_data"
    },
    {
     "data": {
      "text/html": [
       "<pre style=\"white-space:pre;overflow-x:auto;line-height:normal;font-family:Menlo,'DejaVu Sans Mono',consolas,'Courier New',monospace\">=========================\n",
       "</pre>\n"
      ],
      "text/plain": [
       "=========================\n"
      ]
     },
     "metadata": {},
     "output_type": "display_data"
    },
    {
     "data": {
      "text/html": [
       "<pre style=\"white-space:pre;overflow-x:auto;line-height:normal;font-family:Menlo,'DejaVu Sans Mono',consolas,'Courier New',monospace\">prev: So an employer who's fairly pleasant to work for can lull you into staying indefinitely, even if it would be \n",
       "a net win for you to leave.\n",
       "breakpoint sentence: <span style=\"font-weight: bold\">[</span><span style=\"color: #008080; text-decoration-color: #008080; font-weight: bold\">4</span><span style=\"font-weight: bold\">]</span>\n",
       "\n",
       "The best place to work, if you want to start a startup, is probably a startup.\n",
       "dist: <span style=\"color: #008080; text-decoration-color: #008080; font-weight: bold\">0.5781007409095764</span>\n",
       "chunks count: <span style=\"color: #008080; text-decoration-color: #008080; font-weight: bold\">104</span>\n",
       "</pre>\n"
      ],
      "text/plain": [
       "prev: So an employer who's fairly pleasant to work for can lull you into staying indefinitely, even if it would be \n",
       "a net win for you to leave.\n",
       "breakpoint sentence: \u001b[1m[\u001b[0m\u001b[1;36m4\u001b[0m\u001b[1m]\u001b[0m\n",
       "\n",
       "The best place to work, if you want to start a startup, is probably a startup.\n",
       "dist: \u001b[1;36m0.5781007409095764\u001b[0m\n",
       "chunks count: \u001b[1;36m104\u001b[0m\n"
      ]
     },
     "metadata": {},
     "output_type": "display_data"
    },
    {
     "data": {
      "text/html": [
       "<pre style=\"white-space:pre;overflow-x:auto;line-height:normal;font-family:Menlo,'DejaVu Sans Mono',consolas,'Courier New',monospace\">=========================\n",
       "</pre>\n"
      ],
      "text/plain": [
       "=========================\n"
      ]
     },
     "metadata": {},
     "output_type": "display_data"
    },
    {
     "data": {
      "text/html": [
       "<pre style=\"white-space:pre;overflow-x:auto;line-height:normal;font-family:Menlo,'DejaVu Sans Mono',consolas,'Courier New',monospace\">prev: <span style=\"font-weight: bold\">[</span><span style=\"color: #008080; text-decoration-color: #008080; font-weight: bold\">4</span><span style=\"font-weight: bold\">]</span>\n",
       "\n",
       "The best place to work, if you want to start a startup, is probably a startup. In addition to being the right sort \n",
       "of experience, one way or another it will be over quickly.\n",
       "breakpoint sentence: You'll either end up rich, in which case problem solved, or the startup will get bought, in \n",
       "which case it it will start to suck to work there and it will be easy to leave, or most likely, the thing will blow\n",
       "up and you'll be free again.\n",
       "dist: <span style=\"color: #008080; text-decoration-color: #008080; font-weight: bold\">0.8506259322166443</span>\n",
       "chunks count: <span style=\"color: #008080; text-decoration-color: #008080; font-weight: bold\">105</span>\n",
       "</pre>\n"
      ],
      "text/plain": [
       "prev: \u001b[1m[\u001b[0m\u001b[1;36m4\u001b[0m\u001b[1m]\u001b[0m\n",
       "\n",
       "The best place to work, if you want to start a startup, is probably a startup. In addition to being the right sort \n",
       "of experience, one way or another it will be over quickly.\n",
       "breakpoint sentence: You'll either end up rich, in which case problem solved, or the startup will get bought, in \n",
       "which case it it will start to suck to work there and it will be easy to leave, or most likely, the thing will blow\n",
       "up and you'll be free again.\n",
       "dist: \u001b[1;36m0.8506259322166443\u001b[0m\n",
       "chunks count: \u001b[1;36m105\u001b[0m\n"
      ]
     },
     "metadata": {},
     "output_type": "display_data"
    },
    {
     "data": {
      "text/html": [
       "<pre style=\"white-space:pre;overflow-x:auto;line-height:normal;font-family:Menlo,'DejaVu Sans Mono',consolas,'Courier New',monospace\">=========================\n",
       "</pre>\n"
      ],
      "text/plain": [
       "=========================\n"
      ]
     },
     "metadata": {},
     "output_type": "display_data"
    },
    {
     "data": {
      "text/html": [
       "<pre style=\"white-space:pre;overflow-x:auto;line-height:normal;font-family:Menlo,'DejaVu Sans Mono',consolas,'Courier New',monospace\">prev: You'll either end up rich, in which case problem solved, or the startup will get bought, in which case it it \n",
       "will start to suck to work there and it will be easy to leave, or most likely, the thing will blow up and you'll be\n",
       "free again.\n",
       "breakpoint sentence: Your final advantage, ignorance, may not sound very useful.\n",
       "dist: <span style=\"color: #008080; text-decoration-color: #008080; font-weight: bold\">0.8370397686958313</span>\n",
       "chunks count: <span style=\"color: #008080; text-decoration-color: #008080; font-weight: bold\">106</span>\n",
       "</pre>\n"
      ],
      "text/plain": [
       "prev: You'll either end up rich, in which case problem solved, or the startup will get bought, in which case it it \n",
       "will start to suck to work there and it will be easy to leave, or most likely, the thing will blow up and you'll be\n",
       "free again.\n",
       "breakpoint sentence: Your final advantage, ignorance, may not sound very useful.\n",
       "dist: \u001b[1;36m0.8370397686958313\u001b[0m\n",
       "chunks count: \u001b[1;36m106\u001b[0m\n"
      ]
     },
     "metadata": {},
     "output_type": "display_data"
    },
    {
     "data": {
      "text/html": [
       "<pre style=\"white-space:pre;overflow-x:auto;line-height:normal;font-family:Menlo,'DejaVu Sans Mono',consolas,'Courier New',monospace\">=========================\n",
       "</pre>\n"
      ],
      "text/plain": [
       "=========================\n"
      ]
     },
     "metadata": {},
     "output_type": "display_data"
    },
    {
     "data": {
      "text/html": [
       "<pre style=\"white-space:pre;overflow-x:auto;line-height:normal;font-family:Menlo,'DejaVu Sans Mono',consolas,'Courier New',monospace\">prev: Your final advantage, ignorance, may not sound very useful. I deliberately used a controversial word for it; \n",
       "you might equally call it innocence. But it seems to be a powerful force.\n",
       "breakpoint sentence: My Y Combinator co-founder Jessica Livingston is just about to publish a book of interviews \n",
       "with startup founders, and I noticed a remarkable pattern in them.\n",
       "dist: <span style=\"color: #008080; text-decoration-color: #008080; font-weight: bold\">0.642728865146637</span>\n",
       "chunks count: <span style=\"color: #008080; text-decoration-color: #008080; font-weight: bold\">107</span>\n",
       "</pre>\n"
      ],
      "text/plain": [
       "prev: Your final advantage, ignorance, may not sound very useful. I deliberately used a controversial word for it; \n",
       "you might equally call it innocence. But it seems to be a powerful force.\n",
       "breakpoint sentence: My Y Combinator co-founder Jessica Livingston is just about to publish a book of interviews \n",
       "with startup founders, and I noticed a remarkable pattern in them.\n",
       "dist: \u001b[1;36m0.642728865146637\u001b[0m\n",
       "chunks count: \u001b[1;36m107\u001b[0m\n"
      ]
     },
     "metadata": {},
     "output_type": "display_data"
    },
    {
     "data": {
      "text/html": [
       "<pre style=\"white-space:pre;overflow-x:auto;line-height:normal;font-family:Menlo,'DejaVu Sans Mono',consolas,'Courier New',monospace\">=========================\n",
       "</pre>\n"
      ],
      "text/plain": [
       "=========================\n"
      ]
     },
     "metadata": {},
     "output_type": "display_data"
    },
    {
     "data": {
      "text/html": [
       "<pre style=\"white-space:pre;overflow-x:auto;line-height:normal;font-family:Menlo,'DejaVu Sans Mono',consolas,'Courier New',monospace\">prev: My Y Combinator co-founder Jessica Livingston is just about to publish a book of interviews with startup \n",
       "founders, and I noticed a remarkable pattern in them.\n",
       "breakpoint sentence: One after another said that if they'd known how hard it would be, they would have been too \n",
       "intimidated to start.\n",
       "dist: <span style=\"color: #008080; text-decoration-color: #008080; font-weight: bold\">0.7709833383560181</span>\n",
       "chunks count: <span style=\"color: #008080; text-decoration-color: #008080; font-weight: bold\">108</span>\n",
       "</pre>\n"
      ],
      "text/plain": [
       "prev: My Y Combinator co-founder Jessica Livingston is just about to publish a book of interviews with startup \n",
       "founders, and I noticed a remarkable pattern in them.\n",
       "breakpoint sentence: One after another said that if they'd known how hard it would be, they would have been too \n",
       "intimidated to start.\n",
       "dist: \u001b[1;36m0.7709833383560181\u001b[0m\n",
       "chunks count: \u001b[1;36m108\u001b[0m\n"
      ]
     },
     "metadata": {},
     "output_type": "display_data"
    },
    {
     "data": {
      "text/html": [
       "<pre style=\"white-space:pre;overflow-x:auto;line-height:normal;font-family:Menlo,'DejaVu Sans Mono',consolas,'Courier New',monospace\">=========================\n",
       "</pre>\n"
      ],
      "text/plain": [
       "=========================\n"
      ]
     },
     "metadata": {},
     "output_type": "display_data"
    },
    {
     "data": {
      "text/html": [
       "<pre style=\"white-space:pre;overflow-x:auto;line-height:normal;font-family:Menlo,'DejaVu Sans Mono',consolas,'Courier New',monospace\">prev: One after another said that if they'd known how hard it would be, they would have been too intimidated to \n",
       "start.\n",
       "breakpoint sentence: Ignorance can be useful when it's a counterweight to other forms of stupidity.\n",
       "dist: <span style=\"color: #008080; text-decoration-color: #008080; font-weight: bold\">0.7483293414115906</span>\n",
       "chunks count: <span style=\"color: #008080; text-decoration-color: #008080; font-weight: bold\">109</span>\n",
       "</pre>\n"
      ],
      "text/plain": [
       "prev: One after another said that if they'd known how hard it would be, they would have been too intimidated to \n",
       "start.\n",
       "breakpoint sentence: Ignorance can be useful when it's a counterweight to other forms of stupidity.\n",
       "dist: \u001b[1;36m0.7483293414115906\u001b[0m\n",
       "chunks count: \u001b[1;36m109\u001b[0m\n"
      ]
     },
     "metadata": {},
     "output_type": "display_data"
    },
    {
     "data": {
      "text/html": [
       "<pre style=\"white-space:pre;overflow-x:auto;line-height:normal;font-family:Menlo,'DejaVu Sans Mono',consolas,'Courier New',monospace\">=========================\n",
       "</pre>\n"
      ],
      "text/plain": [
       "=========================\n"
      ]
     },
     "metadata": {},
     "output_type": "display_data"
    },
    {
     "data": {
      "text/html": [
       "<pre style=\"white-space:pre;overflow-x:auto;line-height:normal;font-family:Menlo,'DejaVu Sans Mono',consolas,'Courier New',monospace\">prev: Ignorance can be useful when it's a counterweight to other forms of stupidity.\n",
       "breakpoint sentence: It's useful in starting startups because you're capable of more than you realize.\n",
       "dist: <span style=\"color: #008080; text-decoration-color: #008080; font-weight: bold\">0.8175883889198303</span>\n",
       "chunks count: <span style=\"color: #008080; text-decoration-color: #008080; font-weight: bold\">110</span>\n",
       "</pre>\n"
      ],
      "text/plain": [
       "prev: Ignorance can be useful when it's a counterweight to other forms of stupidity.\n",
       "breakpoint sentence: It's useful in starting startups because you're capable of more than you realize.\n",
       "dist: \u001b[1;36m0.8175883889198303\u001b[0m\n",
       "chunks count: \u001b[1;36m110\u001b[0m\n"
      ]
     },
     "metadata": {},
     "output_type": "display_data"
    },
    {
     "data": {
      "text/html": [
       "<pre style=\"white-space:pre;overflow-x:auto;line-height:normal;font-family:Menlo,'DejaVu Sans Mono',consolas,'Courier New',monospace\">=========================\n",
       "</pre>\n"
      ],
      "text/plain": [
       "=========================\n"
      ]
     },
     "metadata": {},
     "output_type": "display_data"
    },
    {
     "data": {
      "text/html": [
       "<pre style=\"white-space:pre;overflow-x:auto;line-height:normal;font-family:Menlo,'DejaVu Sans Mono',consolas,'Courier New',monospace\">prev: It's useful in starting startups because you're capable of more than you realize. Starting startups is harder\n",
       "than you expect, but you're also capable of more than you expect, so they balance out. Most people look at a \n",
       "company like Apple and think, how could I ever make such a thing?\n",
       "breakpoint sentence: Apple is an institution, and I'm just a person.\n",
       "dist: <span style=\"color: #008080; text-decoration-color: #008080; font-weight: bold\">0.8252337574958801</span>\n",
       "chunks count: <span style=\"color: #008080; text-decoration-color: #008080; font-weight: bold\">111</span>\n",
       "</pre>\n"
      ],
      "text/plain": [
       "prev: It's useful in starting startups because you're capable of more than you realize. Starting startups is harder\n",
       "than you expect, but you're also capable of more than you expect, so they balance out. Most people look at a \n",
       "company like Apple and think, how could I ever make such a thing?\n",
       "breakpoint sentence: Apple is an institution, and I'm just a person.\n",
       "dist: \u001b[1;36m0.8252337574958801\u001b[0m\n",
       "chunks count: \u001b[1;36m111\u001b[0m\n"
      ]
     },
     "metadata": {},
     "output_type": "display_data"
    },
    {
     "data": {
      "text/html": [
       "<pre style=\"white-space:pre;overflow-x:auto;line-height:normal;font-family:Menlo,'DejaVu Sans Mono',consolas,'Courier New',monospace\">=========================\n",
       "</pre>\n"
      ],
      "text/plain": [
       "=========================\n"
      ]
     },
     "metadata": {},
     "output_type": "display_data"
    },
    {
     "data": {
      "text/html": [
       "<pre style=\"white-space:pre;overflow-x:auto;line-height:normal;font-family:Menlo,'DejaVu Sans Mono',consolas,'Courier New',monospace\">prev: Apple is an institution, and I'm just a person. But every institution was at one point just a handful of \n",
       "people in a room deciding to start something. Institutions are made up, and made up by people no different from \n",
       "you.\n",
       "breakpoint sentence: I'm not saying everyone could start a startup.\n",
       "dist: <span style=\"color: #008080; text-decoration-color: #008080; font-weight: bold\">0.792191743850708</span>\n",
       "chunks count: <span style=\"color: #008080; text-decoration-color: #008080; font-weight: bold\">112</span>\n",
       "</pre>\n"
      ],
      "text/plain": [
       "prev: Apple is an institution, and I'm just a person. But every institution was at one point just a handful of \n",
       "people in a room deciding to start something. Institutions are made up, and made up by people no different from \n",
       "you.\n",
       "breakpoint sentence: I'm not saying everyone could start a startup.\n",
       "dist: \u001b[1;36m0.792191743850708\u001b[0m\n",
       "chunks count: \u001b[1;36m112\u001b[0m\n"
      ]
     },
     "metadata": {},
     "output_type": "display_data"
    },
    {
     "data": {
      "text/html": [
       "<pre style=\"white-space:pre;overflow-x:auto;line-height:normal;font-family:Menlo,'DejaVu Sans Mono',consolas,'Courier New',monospace\">=========================\n",
       "</pre>\n"
      ],
      "text/plain": [
       "=========================\n"
      ]
     },
     "metadata": {},
     "output_type": "display_data"
    },
    {
     "data": {
      "text/html": [
       "<pre style=\"white-space:pre;overflow-x:auto;line-height:normal;font-family:Menlo,'DejaVu Sans Mono',consolas,'Courier New',monospace\">prev: I'm not saying everyone could start a startup. I'm sure most people couldn't; I don't know much about the \n",
       "population at large.\n",
       "breakpoint sentence: When you get to groups I know well, like hackers, I can say more precisely.\n",
       "dist: <span style=\"color: #008080; text-decoration-color: #008080; font-weight: bold\">0.8343201279640198</span>\n",
       "chunks count: <span style=\"color: #008080; text-decoration-color: #008080; font-weight: bold\">113</span>\n",
       "</pre>\n"
      ],
      "text/plain": [
       "prev: I'm not saying everyone could start a startup. I'm sure most people couldn't; I don't know much about the \n",
       "population at large.\n",
       "breakpoint sentence: When you get to groups I know well, like hackers, I can say more precisely.\n",
       "dist: \u001b[1;36m0.8343201279640198\u001b[0m\n",
       "chunks count: \u001b[1;36m113\u001b[0m\n"
      ]
     },
     "metadata": {},
     "output_type": "display_data"
    },
    {
     "data": {
      "text/html": [
       "<pre style=\"white-space:pre;overflow-x:auto;line-height:normal;font-family:Menlo,'DejaVu Sans Mono',consolas,'Courier New',monospace\">=========================\n",
       "</pre>\n"
      ],
      "text/plain": [
       "=========================\n"
      ]
     },
     "metadata": {},
     "output_type": "display_data"
    },
    {
     "data": {
      "text/html": [
       "<pre style=\"white-space:pre;overflow-x:auto;line-height:normal;font-family:Menlo,'DejaVu Sans Mono',consolas,'Courier New',monospace\">prev: When you get to groups I know well, like hackers, I can say more precisely.\n",
       "breakpoint sentence: At the top schools, I'd guess as many as a quarter of the CS majors could make it as startup \n",
       "founders if they wanted.\n",
       "dist: <span style=\"color: #008080; text-decoration-color: #008080; font-weight: bold\">0.4200253486633301</span>\n",
       "chunks count: <span style=\"color: #008080; text-decoration-color: #008080; font-weight: bold\">114</span>\n",
       "</pre>\n"
      ],
      "text/plain": [
       "prev: When you get to groups I know well, like hackers, I can say more precisely.\n",
       "breakpoint sentence: At the top schools, I'd guess as many as a quarter of the CS majors could make it as startup \n",
       "founders if they wanted.\n",
       "dist: \u001b[1;36m0.4200253486633301\u001b[0m\n",
       "chunks count: \u001b[1;36m114\u001b[0m\n"
      ]
     },
     "metadata": {},
     "output_type": "display_data"
    },
    {
     "data": {
      "text/html": [
       "<pre style=\"white-space:pre;overflow-x:auto;line-height:normal;font-family:Menlo,'DejaVu Sans Mono',consolas,'Courier New',monospace\">=========================\n",
       "</pre>\n"
      ],
      "text/plain": [
       "=========================\n"
      ]
     },
     "metadata": {},
     "output_type": "display_data"
    },
    {
     "data": {
      "text/html": [
       "<pre style=\"white-space:pre;overflow-x:auto;line-height:normal;font-family:Menlo,'DejaVu Sans Mono',consolas,'Courier New',monospace\">prev: At the top schools, I'd guess as many as a quarter of the CS majors could make it as startup founders if they\n",
       "wanted. That <span style=\"color: #008000; text-decoration-color: #008000\">\"if they wanted\"</span> is an important qualification—so important that it's almost cheating to append it \n",
       "like that—because once you get over a certain threshold of intelligence, which most CS majors at top schools are \n",
       "past, the deciding factor in whether you succeed as a founder is how much you want to. You don't have to be that \n",
       "smart. If you're not a genius, just start a startup in some unsexy field where you'll have less competition, like \n",
       "software for human resources departments. I picked that example at random, but I feel safe in predicting that \n",
       "whatever they have now, it wouldn't take genius to do better.\n",
       "breakpoint sentence: There are a lot of people out there working on boring stuff who are desperately in need of \n",
       "better software, so however short you think you fall of Larry and Sergey, you can ratchet down the coolness of the \n",
       "idea far enough to compensate.\n",
       "dist: <span style=\"color: #008080; text-decoration-color: #008080; font-weight: bold\">0.8475333452224731</span>\n",
       "chunks count: <span style=\"color: #008080; text-decoration-color: #008080; font-weight: bold\">115</span>\n",
       "</pre>\n"
      ],
      "text/plain": [
       "prev: At the top schools, I'd guess as many as a quarter of the CS majors could make it as startup founders if they\n",
       "wanted. That \u001b[32m\"if they wanted\"\u001b[0m is an important qualification—so important that it's almost cheating to append it \n",
       "like that—because once you get over a certain threshold of intelligence, which most CS majors at top schools are \n",
       "past, the deciding factor in whether you succeed as a founder is how much you want to. You don't have to be that \n",
       "smart. If you're not a genius, just start a startup in some unsexy field where you'll have less competition, like \n",
       "software for human resources departments. I picked that example at random, but I feel safe in predicting that \n",
       "whatever they have now, it wouldn't take genius to do better.\n",
       "breakpoint sentence: There are a lot of people out there working on boring stuff who are desperately in need of \n",
       "better software, so however short you think you fall of Larry and Sergey, you can ratchet down the coolness of the \n",
       "idea far enough to compensate.\n",
       "dist: \u001b[1;36m0.8475333452224731\u001b[0m\n",
       "chunks count: \u001b[1;36m115\u001b[0m\n"
      ]
     },
     "metadata": {},
     "output_type": "display_data"
    },
    {
     "data": {
      "text/html": [
       "<pre style=\"white-space:pre;overflow-x:auto;line-height:normal;font-family:Menlo,'DejaVu Sans Mono',consolas,'Courier New',monospace\">=========================\n",
       "</pre>\n"
      ],
      "text/plain": [
       "=========================\n"
      ]
     },
     "metadata": {},
     "output_type": "display_data"
    },
    {
     "data": {
      "text/html": [
       "<pre style=\"white-space:pre;overflow-x:auto;line-height:normal;font-family:Menlo,'DejaVu Sans Mono',consolas,'Courier New',monospace\">prev: There are a lot of people out there working on boring stuff who are desperately in need of better software, \n",
       "so however short you think you fall of Larry and Sergey, you can ratchet down the coolness of the idea far enough \n",
       "to compensate. As well as preventing you from being intimidated, ignorance can sometimes help you discover new \n",
       "ideas.\n",
       "breakpoint sentence: Steve Wozniak put this very strongly:\n",
       "\n",
       "    All the best things that I did at Apple came from <span style=\"font-weight: bold\">(</span>a<span style=\"font-weight: bold\">)</span> not having money and <span style=\"font-weight: bold\">(</span>b<span style=\"font-weight: bold\">)</span> not having done it before, ever.\n",
       "dist: <span style=\"color: #008080; text-decoration-color: #008080; font-weight: bold\">0.8468794822692871</span>\n",
       "chunks count: <span style=\"color: #008080; text-decoration-color: #008080; font-weight: bold\">116</span>\n",
       "</pre>\n"
      ],
      "text/plain": [
       "prev: There are a lot of people out there working on boring stuff who are desperately in need of better software, \n",
       "so however short you think you fall of Larry and Sergey, you can ratchet down the coolness of the idea far enough \n",
       "to compensate. As well as preventing you from being intimidated, ignorance can sometimes help you discover new \n",
       "ideas.\n",
       "breakpoint sentence: Steve Wozniak put this very strongly:\n",
       "\n",
       "    All the best things that I did at Apple came from \u001b[1m(\u001b[0ma\u001b[1m)\u001b[0m not having money and \u001b[1m(\u001b[0mb\u001b[1m)\u001b[0m not having done it before, ever.\n",
       "dist: \u001b[1;36m0.8468794822692871\u001b[0m\n",
       "chunks count: \u001b[1;36m116\u001b[0m\n"
      ]
     },
     "metadata": {},
     "output_type": "display_data"
    },
    {
     "data": {
      "text/html": [
       "<pre style=\"white-space:pre;overflow-x:auto;line-height:normal;font-family:Menlo,'DejaVu Sans Mono',consolas,'Courier New',monospace\">=========================\n",
       "</pre>\n"
      ],
      "text/plain": [
       "=========================\n"
      ]
     },
     "metadata": {},
     "output_type": "display_data"
    },
    {
     "data": {
      "text/html": [
       "<pre style=\"white-space:pre;overflow-x:auto;line-height:normal;font-family:Menlo,'DejaVu Sans Mono',consolas,'Courier New',monospace\">prev: Steve Wozniak put this very strongly:\n",
       "\n",
       "    All the best things that I did at Apple came from <span style=\"font-weight: bold\">(</span>a<span style=\"font-weight: bold\">)</span> not having money and <span style=\"font-weight: bold\">(</span>b<span style=\"font-weight: bold\">)</span> not having done it before, ever.\n",
       "Every single thing that we came out with that was really great, I'd never once done that thing in my life. When you\n",
       "know nothing, you have to reinvent stuff for yourself, and if you're smart your reinventions may be better than \n",
       "what preceded them.\n",
       "breakpoint sentence: This is especially true in fields where the rules change.\n",
       "dist: <span style=\"color: #008080; text-decoration-color: #008080; font-weight: bold\">0.7704901099205017</span>\n",
       "chunks count: <span style=\"color: #008080; text-decoration-color: #008080; font-weight: bold\">117</span>\n",
       "</pre>\n"
      ],
      "text/plain": [
       "prev: Steve Wozniak put this very strongly:\n",
       "\n",
       "    All the best things that I did at Apple came from \u001b[1m(\u001b[0ma\u001b[1m)\u001b[0m not having money and \u001b[1m(\u001b[0mb\u001b[1m)\u001b[0m not having done it before, ever.\n",
       "Every single thing that we came out with that was really great, I'd never once done that thing in my life. When you\n",
       "know nothing, you have to reinvent stuff for yourself, and if you're smart your reinventions may be better than \n",
       "what preceded them.\n",
       "breakpoint sentence: This is especially true in fields where the rules change.\n",
       "dist: \u001b[1;36m0.7704901099205017\u001b[0m\n",
       "chunks count: \u001b[1;36m117\u001b[0m\n"
      ]
     },
     "metadata": {},
     "output_type": "display_data"
    },
    {
     "data": {
      "text/html": [
       "<pre style=\"white-space:pre;overflow-x:auto;line-height:normal;font-family:Menlo,'DejaVu Sans Mono',consolas,'Courier New',monospace\">=========================\n",
       "</pre>\n"
      ],
      "text/plain": [
       "=========================\n"
      ]
     },
     "metadata": {},
     "output_type": "display_data"
    },
    {
     "data": {
      "text/html": [
       "<pre style=\"white-space:pre;overflow-x:auto;line-height:normal;font-family:Menlo,'DejaVu Sans Mono',consolas,'Courier New',monospace\">prev: This is especially true in fields where the rules change.\n",
       "breakpoint sentence: All our ideas about software were developed in a time when processors were slow, and memories \n",
       "and disks were tiny.\n",
       "dist: <span style=\"color: #008080; text-decoration-color: #008080; font-weight: bold\">0.47070953249931335</span>\n",
       "chunks count: <span style=\"color: #008080; text-decoration-color: #008080; font-weight: bold\">118</span>\n",
       "</pre>\n"
      ],
      "text/plain": [
       "prev: This is especially true in fields where the rules change.\n",
       "breakpoint sentence: All our ideas about software were developed in a time when processors were slow, and memories \n",
       "and disks were tiny.\n",
       "dist: \u001b[1;36m0.47070953249931335\u001b[0m\n",
       "chunks count: \u001b[1;36m118\u001b[0m\n"
      ]
     },
     "metadata": {},
     "output_type": "display_data"
    },
    {
     "data": {
      "text/html": [
       "<pre style=\"white-space:pre;overflow-x:auto;line-height:normal;font-family:Menlo,'DejaVu Sans Mono',consolas,'Courier New',monospace\">=========================\n",
       "</pre>\n"
      ],
      "text/plain": [
       "=========================\n"
      ]
     },
     "metadata": {},
     "output_type": "display_data"
    },
    {
     "data": {
      "text/html": [
       "<pre style=\"white-space:pre;overflow-x:auto;line-height:normal;font-family:Menlo,'DejaVu Sans Mono',consolas,'Courier New',monospace\">prev: All our ideas about software were developed in a time when processors were slow, and memories and disks were \n",
       "tiny.\n",
       "breakpoint sentence: Who knows what obsolete assumptions are embedded in the conventional wisdom?\n",
       "dist: <span style=\"color: #008080; text-decoration-color: #008080; font-weight: bold\">0.7976473569869995</span>\n",
       "chunks count: <span style=\"color: #008080; text-decoration-color: #008080; font-weight: bold\">119</span>\n",
       "</pre>\n"
      ],
      "text/plain": [
       "prev: All our ideas about software were developed in a time when processors were slow, and memories and disks were \n",
       "tiny.\n",
       "breakpoint sentence: Who knows what obsolete assumptions are embedded in the conventional wisdom?\n",
       "dist: \u001b[1;36m0.7976473569869995\u001b[0m\n",
       "chunks count: \u001b[1;36m119\u001b[0m\n"
      ]
     },
     "metadata": {},
     "output_type": "display_data"
    },
    {
     "data": {
      "text/html": [
       "<pre style=\"white-space:pre;overflow-x:auto;line-height:normal;font-family:Menlo,'DejaVu Sans Mono',consolas,'Courier New',monospace\">=========================\n",
       "</pre>\n"
      ],
      "text/plain": [
       "=========================\n"
      ]
     },
     "metadata": {},
     "output_type": "display_data"
    },
    {
     "data": {
      "text/html": [
       "<pre style=\"white-space:pre;overflow-x:auto;line-height:normal;font-family:Menlo,'DejaVu Sans Mono',consolas,'Courier New',monospace\">prev: Who knows what obsolete assumptions are embedded in the conventional wisdom?\n",
       "breakpoint sentence: And the way these assumptions are going to get fixed is not by explicitly deallocating them, \n",
       "but by something more akin to garbage collection.\n",
       "dist: <span style=\"color: #008080; text-decoration-color: #008080; font-weight: bold\">0.6626915335655212</span>\n",
       "chunks count: <span style=\"color: #008080; text-decoration-color: #008080; font-weight: bold\">120</span>\n",
       "</pre>\n"
      ],
      "text/plain": [
       "prev: Who knows what obsolete assumptions are embedded in the conventional wisdom?\n",
       "breakpoint sentence: And the way these assumptions are going to get fixed is not by explicitly deallocating them, \n",
       "but by something more akin to garbage collection.\n",
       "dist: \u001b[1;36m0.6626915335655212\u001b[0m\n",
       "chunks count: \u001b[1;36m120\u001b[0m\n"
      ]
     },
     "metadata": {},
     "output_type": "display_data"
    },
    {
     "data": {
      "text/html": [
       "<pre style=\"white-space:pre;overflow-x:auto;line-height:normal;font-family:Menlo,'DejaVu Sans Mono',consolas,'Courier New',monospace\">=========================\n",
       "</pre>\n"
      ],
      "text/plain": [
       "=========================\n"
      ]
     },
     "metadata": {},
     "output_type": "display_data"
    },
    {
     "data": {
      "text/html": [
       "<pre style=\"white-space:pre;overflow-x:auto;line-height:normal;font-family:Menlo,'DejaVu Sans Mono',consolas,'Courier New',monospace\">prev: And the way these assumptions are going to get fixed is not by explicitly deallocating them, but by something\n",
       "more akin to garbage collection. Someone ignorant but smart will come along and reinvent everything, and in the \n",
       "process simply fail to reproduce certain existing ideas.\n",
       "breakpoint sentence: Minus\n",
       "\n",
       "So much for the advantages of young founders.\n",
       "dist: <span style=\"color: #008080; text-decoration-color: #008080; font-weight: bold\">0.8593932390213013</span>\n",
       "chunks count: <span style=\"color: #008080; text-decoration-color: #008080; font-weight: bold\">121</span>\n",
       "</pre>\n"
      ],
      "text/plain": [
       "prev: And the way these assumptions are going to get fixed is not by explicitly deallocating them, but by something\n",
       "more akin to garbage collection. Someone ignorant but smart will come along and reinvent everything, and in the \n",
       "process simply fail to reproduce certain existing ideas.\n",
       "breakpoint sentence: Minus\n",
       "\n",
       "So much for the advantages of young founders.\n",
       "dist: \u001b[1;36m0.8593932390213013\u001b[0m\n",
       "chunks count: \u001b[1;36m121\u001b[0m\n"
      ]
     },
     "metadata": {},
     "output_type": "display_data"
    },
    {
     "data": {
      "text/html": [
       "<pre style=\"white-space:pre;overflow-x:auto;line-height:normal;font-family:Menlo,'DejaVu Sans Mono',consolas,'Courier New',monospace\">=========================\n",
       "</pre>\n"
      ],
      "text/plain": [
       "=========================\n"
      ]
     },
     "metadata": {},
     "output_type": "display_data"
    },
    {
     "data": {
      "text/html": [
       "<pre style=\"white-space:pre;overflow-x:auto;line-height:normal;font-family:Menlo,'DejaVu Sans Mono',consolas,'Courier New',monospace\">prev: Minus\n",
       "\n",
       "So much for the advantages of young founders. What about the disadvantages?\n",
       "breakpoint sentence: I'm going to start with what goes wrong and try to trace it back to the root causes.\n",
       "dist: <span style=\"color: #008080; text-decoration-color: #008080; font-weight: bold\">0.80182284116745</span>\n",
       "chunks count: <span style=\"color: #008080; text-decoration-color: #008080; font-weight: bold\">122</span>\n",
       "</pre>\n"
      ],
      "text/plain": [
       "prev: Minus\n",
       "\n",
       "So much for the advantages of young founders. What about the disadvantages?\n",
       "breakpoint sentence: I'm going to start with what goes wrong and try to trace it back to the root causes.\n",
       "dist: \u001b[1;36m0.80182284116745\u001b[0m\n",
       "chunks count: \u001b[1;36m122\u001b[0m\n"
      ]
     },
     "metadata": {},
     "output_type": "display_data"
    },
    {
     "data": {
      "text/html": [
       "<pre style=\"white-space:pre;overflow-x:auto;line-height:normal;font-family:Menlo,'DejaVu Sans Mono',consolas,'Courier New',monospace\">=========================\n",
       "</pre>\n"
      ],
      "text/plain": [
       "=========================\n"
      ]
     },
     "metadata": {},
     "output_type": "display_data"
    },
    {
     "data": {
      "text/html": [
       "<pre style=\"white-space:pre;overflow-x:auto;line-height:normal;font-family:Menlo,'DejaVu Sans Mono',consolas,'Courier New',monospace\">prev: I'm going to start with what goes wrong and try to trace it back to the root causes.\n",
       "breakpoint sentence: What goes wrong with young founders is that they build stuff that looks like class projects.\n",
       "dist: <span style=\"color: #008080; text-decoration-color: #008080; font-weight: bold\">0.5500415563583374</span>\n",
       "chunks count: <span style=\"color: #008080; text-decoration-color: #008080; font-weight: bold\">123</span>\n",
       "</pre>\n"
      ],
      "text/plain": [
       "prev: I'm going to start with what goes wrong and try to trace it back to the root causes.\n",
       "breakpoint sentence: What goes wrong with young founders is that they build stuff that looks like class projects.\n",
       "dist: \u001b[1;36m0.5500415563583374\u001b[0m\n",
       "chunks count: \u001b[1;36m123\u001b[0m\n"
      ]
     },
     "metadata": {},
     "output_type": "display_data"
    },
    {
     "data": {
      "text/html": [
       "<pre style=\"white-space:pre;overflow-x:auto;line-height:normal;font-family:Menlo,'DejaVu Sans Mono',consolas,'Courier New',monospace\">=========================\n",
       "</pre>\n"
      ],
      "text/plain": [
       "=========================\n"
      ]
     },
     "metadata": {},
     "output_type": "display_data"
    },
    {
     "data": {
      "text/html": [
       "<pre style=\"white-space:pre;overflow-x:auto;line-height:normal;font-family:Menlo,'DejaVu Sans Mono',consolas,'Courier New',monospace\">prev: What goes wrong with young founders is that they build stuff that looks like class projects. It was only \n",
       "recently that we figured this out ourselves.\n",
       "breakpoint sentence: We noticed a lot of similarities between the startups that seemed to be falling behind, but we\n",
       "couldn't figure out how to put it into words.\n",
       "dist: <span style=\"color: #008080; text-decoration-color: #008080; font-weight: bold\">0.8474414944648743</span>\n",
       "chunks count: <span style=\"color: #008080; text-decoration-color: #008080; font-weight: bold\">124</span>\n",
       "</pre>\n"
      ],
      "text/plain": [
       "prev: What goes wrong with young founders is that they build stuff that looks like class projects. It was only \n",
       "recently that we figured this out ourselves.\n",
       "breakpoint sentence: We noticed a lot of similarities between the startups that seemed to be falling behind, but we\n",
       "couldn't figure out how to put it into words.\n",
       "dist: \u001b[1;36m0.8474414944648743\u001b[0m\n",
       "chunks count: \u001b[1;36m124\u001b[0m\n"
      ]
     },
     "metadata": {},
     "output_type": "display_data"
    },
    {
     "data": {
      "text/html": [
       "<pre style=\"white-space:pre;overflow-x:auto;line-height:normal;font-family:Menlo,'DejaVu Sans Mono',consolas,'Courier New',monospace\">=========================\n",
       "</pre>\n"
      ],
      "text/plain": [
       "=========================\n"
      ]
     },
     "metadata": {},
     "output_type": "display_data"
    },
    {
     "data": {
      "text/html": [
       "<pre style=\"white-space:pre;overflow-x:auto;line-height:normal;font-family:Menlo,'DejaVu Sans Mono',consolas,'Courier New',monospace\">prev: We noticed a lot of similarities between the startups that seemed to be falling behind, but we couldn't \n",
       "figure out how to put it into words.\n",
       "breakpoint sentence: Then finally we realized what it was: they were building class projects.\n",
       "dist: <span style=\"color: #008080; text-decoration-color: #008080; font-weight: bold\">0.6888774633407593</span>\n",
       "chunks count: <span style=\"color: #008080; text-decoration-color: #008080; font-weight: bold\">125</span>\n",
       "</pre>\n"
      ],
      "text/plain": [
       "prev: We noticed a lot of similarities between the startups that seemed to be falling behind, but we couldn't \n",
       "figure out how to put it into words.\n",
       "breakpoint sentence: Then finally we realized what it was: they were building class projects.\n",
       "dist: \u001b[1;36m0.6888774633407593\u001b[0m\n",
       "chunks count: \u001b[1;36m125\u001b[0m\n"
      ]
     },
     "metadata": {},
     "output_type": "display_data"
    },
    {
     "data": {
      "text/html": [
       "<pre style=\"white-space:pre;overflow-x:auto;line-height:normal;font-family:Menlo,'DejaVu Sans Mono',consolas,'Courier New',monospace\">=========================\n",
       "</pre>\n"
      ],
      "text/plain": [
       "=========================\n"
      ]
     },
     "metadata": {},
     "output_type": "display_data"
    },
    {
     "data": {
      "text/html": [
       "<pre style=\"white-space:pre;overflow-x:auto;line-height:normal;font-family:Menlo,'DejaVu Sans Mono',consolas,'Courier New',monospace\">prev: Then finally we realized what it was: they were building class projects.\n",
       "breakpoint sentence: But what does that really mean?\n",
       "dist: <span style=\"color: #008080; text-decoration-color: #008080; font-weight: bold\">0.8599977493286133</span>\n",
       "chunks count: <span style=\"color: #008080; text-decoration-color: #008080; font-weight: bold\">126</span>\n",
       "</pre>\n"
      ],
      "text/plain": [
       "prev: Then finally we realized what it was: they were building class projects.\n",
       "breakpoint sentence: But what does that really mean?\n",
       "dist: \u001b[1;36m0.8599977493286133\u001b[0m\n",
       "chunks count: \u001b[1;36m126\u001b[0m\n"
      ]
     },
     "metadata": {},
     "output_type": "display_data"
    },
    {
     "data": {
      "text/html": [
       "<pre style=\"white-space:pre;overflow-x:auto;line-height:normal;font-family:Menlo,'DejaVu Sans Mono',consolas,'Courier New',monospace\">=========================\n",
       "</pre>\n"
      ],
      "text/plain": [
       "=========================\n"
      ]
     },
     "metadata": {},
     "output_type": "display_data"
    },
    {
     "data": {
      "text/html": [
       "<pre style=\"white-space:pre;overflow-x:auto;line-height:normal;font-family:Menlo,'DejaVu Sans Mono',consolas,'Courier New',monospace\">prev: But what does that really mean?\n",
       "breakpoint sentence: What's wrong with class projects?\n",
       "dist: <span style=\"color: #008080; text-decoration-color: #008080; font-weight: bold\">0.41704440116882324</span>\n",
       "chunks count: <span style=\"color: #008080; text-decoration-color: #008080; font-weight: bold\">127</span>\n",
       "</pre>\n"
      ],
      "text/plain": [
       "prev: But what does that really mean?\n",
       "breakpoint sentence: What's wrong with class projects?\n",
       "dist: \u001b[1;36m0.41704440116882324\u001b[0m\n",
       "chunks count: \u001b[1;36m127\u001b[0m\n"
      ]
     },
     "metadata": {},
     "output_type": "display_data"
    },
    {
     "data": {
      "text/html": [
       "<pre style=\"white-space:pre;overflow-x:auto;line-height:normal;font-family:Menlo,'DejaVu Sans Mono',consolas,'Courier New',monospace\">=========================\n",
       "</pre>\n"
      ],
      "text/plain": [
       "=========================\n"
      ]
     },
     "metadata": {},
     "output_type": "display_data"
    },
    {
     "data": {
      "text/html": [
       "<pre style=\"white-space:pre;overflow-x:auto;line-height:normal;font-family:Menlo,'DejaVu Sans Mono',consolas,'Courier New',monospace\">prev: What's wrong with class projects?\n",
       "breakpoint sentence: What's the difference between a class project and a real startup?\n",
       "dist: <span style=\"color: #008080; text-decoration-color: #008080; font-weight: bold\">0.7803630232810974</span>\n",
       "chunks count: <span style=\"color: #008080; text-decoration-color: #008080; font-weight: bold\">128</span>\n",
       "</pre>\n"
      ],
      "text/plain": [
       "prev: What's wrong with class projects?\n",
       "breakpoint sentence: What's the difference between a class project and a real startup?\n",
       "dist: \u001b[1;36m0.7803630232810974\u001b[0m\n",
       "chunks count: \u001b[1;36m128\u001b[0m\n"
      ]
     },
     "metadata": {},
     "output_type": "display_data"
    },
    {
     "data": {
      "text/html": [
       "<pre style=\"white-space:pre;overflow-x:auto;line-height:normal;font-family:Menlo,'DejaVu Sans Mono',consolas,'Courier New',monospace\">=========================\n",
       "</pre>\n"
      ],
      "text/plain": [
       "=========================\n"
      ]
     },
     "metadata": {},
     "output_type": "display_data"
    },
    {
     "data": {
      "text/html": [
       "<pre style=\"white-space:pre;overflow-x:auto;line-height:normal;font-family:Menlo,'DejaVu Sans Mono',consolas,'Courier New',monospace\">prev: What's the difference between a class project and a real startup?\n",
       "breakpoint sentence: If we could answer that question it would be useful not just to would-be startup founders but \n",
       "to students in general, because we'd be a long way toward explaining the mystery of the so-called real world.\n",
       "dist: <span style=\"color: #008080; text-decoration-color: #008080; font-weight: bold\">0.7077678442001343</span>\n",
       "chunks count: <span style=\"color: #008080; text-decoration-color: #008080; font-weight: bold\">129</span>\n",
       "</pre>\n"
      ],
      "text/plain": [
       "prev: What's the difference between a class project and a real startup?\n",
       "breakpoint sentence: If we could answer that question it would be useful not just to would-be startup founders but \n",
       "to students in general, because we'd be a long way toward explaining the mystery of the so-called real world.\n",
       "dist: \u001b[1;36m0.7077678442001343\u001b[0m\n",
       "chunks count: \u001b[1;36m129\u001b[0m\n"
      ]
     },
     "metadata": {},
     "output_type": "display_data"
    },
    {
     "data": {
      "text/html": [
       "<pre style=\"white-space:pre;overflow-x:auto;line-height:normal;font-family:Menlo,'DejaVu Sans Mono',consolas,'Courier New',monospace\">=========================\n",
       "</pre>\n"
      ],
      "text/plain": [
       "=========================\n"
      ]
     },
     "metadata": {},
     "output_type": "display_data"
    },
    {
     "data": {
      "text/html": [
       "<pre style=\"white-space:pre;overflow-x:auto;line-height:normal;font-family:Menlo,'DejaVu Sans Mono',consolas,'Courier New',monospace\">prev: If we could answer that question it would be useful not just to would-be startup founders but to students in \n",
       "general, because we'd be a long way toward explaining the mystery of the so-called real world.\n",
       "breakpoint sentence: There seem to be two big things missing in class projects: <span style=\"font-weight: bold\">(</span><span style=\"color: #008080; text-decoration-color: #008080; font-weight: bold\">1</span><span style=\"font-weight: bold\">)</span> an iterative definition of a \n",
       "real problem and <span style=\"font-weight: bold\">(</span><span style=\"color: #008080; text-decoration-color: #008080; font-weight: bold\">2</span><span style=\"font-weight: bold\">)</span> intensity.\n",
       "dist: <span style=\"color: #008080; text-decoration-color: #008080; font-weight: bold\">0.8323506116867065</span>\n",
       "chunks count: <span style=\"color: #008080; text-decoration-color: #008080; font-weight: bold\">130</span>\n",
       "</pre>\n"
      ],
      "text/plain": [
       "prev: If we could answer that question it would be useful not just to would-be startup founders but to students in \n",
       "general, because we'd be a long way toward explaining the mystery of the so-called real world.\n",
       "breakpoint sentence: There seem to be two big things missing in class projects: \u001b[1m(\u001b[0m\u001b[1;36m1\u001b[0m\u001b[1m)\u001b[0m an iterative definition of a \n",
       "real problem and \u001b[1m(\u001b[0m\u001b[1;36m2\u001b[0m\u001b[1m)\u001b[0m intensity.\n",
       "dist: \u001b[1;36m0.8323506116867065\u001b[0m\n",
       "chunks count: \u001b[1;36m130\u001b[0m\n"
      ]
     },
     "metadata": {},
     "output_type": "display_data"
    },
    {
     "data": {
      "text/html": [
       "<pre style=\"white-space:pre;overflow-x:auto;line-height:normal;font-family:Menlo,'DejaVu Sans Mono',consolas,'Courier New',monospace\">=========================\n",
       "</pre>\n"
      ],
      "text/plain": [
       "=========================\n"
      ]
     },
     "metadata": {},
     "output_type": "display_data"
    },
    {
     "data": {
      "text/html": [
       "<pre style=\"white-space:pre;overflow-x:auto;line-height:normal;font-family:Menlo,'DejaVu Sans Mono',consolas,'Courier New',monospace\">prev: There seem to be two big things missing in class projects: <span style=\"font-weight: bold\">(</span><span style=\"color: #008080; text-decoration-color: #008080; font-weight: bold\">1</span><span style=\"font-weight: bold\">)</span> an iterative definition of a real problem and \n",
       "<span style=\"font-weight: bold\">(</span><span style=\"color: #008080; text-decoration-color: #008080; font-weight: bold\">2</span><span style=\"font-weight: bold\">)</span> intensity. The first is probably unavoidable. Class projects will inevitably solve fake problems. For one \n",
       "thing, real problems are rare and valuable.\n",
       "breakpoint sentence: If a professor wanted to have students solve real problems, he'd face the same paradox as \n",
       "someone trying to give an example of whatever <span style=\"color: #008000; text-decoration-color: #008000\">\"paradigm\"</span> might succeed the Standard Model of physics.\n",
       "dist: <span style=\"color: #008080; text-decoration-color: #008080; font-weight: bold\">0.8591417670249939</span>\n",
       "chunks count: <span style=\"color: #008080; text-decoration-color: #008080; font-weight: bold\">131</span>\n",
       "</pre>\n"
      ],
      "text/plain": [
       "prev: There seem to be two big things missing in class projects: \u001b[1m(\u001b[0m\u001b[1;36m1\u001b[0m\u001b[1m)\u001b[0m an iterative definition of a real problem and \n",
       "\u001b[1m(\u001b[0m\u001b[1;36m2\u001b[0m\u001b[1m)\u001b[0m intensity. The first is probably unavoidable. Class projects will inevitably solve fake problems. For one \n",
       "thing, real problems are rare and valuable.\n",
       "breakpoint sentence: If a professor wanted to have students solve real problems, he'd face the same paradox as \n",
       "someone trying to give an example of whatever \u001b[32m\"paradigm\"\u001b[0m might succeed the Standard Model of physics.\n",
       "dist: \u001b[1;36m0.8591417670249939\u001b[0m\n",
       "chunks count: \u001b[1;36m131\u001b[0m\n"
      ]
     },
     "metadata": {},
     "output_type": "display_data"
    },
    {
     "data": {
      "text/html": [
       "<pre style=\"white-space:pre;overflow-x:auto;line-height:normal;font-family:Menlo,'DejaVu Sans Mono',consolas,'Courier New',monospace\">=========================\n",
       "</pre>\n"
      ],
      "text/plain": [
       "=========================\n"
      ]
     },
     "metadata": {},
     "output_type": "display_data"
    },
    {
     "data": {
      "text/html": [
       "<pre style=\"white-space:pre;overflow-x:auto;line-height:normal;font-family:Menlo,'DejaVu Sans Mono',consolas,'Courier New',monospace\">prev: If a professor wanted to have students solve real problems, he'd face the same paradox as someone trying to \n",
       "give an example of whatever <span style=\"color: #008000; text-decoration-color: #008000\">\"paradigm\"</span> might succeed the Standard Model of physics. There may well be something \n",
       "that does, but if you could think of an example you'd be entitled to the Nobel Prize. Similarly, good new problems \n",
       "are not to be had for the asking.\n",
       "breakpoint sentence: In technology the difficulty is compounded by the fact that real startups tend to discover the\n",
       "problem they're solving by a process of evolution.\n",
       "dist: <span style=\"color: #008080; text-decoration-color: #008080; font-weight: bold\">0.7504163980484009</span>\n",
       "chunks count: <span style=\"color: #008080; text-decoration-color: #008080; font-weight: bold\">132</span>\n",
       "</pre>\n"
      ],
      "text/plain": [
       "prev: If a professor wanted to have students solve real problems, he'd face the same paradox as someone trying to \n",
       "give an example of whatever \u001b[32m\"paradigm\"\u001b[0m might succeed the Standard Model of physics. There may well be something \n",
       "that does, but if you could think of an example you'd be entitled to the Nobel Prize. Similarly, good new problems \n",
       "are not to be had for the asking.\n",
       "breakpoint sentence: In technology the difficulty is compounded by the fact that real startups tend to discover the\n",
       "problem they're solving by a process of evolution.\n",
       "dist: \u001b[1;36m0.7504163980484009\u001b[0m\n",
       "chunks count: \u001b[1;36m132\u001b[0m\n"
      ]
     },
     "metadata": {},
     "output_type": "display_data"
    },
    {
     "data": {
      "text/html": [
       "<pre style=\"white-space:pre;overflow-x:auto;line-height:normal;font-family:Menlo,'DejaVu Sans Mono',consolas,'Courier New',monospace\">=========================\n",
       "</pre>\n"
      ],
      "text/plain": [
       "=========================\n"
      ]
     },
     "metadata": {},
     "output_type": "display_data"
    },
    {
     "data": {
      "text/html": [
       "<pre style=\"white-space:pre;overflow-x:auto;line-height:normal;font-family:Menlo,'DejaVu Sans Mono',consolas,'Courier New',monospace\">prev: In technology the difficulty is compounded by the fact that real startups tend to discover the problem \n",
       "they're solving by a process of evolution. Someone has an idea for something; they build it; and in doing so <span style=\"font-weight: bold\">(</span>and \n",
       "probably only by doing so<span style=\"font-weight: bold\">)</span> they realize the problem they should be solving is another one.\n",
       "breakpoint sentence: Even if the professor let you change your project description on the fly, there isn't time \n",
       "enough to do that in a college class, or a market to supply evolutionary pressures.\n",
       "dist: <span style=\"color: #008080; text-decoration-color: #008080; font-weight: bold\">0.7525714635848999</span>\n",
       "chunks count: <span style=\"color: #008080; text-decoration-color: #008080; font-weight: bold\">133</span>\n",
       "</pre>\n"
      ],
      "text/plain": [
       "prev: In technology the difficulty is compounded by the fact that real startups tend to discover the problem \n",
       "they're solving by a process of evolution. Someone has an idea for something; they build it; and in doing so \u001b[1m(\u001b[0mand \n",
       "probably only by doing so\u001b[1m)\u001b[0m they realize the problem they should be solving is another one.\n",
       "breakpoint sentence: Even if the professor let you change your project description on the fly, there isn't time \n",
       "enough to do that in a college class, or a market to supply evolutionary pressures.\n",
       "dist: \u001b[1;36m0.7525714635848999\u001b[0m\n",
       "chunks count: \u001b[1;36m133\u001b[0m\n"
      ]
     },
     "metadata": {},
     "output_type": "display_data"
    },
    {
     "data": {
      "text/html": [
       "<pre style=\"white-space:pre;overflow-x:auto;line-height:normal;font-family:Menlo,'DejaVu Sans Mono',consolas,'Courier New',monospace\">=========================\n",
       "</pre>\n"
      ],
      "text/plain": [
       "=========================\n"
      ]
     },
     "metadata": {},
     "output_type": "display_data"
    },
    {
     "data": {
      "text/html": [
       "<pre style=\"white-space:pre;overflow-x:auto;line-height:normal;font-family:Menlo,'DejaVu Sans Mono',consolas,'Courier New',monospace\">prev: Even if the professor let you change your project description on the fly, there isn't time enough to do that \n",
       "in a college class, or a market to supply evolutionary pressures.\n",
       "breakpoint sentence: So class projects are mostly about implementation, which is the least of your problems in a \n",
       "startup.\n",
       "dist: <span style=\"color: #008080; text-decoration-color: #008080; font-weight: bold\">0.7347948551177979</span>\n",
       "chunks count: <span style=\"color: #008080; text-decoration-color: #008080; font-weight: bold\">134</span>\n",
       "</pre>\n"
      ],
      "text/plain": [
       "prev: Even if the professor let you change your project description on the fly, there isn't time enough to do that \n",
       "in a college class, or a market to supply evolutionary pressures.\n",
       "breakpoint sentence: So class projects are mostly about implementation, which is the least of your problems in a \n",
       "startup.\n",
       "dist: \u001b[1;36m0.7347948551177979\u001b[0m\n",
       "chunks count: \u001b[1;36m134\u001b[0m\n"
      ]
     },
     "metadata": {},
     "output_type": "display_data"
    },
    {
     "data": {
      "text/html": [
       "<pre style=\"white-space:pre;overflow-x:auto;line-height:normal;font-family:Menlo,'DejaVu Sans Mono',consolas,'Courier New',monospace\">=========================\n",
       "</pre>\n"
      ],
      "text/plain": [
       "=========================\n"
      ]
     },
     "metadata": {},
     "output_type": "display_data"
    },
    {
     "data": {
      "text/html": [
       "<pre style=\"white-space:pre;overflow-x:auto;line-height:normal;font-family:Menlo,'DejaVu Sans Mono',consolas,'Courier New',monospace\">prev: So class projects are mostly about implementation, which is the least of your problems in a startup. It's not\n",
       "just that in a startup you work on the idea as well as implementation. The very implementation is different. Its \n",
       "main purpose is to refine the idea.\n",
       "breakpoint sentence: Often the only value of most of the stuff you build in the first six months is that it proves \n",
       "your initial idea was mistaken.\n",
       "dist: <span style=\"color: #008080; text-decoration-color: #008080; font-weight: bold\">0.8288582563400269</span>\n",
       "chunks count: <span style=\"color: #008080; text-decoration-color: #008080; font-weight: bold\">135</span>\n",
       "</pre>\n"
      ],
      "text/plain": [
       "prev: So class projects are mostly about implementation, which is the least of your problems in a startup. It's not\n",
       "just that in a startup you work on the idea as well as implementation. The very implementation is different. Its \n",
       "main purpose is to refine the idea.\n",
       "breakpoint sentence: Often the only value of most of the stuff you build in the first six months is that it proves \n",
       "your initial idea was mistaken.\n",
       "dist: \u001b[1;36m0.8288582563400269\u001b[0m\n",
       "chunks count: \u001b[1;36m135\u001b[0m\n"
      ]
     },
     "metadata": {},
     "output_type": "display_data"
    },
    {
     "data": {
      "text/html": [
       "<pre style=\"white-space:pre;overflow-x:auto;line-height:normal;font-family:Menlo,'DejaVu Sans Mono',consolas,'Courier New',monospace\">=========================\n",
       "</pre>\n"
      ],
      "text/plain": [
       "=========================\n"
      ]
     },
     "metadata": {},
     "output_type": "display_data"
    },
    {
     "data": {
      "text/html": [
       "<pre style=\"white-space:pre;overflow-x:auto;line-height:normal;font-family:Menlo,'DejaVu Sans Mono',consolas,'Courier New',monospace\">prev: Often the only value of most of the stuff you build in the first six months is that it proves your initial \n",
       "idea was mistaken. And that's extremely valuable. If you're free of a misconception that everyone else still \n",
       "shares, you're in a powerful position.\n",
       "breakpoint sentence: But you're not thinking that way about a class project.\n",
       "dist: <span style=\"color: #008080; text-decoration-color: #008080; font-weight: bold\">0.7195028066635132</span>\n",
       "chunks count: <span style=\"color: #008080; text-decoration-color: #008080; font-weight: bold\">136</span>\n",
       "</pre>\n"
      ],
      "text/plain": [
       "prev: Often the only value of most of the stuff you build in the first six months is that it proves your initial \n",
       "idea was mistaken. And that's extremely valuable. If you're free of a misconception that everyone else still \n",
       "shares, you're in a powerful position.\n",
       "breakpoint sentence: But you're not thinking that way about a class project.\n",
       "dist: \u001b[1;36m0.7195028066635132\u001b[0m\n",
       "chunks count: \u001b[1;36m136\u001b[0m\n"
      ]
     },
     "metadata": {},
     "output_type": "display_data"
    },
    {
     "data": {
      "text/html": [
       "<pre style=\"white-space:pre;overflow-x:auto;line-height:normal;font-family:Menlo,'DejaVu Sans Mono',consolas,'Courier New',monospace\">=========================\n",
       "</pre>\n"
      ],
      "text/plain": [
       "=========================\n"
      ]
     },
     "metadata": {},
     "output_type": "display_data"
    },
    {
     "data": {
      "text/html": [
       "<pre style=\"white-space:pre;overflow-x:auto;line-height:normal;font-family:Menlo,'DejaVu Sans Mono',consolas,'Courier New',monospace\">prev: But you're not thinking that way about a class project.\n",
       "breakpoint sentence: Proving your initial plan was mistaken would just get you a bad grade.\n",
       "dist: <span style=\"color: #008080; text-decoration-color: #008080; font-weight: bold\">0.7385431528091431</span>\n",
       "chunks count: <span style=\"color: #008080; text-decoration-color: #008080; font-weight: bold\">137</span>\n",
       "</pre>\n"
      ],
      "text/plain": [
       "prev: But you're not thinking that way about a class project.\n",
       "breakpoint sentence: Proving your initial plan was mistaken would just get you a bad grade.\n",
       "dist: \u001b[1;36m0.7385431528091431\u001b[0m\n",
       "chunks count: \u001b[1;36m137\u001b[0m\n"
      ]
     },
     "metadata": {},
     "output_type": "display_data"
    },
    {
     "data": {
      "text/html": [
       "<pre style=\"white-space:pre;overflow-x:auto;line-height:normal;font-family:Menlo,'DejaVu Sans Mono',consolas,'Courier New',monospace\">=========================\n",
       "</pre>\n"
      ],
      "text/plain": [
       "=========================\n"
      ]
     },
     "metadata": {},
     "output_type": "display_data"
    },
    {
     "data": {
      "text/html": [
       "<pre style=\"white-space:pre;overflow-x:auto;line-height:normal;font-family:Menlo,'DejaVu Sans Mono',consolas,'Courier New',monospace\">prev: Proving your initial plan was mistaken would just get you a bad grade.\n",
       "breakpoint sentence: Instead of building stuff to throw away, you tend to want every line of code to go toward that\n",
       "final goal of showing you did a lot of work.\n",
       "dist: <span style=\"color: #008080; text-decoration-color: #008080; font-weight: bold\">0.773338794708252</span>\n",
       "chunks count: <span style=\"color: #008080; text-decoration-color: #008080; font-weight: bold\">138</span>\n",
       "</pre>\n"
      ],
      "text/plain": [
       "prev: Proving your initial plan was mistaken would just get you a bad grade.\n",
       "breakpoint sentence: Instead of building stuff to throw away, you tend to want every line of code to go toward that\n",
       "final goal of showing you did a lot of work.\n",
       "dist: \u001b[1;36m0.773338794708252\u001b[0m\n",
       "chunks count: \u001b[1;36m138\u001b[0m\n"
      ]
     },
     "metadata": {},
     "output_type": "display_data"
    },
    {
     "data": {
      "text/html": [
       "<pre style=\"white-space:pre;overflow-x:auto;line-height:normal;font-family:Menlo,'DejaVu Sans Mono',consolas,'Courier New',monospace\">=========================\n",
       "</pre>\n"
      ],
      "text/plain": [
       "=========================\n"
      ]
     },
     "metadata": {},
     "output_type": "display_data"
    },
    {
     "data": {
      "text/html": [
       "<pre style=\"white-space:pre;overflow-x:auto;line-height:normal;font-family:Menlo,'DejaVu Sans Mono',consolas,'Courier New',monospace\">prev: Instead of building stuff to throw away, you tend to want every line of code to go toward that final goal of \n",
       "showing you did a lot of work.\n",
       "breakpoint sentence: That leads to our second difference: the way class projects are measured.\n",
       "dist: <span style=\"color: #008080; text-decoration-color: #008080; font-weight: bold\">0.5523505210876465</span>\n",
       "chunks count: <span style=\"color: #008080; text-decoration-color: #008080; font-weight: bold\">139</span>\n",
       "</pre>\n"
      ],
      "text/plain": [
       "prev: Instead of building stuff to throw away, you tend to want every line of code to go toward that final goal of \n",
       "showing you did a lot of work.\n",
       "breakpoint sentence: That leads to our second difference: the way class projects are measured.\n",
       "dist: \u001b[1;36m0.5523505210876465\u001b[0m\n",
       "chunks count: \u001b[1;36m139\u001b[0m\n"
      ]
     },
     "metadata": {},
     "output_type": "display_data"
    },
    {
     "data": {
      "text/html": [
       "<pre style=\"white-space:pre;overflow-x:auto;line-height:normal;font-family:Menlo,'DejaVu Sans Mono',consolas,'Courier New',monospace\">=========================\n",
       "</pre>\n"
      ],
      "text/plain": [
       "=========================\n"
      ]
     },
     "metadata": {},
     "output_type": "display_data"
    },
    {
     "data": {
      "text/html": [
       "<pre style=\"white-space:pre;overflow-x:auto;line-height:normal;font-family:Menlo,'DejaVu Sans Mono',consolas,'Courier New',monospace\">prev: That leads to our second difference: the way class projects are measured.\n",
       "breakpoint sentence: Professors will tend to judge you by the distance between the starting point and where you are\n",
       "now.\n",
       "dist: <span style=\"color: #008080; text-decoration-color: #008080; font-weight: bold\">0.8557068109512329</span>\n",
       "chunks count: <span style=\"color: #008080; text-decoration-color: #008080; font-weight: bold\">140</span>\n",
       "</pre>\n"
      ],
      "text/plain": [
       "prev: That leads to our second difference: the way class projects are measured.\n",
       "breakpoint sentence: Professors will tend to judge you by the distance between the starting point and where you are\n",
       "now.\n",
       "dist: \u001b[1;36m0.8557068109512329\u001b[0m\n",
       "chunks count: \u001b[1;36m140\u001b[0m\n"
      ]
     },
     "metadata": {},
     "output_type": "display_data"
    },
    {
     "data": {
      "text/html": [
       "<pre style=\"white-space:pre;overflow-x:auto;line-height:normal;font-family:Menlo,'DejaVu Sans Mono',consolas,'Courier New',monospace\">=========================\n",
       "</pre>\n"
      ],
      "text/plain": [
       "=========================\n"
      ]
     },
     "metadata": {},
     "output_type": "display_data"
    },
    {
     "data": {
      "text/html": [
       "<pre style=\"white-space:pre;overflow-x:auto;line-height:normal;font-family:Menlo,'DejaVu Sans Mono',consolas,'Courier New',monospace\">prev: Professors will tend to judge you by the distance between the starting point and where you are now.\n",
       "breakpoint sentence: If someone has achieved a lot, they should get a good grade.\n",
       "dist: <span style=\"color: #008080; text-decoration-color: #008080; font-weight: bold\">0.7402067184448242</span>\n",
       "chunks count: <span style=\"color: #008080; text-decoration-color: #008080; font-weight: bold\">141</span>\n",
       "</pre>\n"
      ],
      "text/plain": [
       "prev: Professors will tend to judge you by the distance between the starting point and where you are now.\n",
       "breakpoint sentence: If someone has achieved a lot, they should get a good grade.\n",
       "dist: \u001b[1;36m0.7402067184448242\u001b[0m\n",
       "chunks count: \u001b[1;36m141\u001b[0m\n"
      ]
     },
     "metadata": {},
     "output_type": "display_data"
    },
    {
     "data": {
      "text/html": [
       "<pre style=\"white-space:pre;overflow-x:auto;line-height:normal;font-family:Menlo,'DejaVu Sans Mono',consolas,'Courier New',monospace\">=========================\n",
       "</pre>\n"
      ],
      "text/plain": [
       "=========================\n"
      ]
     },
     "metadata": {},
     "output_type": "display_data"
    },
    {
     "data": {
      "text/html": [
       "<pre style=\"white-space:pre;overflow-x:auto;line-height:normal;font-family:Menlo,'DejaVu Sans Mono',consolas,'Courier New',monospace\">prev: If someone has achieved a lot, they should get a good grade.\n",
       "breakpoint sentence: But customers will judge you from the other direction: the distance remaining between where \n",
       "you are now and the features they need.\n",
       "dist: <span style=\"color: #008080; text-decoration-color: #008080; font-weight: bold\">0.6877438426017761</span>\n",
       "chunks count: <span style=\"color: #008080; text-decoration-color: #008080; font-weight: bold\">142</span>\n",
       "</pre>\n"
      ],
      "text/plain": [
       "prev: If someone has achieved a lot, they should get a good grade.\n",
       "breakpoint sentence: But customers will judge you from the other direction: the distance remaining between where \n",
       "you are now and the features they need.\n",
       "dist: \u001b[1;36m0.6877438426017761\u001b[0m\n",
       "chunks count: \u001b[1;36m142\u001b[0m\n"
      ]
     },
     "metadata": {},
     "output_type": "display_data"
    },
    {
     "data": {
      "text/html": [
       "<pre style=\"white-space:pre;overflow-x:auto;line-height:normal;font-family:Menlo,'DejaVu Sans Mono',consolas,'Courier New',monospace\">=========================\n",
       "</pre>\n"
      ],
      "text/plain": [
       "=========================\n"
      ]
     },
     "metadata": {},
     "output_type": "display_data"
    },
    {
     "data": {
      "text/html": [
       "<pre style=\"white-space:pre;overflow-x:auto;line-height:normal;font-family:Menlo,'DejaVu Sans Mono',consolas,'Courier New',monospace\">prev: But customers will judge you from the other direction: the distance remaining between where you are now and \n",
       "the features they need.\n",
       "breakpoint sentence: The market doesn't give a shit how hard you worked.\n",
       "dist: <span style=\"color: #008080; text-decoration-color: #008080; font-weight: bold\">0.8005384206771851</span>\n",
       "chunks count: <span style=\"color: #008080; text-decoration-color: #008080; font-weight: bold\">143</span>\n",
       "</pre>\n"
      ],
      "text/plain": [
       "prev: But customers will judge you from the other direction: the distance remaining between where you are now and \n",
       "the features they need.\n",
       "breakpoint sentence: The market doesn't give a shit how hard you worked.\n",
       "dist: \u001b[1;36m0.8005384206771851\u001b[0m\n",
       "chunks count: \u001b[1;36m143\u001b[0m\n"
      ]
     },
     "metadata": {},
     "output_type": "display_data"
    },
    {
     "data": {
      "text/html": [
       "<pre style=\"white-space:pre;overflow-x:auto;line-height:normal;font-family:Menlo,'DejaVu Sans Mono',consolas,'Courier New',monospace\">=========================\n",
       "</pre>\n"
      ],
      "text/plain": [
       "=========================\n"
      ]
     },
     "metadata": {},
     "output_type": "display_data"
    },
    {
     "data": {
      "text/html": [
       "<pre style=\"white-space:pre;overflow-x:auto;line-height:normal;font-family:Menlo,'DejaVu Sans Mono',consolas,'Courier New',monospace\">prev: The market doesn't give a shit how hard you worked.\n",
       "breakpoint sentence: Users just want your software to do what they need, and you get a zero otherwise.\n",
       "dist: <span style=\"color: #008080; text-decoration-color: #008080; font-weight: bold\">0.6648135781288147</span>\n",
       "chunks count: <span style=\"color: #008080; text-decoration-color: #008080; font-weight: bold\">144</span>\n",
       "</pre>\n"
      ],
      "text/plain": [
       "prev: The market doesn't give a shit how hard you worked.\n",
       "breakpoint sentence: Users just want your software to do what they need, and you get a zero otherwise.\n",
       "dist: \u001b[1;36m0.6648135781288147\u001b[0m\n",
       "chunks count: \u001b[1;36m144\u001b[0m\n"
      ]
     },
     "metadata": {},
     "output_type": "display_data"
    },
    {
     "data": {
      "text/html": [
       "<pre style=\"white-space:pre;overflow-x:auto;line-height:normal;font-family:Menlo,'DejaVu Sans Mono',consolas,'Courier New',monospace\">=========================\n",
       "</pre>\n"
      ],
      "text/plain": [
       "=========================\n"
      ]
     },
     "metadata": {},
     "output_type": "display_data"
    },
    {
     "data": {
      "text/html": [
       "<pre style=\"white-space:pre;overflow-x:auto;line-height:normal;font-family:Menlo,'DejaVu Sans Mono',consolas,'Courier New',monospace\">prev: Users just want your software to do what they need, and you get a zero otherwise.\n",
       "breakpoint sentence: That is one of the most distinctive differences between school and the real world: there is no\n",
       "reward for putting in a good effort.\n",
       "dist: <span style=\"color: #008080; text-decoration-color: #008080; font-weight: bold\">0.7976133823394775</span>\n",
       "chunks count: <span style=\"color: #008080; text-decoration-color: #008080; font-weight: bold\">145</span>\n",
       "</pre>\n"
      ],
      "text/plain": [
       "prev: Users just want your software to do what they need, and you get a zero otherwise.\n",
       "breakpoint sentence: That is one of the most distinctive differences between school and the real world: there is no\n",
       "reward for putting in a good effort.\n",
       "dist: \u001b[1;36m0.7976133823394775\u001b[0m\n",
       "chunks count: \u001b[1;36m145\u001b[0m\n"
      ]
     },
     "metadata": {},
     "output_type": "display_data"
    },
    {
     "data": {
      "text/html": [
       "<pre style=\"white-space:pre;overflow-x:auto;line-height:normal;font-family:Menlo,'DejaVu Sans Mono',consolas,'Courier New',monospace\">=========================\n",
       "</pre>\n"
      ],
      "text/plain": [
       "=========================\n"
      ]
     },
     "metadata": {},
     "output_type": "display_data"
    },
    {
     "data": {
      "text/html": [
       "<pre style=\"white-space:pre;overflow-x:auto;line-height:normal;font-family:Menlo,'DejaVu Sans Mono',consolas,'Courier New',monospace\">prev: That is one of the most distinctive differences between school and the real world: there is no reward for \n",
       "putting in a good effort. In fact, the whole concept of a <span style=\"color: #008000; text-decoration-color: #008000\">\"good effort\"</span> is a fake idea adults invented to encourage\n",
       "kids. It is not found in nature. Such lies seem to be helpful to kids. But unfortunately when you graduate they \n",
       "don't give you a list of all the lies they told you during your education. You have to get them beaten out of you \n",
       "by contact with the real world. And this is why so many jobs want work experience.\n",
       "breakpoint sentence: I couldn't understand that when I was in college.\n",
       "dist: <span style=\"color: #008080; text-decoration-color: #008080; font-weight: bold\">0.8532338738441467</span>\n",
       "chunks count: <span style=\"color: #008080; text-decoration-color: #008080; font-weight: bold\">146</span>\n",
       "</pre>\n"
      ],
      "text/plain": [
       "prev: That is one of the most distinctive differences between school and the real world: there is no reward for \n",
       "putting in a good effort. In fact, the whole concept of a \u001b[32m\"good effort\"\u001b[0m is a fake idea adults invented to encourage\n",
       "kids. It is not found in nature. Such lies seem to be helpful to kids. But unfortunately when you graduate they \n",
       "don't give you a list of all the lies they told you during your education. You have to get them beaten out of you \n",
       "by contact with the real world. And this is why so many jobs want work experience.\n",
       "breakpoint sentence: I couldn't understand that when I was in college.\n",
       "dist: \u001b[1;36m0.8532338738441467\u001b[0m\n",
       "chunks count: \u001b[1;36m146\u001b[0m\n"
      ]
     },
     "metadata": {},
     "output_type": "display_data"
    },
    {
     "data": {
      "text/html": [
       "<pre style=\"white-space:pre;overflow-x:auto;line-height:normal;font-family:Menlo,'DejaVu Sans Mono',consolas,'Courier New',monospace\">=========================\n",
       "</pre>\n"
      ],
      "text/plain": [
       "=========================\n"
      ]
     },
     "metadata": {},
     "output_type": "display_data"
    },
    {
     "data": {
      "text/html": [
       "<pre style=\"white-space:pre;overflow-x:auto;line-height:normal;font-family:Menlo,'DejaVu Sans Mono',consolas,'Courier New',monospace\">prev: I couldn't understand that when I was in college.\n",
       "breakpoint sentence: I knew how to program.\n",
       "dist: <span style=\"color: #008080; text-decoration-color: #008080; font-weight: bold\">0.5998036861419678</span>\n",
       "chunks count: <span style=\"color: #008080; text-decoration-color: #008080; font-weight: bold\">147</span>\n",
       "</pre>\n"
      ],
      "text/plain": [
       "prev: I couldn't understand that when I was in college.\n",
       "breakpoint sentence: I knew how to program.\n",
       "dist: \u001b[1;36m0.5998036861419678\u001b[0m\n",
       "chunks count: \u001b[1;36m147\u001b[0m\n"
      ]
     },
     "metadata": {},
     "output_type": "display_data"
    },
    {
     "data": {
      "text/html": [
       "<pre style=\"white-space:pre;overflow-x:auto;line-height:normal;font-family:Menlo,'DejaVu Sans Mono',consolas,'Courier New',monospace\">=========================\n",
       "</pre>\n"
      ],
      "text/plain": [
       "=========================\n"
      ]
     },
     "metadata": {},
     "output_type": "display_data"
    },
    {
     "data": {
      "text/html": [
       "<pre style=\"white-space:pre;overflow-x:auto;line-height:normal;font-family:Menlo,'DejaVu Sans Mono',consolas,'Courier New',monospace\">prev: I knew how to program. In fact, I could tell I knew how to program better than most people doing it for a \n",
       "living.\n",
       "breakpoint sentence: So what was this mysterious <span style=\"color: #008000; text-decoration-color: #008000\">\"work experience\"</span> and why did I need it?\n",
       "dist: <span style=\"color: #008080; text-decoration-color: #008080; font-weight: bold\">0.5291131734848022</span>\n",
       "chunks count: <span style=\"color: #008080; text-decoration-color: #008080; font-weight: bold\">148</span>\n",
       "</pre>\n"
      ],
      "text/plain": [
       "prev: I knew how to program. In fact, I could tell I knew how to program better than most people doing it for a \n",
       "living.\n",
       "breakpoint sentence: So what was this mysterious \u001b[32m\"work experience\"\u001b[0m and why did I need it?\n",
       "dist: \u001b[1;36m0.5291131734848022\u001b[0m\n",
       "chunks count: \u001b[1;36m148\u001b[0m\n"
      ]
     },
     "metadata": {},
     "output_type": "display_data"
    },
    {
     "data": {
      "text/html": [
       "<pre style=\"white-space:pre;overflow-x:auto;line-height:normal;font-family:Menlo,'DejaVu Sans Mono',consolas,'Courier New',monospace\">=========================\n",
       "</pre>\n"
      ],
      "text/plain": [
       "=========================\n"
      ]
     },
     "metadata": {},
     "output_type": "display_data"
    },
    {
     "data": {
      "text/html": [
       "<pre style=\"white-space:pre;overflow-x:auto;line-height:normal;font-family:Menlo,'DejaVu Sans Mono',consolas,'Courier New',monospace\">prev: So what was this mysterious <span style=\"color: #008000; text-decoration-color: #008000\">\"work experience\"</span> and why did I need it?\n",
       "breakpoint sentence: Now I know what it is, and part of the confusion is grammatical.\n",
       "dist: <span style=\"color: #008080; text-decoration-color: #008080; font-weight: bold\">0.8230308294296265</span>\n",
       "chunks count: <span style=\"color: #008080; text-decoration-color: #008080; font-weight: bold\">149</span>\n",
       "</pre>\n"
      ],
      "text/plain": [
       "prev: So what was this mysterious \u001b[32m\"work experience\"\u001b[0m and why did I need it?\n",
       "breakpoint sentence: Now I know what it is, and part of the confusion is grammatical.\n",
       "dist: \u001b[1;36m0.8230308294296265\u001b[0m\n",
       "chunks count: \u001b[1;36m149\u001b[0m\n"
      ]
     },
     "metadata": {},
     "output_type": "display_data"
    },
    {
     "data": {
      "text/html": [
       "<pre style=\"white-space:pre;overflow-x:auto;line-height:normal;font-family:Menlo,'DejaVu Sans Mono',consolas,'Courier New',monospace\">=========================\n",
       "</pre>\n"
      ],
      "text/plain": [
       "=========================\n"
      ]
     },
     "metadata": {},
     "output_type": "display_data"
    },
    {
     "data": {
      "text/html": [
       "<pre style=\"white-space:pre;overflow-x:auto;line-height:normal;font-family:Menlo,'DejaVu Sans Mono',consolas,'Courier New',monospace\">prev: Now I know what it is, and part of the confusion is grammatical.\n",
       "breakpoint sentence: Describing it as <span style=\"color: #008000; text-decoration-color: #008000\">\"work experience\"</span> implies it's like experience operating a certain kind of \n",
       "machine, or using a certain programming language.\n",
       "dist: <span style=\"color: #008080; text-decoration-color: #008080; font-weight: bold\">0.27879372239112854</span>\n",
       "chunks count: <span style=\"color: #008080; text-decoration-color: #008080; font-weight: bold\">150</span>\n",
       "</pre>\n"
      ],
      "text/plain": [
       "prev: Now I know what it is, and part of the confusion is grammatical.\n",
       "breakpoint sentence: Describing it as \u001b[32m\"work experience\"\u001b[0m implies it's like experience operating a certain kind of \n",
       "machine, or using a certain programming language.\n",
       "dist: \u001b[1;36m0.27879372239112854\u001b[0m\n",
       "chunks count: \u001b[1;36m150\u001b[0m\n"
      ]
     },
     "metadata": {},
     "output_type": "display_data"
    },
    {
     "data": {
      "text/html": [
       "<pre style=\"white-space:pre;overflow-x:auto;line-height:normal;font-family:Menlo,'DejaVu Sans Mono',consolas,'Courier New',monospace\">=========================\n",
       "</pre>\n"
      ],
      "text/plain": [
       "=========================\n"
      ]
     },
     "metadata": {},
     "output_type": "display_data"
    },
    {
     "data": {
      "text/html": [
       "<pre style=\"white-space:pre;overflow-x:auto;line-height:normal;font-family:Menlo,'DejaVu Sans Mono',consolas,'Courier New',monospace\">prev: Describing it as <span style=\"color: #008000; text-decoration-color: #008000\">\"work experience\"</span> implies it's like experience operating a certain kind of machine, or using\n",
       "a certain programming language. But really what work experience refers to is not some specific expertise, but the \n",
       "elimination of certain habits left over from childhood. One of the defining qualities of kids is that they flake. \n",
       "When you're a kid and you face some hard test, you can cry and say <span style=\"color: #008000; text-decoration-color: #008000\">\"I can't\"</span> and they won't make you do it. Of \n",
       "course, no one can make you do anything in the grownup world either. What they do instead is fire you. And when \n",
       "motivated by that you find you can do a lot more than you realized.\n",
       "breakpoint sentence: So one of the things employers expect from someone with <span style=\"color: #008000; text-decoration-color: #008000\">\"work experience\"</span> is the elimination \n",
       "of the flake reflex—the ability to get things done, with no excuses.\n",
       "dist: <span style=\"color: #008080; text-decoration-color: #008080; font-weight: bold\">0.8388793468475342</span>\n",
       "chunks count: <span style=\"color: #008080; text-decoration-color: #008080; font-weight: bold\">151</span>\n",
       "</pre>\n"
      ],
      "text/plain": [
       "prev: Describing it as \u001b[32m\"work experience\"\u001b[0m implies it's like experience operating a certain kind of machine, or using\n",
       "a certain programming language. But really what work experience refers to is not some specific expertise, but the \n",
       "elimination of certain habits left over from childhood. One of the defining qualities of kids is that they flake. \n",
       "When you're a kid and you face some hard test, you can cry and say \u001b[32m\"I can't\"\u001b[0m and they won't make you do it. Of \n",
       "course, no one can make you do anything in the grownup world either. What they do instead is fire you. And when \n",
       "motivated by that you find you can do a lot more than you realized.\n",
       "breakpoint sentence: So one of the things employers expect from someone with \u001b[32m\"work experience\"\u001b[0m is the elimination \n",
       "of the flake reflex—the ability to get things done, with no excuses.\n",
       "dist: \u001b[1;36m0.8388793468475342\u001b[0m\n",
       "chunks count: \u001b[1;36m151\u001b[0m\n"
      ]
     },
     "metadata": {},
     "output_type": "display_data"
    },
    {
     "data": {
      "text/html": [
       "<pre style=\"white-space:pre;overflow-x:auto;line-height:normal;font-family:Menlo,'DejaVu Sans Mono',consolas,'Courier New',monospace\">=========================\n",
       "</pre>\n"
      ],
      "text/plain": [
       "=========================\n"
      ]
     },
     "metadata": {},
     "output_type": "display_data"
    },
    {
     "data": {
      "text/html": [
       "<pre style=\"white-space:pre;overflow-x:auto;line-height:normal;font-family:Menlo,'DejaVu Sans Mono',consolas,'Courier New',monospace\">prev: So one of the things employers expect from someone with <span style=\"color: #008000; text-decoration-color: #008000\">\"work experience\"</span> is the elimination of the flake \n",
       "reflex—the ability to get things done, with no excuses. The other thing you get from work experience is an \n",
       "understanding of what work is, and in particular, how intrinsically horrible it is.\n",
       "breakpoint sentence: Fundamentally the equation is a brutal one: you have to spend most of your waking hours doing \n",
       "stuff someone else wants, or starve.\n",
       "dist: <span style=\"color: #008080; text-decoration-color: #008080; font-weight: bold\">0.8525199294090271</span>\n",
       "chunks count: <span style=\"color: #008080; text-decoration-color: #008080; font-weight: bold\">152</span>\n",
       "</pre>\n"
      ],
      "text/plain": [
       "prev: So one of the things employers expect from someone with \u001b[32m\"work experience\"\u001b[0m is the elimination of the flake \n",
       "reflex—the ability to get things done, with no excuses. The other thing you get from work experience is an \n",
       "understanding of what work is, and in particular, how intrinsically horrible it is.\n",
       "breakpoint sentence: Fundamentally the equation is a brutal one: you have to spend most of your waking hours doing \n",
       "stuff someone else wants, or starve.\n",
       "dist: \u001b[1;36m0.8525199294090271\u001b[0m\n",
       "chunks count: \u001b[1;36m152\u001b[0m\n"
      ]
     },
     "metadata": {},
     "output_type": "display_data"
    },
    {
     "data": {
      "text/html": [
       "<pre style=\"white-space:pre;overflow-x:auto;line-height:normal;font-family:Menlo,'DejaVu Sans Mono',consolas,'Courier New',monospace\">=========================\n",
       "</pre>\n"
      ],
      "text/plain": [
       "=========================\n"
      ]
     },
     "metadata": {},
     "output_type": "display_data"
    },
    {
     "data": {
      "text/html": [
       "<pre style=\"white-space:pre;overflow-x:auto;line-height:normal;font-family:Menlo,'DejaVu Sans Mono',consolas,'Courier New',monospace\">prev: Fundamentally the equation is a brutal one: you have to spend most of your waking hours doing stuff someone \n",
       "else wants, or starve.\n",
       "breakpoint sentence: There are a few places where the work is so interesting that this is concealed, because what \n",
       "other people want done happens to coincide with what you want to work on.\n",
       "dist: <span style=\"color: #008080; text-decoration-color: #008080; font-weight: bold\">0.7662896513938904</span>\n",
       "chunks count: <span style=\"color: #008080; text-decoration-color: #008080; font-weight: bold\">153</span>\n",
       "</pre>\n"
      ],
      "text/plain": [
       "prev: Fundamentally the equation is a brutal one: you have to spend most of your waking hours doing stuff someone \n",
       "else wants, or starve.\n",
       "breakpoint sentence: There are a few places where the work is so interesting that this is concealed, because what \n",
       "other people want done happens to coincide with what you want to work on.\n",
       "dist: \u001b[1;36m0.7662896513938904\u001b[0m\n",
       "chunks count: \u001b[1;36m153\u001b[0m\n"
      ]
     },
     "metadata": {},
     "output_type": "display_data"
    },
    {
     "data": {
      "text/html": [
       "<pre style=\"white-space:pre;overflow-x:auto;line-height:normal;font-family:Menlo,'DejaVu Sans Mono',consolas,'Courier New',monospace\">=========================\n",
       "</pre>\n"
      ],
      "text/plain": [
       "=========================\n"
      ]
     },
     "metadata": {},
     "output_type": "display_data"
    },
    {
     "data": {
      "text/html": [
       "<pre style=\"white-space:pre;overflow-x:auto;line-height:normal;font-family:Menlo,'DejaVu Sans Mono',consolas,'Courier New',monospace\">prev: There are a few places where the work is so interesting that this is concealed, because what other people \n",
       "want done happens to coincide with what you want to work on. But you only have to imagine what would happen if they\n",
       "diverged to see the underlying reality.\n",
       "breakpoint sentence: It's not so much that adults lie to kids about this as never explain it.\n",
       "dist: <span style=\"color: #008080; text-decoration-color: #008080; font-weight: bold\">0.7453981041908264</span>\n",
       "chunks count: <span style=\"color: #008080; text-decoration-color: #008080; font-weight: bold\">154</span>\n",
       "</pre>\n"
      ],
      "text/plain": [
       "prev: There are a few places where the work is so interesting that this is concealed, because what other people \n",
       "want done happens to coincide with what you want to work on. But you only have to imagine what would happen if they\n",
       "diverged to see the underlying reality.\n",
       "breakpoint sentence: It's not so much that adults lie to kids about this as never explain it.\n",
       "dist: \u001b[1;36m0.7453981041908264\u001b[0m\n",
       "chunks count: \u001b[1;36m154\u001b[0m\n"
      ]
     },
     "metadata": {},
     "output_type": "display_data"
    },
    {
     "data": {
      "text/html": [
       "<pre style=\"white-space:pre;overflow-x:auto;line-height:normal;font-family:Menlo,'DejaVu Sans Mono',consolas,'Courier New',monospace\">=========================\n",
       "</pre>\n"
      ],
      "text/plain": [
       "=========================\n"
      ]
     },
     "metadata": {},
     "output_type": "display_data"
    },
    {
     "data": {
      "text/html": [
       "<pre style=\"white-space:pre;overflow-x:auto;line-height:normal;font-family:Menlo,'DejaVu Sans Mono',consolas,'Courier New',monospace\">prev: It's not so much that adults lie to kids about this as never explain it. They never explain what the deal is \n",
       "with money.\n",
       "breakpoint sentence: You know from an early age that you'll have some sort of job, because everyone asks what \n",
       "you're going to <span style=\"color: #008000; text-decoration-color: #008000\">\"be\"</span> when you grow up.\n",
       "dist: <span style=\"color: #008080; text-decoration-color: #008080; font-weight: bold\">0.7485735416412354</span>\n",
       "chunks count: <span style=\"color: #008080; text-decoration-color: #008080; font-weight: bold\">155</span>\n",
       "</pre>\n"
      ],
      "text/plain": [
       "prev: It's not so much that adults lie to kids about this as never explain it. They never explain what the deal is \n",
       "with money.\n",
       "breakpoint sentence: You know from an early age that you'll have some sort of job, because everyone asks what \n",
       "you're going to \u001b[32m\"be\"\u001b[0m when you grow up.\n",
       "dist: \u001b[1;36m0.7485735416412354\u001b[0m\n",
       "chunks count: \u001b[1;36m155\u001b[0m\n"
      ]
     },
     "metadata": {},
     "output_type": "display_data"
    },
    {
     "data": {
      "text/html": [
       "<pre style=\"white-space:pre;overflow-x:auto;line-height:normal;font-family:Menlo,'DejaVu Sans Mono',consolas,'Courier New',monospace\">=========================\n",
       "</pre>\n"
      ],
      "text/plain": [
       "=========================\n"
      ]
     },
     "metadata": {},
     "output_type": "display_data"
    },
    {
     "data": {
      "text/html": [
       "<pre style=\"white-space:pre;overflow-x:auto;line-height:normal;font-family:Menlo,'DejaVu Sans Mono',consolas,'Courier New',monospace\">prev: You know from an early age that you'll have some sort of job, because everyone asks what you're going to <span style=\"color: #008000; text-decoration-color: #008000\">\"be\"</span>\n",
       "when you grow up. What they don't tell you is that as a kid you're sitting on the shoulders of someone else who's \n",
       "treading water, and that starting working means you get thrown into the water on your own, and have to start \n",
       "treading water yourself or sink.\n",
       "breakpoint sentence: <span style=\"color: #008000; text-decoration-color: #008000\">\"Being\"</span> something is incidental; the immediate problem is not to drown.\n",
       "dist: <span style=\"color: #008080; text-decoration-color: #008080; font-weight: bold\">0.7833990454673767</span>\n",
       "chunks count: <span style=\"color: #008080; text-decoration-color: #008080; font-weight: bold\">156</span>\n",
       "</pre>\n"
      ],
      "text/plain": [
       "prev: You know from an early age that you'll have some sort of job, because everyone asks what you're going to \u001b[32m\"be\"\u001b[0m\n",
       "when you grow up. What they don't tell you is that as a kid you're sitting on the shoulders of someone else who's \n",
       "treading water, and that starting working means you get thrown into the water on your own, and have to start \n",
       "treading water yourself or sink.\n",
       "breakpoint sentence: \u001b[32m\"Being\"\u001b[0m something is incidental; the immediate problem is not to drown.\n",
       "dist: \u001b[1;36m0.7833990454673767\u001b[0m\n",
       "chunks count: \u001b[1;36m156\u001b[0m\n"
      ]
     },
     "metadata": {},
     "output_type": "display_data"
    },
    {
     "data": {
      "text/html": [
       "<pre style=\"white-space:pre;overflow-x:auto;line-height:normal;font-family:Menlo,'DejaVu Sans Mono',consolas,'Courier New',monospace\">=========================\n",
       "</pre>\n"
      ],
      "text/plain": [
       "=========================\n"
      ]
     },
     "metadata": {},
     "output_type": "display_data"
    },
    {
     "data": {
      "text/html": [
       "<pre style=\"white-space:pre;overflow-x:auto;line-height:normal;font-family:Menlo,'DejaVu Sans Mono',consolas,'Courier New',monospace\">prev: <span style=\"color: #008000; text-decoration-color: #008000\">\"Being\"</span> something is incidental; the immediate problem is not to drown.\n",
       "breakpoint sentence: The relationship between work and money tends to dawn on you only gradually.\n",
       "dist: <span style=\"color: #008080; text-decoration-color: #008080; font-weight: bold\">0.6133859753608704</span>\n",
       "chunks count: <span style=\"color: #008080; text-decoration-color: #008080; font-weight: bold\">157</span>\n",
       "</pre>\n"
      ],
      "text/plain": [
       "prev: \u001b[32m\"Being\"\u001b[0m something is incidental; the immediate problem is not to drown.\n",
       "breakpoint sentence: The relationship between work and money tends to dawn on you only gradually.\n",
       "dist: \u001b[1;36m0.6133859753608704\u001b[0m\n",
       "chunks count: \u001b[1;36m157\u001b[0m\n"
      ]
     },
     "metadata": {},
     "output_type": "display_data"
    },
    {
     "data": {
      "text/html": [
       "<pre style=\"white-space:pre;overflow-x:auto;line-height:normal;font-family:Menlo,'DejaVu Sans Mono',consolas,'Courier New',monospace\">=========================\n",
       "</pre>\n"
      ],
      "text/plain": [
       "=========================\n"
      ]
     },
     "metadata": {},
     "output_type": "display_data"
    },
    {
     "data": {
      "text/html": [
       "<pre style=\"white-space:pre;overflow-x:auto;line-height:normal;font-family:Menlo,'DejaVu Sans Mono',consolas,'Courier New',monospace\">prev: The relationship between work and money tends to dawn on you only gradually. At least it did for me.\n",
       "breakpoint sentence: One's first thought tends to be simply \"This sucks.\n",
       "dist: <span style=\"color: #008080; text-decoration-color: #008080; font-weight: bold\">0.8112802505493164</span>\n",
       "chunks count: <span style=\"color: #008080; text-decoration-color: #008080; font-weight: bold\">158</span>\n",
       "</pre>\n"
      ],
      "text/plain": [
       "prev: The relationship between work and money tends to dawn on you only gradually. At least it did for me.\n",
       "breakpoint sentence: One's first thought tends to be simply \"This sucks.\n",
       "dist: \u001b[1;36m0.8112802505493164\u001b[0m\n",
       "chunks count: \u001b[1;36m158\u001b[0m\n"
      ]
     },
     "metadata": {},
     "output_type": "display_data"
    },
    {
     "data": {
      "text/html": [
       "<pre style=\"white-space:pre;overflow-x:auto;line-height:normal;font-family:Menlo,'DejaVu Sans Mono',consolas,'Courier New',monospace\">=========================\n",
       "</pre>\n"
      ],
      "text/plain": [
       "=========================\n"
      ]
     },
     "metadata": {},
     "output_type": "display_data"
    },
    {
     "data": {
      "text/html": [
       "<pre style=\"white-space:pre;overflow-x:auto;line-height:normal;font-family:Menlo,'DejaVu Sans Mono',consolas,'Courier New',monospace\">prev: One's first thought tends to be simply \"This sucks.\n",
       "breakpoint sentence: I'm in debt.\n",
       "dist: <span style=\"color: #008080; text-decoration-color: #008080; font-weight: bold\">0.745086133480072</span>\n",
       "chunks count: <span style=\"color: #008080; text-decoration-color: #008080; font-weight: bold\">159</span>\n",
       "</pre>\n"
      ],
      "text/plain": [
       "prev: One's first thought tends to be simply \"This sucks.\n",
       "breakpoint sentence: I'm in debt.\n",
       "dist: \u001b[1;36m0.745086133480072\u001b[0m\n",
       "chunks count: \u001b[1;36m159\u001b[0m\n"
      ]
     },
     "metadata": {},
     "output_type": "display_data"
    },
    {
     "data": {
      "text/html": [
       "<pre style=\"white-space:pre;overflow-x:auto;line-height:normal;font-family:Menlo,'DejaVu Sans Mono',consolas,'Courier New',monospace\">=========================\n",
       "</pre>\n"
      ],
      "text/plain": [
       "=========================\n"
      ]
     },
     "metadata": {},
     "output_type": "display_data"
    },
    {
     "data": {
      "text/html": [
       "<pre style=\"white-space:pre;overflow-x:auto;line-height:normal;font-family:Menlo,'DejaVu Sans Mono',consolas,'Courier New',monospace\">prev: I'm in debt.\n",
       "breakpoint sentence: Plus I have to get up on monday and go to work.\" Gradually you realize that these two things \n",
       "are as tightly connected as only a market can make them.\n",
       "dist: <span style=\"color: #008080; text-decoration-color: #008080; font-weight: bold\">0.6400487422943115</span>\n",
       "chunks count: <span style=\"color: #008080; text-decoration-color: #008080; font-weight: bold\">160</span>\n",
       "</pre>\n"
      ],
      "text/plain": [
       "prev: I'm in debt.\n",
       "breakpoint sentence: Plus I have to get up on monday and go to work.\" Gradually you realize that these two things \n",
       "are as tightly connected as only a market can make them.\n",
       "dist: \u001b[1;36m0.6400487422943115\u001b[0m\n",
       "chunks count: \u001b[1;36m160\u001b[0m\n"
      ]
     },
     "metadata": {},
     "output_type": "display_data"
    },
    {
     "data": {
      "text/html": [
       "<pre style=\"white-space:pre;overflow-x:auto;line-height:normal;font-family:Menlo,'DejaVu Sans Mono',consolas,'Courier New',monospace\">=========================\n",
       "</pre>\n"
      ],
      "text/plain": [
       "=========================\n"
      ]
     },
     "metadata": {},
     "output_type": "display_data"
    },
    {
     "data": {
      "text/html": [
       "<pre style=\"white-space:pre;overflow-x:auto;line-height:normal;font-family:Menlo,'DejaVu Sans Mono',consolas,'Courier New',monospace\">prev: Plus I have to get up on monday and go to work.\" Gradually you realize that these two things are as tightly \n",
       "connected as only a market can make them.\n",
       "breakpoint sentence: So the most important advantage <span style=\"color: #008080; text-decoration-color: #008080; font-weight: bold\">24</span> year old founders have over <span style=\"color: #008080; text-decoration-color: #008080; font-weight: bold\">20</span> year old founders is that \n",
       "they know what they're trying to avoid.\n",
       "dist: <span style=\"color: #008080; text-decoration-color: #008080; font-weight: bold\">0.44829294085502625</span>\n",
       "chunks count: <span style=\"color: #008080; text-decoration-color: #008080; font-weight: bold\">161</span>\n",
       "</pre>\n"
      ],
      "text/plain": [
       "prev: Plus I have to get up on monday and go to work.\" Gradually you realize that these two things are as tightly \n",
       "connected as only a market can make them.\n",
       "breakpoint sentence: So the most important advantage \u001b[1;36m24\u001b[0m year old founders have over \u001b[1;36m20\u001b[0m year old founders is that \n",
       "they know what they're trying to avoid.\n",
       "dist: \u001b[1;36m0.44829294085502625\u001b[0m\n",
       "chunks count: \u001b[1;36m161\u001b[0m\n"
      ]
     },
     "metadata": {},
     "output_type": "display_data"
    },
    {
     "data": {
      "text/html": [
       "<pre style=\"white-space:pre;overflow-x:auto;line-height:normal;font-family:Menlo,'DejaVu Sans Mono',consolas,'Courier New',monospace\">=========================\n",
       "</pre>\n"
      ],
      "text/plain": [
       "=========================\n"
      ]
     },
     "metadata": {},
     "output_type": "display_data"
    },
    {
     "data": {
      "text/html": [
       "<pre style=\"white-space:pre;overflow-x:auto;line-height:normal;font-family:Menlo,'DejaVu Sans Mono',consolas,'Courier New',monospace\">prev: So the most important advantage <span style=\"color: #008080; text-decoration-color: #008080; font-weight: bold\">24</span> year old founders have over <span style=\"color: #008080; text-decoration-color: #008080; font-weight: bold\">20</span> year old founders is that they know what \n",
       "they're trying to avoid. To the average undergrad the idea of getting rich translates into buying Ferraris, or \n",
       "being admired.\n",
       "breakpoint sentence: To someone who has learned from experience about the relationship between money and work, it \n",
       "translates to something way more important: it means you get to opt out of the brutal equation that governs the \n",
       "lives of <span style=\"color: #008080; text-decoration-color: #008080; font-weight: bold\">99.9</span>% of people.\n",
       "dist: <span style=\"color: #008080; text-decoration-color: #008080; font-weight: bold\">0.8291739225387573</span>\n",
       "chunks count: <span style=\"color: #008080; text-decoration-color: #008080; font-weight: bold\">162</span>\n",
       "</pre>\n"
      ],
      "text/plain": [
       "prev: So the most important advantage \u001b[1;36m24\u001b[0m year old founders have over \u001b[1;36m20\u001b[0m year old founders is that they know what \n",
       "they're trying to avoid. To the average undergrad the idea of getting rich translates into buying Ferraris, or \n",
       "being admired.\n",
       "breakpoint sentence: To someone who has learned from experience about the relationship between money and work, it \n",
       "translates to something way more important: it means you get to opt out of the brutal equation that governs the \n",
       "lives of \u001b[1;36m99.9\u001b[0m% of people.\n",
       "dist: \u001b[1;36m0.8291739225387573\u001b[0m\n",
       "chunks count: \u001b[1;36m162\u001b[0m\n"
      ]
     },
     "metadata": {},
     "output_type": "display_data"
    },
    {
     "data": {
      "text/html": [
       "<pre style=\"white-space:pre;overflow-x:auto;line-height:normal;font-family:Menlo,'DejaVu Sans Mono',consolas,'Courier New',monospace\">=========================\n",
       "</pre>\n"
      ],
      "text/plain": [
       "=========================\n"
      ]
     },
     "metadata": {},
     "output_type": "display_data"
    },
    {
     "data": {
      "text/html": [
       "<pre style=\"white-space:pre;overflow-x:auto;line-height:normal;font-family:Menlo,'DejaVu Sans Mono',consolas,'Courier New',monospace\">prev: To someone who has learned from experience about the relationship between money and work, it translates to \n",
       "something way more important: it means you get to opt out of the brutal equation that governs the lives of <span style=\"color: #008080; text-decoration-color: #008080; font-weight: bold\">99.9</span>% of\n",
       "people.\n",
       "breakpoint sentence: Getting rich means you can stop treading water.\n",
       "dist: <span style=\"color: #008080; text-decoration-color: #008080; font-weight: bold\">0.7931687831878662</span>\n",
       "chunks count: <span style=\"color: #008080; text-decoration-color: #008080; font-weight: bold\">163</span>\n",
       "</pre>\n"
      ],
      "text/plain": [
       "prev: To someone who has learned from experience about the relationship between money and work, it translates to \n",
       "something way more important: it means you get to opt out of the brutal equation that governs the lives of \u001b[1;36m99.9\u001b[0m% of\n",
       "people.\n",
       "breakpoint sentence: Getting rich means you can stop treading water.\n",
       "dist: \u001b[1;36m0.7931687831878662\u001b[0m\n",
       "chunks count: \u001b[1;36m163\u001b[0m\n"
      ]
     },
     "metadata": {},
     "output_type": "display_data"
    },
    {
     "data": {
      "text/html": [
       "<pre style=\"white-space:pre;overflow-x:auto;line-height:normal;font-family:Menlo,'DejaVu Sans Mono',consolas,'Courier New',monospace\">=========================\n",
       "</pre>\n"
      ],
      "text/plain": [
       "=========================\n"
      ]
     },
     "metadata": {},
     "output_type": "display_data"
    },
    {
     "data": {
      "text/html": [
       "<pre style=\"white-space:pre;overflow-x:auto;line-height:normal;font-family:Menlo,'DejaVu Sans Mono',consolas,'Courier New',monospace\">prev: Getting rich means you can stop treading water.\n",
       "breakpoint sentence: Someone who gets this will work much harder at making a startup succeed—with the proverbial \n",
       "energy of a drowning man, in fact.\n",
       "dist: <span style=\"color: #008080; text-decoration-color: #008080; font-weight: bold\">0.7434133887290955</span>\n",
       "chunks count: <span style=\"color: #008080; text-decoration-color: #008080; font-weight: bold\">164</span>\n",
       "</pre>\n"
      ],
      "text/plain": [
       "prev: Getting rich means you can stop treading water.\n",
       "breakpoint sentence: Someone who gets this will work much harder at making a startup succeed—with the proverbial \n",
       "energy of a drowning man, in fact.\n",
       "dist: \u001b[1;36m0.7434133887290955\u001b[0m\n",
       "chunks count: \u001b[1;36m164\u001b[0m\n"
      ]
     },
     "metadata": {},
     "output_type": "display_data"
    },
    {
     "data": {
      "text/html": [
       "<pre style=\"white-space:pre;overflow-x:auto;line-height:normal;font-family:Menlo,'DejaVu Sans Mono',consolas,'Courier New',monospace\">=========================\n",
       "</pre>\n"
      ],
      "text/plain": [
       "=========================\n"
      ]
     },
     "metadata": {},
     "output_type": "display_data"
    },
    {
     "data": {
      "text/html": [
       "<pre style=\"white-space:pre;overflow-x:auto;line-height:normal;font-family:Menlo,'DejaVu Sans Mono',consolas,'Courier New',monospace\">prev: Someone who gets this will work much harder at making a startup succeed—with the proverbial energy of a \n",
       "drowning man, in fact.\n",
       "breakpoint sentence: But understanding the relationship between money and work also changes the way you work.\n",
       "dist: <span style=\"color: #008080; text-decoration-color: #008080; font-weight: bold\">0.8046336770057678</span>\n",
       "chunks count: <span style=\"color: #008080; text-decoration-color: #008080; font-weight: bold\">165</span>\n",
       "</pre>\n"
      ],
      "text/plain": [
       "prev: Someone who gets this will work much harder at making a startup succeed—with the proverbial energy of a \n",
       "drowning man, in fact.\n",
       "breakpoint sentence: But understanding the relationship between money and work also changes the way you work.\n",
       "dist: \u001b[1;36m0.8046336770057678\u001b[0m\n",
       "chunks count: \u001b[1;36m165\u001b[0m\n"
      ]
     },
     "metadata": {},
     "output_type": "display_data"
    },
    {
     "data": {
      "text/html": [
       "<pre style=\"white-space:pre;overflow-x:auto;line-height:normal;font-family:Menlo,'DejaVu Sans Mono',consolas,'Courier New',monospace\">=========================\n",
       "</pre>\n"
      ],
      "text/plain": [
       "=========================\n"
      ]
     },
     "metadata": {},
     "output_type": "display_data"
    },
    {
     "data": {
      "text/html": [
       "<pre style=\"white-space:pre;overflow-x:auto;line-height:normal;font-family:Menlo,'DejaVu Sans Mono',consolas,'Courier New',monospace\">prev: But understanding the relationship between money and work also changes the way you work. You don't get money \n",
       "just for working, but for doing things other people want. Someone who's figured that out will automatically focus \n",
       "more on the user.\n",
       "breakpoint sentence: And that cures the other half of the class-project syndrome.\n",
       "dist: <span style=\"color: #008080; text-decoration-color: #008080; font-weight: bold\">0.7842650413513184</span>\n",
       "chunks count: <span style=\"color: #008080; text-decoration-color: #008080; font-weight: bold\">166</span>\n",
       "</pre>\n"
      ],
      "text/plain": [
       "prev: But understanding the relationship between money and work also changes the way you work. You don't get money \n",
       "just for working, but for doing things other people want. Someone who's figured that out will automatically focus \n",
       "more on the user.\n",
       "breakpoint sentence: And that cures the other half of the class-project syndrome.\n",
       "dist: \u001b[1;36m0.7842650413513184\u001b[0m\n",
       "chunks count: \u001b[1;36m166\u001b[0m\n"
      ]
     },
     "metadata": {},
     "output_type": "display_data"
    },
    {
     "data": {
      "text/html": [
       "<pre style=\"white-space:pre;overflow-x:auto;line-height:normal;font-family:Menlo,'DejaVu Sans Mono',consolas,'Courier New',monospace\">=========================\n",
       "</pre>\n"
      ],
      "text/plain": [
       "=========================\n"
      ]
     },
     "metadata": {},
     "output_type": "display_data"
    },
    {
     "data": {
      "text/html": [
       "<pre style=\"white-space:pre;overflow-x:auto;line-height:normal;font-family:Menlo,'DejaVu Sans Mono',consolas,'Courier New',monospace\">prev: And that cures the other half of the class-project syndrome.\n",
       "breakpoint sentence: After you've been working for a while, you yourself tend to measure what you've done the same \n",
       "way the market does.\n",
       "dist: <span style=\"color: #008080; text-decoration-color: #008080; font-weight: bold\">0.7468449473381042</span>\n",
       "chunks count: <span style=\"color: #008080; text-decoration-color: #008080; font-weight: bold\">167</span>\n",
       "</pre>\n"
      ],
      "text/plain": [
       "prev: And that cures the other half of the class-project syndrome.\n",
       "breakpoint sentence: After you've been working for a while, you yourself tend to measure what you've done the same \n",
       "way the market does.\n",
       "dist: \u001b[1;36m0.7468449473381042\u001b[0m\n",
       "chunks count: \u001b[1;36m167\u001b[0m\n"
      ]
     },
     "metadata": {},
     "output_type": "display_data"
    },
    {
     "data": {
      "text/html": [
       "<pre style=\"white-space:pre;overflow-x:auto;line-height:normal;font-family:Menlo,'DejaVu Sans Mono',consolas,'Courier New',monospace\">=========================\n",
       "</pre>\n"
      ],
      "text/plain": [
       "=========================\n"
      ]
     },
     "metadata": {},
     "output_type": "display_data"
    },
    {
     "data": {
      "text/html": [
       "<pre style=\"white-space:pre;overflow-x:auto;line-height:normal;font-family:Menlo,'DejaVu Sans Mono',consolas,'Courier New',monospace\">prev: After you've been working for a while, you yourself tend to measure what you've done the same way the market \n",
       "does. Of course, you don't have to spend years working to learn this stuff. If you're sufficiently perceptive you \n",
       "can grasp these things while you're still in school. Sam Altman did.\n",
       "breakpoint sentence: He must have, because Loopt is no class project.\n",
       "dist: <span style=\"color: #008080; text-decoration-color: #008080; font-weight: bold\">0.7909185290336609</span>\n",
       "chunks count: <span style=\"color: #008080; text-decoration-color: #008080; font-weight: bold\">168</span>\n",
       "</pre>\n"
      ],
      "text/plain": [
       "prev: After you've been working for a while, you yourself tend to measure what you've done the same way the market \n",
       "does. Of course, you don't have to spend years working to learn this stuff. If you're sufficiently perceptive you \n",
       "can grasp these things while you're still in school. Sam Altman did.\n",
       "breakpoint sentence: He must have, because Loopt is no class project.\n",
       "dist: \u001b[1;36m0.7909185290336609\u001b[0m\n",
       "chunks count: \u001b[1;36m168\u001b[0m\n"
      ]
     },
     "metadata": {},
     "output_type": "display_data"
    },
    {
     "data": {
      "text/html": [
       "<pre style=\"white-space:pre;overflow-x:auto;line-height:normal;font-family:Menlo,'DejaVu Sans Mono',consolas,'Courier New',monospace\">=========================\n",
       "</pre>\n"
      ],
      "text/plain": [
       "=========================\n"
      ]
     },
     "metadata": {},
     "output_type": "display_data"
    },
    {
     "data": {
      "text/html": [
       "<pre style=\"white-space:pre;overflow-x:auto;line-height:normal;font-family:Menlo,'DejaVu Sans Mono',consolas,'Courier New',monospace\">prev: He must have, because Loopt is no class project. And as his example suggests, this can be valuable knowledge.\n",
       "breakpoint sentence: At a minimum, if you get this stuff, you already have most of what you gain from the <span style=\"color: #008000; text-decoration-color: #008000\">\"work </span>\n",
       "<span style=\"color: #008000; text-decoration-color: #008000\">experience\"</span> employers consider so desirable.\n",
       "dist: <span style=\"color: #008080; text-decoration-color: #008080; font-weight: bold\">0.810530960559845</span>\n",
       "chunks count: <span style=\"color: #008080; text-decoration-color: #008080; font-weight: bold\">169</span>\n",
       "</pre>\n"
      ],
      "text/plain": [
       "prev: He must have, because Loopt is no class project. And as his example suggests, this can be valuable knowledge.\n",
       "breakpoint sentence: At a minimum, if you get this stuff, you already have most of what you gain from the \u001b[32m\"work \u001b[0m\n",
       "\u001b[32mexperience\"\u001b[0m employers consider so desirable.\n",
       "dist: \u001b[1;36m0.810530960559845\u001b[0m\n",
       "chunks count: \u001b[1;36m169\u001b[0m\n"
      ]
     },
     "metadata": {},
     "output_type": "display_data"
    },
    {
     "data": {
      "text/html": [
       "<pre style=\"white-space:pre;overflow-x:auto;line-height:normal;font-family:Menlo,'DejaVu Sans Mono',consolas,'Courier New',monospace\">=========================\n",
       "</pre>\n"
      ],
      "text/plain": [
       "=========================\n"
      ]
     },
     "metadata": {},
     "output_type": "display_data"
    },
    {
     "data": {
      "text/html": [
       "<pre style=\"white-space:pre;overflow-x:auto;line-height:normal;font-family:Menlo,'DejaVu Sans Mono',consolas,'Courier New',monospace\">prev: At a minimum, if you get this stuff, you already have most of what you gain from the <span style=\"color: #008000; text-decoration-color: #008000\">\"work experience\"</span> \n",
       "employers consider so desirable. But of course if you really get it, you can use this information in a way that's \n",
       "more valuable to you than that.\n",
       "breakpoint sentence: Now\n",
       "\n",
       "So suppose you think you might start a startup at some point, either when you graduate or a few years after.\n",
       "dist: <span style=\"color: #008080; text-decoration-color: #008080; font-weight: bold\">0.817395031452179</span>\n",
       "chunks count: <span style=\"color: #008080; text-decoration-color: #008080; font-weight: bold\">170</span>\n",
       "</pre>\n"
      ],
      "text/plain": [
       "prev: At a minimum, if you get this stuff, you already have most of what you gain from the \u001b[32m\"work experience\"\u001b[0m \n",
       "employers consider so desirable. But of course if you really get it, you can use this information in a way that's \n",
       "more valuable to you than that.\n",
       "breakpoint sentence: Now\n",
       "\n",
       "So suppose you think you might start a startup at some point, either when you graduate or a few years after.\n",
       "dist: \u001b[1;36m0.817395031452179\u001b[0m\n",
       "chunks count: \u001b[1;36m170\u001b[0m\n"
      ]
     },
     "metadata": {},
     "output_type": "display_data"
    },
    {
     "data": {
      "text/html": [
       "<pre style=\"white-space:pre;overflow-x:auto;line-height:normal;font-family:Menlo,'DejaVu Sans Mono',consolas,'Courier New',monospace\">=========================\n",
       "</pre>\n"
      ],
      "text/plain": [
       "=========================\n"
      ]
     },
     "metadata": {},
     "output_type": "display_data"
    },
    {
     "data": {
      "text/html": [
       "<pre style=\"white-space:pre;overflow-x:auto;line-height:normal;font-family:Menlo,'DejaVu Sans Mono',consolas,'Courier New',monospace\">prev: Now\n",
       "\n",
       "So suppose you think you might start a startup at some point, either when you graduate or a few years after.\n",
       "breakpoint sentence: What should you do now?\n",
       "dist: <span style=\"color: #008080; text-decoration-color: #008080; font-weight: bold\">0.8455073237419128</span>\n",
       "chunks count: <span style=\"color: #008080; text-decoration-color: #008080; font-weight: bold\">171</span>\n",
       "</pre>\n"
      ],
      "text/plain": [
       "prev: Now\n",
       "\n",
       "So suppose you think you might start a startup at some point, either when you graduate or a few years after.\n",
       "breakpoint sentence: What should you do now?\n",
       "dist: \u001b[1;36m0.8455073237419128\u001b[0m\n",
       "chunks count: \u001b[1;36m171\u001b[0m\n"
      ]
     },
     "metadata": {},
     "output_type": "display_data"
    },
    {
     "data": {
      "text/html": [
       "<pre style=\"white-space:pre;overflow-x:auto;line-height:normal;font-family:Menlo,'DejaVu Sans Mono',consolas,'Courier New',monospace\">=========================\n",
       "</pre>\n"
      ],
      "text/plain": [
       "=========================\n"
      ]
     },
     "metadata": {},
     "output_type": "display_data"
    },
    {
     "data": {
      "text/html": [
       "<pre style=\"white-space:pre;overflow-x:auto;line-height:normal;font-family:Menlo,'DejaVu Sans Mono',consolas,'Courier New',monospace\">prev: What should you do now?\n",
       "breakpoint sentence: For both jobs and grad school, there are ways to prepare while you're in college.\n",
       "dist: <span style=\"color: #008080; text-decoration-color: #008080; font-weight: bold\">0.3700791895389557</span>\n",
       "chunks count: <span style=\"color: #008080; text-decoration-color: #008080; font-weight: bold\">172</span>\n",
       "</pre>\n"
      ],
      "text/plain": [
       "prev: What should you do now?\n",
       "breakpoint sentence: For both jobs and grad school, there are ways to prepare while you're in college.\n",
       "dist: \u001b[1;36m0.3700791895389557\u001b[0m\n",
       "chunks count: \u001b[1;36m172\u001b[0m\n"
      ]
     },
     "metadata": {},
     "output_type": "display_data"
    },
    {
     "data": {
      "text/html": [
       "<pre style=\"white-space:pre;overflow-x:auto;line-height:normal;font-family:Menlo,'DejaVu Sans Mono',consolas,'Courier New',monospace\">=========================\n",
       "</pre>\n"
      ],
      "text/plain": [
       "=========================\n"
      ]
     },
     "metadata": {},
     "output_type": "display_data"
    },
    {
     "data": {
      "text/html": [
       "<pre style=\"white-space:pre;overflow-x:auto;line-height:normal;font-family:Menlo,'DejaVu Sans Mono',consolas,'Courier New',monospace\">prev: For both jobs and grad school, there are ways to prepare while you're in college.\n",
       "breakpoint sentence: If you want to get a job when you graduate, you should get summer jobs at places you'd like to\n",
       "work.\n",
       "dist: <span style=\"color: #008080; text-decoration-color: #008080; font-weight: bold\">0.8047561049461365</span>\n",
       "chunks count: <span style=\"color: #008080; text-decoration-color: #008080; font-weight: bold\">173</span>\n",
       "</pre>\n"
      ],
      "text/plain": [
       "prev: For both jobs and grad school, there are ways to prepare while you're in college.\n",
       "breakpoint sentence: If you want to get a job when you graduate, you should get summer jobs at places you'd like to\n",
       "work.\n",
       "dist: \u001b[1;36m0.8047561049461365\u001b[0m\n",
       "chunks count: \u001b[1;36m173\u001b[0m\n"
      ]
     },
     "metadata": {},
     "output_type": "display_data"
    },
    {
     "data": {
      "text/html": [
       "<pre style=\"white-space:pre;overflow-x:auto;line-height:normal;font-family:Menlo,'DejaVu Sans Mono',consolas,'Courier New',monospace\">=========================\n",
       "</pre>\n"
      ],
      "text/plain": [
       "=========================\n"
      ]
     },
     "metadata": {},
     "output_type": "display_data"
    },
    {
     "data": {
      "text/html": [
       "<pre style=\"white-space:pre;overflow-x:auto;line-height:normal;font-family:Menlo,'DejaVu Sans Mono',consolas,'Courier New',monospace\">prev: If you want to get a job when you graduate, you should get summer jobs at places you'd like to work. If you \n",
       "want to go to grad school, it will help to work on research projects as an undergrad.\n",
       "breakpoint sentence: What's the equivalent for startups?\n",
       "dist: <span style=\"color: #008080; text-decoration-color: #008080; font-weight: bold\">0.4870176911354065</span>\n",
       "chunks count: <span style=\"color: #008080; text-decoration-color: #008080; font-weight: bold\">174</span>\n",
       "</pre>\n"
      ],
      "text/plain": [
       "prev: If you want to get a job when you graduate, you should get summer jobs at places you'd like to work. If you \n",
       "want to go to grad school, it will help to work on research projects as an undergrad.\n",
       "breakpoint sentence: What's the equivalent for startups?\n",
       "dist: \u001b[1;36m0.4870176911354065\u001b[0m\n",
       "chunks count: \u001b[1;36m174\u001b[0m\n"
      ]
     },
     "metadata": {},
     "output_type": "display_data"
    },
    {
     "data": {
      "text/html": [
       "<pre style=\"white-space:pre;overflow-x:auto;line-height:normal;font-family:Menlo,'DejaVu Sans Mono',consolas,'Courier New',monospace\">=========================\n",
       "</pre>\n"
      ],
      "text/plain": [
       "=========================\n"
      ]
     },
     "metadata": {},
     "output_type": "display_data"
    },
    {
     "data": {
      "text/html": [
       "<pre style=\"white-space:pre;overflow-x:auto;line-height:normal;font-family:Menlo,'DejaVu Sans Mono',consolas,'Courier New',monospace\">prev: What's the equivalent for startups?\n",
       "breakpoint sentence: How do you keep your options maximally open?\n",
       "dist: <span style=\"color: #008080; text-decoration-color: #008080; font-weight: bold\">0.7833868861198425</span>\n",
       "chunks count: <span style=\"color: #008080; text-decoration-color: #008080; font-weight: bold\">175</span>\n",
       "</pre>\n"
      ],
      "text/plain": [
       "prev: What's the equivalent for startups?\n",
       "breakpoint sentence: How do you keep your options maximally open?\n",
       "dist: \u001b[1;36m0.7833868861198425\u001b[0m\n",
       "chunks count: \u001b[1;36m175\u001b[0m\n"
      ]
     },
     "metadata": {},
     "output_type": "display_data"
    },
    {
     "data": {
      "text/html": [
       "<pre style=\"white-space:pre;overflow-x:auto;line-height:normal;font-family:Menlo,'DejaVu Sans Mono',consolas,'Courier New',monospace\">=========================\n",
       "</pre>\n"
      ],
      "text/plain": [
       "=========================\n"
      ]
     },
     "metadata": {},
     "output_type": "display_data"
    },
    {
     "data": {
      "text/html": [
       "<pre style=\"white-space:pre;overflow-x:auto;line-height:normal;font-family:Menlo,'DejaVu Sans Mono',consolas,'Courier New',monospace\">prev: How do you keep your options maximally open?\n",
       "breakpoint sentence: One thing you can do while you're still in school is to learn how startups work.\n",
       "dist: <span style=\"color: #008080; text-decoration-color: #008080; font-weight: bold\">0.5566234588623047</span>\n",
       "chunks count: <span style=\"color: #008080; text-decoration-color: #008080; font-weight: bold\">176</span>\n",
       "</pre>\n"
      ],
      "text/plain": [
       "prev: How do you keep your options maximally open?\n",
       "breakpoint sentence: One thing you can do while you're still in school is to learn how startups work.\n",
       "dist: \u001b[1;36m0.5566234588623047\u001b[0m\n",
       "chunks count: \u001b[1;36m176\u001b[0m\n"
      ]
     },
     "metadata": {},
     "output_type": "display_data"
    },
    {
     "data": {
      "text/html": [
       "<pre style=\"white-space:pre;overflow-x:auto;line-height:normal;font-family:Menlo,'DejaVu Sans Mono',consolas,'Courier New',monospace\">=========================\n",
       "</pre>\n"
      ],
      "text/plain": [
       "=========================\n"
      ]
     },
     "metadata": {},
     "output_type": "display_data"
    },
    {
     "data": {
      "text/html": [
       "<pre style=\"white-space:pre;overflow-x:auto;line-height:normal;font-family:Menlo,'DejaVu Sans Mono',consolas,'Courier New',monospace\">prev: One thing you can do while you're still in school is to learn how startups work. Unfortunately that's not \n",
       "easy. Few if any colleges have classes about startups.\n",
       "breakpoint sentence: There may be business school classes on entrepreneurship, as they call it over there, but \n",
       "these are likely to be a waste of time.\n",
       "dist: <span style=\"color: #008080; text-decoration-color: #008080; font-weight: bold\">0.7814672589302063</span>\n",
       "chunks count: <span style=\"color: #008080; text-decoration-color: #008080; font-weight: bold\">177</span>\n",
       "</pre>\n"
      ],
      "text/plain": [
       "prev: One thing you can do while you're still in school is to learn how startups work. Unfortunately that's not \n",
       "easy. Few if any colleges have classes about startups.\n",
       "breakpoint sentence: There may be business school classes on entrepreneurship, as they call it over there, but \n",
       "these are likely to be a waste of time.\n",
       "dist: \u001b[1;36m0.7814672589302063\u001b[0m\n",
       "chunks count: \u001b[1;36m177\u001b[0m\n"
      ]
     },
     "metadata": {},
     "output_type": "display_data"
    },
    {
     "data": {
      "text/html": [
       "<pre style=\"white-space:pre;overflow-x:auto;line-height:normal;font-family:Menlo,'DejaVu Sans Mono',consolas,'Courier New',monospace\">=========================\n",
       "</pre>\n"
      ],
      "text/plain": [
       "=========================\n"
      ]
     },
     "metadata": {},
     "output_type": "display_data"
    },
    {
     "data": {
      "text/html": [
       "<pre style=\"white-space:pre;overflow-x:auto;line-height:normal;font-family:Menlo,'DejaVu Sans Mono',consolas,'Courier New',monospace\">prev: There may be business school classes on entrepreneurship, as they call it over there, but these are likely to\n",
       "be a waste of time. Business schools like to talk about startups, but philosophically they're at the opposite end \n",
       "of the spectrum. Most books on startups also seem to be useless. I've looked at a few and none get it right.\n",
       "breakpoint sentence: Books in most fields are written by people who know the subject from experience, but for \n",
       "startups there's a unique problem: by definition the founders of successful startups don't need to write books to \n",
       "make money.\n",
       "dist: <span style=\"color: #008080; text-decoration-color: #008080; font-weight: bold\">0.7836253643035889</span>\n",
       "chunks count: <span style=\"color: #008080; text-decoration-color: #008080; font-weight: bold\">178</span>\n",
       "</pre>\n"
      ],
      "text/plain": [
       "prev: There may be business school classes on entrepreneurship, as they call it over there, but these are likely to\n",
       "be a waste of time. Business schools like to talk about startups, but philosophically they're at the opposite end \n",
       "of the spectrum. Most books on startups also seem to be useless. I've looked at a few and none get it right.\n",
       "breakpoint sentence: Books in most fields are written by people who know the subject from experience, but for \n",
       "startups there's a unique problem: by definition the founders of successful startups don't need to write books to \n",
       "make money.\n",
       "dist: \u001b[1;36m0.7836253643035889\u001b[0m\n",
       "chunks count: \u001b[1;36m178\u001b[0m\n"
      ]
     },
     "metadata": {},
     "output_type": "display_data"
    },
    {
     "data": {
      "text/html": [
       "<pre style=\"white-space:pre;overflow-x:auto;line-height:normal;font-family:Menlo,'DejaVu Sans Mono',consolas,'Courier New',monospace\">=========================\n",
       "</pre>\n"
      ],
      "text/plain": [
       "=========================\n"
      ]
     },
     "metadata": {},
     "output_type": "display_data"
    },
    {
     "data": {
      "text/html": [
       "<pre style=\"white-space:pre;overflow-x:auto;line-height:normal;font-family:Menlo,'DejaVu Sans Mono',consolas,'Courier New',monospace\">prev: Books in most fields are written by people who know the subject from experience, but for startups there's a \n",
       "unique problem: by definition the founders of successful startups don't need to write books to make money. As a \n",
       "result most books on the subject end up being written by people who don't understand it.\n",
       "breakpoint sentence: So I'd be skeptical of classes and books.\n",
       "dist: <span style=\"color: #008080; text-decoration-color: #008080; font-weight: bold\">0.7862911224365234</span>\n",
       "chunks count: <span style=\"color: #008080; text-decoration-color: #008080; font-weight: bold\">179</span>\n",
       "</pre>\n"
      ],
      "text/plain": [
       "prev: Books in most fields are written by people who know the subject from experience, but for startups there's a \n",
       "unique problem: by definition the founders of successful startups don't need to write books to make money. As a \n",
       "result most books on the subject end up being written by people who don't understand it.\n",
       "breakpoint sentence: So I'd be skeptical of classes and books.\n",
       "dist: \u001b[1;36m0.7862911224365234\u001b[0m\n",
       "chunks count: \u001b[1;36m179\u001b[0m\n"
      ]
     },
     "metadata": {},
     "output_type": "display_data"
    },
    {
     "data": {
      "text/html": [
       "<pre style=\"white-space:pre;overflow-x:auto;line-height:normal;font-family:Menlo,'DejaVu Sans Mono',consolas,'Courier New',monospace\">=========================\n",
       "</pre>\n"
      ],
      "text/plain": [
       "=========================\n"
      ]
     },
     "metadata": {},
     "output_type": "display_data"
    },
    {
     "data": {
      "text/html": [
       "<pre style=\"white-space:pre;overflow-x:auto;line-height:normal;font-family:Menlo,'DejaVu Sans Mono',consolas,'Courier New',monospace\">prev: So I'd be skeptical of classes and books.\n",
       "breakpoint sentence: The way to learn about startups is by watching them in action, preferably by working at one.\n",
       "dist: <span style=\"color: #008080; text-decoration-color: #008080; font-weight: bold\">0.37336301803588867</span>\n",
       "chunks count: <span style=\"color: #008080; text-decoration-color: #008080; font-weight: bold\">180</span>\n",
       "</pre>\n"
      ],
      "text/plain": [
       "prev: So I'd be skeptical of classes and books.\n",
       "breakpoint sentence: The way to learn about startups is by watching them in action, preferably by working at one.\n",
       "dist: \u001b[1;36m0.37336301803588867\u001b[0m\n",
       "chunks count: \u001b[1;36m180\u001b[0m\n"
      ]
     },
     "metadata": {},
     "output_type": "display_data"
    },
    {
     "data": {
      "text/html": [
       "<pre style=\"white-space:pre;overflow-x:auto;line-height:normal;font-family:Menlo,'DejaVu Sans Mono',consolas,'Courier New',monospace\">=========================\n",
       "</pre>\n"
      ],
      "text/plain": [
       "=========================\n"
      ]
     },
     "metadata": {},
     "output_type": "display_data"
    },
    {
     "data": {
      "text/html": [
       "<pre style=\"white-space:pre;overflow-x:auto;line-height:normal;font-family:Menlo,'DejaVu Sans Mono',consolas,'Courier New',monospace\">prev: The way to learn about startups is by watching them in action, preferably by working at one. How do you do \n",
       "that as an undergrad? Probably by sneaking in through the back door. Just hang around a lot and gradually start \n",
       "doing things for them.\n",
       "breakpoint sentence: Most startups are <span style=\"font-weight: bold\">(</span>or should be<span style=\"font-weight: bold\">)</span> very cautious about hiring.\n",
       "dist: <span style=\"color: #008080; text-decoration-color: #008080; font-weight: bold\">0.8445152044296265</span>\n",
       "chunks count: <span style=\"color: #008080; text-decoration-color: #008080; font-weight: bold\">181</span>\n",
       "</pre>\n"
      ],
      "text/plain": [
       "prev: The way to learn about startups is by watching them in action, preferably by working at one. How do you do \n",
       "that as an undergrad? Probably by sneaking in through the back door. Just hang around a lot and gradually start \n",
       "doing things for them.\n",
       "breakpoint sentence: Most startups are \u001b[1m(\u001b[0mor should be\u001b[1m)\u001b[0m very cautious about hiring.\n",
       "dist: \u001b[1;36m0.8445152044296265\u001b[0m\n",
       "chunks count: \u001b[1;36m181\u001b[0m\n"
      ]
     },
     "metadata": {},
     "output_type": "display_data"
    },
    {
     "data": {
      "text/html": [
       "<pre style=\"white-space:pre;overflow-x:auto;line-height:normal;font-family:Menlo,'DejaVu Sans Mono',consolas,'Courier New',monospace\">=========================\n",
       "</pre>\n"
      ],
      "text/plain": [
       "=========================\n"
      ]
     },
     "metadata": {},
     "output_type": "display_data"
    },
    {
     "data": {
      "text/html": [
       "<pre style=\"white-space:pre;overflow-x:auto;line-height:normal;font-family:Menlo,'DejaVu Sans Mono',consolas,'Courier New',monospace\">prev: Most startups are <span style=\"font-weight: bold\">(</span>or should be<span style=\"font-weight: bold\">)</span> very cautious about hiring. Every hire increases the burn rate, and bad \n",
       "hires early on are hard to recover from.\n",
       "breakpoint sentence: However, startups usually have a fairly informal atmosphere, and there's always a lot that \n",
       "needs to be done.\n",
       "dist: <span style=\"color: #008080; text-decoration-color: #008080; font-weight: bold\">0.8274738192558289</span>\n",
       "chunks count: <span style=\"color: #008080; text-decoration-color: #008080; font-weight: bold\">182</span>\n",
       "</pre>\n"
      ],
      "text/plain": [
       "prev: Most startups are \u001b[1m(\u001b[0mor should be\u001b[1m)\u001b[0m very cautious about hiring. Every hire increases the burn rate, and bad \n",
       "hires early on are hard to recover from.\n",
       "breakpoint sentence: However, startups usually have a fairly informal atmosphere, and there's always a lot that \n",
       "needs to be done.\n",
       "dist: \u001b[1;36m0.8274738192558289\u001b[0m\n",
       "chunks count: \u001b[1;36m182\u001b[0m\n"
      ]
     },
     "metadata": {},
     "output_type": "display_data"
    },
    {
     "data": {
      "text/html": [
       "<pre style=\"white-space:pre;overflow-x:auto;line-height:normal;font-family:Menlo,'DejaVu Sans Mono',consolas,'Courier New',monospace\">=========================\n",
       "</pre>\n"
      ],
      "text/plain": [
       "=========================\n"
      ]
     },
     "metadata": {},
     "output_type": "display_data"
    },
    {
     "data": {
      "text/html": [
       "<pre style=\"white-space:pre;overflow-x:auto;line-height:normal;font-family:Menlo,'DejaVu Sans Mono',consolas,'Courier New',monospace\">prev: However, startups usually have a fairly informal atmosphere, and there's always a lot that needs to be done.\n",
       "breakpoint sentence: If you just start doing stuff for them, many will be too busy to shoo you away.\n",
       "dist: <span style=\"color: #008080; text-decoration-color: #008080; font-weight: bold\">0.7951385378837585</span>\n",
       "chunks count: <span style=\"color: #008080; text-decoration-color: #008080; font-weight: bold\">183</span>\n",
       "</pre>\n"
      ],
      "text/plain": [
       "prev: However, startups usually have a fairly informal atmosphere, and there's always a lot that needs to be done.\n",
       "breakpoint sentence: If you just start doing stuff for them, many will be too busy to shoo you away.\n",
       "dist: \u001b[1;36m0.7951385378837585\u001b[0m\n",
       "chunks count: \u001b[1;36m183\u001b[0m\n"
      ]
     },
     "metadata": {},
     "output_type": "display_data"
    },
    {
     "data": {
      "text/html": [
       "<pre style=\"white-space:pre;overflow-x:auto;line-height:normal;font-family:Menlo,'DejaVu Sans Mono',consolas,'Courier New',monospace\">=========================\n",
       "</pre>\n"
      ],
      "text/plain": [
       "=========================\n"
      ]
     },
     "metadata": {},
     "output_type": "display_data"
    },
    {
     "data": {
      "text/html": [
       "<pre style=\"white-space:pre;overflow-x:auto;line-height:normal;font-family:Menlo,'DejaVu Sans Mono',consolas,'Courier New',monospace\">prev: If you just start doing stuff for them, many will be too busy to shoo you away.\n",
       "breakpoint sentence: You can thus gradually work your way into their confidence, and maybe turn it into an official\n",
       "job later, or not, whichever you prefer.\n",
       "dist: <span style=\"color: #008080; text-decoration-color: #008080; font-weight: bold\">0.7832580804824829</span>\n",
       "chunks count: <span style=\"color: #008080; text-decoration-color: #008080; font-weight: bold\">184</span>\n",
       "</pre>\n"
      ],
      "text/plain": [
       "prev: If you just start doing stuff for them, many will be too busy to shoo you away.\n",
       "breakpoint sentence: You can thus gradually work your way into their confidence, and maybe turn it into an official\n",
       "job later, or not, whichever you prefer.\n",
       "dist: \u001b[1;36m0.7832580804824829\u001b[0m\n",
       "chunks count: \u001b[1;36m184\u001b[0m\n"
      ]
     },
     "metadata": {},
     "output_type": "display_data"
    },
    {
     "data": {
      "text/html": [
       "<pre style=\"white-space:pre;overflow-x:auto;line-height:normal;font-family:Menlo,'DejaVu Sans Mono',consolas,'Courier New',monospace\">=========================\n",
       "</pre>\n"
      ],
      "text/plain": [
       "=========================\n"
      ]
     },
     "metadata": {},
     "output_type": "display_data"
    },
    {
     "data": {
      "text/html": [
       "<pre style=\"white-space:pre;overflow-x:auto;line-height:normal;font-family:Menlo,'DejaVu Sans Mono',consolas,'Courier New',monospace\">prev: You can thus gradually work your way into their confidence, and maybe turn it into an official job later, or \n",
       "not, whichever you prefer.\n",
       "breakpoint sentence: This won't work for all startups, but it would work for most I've known.\n",
       "dist: <span style=\"color: #008080; text-decoration-color: #008080; font-weight: bold\">0.7584916949272156</span>\n",
       "chunks count: <span style=\"color: #008080; text-decoration-color: #008080; font-weight: bold\">185</span>\n",
       "</pre>\n"
      ],
      "text/plain": [
       "prev: You can thus gradually work your way into their confidence, and maybe turn it into an official job later, or \n",
       "not, whichever you prefer.\n",
       "breakpoint sentence: This won't work for all startups, but it would work for most I've known.\n",
       "dist: \u001b[1;36m0.7584916949272156\u001b[0m\n",
       "chunks count: \u001b[1;36m185\u001b[0m\n"
      ]
     },
     "metadata": {},
     "output_type": "display_data"
    },
    {
     "data": {
      "text/html": [
       "<pre style=\"white-space:pre;overflow-x:auto;line-height:normal;font-family:Menlo,'DejaVu Sans Mono',consolas,'Courier New',monospace\">=========================\n",
       "</pre>\n"
      ],
      "text/plain": [
       "=========================\n"
      ]
     },
     "metadata": {},
     "output_type": "display_data"
    },
    {
     "data": {
      "text/html": [
       "<pre style=\"white-space:pre;overflow-x:auto;line-height:normal;font-family:Menlo,'DejaVu Sans Mono',consolas,'Courier New',monospace\">prev: This won't work for all startups, but it would work for most I've known.\n",
       "breakpoint sentence: Number two, make the most of the great advantage of school: the wealth of co-founders.\n",
       "dist: <span style=\"color: #008080; text-decoration-color: #008080; font-weight: bold\">0.45646193623542786</span>\n",
       "chunks count: <span style=\"color: #008080; text-decoration-color: #008080; font-weight: bold\">186</span>\n",
       "</pre>\n"
      ],
      "text/plain": [
       "prev: This won't work for all startups, but it would work for most I've known.\n",
       "breakpoint sentence: Number two, make the most of the great advantage of school: the wealth of co-founders.\n",
       "dist: \u001b[1;36m0.45646193623542786\u001b[0m\n",
       "chunks count: \u001b[1;36m186\u001b[0m\n"
      ]
     },
     "metadata": {},
     "output_type": "display_data"
    },
    {
     "data": {
      "text/html": [
       "<pre style=\"white-space:pre;overflow-x:auto;line-height:normal;font-family:Menlo,'DejaVu Sans Mono',consolas,'Courier New',monospace\">=========================\n",
       "</pre>\n"
      ],
      "text/plain": [
       "=========================\n"
      ]
     },
     "metadata": {},
     "output_type": "display_data"
    },
    {
     "data": {
      "text/html": [
       "<pre style=\"white-space:pre;overflow-x:auto;line-height:normal;font-family:Menlo,'DejaVu Sans Mono',consolas,'Courier New',monospace\">prev: Number two, make the most of the great advantage of school: the wealth of co-founders.\n",
       "breakpoint sentence: Look at the people around you and ask yourself which you'd like to work with.\n",
       "dist: <span style=\"color: #008080; text-decoration-color: #008080; font-weight: bold\">0.7496157884597778</span>\n",
       "chunks count: <span style=\"color: #008080; text-decoration-color: #008080; font-weight: bold\">187</span>\n",
       "</pre>\n"
      ],
      "text/plain": [
       "prev: Number two, make the most of the great advantage of school: the wealth of co-founders.\n",
       "breakpoint sentence: Look at the people around you and ask yourself which you'd like to work with.\n",
       "dist: \u001b[1;36m0.7496157884597778\u001b[0m\n",
       "chunks count: \u001b[1;36m187\u001b[0m\n"
      ]
     },
     "metadata": {},
     "output_type": "display_data"
    },
    {
     "data": {
      "text/html": [
       "<pre style=\"white-space:pre;overflow-x:auto;line-height:normal;font-family:Menlo,'DejaVu Sans Mono',consolas,'Courier New',monospace\">=========================\n",
       "</pre>\n"
      ],
      "text/plain": [
       "=========================\n"
      ]
     },
     "metadata": {},
     "output_type": "display_data"
    },
    {
     "data": {
      "text/html": [
       "<pre style=\"white-space:pre;overflow-x:auto;line-height:normal;font-family:Menlo,'DejaVu Sans Mono',consolas,'Courier New',monospace\">prev: Look at the people around you and ask yourself which you'd like to work with. When you apply that test, you \n",
       "may find you get surprising results.\n",
       "breakpoint sentence: You may find you'd prefer the quiet guy you've mostly ignored to someone who seems impressive \n",
       "but has an attitude to match.\n",
       "dist: <span style=\"color: #008080; text-decoration-color: #008080; font-weight: bold\">0.7941495776176453</span>\n",
       "chunks count: <span style=\"color: #008080; text-decoration-color: #008080; font-weight: bold\">188</span>\n",
       "</pre>\n"
      ],
      "text/plain": [
       "prev: Look at the people around you and ask yourself which you'd like to work with. When you apply that test, you \n",
       "may find you get surprising results.\n",
       "breakpoint sentence: You may find you'd prefer the quiet guy you've mostly ignored to someone who seems impressive \n",
       "but has an attitude to match.\n",
       "dist: \u001b[1;36m0.7941495776176453\u001b[0m\n",
       "chunks count: \u001b[1;36m188\u001b[0m\n"
      ]
     },
     "metadata": {},
     "output_type": "display_data"
    },
    {
     "data": {
      "text/html": [
       "<pre style=\"white-space:pre;overflow-x:auto;line-height:normal;font-family:Menlo,'DejaVu Sans Mono',consolas,'Courier New',monospace\">=========================\n",
       "</pre>\n"
      ],
      "text/plain": [
       "=========================\n"
      ]
     },
     "metadata": {},
     "output_type": "display_data"
    },
    {
     "data": {
      "text/html": [
       "<pre style=\"white-space:pre;overflow-x:auto;line-height:normal;font-family:Menlo,'DejaVu Sans Mono',consolas,'Courier New',monospace\">prev: You may find you'd prefer the quiet guy you've mostly ignored to someone who seems impressive but has an \n",
       "attitude to match. I'm not suggesting you suck up to people you don't really like because you think one day they'll\n",
       "be successful.\n",
       "breakpoint sentence: Exactly the opposite, in fact: you should only start a startup with someone you like, because \n",
       "a startup will put your friendship through a stress test.\n",
       "dist: <span style=\"color: #008080; text-decoration-color: #008080; font-weight: bold\">0.7305286526679993</span>\n",
       "chunks count: <span style=\"color: #008080; text-decoration-color: #008080; font-weight: bold\">189</span>\n",
       "</pre>\n"
      ],
      "text/plain": [
       "prev: You may find you'd prefer the quiet guy you've mostly ignored to someone who seems impressive but has an \n",
       "attitude to match. I'm not suggesting you suck up to people you don't really like because you think one day they'll\n",
       "be successful.\n",
       "breakpoint sentence: Exactly the opposite, in fact: you should only start a startup with someone you like, because \n",
       "a startup will put your friendship through a stress test.\n",
       "dist: \u001b[1;36m0.7305286526679993\u001b[0m\n",
       "chunks count: \u001b[1;36m189\u001b[0m\n"
      ]
     },
     "metadata": {},
     "output_type": "display_data"
    },
    {
     "data": {
      "text/html": [
       "<pre style=\"white-space:pre;overflow-x:auto;line-height:normal;font-family:Menlo,'DejaVu Sans Mono',consolas,'Courier New',monospace\">=========================\n",
       "</pre>\n"
      ],
      "text/plain": [
       "=========================\n"
      ]
     },
     "metadata": {},
     "output_type": "display_data"
    },
    {
     "data": {
      "text/html": [
       "<pre style=\"white-space:pre;overflow-x:auto;line-height:normal;font-family:Menlo,'DejaVu Sans Mono',consolas,'Courier New',monospace\">prev: Exactly the opposite, in fact: you should only start a startup with someone you like, because a startup will \n",
       "put your friendship through a stress test. I'm just saying you should think about who you really admire and hang \n",
       "out with them, instead of whoever circumstances throw you together with.\n",
       "breakpoint sentence: Another thing you can do is learn skills that will be useful to you in a startup.\n",
       "dist: <span style=\"color: #008080; text-decoration-color: #008080; font-weight: bold\">0.8572688102722168</span>\n",
       "chunks count: <span style=\"color: #008080; text-decoration-color: #008080; font-weight: bold\">190</span>\n",
       "</pre>\n"
      ],
      "text/plain": [
       "prev: Exactly the opposite, in fact: you should only start a startup with someone you like, because a startup will \n",
       "put your friendship through a stress test. I'm just saying you should think about who you really admire and hang \n",
       "out with them, instead of whoever circumstances throw you together with.\n",
       "breakpoint sentence: Another thing you can do is learn skills that will be useful to you in a startup.\n",
       "dist: \u001b[1;36m0.8572688102722168\u001b[0m\n",
       "chunks count: \u001b[1;36m190\u001b[0m\n"
      ]
     },
     "metadata": {},
     "output_type": "display_data"
    },
    {
     "data": {
      "text/html": [
       "<pre style=\"white-space:pre;overflow-x:auto;line-height:normal;font-family:Menlo,'DejaVu Sans Mono',consolas,'Courier New',monospace\">=========================\n",
       "</pre>\n"
      ],
      "text/plain": [
       "=========================\n"
      ]
     },
     "metadata": {},
     "output_type": "display_data"
    },
    {
     "data": {
      "text/html": [
       "<pre style=\"white-space:pre;overflow-x:auto;line-height:normal;font-family:Menlo,'DejaVu Sans Mono',consolas,'Courier New',monospace\">prev: Another thing you can do is learn skills that will be useful to you in a startup. These may be different from\n",
       "the skills you'd learn to get a job. For example, thinking about getting a job will make you want to learn \n",
       "programming languages you think employers want, like Java and C++.\n",
       "breakpoint sentence: Whereas if you start a startup, you get to pick the language, so you have to think about which\n",
       "will actually let you get the most done.\n",
       "dist: <span style=\"color: #008080; text-decoration-color: #008080; font-weight: bold\">0.8273807168006897</span>\n",
       "chunks count: <span style=\"color: #008080; text-decoration-color: #008080; font-weight: bold\">191</span>\n",
       "</pre>\n"
      ],
      "text/plain": [
       "prev: Another thing you can do is learn skills that will be useful to you in a startup. These may be different from\n",
       "the skills you'd learn to get a job. For example, thinking about getting a job will make you want to learn \n",
       "programming languages you think employers want, like Java and C++.\n",
       "breakpoint sentence: Whereas if you start a startup, you get to pick the language, so you have to think about which\n",
       "will actually let you get the most done.\n",
       "dist: \u001b[1;36m0.8273807168006897\u001b[0m\n",
       "chunks count: \u001b[1;36m191\u001b[0m\n"
      ]
     },
     "metadata": {},
     "output_type": "display_data"
    },
    {
     "data": {
      "text/html": [
       "<pre style=\"white-space:pre;overflow-x:auto;line-height:normal;font-family:Menlo,'DejaVu Sans Mono',consolas,'Courier New',monospace\">=========================\n",
       "</pre>\n"
      ],
      "text/plain": [
       "=========================\n"
      ]
     },
     "metadata": {},
     "output_type": "display_data"
    },
    {
     "data": {
      "text/html": [
       "<pre style=\"white-space:pre;overflow-x:auto;line-height:normal;font-family:Menlo,'DejaVu Sans Mono',consolas,'Courier New',monospace\">prev: Whereas if you start a startup, you get to pick the language, so you have to think about which will actually \n",
       "let you get the most done.\n",
       "breakpoint sentence: If you use that test you might end up learning Ruby or Python instead.\n",
       "dist: <span style=\"color: #008080; text-decoration-color: #008080; font-weight: bold\">0.7842695116996765</span>\n",
       "chunks count: <span style=\"color: #008080; text-decoration-color: #008080; font-weight: bold\">192</span>\n",
       "</pre>\n"
      ],
      "text/plain": [
       "prev: Whereas if you start a startup, you get to pick the language, so you have to think about which will actually \n",
       "let you get the most done.\n",
       "breakpoint sentence: If you use that test you might end up learning Ruby or Python instead.\n",
       "dist: \u001b[1;36m0.7842695116996765\u001b[0m\n",
       "chunks count: \u001b[1;36m192\u001b[0m\n"
      ]
     },
     "metadata": {},
     "output_type": "display_data"
    },
    {
     "data": {
      "text/html": [
       "<pre style=\"white-space:pre;overflow-x:auto;line-height:normal;font-family:Menlo,'DejaVu Sans Mono',consolas,'Courier New',monospace\">=========================\n",
       "</pre>\n"
      ],
      "text/plain": [
       "=========================\n"
      ]
     },
     "metadata": {},
     "output_type": "display_data"
    },
    {
     "data": {
      "text/html": [
       "<pre style=\"white-space:pre;overflow-x:auto;line-height:normal;font-family:Menlo,'DejaVu Sans Mono',consolas,'Courier New',monospace\">prev: If you use that test you might end up learning Ruby or Python instead.\n",
       "breakpoint sentence: But the most important skill for a startup founder isn't a programming technique.\n",
       "dist: <span style=\"color: #008080; text-decoration-color: #008080; font-weight: bold\">0.6793973445892334</span>\n",
       "chunks count: <span style=\"color: #008080; text-decoration-color: #008080; font-weight: bold\">193</span>\n",
       "</pre>\n"
      ],
      "text/plain": [
       "prev: If you use that test you might end up learning Ruby or Python instead.\n",
       "breakpoint sentence: But the most important skill for a startup founder isn't a programming technique.\n",
       "dist: \u001b[1;36m0.6793973445892334\u001b[0m\n",
       "chunks count: \u001b[1;36m193\u001b[0m\n"
      ]
     },
     "metadata": {},
     "output_type": "display_data"
    },
    {
     "data": {
      "text/html": [
       "<pre style=\"white-space:pre;overflow-x:auto;line-height:normal;font-family:Menlo,'DejaVu Sans Mono',consolas,'Courier New',monospace\">=========================\n",
       "</pre>\n"
      ],
      "text/plain": [
       "=========================\n"
      ]
     },
     "metadata": {},
     "output_type": "display_data"
    },
    {
     "data": {
      "text/html": [
       "<pre style=\"white-space:pre;overflow-x:auto;line-height:normal;font-family:Menlo,'DejaVu Sans Mono',consolas,'Courier New',monospace\">prev: But the most important skill for a startup founder isn't a programming technique.\n",
       "breakpoint sentence: It's a knack for understanding users and figuring out how to give them what they want.\n",
       "dist: <span style=\"color: #008080; text-decoration-color: #008080; font-weight: bold\">0.7925022840499878</span>\n",
       "chunks count: <span style=\"color: #008080; text-decoration-color: #008080; font-weight: bold\">194</span>\n",
       "</pre>\n"
      ],
      "text/plain": [
       "prev: But the most important skill for a startup founder isn't a programming technique.\n",
       "breakpoint sentence: It's a knack for understanding users and figuring out how to give them what they want.\n",
       "dist: \u001b[1;36m0.7925022840499878\u001b[0m\n",
       "chunks count: \u001b[1;36m194\u001b[0m\n"
      ]
     },
     "metadata": {},
     "output_type": "display_data"
    },
    {
     "data": {
      "text/html": [
       "<pre style=\"white-space:pre;overflow-x:auto;line-height:normal;font-family:Menlo,'DejaVu Sans Mono',consolas,'Courier New',monospace\">=========================\n",
       "</pre>\n"
      ],
      "text/plain": [
       "=========================\n"
      ]
     },
     "metadata": {},
     "output_type": "display_data"
    },
    {
     "data": {
      "text/html": [
       "<pre style=\"white-space:pre;overflow-x:auto;line-height:normal;font-family:Menlo,'DejaVu Sans Mono',consolas,'Courier New',monospace\">prev: It's a knack for understanding users and figuring out how to give them what they want. I know I repeat this, \n",
       "but that's because it's so important. And it's a skill you can learn, though perhaps habit might be a better word.\n",
       "breakpoint sentence: Get into the habit of thinking of software as having users.\n",
       "dist: <span style=\"color: #008080; text-decoration-color: #008080; font-weight: bold\">0.8523831367492676</span>\n",
       "chunks count: <span style=\"color: #008080; text-decoration-color: #008080; font-weight: bold\">195</span>\n",
       "</pre>\n"
      ],
      "text/plain": [
       "prev: It's a knack for understanding users and figuring out how to give them what they want. I know I repeat this, \n",
       "but that's because it's so important. And it's a skill you can learn, though perhaps habit might be a better word.\n",
       "breakpoint sentence: Get into the habit of thinking of software as having users.\n",
       "dist: \u001b[1;36m0.8523831367492676\u001b[0m\n",
       "chunks count: \u001b[1;36m195\u001b[0m\n"
      ]
     },
     "metadata": {},
     "output_type": "display_data"
    },
    {
     "data": {
      "text/html": [
       "<pre style=\"white-space:pre;overflow-x:auto;line-height:normal;font-family:Menlo,'DejaVu Sans Mono',consolas,'Courier New',monospace\">=========================\n",
       "</pre>\n"
      ],
      "text/plain": [
       "=========================\n"
      ]
     },
     "metadata": {},
     "output_type": "display_data"
    },
    {
     "data": {
      "text/html": [
       "<pre style=\"white-space:pre;overflow-x:auto;line-height:normal;font-family:Menlo,'DejaVu Sans Mono',consolas,'Courier New',monospace\">prev: Get into the habit of thinking of software as having users.\n",
       "breakpoint sentence: What do those users want?\n",
       "dist: <span style=\"color: #008080; text-decoration-color: #008080; font-weight: bold\">0.7724921703338623</span>\n",
       "chunks count: <span style=\"color: #008080; text-decoration-color: #008080; font-weight: bold\">196</span>\n",
       "</pre>\n"
      ],
      "text/plain": [
       "prev: Get into the habit of thinking of software as having users.\n",
       "breakpoint sentence: What do those users want?\n",
       "dist: \u001b[1;36m0.7724921703338623\u001b[0m\n",
       "chunks count: \u001b[1;36m196\u001b[0m\n"
      ]
     },
     "metadata": {},
     "output_type": "display_data"
    },
    {
     "data": {
      "text/html": [
       "<pre style=\"white-space:pre;overflow-x:auto;line-height:normal;font-family:Menlo,'DejaVu Sans Mono',consolas,'Courier New',monospace\">=========================\n",
       "</pre>\n"
      ],
      "text/plain": [
       "=========================\n"
      ]
     },
     "metadata": {},
     "output_type": "display_data"
    },
    {
     "data": {
      "text/html": [
       "<pre style=\"white-space:pre;overflow-x:auto;line-height:normal;font-family:Menlo,'DejaVu Sans Mono',consolas,'Courier New',monospace\">prev: What do those users want?\n",
       "breakpoint sentence: What would make them say wow?\n",
       "dist: <span style=\"color: #008080; text-decoration-color: #008080; font-weight: bold\">0.7189024090766907</span>\n",
       "chunks count: <span style=\"color: #008080; text-decoration-color: #008080; font-weight: bold\">197</span>\n",
       "</pre>\n"
      ],
      "text/plain": [
       "prev: What do those users want?\n",
       "breakpoint sentence: What would make them say wow?\n",
       "dist: \u001b[1;36m0.7189024090766907\u001b[0m\n",
       "chunks count: \u001b[1;36m197\u001b[0m\n"
      ]
     },
     "metadata": {},
     "output_type": "display_data"
    },
    {
     "data": {
      "text/html": [
       "<pre style=\"white-space:pre;overflow-x:auto;line-height:normal;font-family:Menlo,'DejaVu Sans Mono',consolas,'Courier New',monospace\">=========================\n",
       "</pre>\n"
      ],
      "text/plain": [
       "=========================\n"
      ]
     },
     "metadata": {},
     "output_type": "display_data"
    },
    {
     "data": {
      "text/html": [
       "<pre style=\"white-space:pre;overflow-x:auto;line-height:normal;font-family:Menlo,'DejaVu Sans Mono',consolas,'Courier New',monospace\">prev: What would make them say wow?\n",
       "breakpoint sentence: This is particularly valuable for undergrads, because the concept of users is missing from \n",
       "most college programming classes.\n",
       "dist: <span style=\"color: #008080; text-decoration-color: #008080; font-weight: bold\">0.6317973732948303</span>\n",
       "chunks count: <span style=\"color: #008080; text-decoration-color: #008080; font-weight: bold\">198</span>\n",
       "</pre>\n"
      ],
      "text/plain": [
       "prev: What would make them say wow?\n",
       "breakpoint sentence: This is particularly valuable for undergrads, because the concept of users is missing from \n",
       "most college programming classes.\n",
       "dist: \u001b[1;36m0.6317973732948303\u001b[0m\n",
       "chunks count: \u001b[1;36m198\u001b[0m\n"
      ]
     },
     "metadata": {},
     "output_type": "display_data"
    },
    {
     "data": {
      "text/html": [
       "<pre style=\"white-space:pre;overflow-x:auto;line-height:normal;font-family:Menlo,'DejaVu Sans Mono',consolas,'Courier New',monospace\">=========================\n",
       "</pre>\n"
      ],
      "text/plain": [
       "=========================\n"
      ]
     },
     "metadata": {},
     "output_type": "display_data"
    },
    {
     "data": {
      "text/html": [
       "<pre style=\"white-space:pre;overflow-x:auto;line-height:normal;font-family:Menlo,'DejaVu Sans Mono',consolas,'Courier New',monospace\">prev: This is particularly valuable for undergrads, because the concept of users is missing from most college \n",
       "programming classes. The way you get taught programming in college would be like teaching writing as grammar, \n",
       "without mentioning that its purpose is to communicate something to an audience. Fortunately an audience for \n",
       "software is now only an http request away.\n",
       "breakpoint sentence: So in addition to the programming you do for your classes, why not build some kind of website \n",
       "people will find useful?\n",
       "dist: <span style=\"color: #008080; text-decoration-color: #008080; font-weight: bold\">0.7793137431144714</span>\n",
       "chunks count: <span style=\"color: #008080; text-decoration-color: #008080; font-weight: bold\">199</span>\n",
       "</pre>\n"
      ],
      "text/plain": [
       "prev: This is particularly valuable for undergrads, because the concept of users is missing from most college \n",
       "programming classes. The way you get taught programming in college would be like teaching writing as grammar, \n",
       "without mentioning that its purpose is to communicate something to an audience. Fortunately an audience for \n",
       "software is now only an http request away.\n",
       "breakpoint sentence: So in addition to the programming you do for your classes, why not build some kind of website \n",
       "people will find useful?\n",
       "dist: \u001b[1;36m0.7793137431144714\u001b[0m\n",
       "chunks count: \u001b[1;36m199\u001b[0m\n"
      ]
     },
     "metadata": {},
     "output_type": "display_data"
    },
    {
     "data": {
      "text/html": [
       "<pre style=\"white-space:pre;overflow-x:auto;line-height:normal;font-family:Menlo,'DejaVu Sans Mono',consolas,'Courier New',monospace\">=========================\n",
       "</pre>\n"
      ],
      "text/plain": [
       "=========================\n"
      ]
     },
     "metadata": {},
     "output_type": "display_data"
    },
    {
     "data": {
      "text/html": [
       "<pre style=\"white-space:pre;overflow-x:auto;line-height:normal;font-family:Menlo,'DejaVu Sans Mono',consolas,'Courier New',monospace\">prev: So in addition to the programming you do for your classes, why not build some kind of website people will \n",
       "find useful? At the very least it will teach you how to write software with users.\n",
       "breakpoint sentence: In the best case, it might not just be preparation for a startup, but the startup itself, like\n",
       "it was for Yahoo and Google.\n",
       "dist: <span style=\"color: #008080; text-decoration-color: #008080; font-weight: bold\">0.7741116285324097</span>\n",
       "chunks count: <span style=\"color: #008080; text-decoration-color: #008080; font-weight: bold\">200</span>\n",
       "</pre>\n"
      ],
      "text/plain": [
       "prev: So in addition to the programming you do for your classes, why not build some kind of website people will \n",
       "find useful? At the very least it will teach you how to write software with users.\n",
       "breakpoint sentence: In the best case, it might not just be preparation for a startup, but the startup itself, like\n",
       "it was for Yahoo and Google.\n",
       "dist: \u001b[1;36m0.7741116285324097\u001b[0m\n",
       "chunks count: \u001b[1;36m200\u001b[0m\n"
      ]
     },
     "metadata": {},
     "output_type": "display_data"
    },
    {
     "data": {
      "text/html": [
       "<pre style=\"white-space:pre;overflow-x:auto;line-height:normal;font-family:Menlo,'DejaVu Sans Mono',consolas,'Courier New',monospace\">=========================\n",
       "</pre>\n"
      ],
      "text/plain": [
       "=========================\n"
      ]
     },
     "metadata": {},
     "output_type": "display_data"
    },
    {
     "data": {
      "text/html": [
       "<pre style=\"white-space:pre;overflow-x:auto;line-height:normal;font-family:Menlo,'DejaVu Sans Mono',consolas,'Courier New',monospace\">prev: In the best case, it might not just be preparation for a startup, but the startup itself, like it was for \n",
       "Yahoo and Google.\n",
       "breakpoint sentence: Notes\n",
       "\n",
       "<span style=\"font-weight: bold\">[</span><span style=\"color: #008080; text-decoration-color: #008080; font-weight: bold\">1</span><span style=\"font-weight: bold\">]</span> Even the desire to protect one's children seems weaker, judging from things people have historically done to \n",
       "their kids rather than risk their community's disapproval.\n",
       "dist: <span style=\"color: #008080; text-decoration-color: #008080; font-weight: bold\">0.7563010454177856</span>\n",
       "chunks count: <span style=\"color: #008080; text-decoration-color: #008080; font-weight: bold\">201</span>\n",
       "</pre>\n"
      ],
      "text/plain": [
       "prev: In the best case, it might not just be preparation for a startup, but the startup itself, like it was for \n",
       "Yahoo and Google.\n",
       "breakpoint sentence: Notes\n",
       "\n",
       "\u001b[1m[\u001b[0m\u001b[1;36m1\u001b[0m\u001b[1m]\u001b[0m Even the desire to protect one's children seems weaker, judging from things people have historically done to \n",
       "their kids rather than risk their community's disapproval.\n",
       "dist: \u001b[1;36m0.7563010454177856\u001b[0m\n",
       "chunks count: \u001b[1;36m201\u001b[0m\n"
      ]
     },
     "metadata": {},
     "output_type": "display_data"
    },
    {
     "data": {
      "text/html": [
       "<pre style=\"white-space:pre;overflow-x:auto;line-height:normal;font-family:Menlo,'DejaVu Sans Mono',consolas,'Courier New',monospace\">=========================\n",
       "</pre>\n"
      ],
      "text/plain": [
       "=========================\n"
      ]
     },
     "metadata": {},
     "output_type": "display_data"
    },
    {
     "data": {
      "text/html": [
       "<pre style=\"white-space:pre;overflow-x:auto;line-height:normal;font-family:Menlo,'DejaVu Sans Mono',consolas,'Courier New',monospace\">prev: Notes\n",
       "\n",
       "<span style=\"font-weight: bold\">[</span><span style=\"color: #008080; text-decoration-color: #008080; font-weight: bold\">1</span><span style=\"font-weight: bold\">]</span> Even the desire to protect one's children seems weaker, judging from things people have historically done to \n",
       "their kids rather than risk their community's disapproval.\n",
       "breakpoint sentence: <span style=\"font-weight: bold\">(</span>I assume we still do things that will be regarded in the future as barbaric, but historical \n",
       "abuses are easier for us to see.<span style=\"font-weight: bold\">)</span>\n",
       "\n",
       "<span style=\"font-weight: bold\">[</span><span style=\"color: #008080; text-decoration-color: #008080; font-weight: bold\">2</span><span style=\"font-weight: bold\">]</span> Worrying that Y Combinator makes founders move for <span style=\"color: #008080; text-decoration-color: #008080; font-weight: bold\">3</span> months also suggests one underestimates how hard it is to \n",
       "start a startup.\n",
       "dist: <span style=\"color: #008080; text-decoration-color: #008080; font-weight: bold\">0.6636520624160767</span>\n",
       "chunks count: <span style=\"color: #008080; text-decoration-color: #008080; font-weight: bold\">202</span>\n",
       "</pre>\n"
      ],
      "text/plain": [
       "prev: Notes\n",
       "\n",
       "\u001b[1m[\u001b[0m\u001b[1;36m1\u001b[0m\u001b[1m]\u001b[0m Even the desire to protect one's children seems weaker, judging from things people have historically done to \n",
       "their kids rather than risk their community's disapproval.\n",
       "breakpoint sentence: \u001b[1m(\u001b[0mI assume we still do things that will be regarded in the future as barbaric, but historical \n",
       "abuses are easier for us to see.\u001b[1m)\u001b[0m\n",
       "\n",
       "\u001b[1m[\u001b[0m\u001b[1;36m2\u001b[0m\u001b[1m]\u001b[0m Worrying that Y Combinator makes founders move for \u001b[1;36m3\u001b[0m months also suggests one underestimates how hard it is to \n",
       "start a startup.\n",
       "dist: \u001b[1;36m0.6636520624160767\u001b[0m\n",
       "chunks count: \u001b[1;36m202\u001b[0m\n"
      ]
     },
     "metadata": {},
     "output_type": "display_data"
    },
    {
     "data": {
      "text/html": [
       "<pre style=\"white-space:pre;overflow-x:auto;line-height:normal;font-family:Menlo,'DejaVu Sans Mono',consolas,'Courier New',monospace\">=========================\n",
       "</pre>\n"
      ],
      "text/plain": [
       "=========================\n"
      ]
     },
     "metadata": {},
     "output_type": "display_data"
    },
    {
     "data": {
      "text/html": [
       "<pre style=\"white-space:pre;overflow-x:auto;line-height:normal;font-family:Menlo,'DejaVu Sans Mono',consolas,'Courier New',monospace\">prev: <span style=\"font-weight: bold\">(</span>I assume we still do things that will be regarded in the future as barbaric, but historical abuses are \n",
       "easier for us to see.<span style=\"font-weight: bold\">)</span>\n",
       "\n",
       "<span style=\"font-weight: bold\">[</span><span style=\"color: #008080; text-decoration-color: #008080; font-weight: bold\">2</span><span style=\"font-weight: bold\">]</span> Worrying that Y Combinator makes founders move for <span style=\"color: #008080; text-decoration-color: #008080; font-weight: bold\">3</span> months also suggests one underestimates how hard it is to \n",
       "start a startup. You're going to have to put up with much greater inconveniences than that.\n",
       "breakpoint sentence: <span style=\"font-weight: bold\">[</span><span style=\"color: #008080; text-decoration-color: #008080; font-weight: bold\">3</span><span style=\"font-weight: bold\">]</span> Most employee agreements say that any idea relating to the company's present or potential \n",
       "future business belongs to them.\n",
       "dist: <span style=\"color: #008080; text-decoration-color: #008080; font-weight: bold\">0.859092116355896</span>\n",
       "chunks count: <span style=\"color: #008080; text-decoration-color: #008080; font-weight: bold\">203</span>\n",
       "</pre>\n"
      ],
      "text/plain": [
       "prev: \u001b[1m(\u001b[0mI assume we still do things that will be regarded in the future as barbaric, but historical abuses are \n",
       "easier for us to see.\u001b[1m)\u001b[0m\n",
       "\n",
       "\u001b[1m[\u001b[0m\u001b[1;36m2\u001b[0m\u001b[1m]\u001b[0m Worrying that Y Combinator makes founders move for \u001b[1;36m3\u001b[0m months also suggests one underestimates how hard it is to \n",
       "start a startup. You're going to have to put up with much greater inconveniences than that.\n",
       "breakpoint sentence: \u001b[1m[\u001b[0m\u001b[1;36m3\u001b[0m\u001b[1m]\u001b[0m Most employee agreements say that any idea relating to the company's present or potential \n",
       "future business belongs to them.\n",
       "dist: \u001b[1;36m0.859092116355896\u001b[0m\n",
       "chunks count: \u001b[1;36m203\u001b[0m\n"
      ]
     },
     "metadata": {},
     "output_type": "display_data"
    },
    {
     "data": {
      "text/html": [
       "<pre style=\"white-space:pre;overflow-x:auto;line-height:normal;font-family:Menlo,'DejaVu Sans Mono',consolas,'Courier New',monospace\">=========================\n",
       "</pre>\n"
      ],
      "text/plain": [
       "=========================\n"
      ]
     },
     "metadata": {},
     "output_type": "display_data"
    },
    {
     "data": {
      "text/html": [
       "<pre style=\"white-space:pre;overflow-x:auto;line-height:normal;font-family:Menlo,'DejaVu Sans Mono',consolas,'Courier New',monospace\">prev: <span style=\"font-weight: bold\">[</span><span style=\"color: #008080; text-decoration-color: #008080; font-weight: bold\">3</span><span style=\"font-weight: bold\">]</span> Most employee agreements say that any idea relating to the company's present or potential future business\n",
       "belongs to them. Often as not the second clause could include any possible startup, and anyone doing due diligence \n",
       "for an investor or acquirer will assume the worst.\n",
       "breakpoint sentence: To be safe either <span style=\"font-weight: bold\">(</span>a<span style=\"font-weight: bold\">)</span> don't use code written while you were still employed in your previous \n",
       "job, or <span style=\"font-weight: bold\">(</span>b<span style=\"font-weight: bold\">)</span> get your employer to renounce, in writing, any claim to the code you write for your side project.\n",
       "dist: <span style=\"color: #008080; text-decoration-color: #008080; font-weight: bold\">0.5733819603919983</span>\n",
       "chunks count: <span style=\"color: #008080; text-decoration-color: #008080; font-weight: bold\">204</span>\n",
       "</pre>\n"
      ],
      "text/plain": [
       "prev: \u001b[1m[\u001b[0m\u001b[1;36m3\u001b[0m\u001b[1m]\u001b[0m Most employee agreements say that any idea relating to the company's present or potential future business\n",
       "belongs to them. Often as not the second clause could include any possible startup, and anyone doing due diligence \n",
       "for an investor or acquirer will assume the worst.\n",
       "breakpoint sentence: To be safe either \u001b[1m(\u001b[0ma\u001b[1m)\u001b[0m don't use code written while you were still employed in your previous \n",
       "job, or \u001b[1m(\u001b[0mb\u001b[1m)\u001b[0m get your employer to renounce, in writing, any claim to the code you write for your side project.\n",
       "dist: \u001b[1;36m0.5733819603919983\u001b[0m\n",
       "chunks count: \u001b[1;36m204\u001b[0m\n"
      ]
     },
     "metadata": {},
     "output_type": "display_data"
    },
    {
     "data": {
      "text/html": [
       "<pre style=\"white-space:pre;overflow-x:auto;line-height:normal;font-family:Menlo,'DejaVu Sans Mono',consolas,'Courier New',monospace\">=========================\n",
       "</pre>\n"
      ],
      "text/plain": [
       "=========================\n"
      ]
     },
     "metadata": {},
     "output_type": "display_data"
    },
    {
     "data": {
      "text/html": [
       "<pre style=\"white-space:pre;overflow-x:auto;line-height:normal;font-family:Menlo,'DejaVu Sans Mono',consolas,'Courier New',monospace\">prev: To be safe either <span style=\"font-weight: bold\">(</span>a<span style=\"font-weight: bold\">)</span> don't use code written while you were still employed in your previous job, or <span style=\"font-weight: bold\">(</span>b<span style=\"font-weight: bold\">)</span> get \n",
       "your employer to renounce, in writing, any claim to the code you write for your side project. Many will consent to \n",
       "<span style=\"font-weight: bold\">(</span>b<span style=\"font-weight: bold\">)</span> rather than lose a prized employee. The downside is that you'll have to tell them exactly what your project \n",
       "does. <span style=\"font-weight: bold\">[</span><span style=\"color: #008080; text-decoration-color: #008080; font-weight: bold\">4</span><span style=\"font-weight: bold\">]</span> Geshke and Warnock only founded Adobe because Xerox ignored them. If Xerox had used what they built, they\n",
       "would probably never have left PARC.\n",
       "breakpoint sentence: Thanks to Jessica Livingston and Robert Morris for reading drafts of this, and to Jeff Arnold \n",
       "and the SIPB for inviting me to speak.\n",
       "dist: <span style=\"color: #008080; text-decoration-color: #008080; font-weight: bold\">0.8340308666229248</span>\n",
       "chunks count: <span style=\"color: #008080; text-decoration-color: #008080; font-weight: bold\">205</span>\n",
       "</pre>\n"
      ],
      "text/plain": [
       "prev: To be safe either \u001b[1m(\u001b[0ma\u001b[1m)\u001b[0m don't use code written while you were still employed in your previous job, or \u001b[1m(\u001b[0mb\u001b[1m)\u001b[0m get \n",
       "your employer to renounce, in writing, any claim to the code you write for your side project. Many will consent to \n",
       "\u001b[1m(\u001b[0mb\u001b[1m)\u001b[0m rather than lose a prized employee. The downside is that you'll have to tell them exactly what your project \n",
       "does. \u001b[1m[\u001b[0m\u001b[1;36m4\u001b[0m\u001b[1m]\u001b[0m Geshke and Warnock only founded Adobe because Xerox ignored them. If Xerox had used what they built, they\n",
       "would probably never have left PARC.\n",
       "breakpoint sentence: Thanks to Jessica Livingston and Robert Morris for reading drafts of this, and to Jeff Arnold \n",
       "and the SIPB for inviting me to speak.\n",
       "dist: \u001b[1;36m0.8340308666229248\u001b[0m\n",
       "chunks count: \u001b[1;36m205\u001b[0m\n"
      ]
     },
     "metadata": {},
     "output_type": "display_data"
    },
    {
     "data": {
      "text/html": [
       "<pre style=\"white-space:pre;overflow-x:auto;line-height:normal;font-family:Menlo,'DejaVu Sans Mono',consolas,'Courier New',monospace\">=========================\n",
       "</pre>\n"
      ],
      "text/plain": [
       "=========================\n"
      ]
     },
     "metadata": {},
     "output_type": "display_data"
    },
    {
     "data": {
      "text/plain": [
       "[\" I'm sure the default will always be to get a job, but starting a startup could well become as popular as grad school. In the late 90s my professor friends used to complain that they couldn't get grad students, because all the undergrads were going to work for startups. I wouldn't be surprised if that situation returns, but with one difference: this time they'll be starting their own instead of going to work for other people's. The most ambitious students will at this point be asking: Why wait till you graduate? Why not start a startup while you're in college? In fact, why go to college at all? Why not start a startup instead?\",\n",
       " \"A year and a half ago I gave a talk where I said that the average age of the founders of Yahoo, Google, and Microsoft was 24, and that if grad students could start startups, why not undergrads? I'm glad I phrased that as a question, because now I can pretend it wasn't merely a rhetorical one. At the time I couldn't imagine why there should be any lower limit for the age of startup founders. Graduation is a bureaucratic change, not a biological one. And certainly there are undergrads as competent technically as most grad students. So why shouldn't undergrads be able to start startups as well as grad students? I now realize that something does change at graduation: you lose a huge excuse for failing. Regardless of how complex your life is, you'll find that everyone else, including your family and friends, will discard all the low bits and regard you as having a single occupation at any given time. If you're in college and have a summer job writing software, you still read as a student. Whereas if you graduate and get a job programming, you'll be instantly regarded by everyone as a programmer. The problem with starting a startup while you're still in school is that there's a built-in escape hatch. If you start a startup in the summer between your junior and senior year, it reads to everyone as a summer job.\",\n",
       " \"So if it goes nowhere, big deal; you return to school in the fall with all the other seniors; no one regards you as a failure, because your occupation is student, and you didn't fail at that.\",\n",
       " \"Whereas if you start a startup just one year later, after you graduate, as long as you're not accepted to grad school in the fall the startup reads to everyone as your occupation. You're now a startup founder, so you have to do well at that.\",\n",
       " \"For nearly everyone, the opinion of one's peers is the most powerful motivator of all—more powerful even than the nominal goal of most startup founders, getting rich.\"]"
      ]
     },
     "execution_count": 26,
     "metadata": {},
     "output_type": "execute_result"
    }
   ],
   "source": [
    "semantic_chunking(\n",
    "    split_essay[5:],\n",
    "    0.86\n",
    ")[:5]"
   ]
  },
  {
   "cell_type": "markdown",
   "id": "1abf5b07-4a28-427e-bf9b-201f2747e89e",
   "metadata": {},
   "source": [
    "#### tuning co"
   ]
  }
 ],
 "metadata": {
  "kernelspec": {
   "display_name": "sem_chunk_overview kernel",
   "language": "python",
   "name": "sem_chunk_kernel"
  },
  "language_info": {
   "codemirror_mode": {
    "name": "ipython",
    "version": 3
   },
   "file_extension": ".py",
   "mimetype": "text/x-python",
   "name": "python",
   "nbconvert_exporter": "python",
   "pygments_lexer": "ipython3",
   "version": "3.12.7"
  }
 },
 "nbformat": 4,
 "nbformat_minor": 5
}
